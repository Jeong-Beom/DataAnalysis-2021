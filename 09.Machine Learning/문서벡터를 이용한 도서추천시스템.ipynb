{
 "cells": [
  {
   "cell_type": "code",
   "execution_count": 24,
   "source": [
    "import urllib.request\r\n",
    "import pandas as pd\r\n",
    "import numpy as np\r\n",
    "import matplotlib.pyplot as plt\r\n",
    "import requests\r\n",
    "import re\r\n",
    "from PIL import Image\r\n",
    "from io import BytesIO\r\n",
    "from nltk.tokenize import RegexpTokenizer\r\n",
    "import nltk\r\n",
    "from nltk.corpus import stopwords\r\n",
    "from sklearn.metrics.pairwise import cosine_similarity"
   ],
   "outputs": [],
   "metadata": {}
  },
  {
   "cell_type": "code",
   "execution_count": 3,
   "source": [
    "df = pd.read_csv('C:\\\\Workspace\\\\python\\\\Data_Science\\\\dataA\\\\data(book).csv')\r\n",
    "print('전체 문서의 수 :',len(df))"
   ],
   "outputs": [
    {
     "output_type": "stream",
     "name": "stdout",
     "text": [
      "전체 문서의 수 : 2382\n"
     ]
    }
   ],
   "metadata": {}
  },
  {
   "cell_type": "code",
   "execution_count": 14,
   "source": [
    "df.info()"
   ],
   "outputs": [
    {
     "output_type": "stream",
     "name": "stdout",
     "text": [
      "<class 'pandas.core.frame.DataFrame'>\n",
      "Int64Index: 2381 entries, 0 to 2381\n",
      "Data columns (total 9 columns):\n",
      " #   Column        Non-Null Count  Dtype  \n",
      "---  ------        --------------  -----  \n",
      " 0   Unnamed: 0    2381 non-null   int64  \n",
      " 1   Desc          2381 non-null   object \n",
      " 2   Unnamed: 0.1  1185 non-null   float64\n",
      " 3   author        2381 non-null   object \n",
      " 4   genre         2381 non-null   object \n",
      " 5   image_link    2381 non-null   object \n",
      " 6   rating        2381 non-null   float64\n",
      " 7   title         2381 non-null   object \n",
      " 8   cleaned       2381 non-null   object \n",
      "dtypes: float64(2), int64(1), object(6)\n",
      "memory usage: 186.0+ KB\n"
     ]
    }
   ],
   "metadata": {}
  },
  {
   "cell_type": "code",
   "execution_count": 16,
   "source": [
    "del df['Unnamed: 0']\r\n",
    "del df['Unnamed: 0.1']\r\n",
    "df.head()"
   ],
   "outputs": [
    {
     "output_type": "execute_result",
     "data": {
      "text/html": [
       "<div>\n",
       "<style scoped>\n",
       "    .dataframe tbody tr th:only-of-type {\n",
       "        vertical-align: middle;\n",
       "    }\n",
       "\n",
       "    .dataframe tbody tr th {\n",
       "        vertical-align: top;\n",
       "    }\n",
       "\n",
       "    .dataframe thead th {\n",
       "        text-align: right;\n",
       "    }\n",
       "</style>\n",
       "<table border=\"1\" class=\"dataframe\">\n",
       "  <thead>\n",
       "    <tr style=\"text-align: right;\">\n",
       "      <th></th>\n",
       "      <th>Desc</th>\n",
       "      <th>author</th>\n",
       "      <th>genre</th>\n",
       "      <th>image_link</th>\n",
       "      <th>rating</th>\n",
       "      <th>title</th>\n",
       "      <th>cleaned</th>\n",
       "    </tr>\n",
       "  </thead>\n",
       "  <tbody>\n",
       "    <tr>\n",
       "      <th>0</th>\n",
       "      <td>We know that power is shifting: From West to E...</td>\n",
       "      <td>Moisés Naím</td>\n",
       "      <td>Business</td>\n",
       "      <td>https://i.gr-assets.com/images/S/compressed.ph...</td>\n",
       "      <td>3.63</td>\n",
       "      <td>The End of Power: From Boardrooms to Battlefie...</td>\n",
       "      <td>know power shifting west east north south pres...</td>\n",
       "    </tr>\n",
       "    <tr>\n",
       "      <th>1</th>\n",
       "      <td>Following the success of The Accidental Billio...</td>\n",
       "      <td>Blake J. Harris</td>\n",
       "      <td>Business</td>\n",
       "      <td>https://i.gr-assets.com/images/S/compressed.ph...</td>\n",
       "      <td>3.94</td>\n",
       "      <td>Console Wars: Sega, Nintendo, and the Battle t...</td>\n",
       "      <td>following success accidental billionaires mone...</td>\n",
       "    </tr>\n",
       "    <tr>\n",
       "      <th>2</th>\n",
       "      <td>How to tap the power of social software and ne...</td>\n",
       "      <td>Chris Brogan</td>\n",
       "      <td>Business</td>\n",
       "      <td>https://i.gr-assets.com/images/S/compressed.ph...</td>\n",
       "      <td>3.78</td>\n",
       "      <td>Trust Agents: Using the Web to Build Influence...</td>\n",
       "      <td>tap power social software networks build busin...</td>\n",
       "    </tr>\n",
       "    <tr>\n",
       "      <th>3</th>\n",
       "      <td>William J. Bernstein is an American financial ...</td>\n",
       "      <td>William J. Bernstein</td>\n",
       "      <td>Business</td>\n",
       "      <td>https://i.gr-assets.com/images/S/compressed.ph...</td>\n",
       "      <td>4.20</td>\n",
       "      <td>The Four Pillars of Investing</td>\n",
       "      <td>william j bernstein american financial theoris...</td>\n",
       "    </tr>\n",
       "    <tr>\n",
       "      <th>4</th>\n",
       "      <td>Amazing book. And I joined Steve Jobs and many...</td>\n",
       "      <td>Akio Morita</td>\n",
       "      <td>Business</td>\n",
       "      <td>https://i.gr-assets.com/images/S/compressed.ph...</td>\n",
       "      <td>4.05</td>\n",
       "      <td>Made in Japan: Akio Morita and Sony</td>\n",
       "      <td>amazing book joined steve jobs many akio morit...</td>\n",
       "    </tr>\n",
       "  </tbody>\n",
       "</table>\n",
       "</div>"
      ],
      "text/plain": [
       "                                                Desc                author  \\\n",
       "0  We know that power is shifting: From West to E...           Moisés Naím   \n",
       "1  Following the success of The Accidental Billio...       Blake J. Harris   \n",
       "2  How to tap the power of social software and ne...          Chris Brogan   \n",
       "3  William J. Bernstein is an American financial ...  William J. Bernstein   \n",
       "4  Amazing book. And I joined Steve Jobs and many...           Akio Morita   \n",
       "\n",
       "      genre                                         image_link  rating  \\\n",
       "0  Business  https://i.gr-assets.com/images/S/compressed.ph...    3.63   \n",
       "1  Business  https://i.gr-assets.com/images/S/compressed.ph...    3.94   \n",
       "2  Business  https://i.gr-assets.com/images/S/compressed.ph...    3.78   \n",
       "3  Business  https://i.gr-assets.com/images/S/compressed.ph...    4.20   \n",
       "4  Business  https://i.gr-assets.com/images/S/compressed.ph...    4.05   \n",
       "\n",
       "                                               title  \\\n",
       "0  The End of Power: From Boardrooms to Battlefie...   \n",
       "1  Console Wars: Sega, Nintendo, and the Battle t...   \n",
       "2  Trust Agents: Using the Web to Build Influence...   \n",
       "3                      The Four Pillars of Investing   \n",
       "4                Made in Japan: Akio Morita and Sony   \n",
       "\n",
       "                                             cleaned  \n",
       "0  know power shifting west east north south pres...  \n",
       "1  following success accidental billionaires mone...  \n",
       "2  tap power social software networks build busin...  \n",
       "3  william j bernstein american financial theoris...  \n",
       "4  amazing book joined steve jobs many akio morit...  "
      ]
     },
     "metadata": {},
     "execution_count": 16
    }
   ],
   "metadata": {}
  },
  {
   "cell_type": "code",
   "execution_count": 17,
   "source": [
    "def _removeNonAscii(s):\r\n",
    "    return \"\".join(i for i in s if  ord(i)<128) # ord(A) 결과값 : 65 / CHR(65) 결과값 : A\r\n",
    "\r\n",
    "def make_lower_case(text): # 소문자로 변환\r\n",
    "    return text.lower() \r\n",
    "\r\n",
    "def remove_stop_words(text): # 텍스트 분할\r\n",
    "    text = text.split()\r\n",
    "    stops = set(stopwords.words(\"english\"))\r\n",
    "    text = [w for w in text if not w in stops]\r\n",
    "    text = \" \".join(text)\r\n",
    "    return text\r\n",
    "\r\n",
    "def remove_html(text): # 특수문자 제거\r\n",
    "    html_pattern = re.compile('<.*?>')\r\n",
    "    return html_pattern.sub(r'', text)\r\n",
    "\r\n",
    "def remove_punctuation(text): \r\n",
    "    tokenizer = RegexpTokenizer(r'[a-zA-Z]+')\r\n",
    "    text = tokenizer.tokenize(text)\r\n",
    "    text = \" \".join(text)\r\n",
    "    return text\r\n",
    "\r\n",
    "df['cleaned'] = df['Desc'].apply(_removeNonAscii)\r\n",
    "df['cleaned'] = df.cleaned.apply(make_lower_case)\r\n",
    "df['cleaned'] = df.cleaned.apply(remove_stop_words)\r\n",
    "df['cleaned'] = df.cleaned.apply(remove_punctuation)\r\n",
    "df['cleaned'] = df.cleaned.apply(remove_html)"
   ],
   "outputs": [],
   "metadata": {}
  },
  {
   "cell_type": "code",
   "execution_count": 18,
   "source": [
    "df['cleaned'].head()"
   ],
   "outputs": [
    {
     "output_type": "execute_result",
     "data": {
      "text/plain": [
       "0    know power shifting west east north south pres...\n",
       "1    following success accidental billionaires mone...\n",
       "2    tap power social software networks build busin...\n",
       "3    william j bernstein american financial theoris...\n",
       "4    amazing book joined steve jobs many akio morit...\n",
       "Name: cleaned, dtype: object"
      ]
     },
     "metadata": {},
     "execution_count": 18
    }
   ],
   "metadata": {}
  },
  {
   "cell_type": "code",
   "execution_count": 19,
   "source": [
    "# 빈 값이 생긴 행 - 삭제\r\n",
    "df['cleaned'].replace('', np.nan, inplace=True)\r\n",
    "df = df[df['cleaned'].notna()]\r\n",
    "print('전체 문서의 수 :',len(df))"
   ],
   "outputs": [
    {
     "output_type": "stream",
     "name": "stdout",
     "text": [
      "전체 문서의 수 : 2381\n"
     ]
    }
   ],
   "metadata": {}
  },
  {
   "cell_type": "code",
   "execution_count": 20,
   "source": [
    "corpus = []\r\n",
    "for words in df['cleaned']:\r\n",
    "    corpus.append(words.split())"
   ],
   "outputs": [],
   "metadata": {}
  },
  {
   "cell_type": "code",
   "execution_count": null,
   "source": [
    "# 사전 훈련된 워드 임베딩 사용\r\n",
    "from gensim.models import word2vec\r\n",
    "from gensim.models import KeyedVectors\r\n",
    "word2vec_model = Word2Vec(vector_size = 300, window = 5, min_count = 2, workers = -1)\r\n",
    "word2vec_model.build_vocab(corpus)\r\n",
    "word2vec_model.intersect_word2vec_format('C:\\\\Workspace\\\\python\\\\Data_Science\\\\dataA\\\\GoogleNews-vectors-negative300.bin.gz', lockf=1.0, binary=True)\r\n",
    "word2vec_model.train(corpus, total_examples = word2vec_model.corpus_count, epochs = 15)"
   ],
   "outputs": [],
   "metadata": {}
  },
  {
   "cell_type": "code",
   "execution_count": null,
   "source": [
    "def vectors(document_list):\r\n",
    "    document_embedding_list = []\r\n",
    "\r\n",
    "    # 각 문서에 대해서\r\n",
    "    for line in document_list:\r\n",
    "        doc2vec = None\r\n",
    "        count = 0\r\n",
    "        for word in line.split():\r\n",
    "            if word in word2vec_model.wv.vocab:\r\n",
    "                count += 1\r\n",
    "                # 해당 문서에 있는 모든 단어들의 벡터값을 더한다.\r\n",
    "                if doc2vec is None:\r\n",
    "                    doc2vec = word2vec_model[word]\r\n",
    "                else:\r\n",
    "                    doc2vec = doc2vec + word2vec_model[word]\r\n",
    "\r\n",
    "        if doc2vec is not None:\r\n",
    "            # 단어 벡터를 모두 더한 벡터의 값을 문서 길이로 나눠준다.\r\n",
    "            doc2vec = doc2vec / count\r\n",
    "            document_embedding_list.append(doc2vec)\r\n",
    "\r\n",
    "    # 각 문서에 대한 문서 벡터 리스트를 리턴\r\n",
    "    return document_embedding_list"
   ],
   "outputs": [],
   "metadata": {}
  },
  {
   "cell_type": "code",
   "execution_count": null,
   "source": [
    "document_embedding_list = vectors(df['cleaned'])\r\n",
    "print('문서 벡터의 수 :',len(document_embedding_list))"
   ],
   "outputs": [],
   "metadata": {}
  },
  {
   "cell_type": "code",
   "execution_count": null,
   "source": [
    "cosine_similarities = cosine_similarity(document_embedding_list, document_embedding_list)\r\n",
    "print('코사인 유사도 매트릭스의 크기 :',cosine_similarities.shape)"
   ],
   "outputs": [],
   "metadata": {}
  },
  {
   "cell_type": "code",
   "execution_count": null,
   "source": [
    "def recommendations(title):\r\n",
    "    books = df[['title', 'image_link']]\r\n",
    "\r\n",
    "    # 책의 제목을 입력하면 해당 제목의 인덱스를 리턴받아 idx에 저장.\r\n",
    "    indices = pd.Series(df.index, index = df['title']).drop_duplicates()    \r\n",
    "    idx = indices[title]\r\n",
    "\r\n",
    "    # 입력된 책과 줄거리(document embedding)가 유사한 책 5개 선정.\r\n",
    "    sim_scores = list(enumerate(cosine_similarities[idx]))\r\n",
    "    sim_scores = sorted(sim_scores, key = lambda x: x[1], reverse = True)\r\n",
    "    sim_scores = sim_scores[1:6]\r\n",
    "\r\n",
    "    # 가장 유사한 책 5권의 인덱스\r\n",
    "    book_indices = [i[0] for i in sim_scores]\r\n",
    "\r\n",
    "    # 전체 데이터프레임에서 해당 인덱스의 행만 추출. 5개의 행을 가진다.\r\n",
    "    recommend = books.iloc[book_indices].reset_index(drop=True)\r\n",
    "\r\n",
    "    fig = plt.figure(figsize=(20, 30))\r\n",
    "\r\n",
    "    # 데이터프레임으로부터 순차적으로 이미지를 출력\r\n",
    "    for index, row in recommend.iterrows():\r\n",
    "        response = requests.get(row['image_link'])\r\n",
    "        img = Image.open(BytesIO(response.content))\r\n",
    "        fig.add_subplot(1, 5, index + 1)\r\n",
    "        plt.imshow(img)\r\n",
    "        plt.title(row['title'])"
   ],
   "outputs": [],
   "metadata": {}
  },
  {
   "cell_type": "code",
   "execution_count": null,
   "source": [
    "recommendations(\"The Da Vinci Code\")"
   ],
   "outputs": [],
   "metadata": {}
  }
 ],
 "metadata": {
  "orig_nbformat": 4,
  "language_info": {
   "name": "python",
   "version": "3.8.10",
   "mimetype": "text/x-python",
   "codemirror_mode": {
    "name": "ipython",
    "version": 3
   },
   "pygments_lexer": "ipython3",
   "nbconvert_exporter": "python",
   "file_extension": ".py"
  },
  "kernelspec": {
   "name": "python3",
   "display_name": "Python 3.8.10 64-bit ('base': conda)"
  },
  "interpreter": {
   "hash": "fe3bab233825460445dbfeea6dcd52ef5815a3fa13c858fea07ac830aa383284"
  }
 },
 "nbformat": 4,
 "nbformat_minor": 2
}