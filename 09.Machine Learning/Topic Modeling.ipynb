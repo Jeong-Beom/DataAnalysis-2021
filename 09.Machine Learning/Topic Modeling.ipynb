{
 "cells": [
  {
   "cell_type": "code",
   "execution_count": 28,
   "source": [
    "# 토픽모델링 : 단어로부터 주제를 유추해내는 방법\r\n",
    "from sklearn.datasets import fetch_20newsgroups\r\n",
    "import numpy as np\r\n",
    "import pandas as pd\r\n",
    "news = fetch_20newsgroups(subset = 'all', random_state = 2021, remove = ('headrs', 'footers', 'qoutes'))"
   ],
   "outputs": [
    {
     "output_type": "stream",
     "name": "stderr",
     "text": [
      "C:\\Users\\Bestc\\anaconda3\\lib\\site-packages\\ipykernel\\ipkernel.py:287: DeprecationWarning: `should_run_async` will not call `transform_cell` automatically in the future. Please pass the result to `transformed_cell` argument and any exception that happen during thetransform in `preprocessing_exc_tuple` in IPython 7.17 and above.\n",
      "  and should_run_async(code)\n"
     ]
    }
   ],
   "metadata": {}
  },
  {
   "cell_type": "code",
   "execution_count": 29,
   "source": [
    "df = pd.DataFrame({'article' : news.data})\r\n",
    "df.shape"
   ],
   "outputs": [
    {
     "output_type": "stream",
     "name": "stderr",
     "text": [
      "C:\\Users\\Bestc\\anaconda3\\lib\\site-packages\\ipykernel\\ipkernel.py:287: DeprecationWarning: `should_run_async` will not call `transform_cell` automatically in the future. Please pass the result to `transformed_cell` argument and any exception that happen during thetransform in `preprocessing_exc_tuple` in IPython 7.17 and above.\n",
      "  and should_run_async(code)\n"
     ]
    },
    {
     "output_type": "execute_result",
     "data": {
      "text/plain": [
       "(18846, 1)"
      ]
     },
     "metadata": {},
     "execution_count": 29
    }
   ],
   "metadata": {}
  },
  {
   "cell_type": "code",
   "execution_count": 30,
   "source": [
    "df.article = df.article.str.replace('[^A-Za-z]', ' ')\r\n",
    "df.article = df.article.apply(lambda x: ' '.join(w.lower() for w in x.split() if len(w) > 3))"
   ],
   "outputs": [
    {
     "output_type": "stream",
     "name": "stderr",
     "text": [
      "C:\\Users\\Bestc\\anaconda3\\lib\\site-packages\\ipykernel\\ipkernel.py:287: DeprecationWarning: `should_run_async` will not call `transform_cell` automatically in the future. Please pass the result to `transformed_cell` argument and any exception that happen during thetransform in `preprocessing_exc_tuple` in IPython 7.17 and above.\n",
      "  and should_run_async(code)\n",
      "<ipython-input-30-d1cfcec8897b>:1: FutureWarning: The default value of regex will change from True to False in a future version.\n",
      "  df.article = df.article.str.replace('[^A-Za-z]', ' ')\n"
     ]
    }
   ],
   "metadata": {}
  },
  {
   "cell_type": "code",
   "execution_count": 31,
   "source": [
    "import nltk\r\n",
    "nltk.download('stopwords')"
   ],
   "outputs": [
    {
     "output_type": "stream",
     "name": "stderr",
     "text": [
      "C:\\Users\\Bestc\\anaconda3\\lib\\site-packages\\ipykernel\\ipkernel.py:287: DeprecationWarning: `should_run_async` will not call `transform_cell` automatically in the future. Please pass the result to `transformed_cell` argument and any exception that happen during thetransform in `preprocessing_exc_tuple` in IPython 7.17 and above.\n",
      "  and should_run_async(code)\n",
      "[nltk_data] Downloading package stopwords to\n",
      "[nltk_data]     C:\\Users\\Bestc\\AppData\\Roaming\\nltk_data...\n",
      "[nltk_data]   Package stopwords is already up-to-date!\n"
     ]
    },
    {
     "output_type": "execute_result",
     "data": {
      "text/plain": [
       "True"
      ]
     },
     "metadata": {},
     "execution_count": 31
    }
   ],
   "metadata": {}
  },
  {
   "cell_type": "code",
   "execution_count": 32,
   "source": [
    "from nltk.corpus import stopwords\r\n",
    "stop_words = stopwords.words('english')\r\n",
    "df['article']"
   ],
   "outputs": [
    {
     "output_type": "stream",
     "name": "stderr",
     "text": [
      "C:\\Users\\Bestc\\anaconda3\\lib\\site-packages\\ipykernel\\ipkernel.py:287: DeprecationWarning: `should_run_async` will not call `transform_cell` automatically in the future. Please pass the result to `transformed_cell` argument and any exception that happen during thetransform in `preprocessing_exc_tuple` in IPython 7.17 and above.\n",
      "  and should_run_async(code)\n"
     ]
    },
    {
     "output_type": "execute_result",
     "data": {
      "text/plain": [
       "0        from dagibbs quantum david gibbs subject count...\n",
       "1        from kehoe netcom thomas david kehoe subject s...\n",
       "2        from rexlex fnal fnal subject assurance hell o...\n",
       "3        from scss mark riordan subject list large inte...\n",
       "4        from adam stratus mark adam subject space food...\n",
       "                               ...                        \n",
       "18841    from choman rajeesh charles stanley homan subj...\n",
       "18842    from jaeger buphy gregg jaeger subject more ru...\n",
       "18843    from tedebear leland stanford theodore chen su...\n",
       "18844    from phil howtek phil hunt subject motherboard...\n",
       "18845    from mwhaefne infonode ingr mark haefner subje...\n",
       "Name: article, Length: 18846, dtype: object"
      ]
     },
     "metadata": {},
     "execution_count": 32
    }
   ],
   "metadata": {}
  },
  {
   "cell_type": "code",
   "execution_count": 33,
   "source": [
    "tokenized_doc = df.article.apply(lambda x: [w for w in x.split() if w not in stop_words])\r\n",
    "tokenized_doc[:5]"
   ],
   "outputs": [
    {
     "output_type": "stream",
     "name": "stderr",
     "text": [
      "C:\\Users\\Bestc\\anaconda3\\lib\\site-packages\\ipykernel\\ipkernel.py:287: DeprecationWarning: `should_run_async` will not call `transform_cell` automatically in the future. Please pass the result to `transformed_cell` argument and any exception that happen during thetransform in `preprocessing_exc_tuple` in IPython 7.17 and above.\n",
      "  and should_run_async(code)\n"
     ]
    },
    {
     "output_type": "execute_result",
     "data": {
      "text/plain": [
       "0    [dagibbs, quantum, david, gibbs, subject, coun...\n",
       "1    [kehoe, netcom, thomas, david, kehoe, subject,...\n",
       "2    [rexlex, fnal, fnal, subject, assurance, hell,...\n",
       "3    [scss, mark, riordan, subject, list, large, in...\n",
       "4    [adam, stratus, mark, adam, subject, space, fo...\n",
       "Name: article, dtype: object"
      ]
     },
     "metadata": {},
     "execution_count": 33
    }
   ],
   "metadata": {}
  },
  {
   "cell_type": "code",
   "execution_count": 34,
   "source": [
    "from gensim import corpora\r\n",
    "dictionary = corpora.Dictionary(tokenized_doc)\r\n",
    "corpus = [dictionary]"
   ],
   "outputs": [
    {
     "output_type": "stream",
     "name": "stderr",
     "text": [
      "C:\\Users\\Bestc\\anaconda3\\lib\\site-packages\\ipykernel\\ipkernel.py:287: DeprecationWarning: `should_run_async` will not call `transform_cell` automatically in the future. Please pass the result to `transformed_cell` argument and any exception that happen during thetransform in `preprocessing_exc_tuple` in IPython 7.17 and above.\n",
      "  and should_run_async(code)\n"
     ]
    }
   ],
   "metadata": {}
  },
  {
   "cell_type": "code",
   "execution_count": 35,
   "source": [
    "corpus = [dictionary.doc2bow(text) for text in tokenized_doc]\r\n",
    "print(corpus[0])"
   ],
   "outputs": [
    {
     "output_type": "stream",
     "name": "stderr",
     "text": [
      "C:\\Users\\Bestc\\anaconda3\\lib\\site-packages\\ipykernel\\ipkernel.py:287: DeprecationWarning: `should_run_async` will not call `transform_cell` automatically in the future. Please pass the result to `transformed_cell` argument and any exception that happen during thetransform in `preprocessing_exc_tuple` in IPython 7.17 and above.\n",
      "  and should_run_async(code)\n"
     ]
    },
    {
     "output_type": "stream",
     "name": "stdout",
     "text": [
      "[(0, 1), (1, 1), (2, 2), (3, 2), (4, 1), (5, 2), (6, 1), (7, 2), (8, 1), (9, 1), (10, 1), (11, 1), (12, 1), (13, 3), (14, 2), (15, 1), (16, 3), (17, 1), (18, 2), (19, 1), (20, 1), (21, 1), (22, 1), (23, 1), (24, 1), (25, 1), (26, 1), (27, 4), (28, 1), (29, 2), (30, 2), (31, 3), (32, 1), (33, 1), (34, 1), (35, 2), (36, 1), (37, 1), (38, 1), (39, 1), (40, 1), (41, 1), (42, 1), (43, 1), (44, 1), (45, 2), (46, 1), (47, 1), (48, 1), (49, 1), (50, 1), (51, 1), (52, 2), (53, 1), (54, 1), (55, 1), (56, 1), (57, 1), (58, 3), (59, 1), (60, 1), (61, 1), (62, 1), (63, 2), (64, 1)]\n"
     ]
    }
   ],
   "metadata": {}
  },
  {
   "cell_type": "code",
   "execution_count": 36,
   "source": [
    "dictionary[0], dictionary[1], dictionary[2], dictionary[3]"
   ],
   "outputs": [
    {
     "output_type": "stream",
     "name": "stderr",
     "text": [
      "C:\\Users\\Bestc\\anaconda3\\lib\\site-packages\\ipykernel\\ipkernel.py:287: DeprecationWarning: `should_run_async` will not call `transform_cell` automatically in the future. Please pass the result to `transformed_cell` argument and any exception that happen during thetransform in `preprocessing_exc_tuple` in IPython 7.17 and above.\n",
      "  and should_run_async(code)\n"
     ]
    },
    {
     "output_type": "execute_result",
     "data": {
      "text/plain": [
       "('allowed', 'answer', 'article', 'bars')"
      ]
     },
     "metadata": {},
     "execution_count": 36
    }
   ],
   "metadata": {}
  },
  {
   "cell_type": "code",
   "execution_count": 37,
   "source": [
    "import gensim\r\n",
    "from gensim.models.ldamodel import LdaModel\r\n",
    "NUM_TOPICS = 20"
   ],
   "outputs": [
    {
     "output_type": "stream",
     "name": "stderr",
     "text": [
      "C:\\Users\\Bestc\\anaconda3\\lib\\site-packages\\ipykernel\\ipkernel.py:287: DeprecationWarning: `should_run_async` will not call `transform_cell` automatically in the future. Please pass the result to `transformed_cell` argument and any exception that happen during thetransform in `preprocessing_exc_tuple` in IPython 7.17 and above.\n",
      "  and should_run_async(code)\n"
     ]
    }
   ],
   "metadata": {}
  },
  {
   "cell_type": "code",
   "execution_count": 38,
   "source": [
    "ldamodel = gensim.models.ldamodel.LdaModel(\r\n",
    "    corpus, num_topics = NUM_TOPICS,\r\n",
    "    id2word = dictionary, passes = 20\r\n",
    ")\r\n",
    "topics = ldamodel.print_topics(num_words = 4)\r\n",
    "for topic in topics:\r\n",
    "    print(topic)"
   ],
   "outputs": [
    {
     "output_type": "stream",
     "name": "stderr",
     "text": [
      "C:\\Users\\Bestc\\anaconda3\\lib\\site-packages\\ipykernel\\ipkernel.py:287: DeprecationWarning: `should_run_async` will not call `transform_cell` automatically in the future. Please pass the result to `transformed_cell` argument and any exception that happen during thetransform in `preprocessing_exc_tuple` in IPython 7.17 and above.\n",
      "  and should_run_async(code)\n"
     ]
    },
    {
     "output_type": "stream",
     "name": "stdout",
     "text": [
      "(0, '0.013*\"myers\" + 0.010*\"wire\" + 0.010*\"ground\" + 0.009*\"audio\"')\n",
      "(1, '0.014*\"writes\" + 0.014*\"subject\" + 0.014*\"organization\" + 0.013*\"lines\"')\n",
      "(2, '0.019*\"writes\" + 0.019*\"article\" + 0.016*\"lines\" + 0.014*\"subject\"')\n",
      "(3, '0.046*\"colorado\" + 0.012*\"boulder\" + 0.008*\"spot\" + 0.008*\"harris\"')\n",
      "(4, '0.010*\"available\" + 0.009*\"file\" + 0.008*\"data\" + 0.008*\"image\"')\n",
      "(5, '0.037*\"stanford\" + 0.021*\"uchicago\" + 0.016*\"andy\" + 0.014*\"midway\"')\n",
      "(6, '0.052*\"drive\" + 0.030*\"scsi\" + 0.019*\"disk\" + 0.017*\"hard\"')\n",
      "(7, '0.041*\"lines\" + 0.041*\"subject\" + 0.040*\"organization\" + 0.023*\"posting\"')\n",
      "(8, '0.023*\"game\" + 0.022*\"team\" + 0.015*\"games\" + 0.012*\"hockey\"')\n",
      "(9, '0.012*\"people\" + 0.012*\"would\" + 0.008*\"think\" + 0.007*\"know\"')\n",
      "(10, '0.057*\"space\" + 0.045*\"nasa\" + 0.016*\"earth\" + 0.013*\"moon\"')\n",
      "(11, '0.033*\"israel\" + 0.025*\"state\" + 0.018*\"jews\" + 0.018*\"israeli\"')\n",
      "(12, '0.027*\"windows\" + 0.012*\"window\" + 0.011*\"problem\" + 0.009*\"subject\"')\n",
      "(13, '0.010*\"writes\" + 0.008*\"article\" + 0.007*\"medical\" + 0.007*\"health\"')\n",
      "(14, '0.025*\"writes\" + 0.023*\"article\" + 0.018*\"organization\" + 0.018*\"subject\"')\n",
      "(15, '0.011*\"would\" + 0.010*\"like\" + 0.009*\"writes\" + 0.008*\"lines\"')\n",
      "(16, '0.009*\"said\" + 0.009*\"people\" + 0.009*\"armenian\" + 0.007*\"turkish\"')\n",
      "(17, '0.010*\"government\" + 0.009*\"would\" + 0.006*\"people\" + 0.005*\"president\"')\n",
      "(18, '0.011*\"writes\" + 0.010*\"lines\" + 0.010*\"organization\" + 0.010*\"subject\"')\n",
      "(19, '0.030*\"columbia\" + 0.022*\"pitt\" + 0.018*\"canada\" + 0.015*\"gordon\"')\n"
     ]
    }
   ],
   "metadata": {}
  },
  {
   "cell_type": "code",
   "execution_count": null,
   "source": [
    "# 훈련결과 시각화\r\n",
    "import pyLDAvis.gensim\r\n",
    "pyLDAvis.enable_notebook()\r\n",
    "vis = pyLDAvis.gensim.prepare(ldamodel, corpus, dictionary)\r\n",
    "pyLDAvis.display(vis)"
   ],
   "outputs": [],
   "metadata": {}
  },
  {
   "cell_type": "code",
   "execution_count": null,
   "source": [
    "# pyLDAvis.save.html(vis, 'news_group_20.html')"
   ],
   "outputs": [],
   "metadata": {}
  },
  {
   "cell_type": "code",
   "execution_count": null,
   "source": [
    "for i, topic_list in enumerate(ldamodel[corpus]):\r\n",
    "    if i == 5:\r\n",
    "        break\r\n",
    "    print(i, '번째 문서의 topic 비율은', topic_list)"
   ],
   "outputs": [
    {
     "output_type": "stream",
     "name": "stdout",
     "text": [
      "0 번째 문서의 topic 비율은 [(9, 0.070974), (13, 0.7581079), (19, 0.16124886)]\n",
      "1 번째 문서의 topic 비율은 [(2, 0.037462547), (3, 0.36621648), (7, 0.07289094), (10, 0.22563429), (11, 0.03912408), (12, 0.043068886), (13, 0.05493504), (15, 0.043312714), (16, 0.085189976), (18, 0.028148508)]\n",
      "2 번째 문서의 topic 비율은 [(0, 0.029965961), (2, 0.04195987), (11, 0.09558341), (13, 0.77332354), (17, 0.010226148)]\n",
      "3 번째 문서의 topic 비율은 [(1, 0.1202197), (3, 0.015165395), (4, 0.010708628), (10, 0.07779404), (11, 0.04722612), (14, 0.53794676), (15, 0.046335116), (16, 0.020760257), (19, 0.10001559)]\n",
      "4 번째 문서의 topic 비율은 [(0, 0.02753245), (3, 0.22443521), (9, 0.30767712), (12, 0.023613915), (13, 0.26246876), (16, 0.09432114), (18, 0.05219759)]\n"
     ]
    },
    {
     "output_type": "stream",
     "name": "stderr",
     "text": [
      "C:\\Users\\Bestc\\anaconda3\\lib\\site-packages\\ipykernel\\ipkernel.py:287: DeprecationWarning: `should_run_async` will not call `transform_cell` automatically in the future. Please pass the result to `transformed_cell` argument and any exception that happen during thetransform in `preprocessing_exc_tuple` in IPython 7.17 and above.\n",
      "  and should_run_async(code)\n"
     ]
    }
   ],
   "metadata": {}
  },
  {
   "cell_type": "code",
   "execution_count": null,
   "source": [
    "def make_topictable_per_doc(ldamodel, corpus):\r\n",
    "    topic_table = pd.DataFrame()\r\n",
    "\r\n",
    "    # 몇 번째 문서인지를 의미하는 문서 번호와 해당 문서의 토픽 비중을 한 줄씩 꺼내온다.\r\n",
    "    for i, topic_list in enumerate(ldamodel[corpus]):\r\n",
    "        doc = topic_list[0] if ldamodel.per_word_topics else topic_list            \r\n",
    "        doc = sorted(doc, key=lambda x: (x[1]), reverse=True)\r\n",
    "        # 각 문서에 대해서 비중이 높은 토픽순으로 토픽을 정렬한다.\r\n",
    "        # EX) 정렬 전 0번 문서 : (2번 토픽, 48.5%), (8번 토픽, 25%), (10번 토픽, 5%), (12번 토픽, 21.5%), \r\n",
    "        # Ex) 정렬 후 0번 문서 : (2번 토픽, 48.5%), (8번 토픽, 25%), (12번 토픽, 21.5%), (10번 토픽, 5%)\r\n",
    "        # 48 > 25 > 21 > 5 순으로 정렬이 된 것.\r\n",
    "\r\n",
    "        # 모든 문서에 대해서 각각 아래를 수행\r\n",
    "        for j, (topic_num, prop_topic) in enumerate(doc): #  몇 번 토픽인지와 비중을 나눠서 저장한다.\r\n",
    "            if j == 0:  # 정렬을 한 상태이므로 가장 앞에 있는 것이 가장 비중이 높은 토픽\r\n",
    "                topic_table = topic_table.append(pd.Series([int(topic_num), round(prop_topic,4), topic_list]), ignore_index=True)\r\n",
    "                # 가장 비중이 높은 토픽과, 가장 비중이 높은 토픽의 비중과, 전체 토픽의 비중을 저장한다.\r\n",
    "            else:\r\n",
    "                break\r\n",
    "    return(topic_table)"
   ],
   "outputs": [
    {
     "output_type": "stream",
     "name": "stderr",
     "text": [
      "C:\\Users\\Bestc\\anaconda3\\lib\\site-packages\\ipykernel\\ipkernel.py:287: DeprecationWarning: `should_run_async` will not call `transform_cell` automatically in the future. Please pass the result to `transformed_cell` argument and any exception that happen during thetransform in `preprocessing_exc_tuple` in IPython 7.17 and above.\n",
      "  and should_run_async(code)\n"
     ]
    }
   ],
   "metadata": {}
  },
  {
   "cell_type": "code",
   "execution_count": null,
   "source": [
    "topictable = make_topictable_per_doc(ldamodel, corpus)\r\n",
    "topictable = topictable.reset_index() # 문서 번호을 의미하는 열(column)로 사용하기 위해서 인덱스 열을 하나 더 만든다.\r\n",
    "topictable.columns = ['문서 번호', '가장 비중이 높은 토픽', '가장 높은 토픽의 비중', '각 토픽의 비중']\r\n",
    "topictable[:10]"
   ],
   "outputs": [
    {
     "output_type": "stream",
     "name": "stderr",
     "text": [
      "C:\\Users\\Bestc\\anaconda3\\lib\\site-packages\\ipykernel\\ipkernel.py:287: DeprecationWarning: `should_run_async` will not call `transform_cell` automatically in the future. Please pass the result to `transformed_cell` argument and any exception that happen during thetransform in `preprocessing_exc_tuple` in IPython 7.17 and above.\n",
      "  and should_run_async(code)\n"
     ]
    },
    {
     "output_type": "execute_result",
     "data": {
      "text/html": [
       "<div>\n",
       "<style scoped>\n",
       "    .dataframe tbody tr th:only-of-type {\n",
       "        vertical-align: middle;\n",
       "    }\n",
       "\n",
       "    .dataframe tbody tr th {\n",
       "        vertical-align: top;\n",
       "    }\n",
       "\n",
       "    .dataframe thead th {\n",
       "        text-align: right;\n",
       "    }\n",
       "</style>\n",
       "<table border=\"1\" class=\"dataframe\">\n",
       "  <thead>\n",
       "    <tr style=\"text-align: right;\">\n",
       "      <th></th>\n",
       "      <th>문서 번호</th>\n",
       "      <th>가장 비중이 높은 토픽</th>\n",
       "      <th>가장 높은 토픽의 비중</th>\n",
       "      <th>각 토픽의 비중</th>\n",
       "    </tr>\n",
       "  </thead>\n",
       "  <tbody>\n",
       "    <tr>\n",
       "      <th>0</th>\n",
       "      <td>0</td>\n",
       "      <td>13.0</td>\n",
       "      <td>0.7581</td>\n",
       "      <td>[(9, 0.07096184), (13, 0.758099), (19, 0.16126...</td>\n",
       "    </tr>\n",
       "    <tr>\n",
       "      <th>1</th>\n",
       "      <td>1</td>\n",
       "      <td>3.0</td>\n",
       "      <td>0.3663</td>\n",
       "      <td>[(2, 0.037472274), (3, 0.3662837), (7, 0.07291...</td>\n",
       "    </tr>\n",
       "    <tr>\n",
       "      <th>2</th>\n",
       "      <td>2</td>\n",
       "      <td>13.0</td>\n",
       "      <td>0.7733</td>\n",
       "      <td>[(0, 0.02996597), (2, 0.04195992), (11, 0.0955...</td>\n",
       "    </tr>\n",
       "    <tr>\n",
       "      <th>3</th>\n",
       "      <td>3</td>\n",
       "      <td>14.0</td>\n",
       "      <td>0.5379</td>\n",
       "      <td>[(1, 0.1202205), (3, 0.015164034), (4, 0.01070...</td>\n",
       "    </tr>\n",
       "    <tr>\n",
       "      <th>4</th>\n",
       "      <td>4</td>\n",
       "      <td>9.0</td>\n",
       "      <td>0.3077</td>\n",
       "      <td>[(0, 0.027533242), (3, 0.22448367), (9, 0.3076...</td>\n",
       "    </tr>\n",
       "    <tr>\n",
       "      <th>5</th>\n",
       "      <td>5</td>\n",
       "      <td>0.0</td>\n",
       "      <td>0.2628</td>\n",
       "      <td>[(0, 0.2628206), (1, 0.040870313), (2, 0.03836...</td>\n",
       "    </tr>\n",
       "    <tr>\n",
       "      <th>6</th>\n",
       "      <td>6</td>\n",
       "      <td>19.0</td>\n",
       "      <td>0.3305</td>\n",
       "      <td>[(1, 0.025239168), (3, 0.04897583), (10, 0.029...</td>\n",
       "    </tr>\n",
       "    <tr>\n",
       "      <th>7</th>\n",
       "      <td>7</td>\n",
       "      <td>11.0</td>\n",
       "      <td>0.5365</td>\n",
       "      <td>[(3, 0.017460966), (11, 0.5364719), (13, 0.328...</td>\n",
       "    </tr>\n",
       "    <tr>\n",
       "      <th>8</th>\n",
       "      <td>8</td>\n",
       "      <td>9.0</td>\n",
       "      <td>0.5573</td>\n",
       "      <td>[(9, 0.5572675), (10, 0.34225678), (12, 0.0557...</td>\n",
       "    </tr>\n",
       "    <tr>\n",
       "      <th>9</th>\n",
       "      <td>9</td>\n",
       "      <td>3.0</td>\n",
       "      <td>0.4192</td>\n",
       "      <td>[(2, 0.053191822), (3, 0.41915387), (6, 0.0183...</td>\n",
       "    </tr>\n",
       "  </tbody>\n",
       "</table>\n",
       "</div>"
      ],
      "text/plain": [
       "   문서 번호  가장 비중이 높은 토픽  가장 높은 토픽의 비중  \\\n",
       "0      0          13.0        0.7581   \n",
       "1      1           3.0        0.3663   \n",
       "2      2          13.0        0.7733   \n",
       "3      3          14.0        0.5379   \n",
       "4      4           9.0        0.3077   \n",
       "5      5           0.0        0.2628   \n",
       "6      6          19.0        0.3305   \n",
       "7      7          11.0        0.5365   \n",
       "8      8           9.0        0.5573   \n",
       "9      9           3.0        0.4192   \n",
       "\n",
       "                                            각 토픽의 비중  \n",
       "0  [(9, 0.07096184), (13, 0.758099), (19, 0.16126...  \n",
       "1  [(2, 0.037472274), (3, 0.3662837), (7, 0.07291...  \n",
       "2  [(0, 0.02996597), (2, 0.04195992), (11, 0.0955...  \n",
       "3  [(1, 0.1202205), (3, 0.015164034), (4, 0.01070...  \n",
       "4  [(0, 0.027533242), (3, 0.22448367), (9, 0.3076...  \n",
       "5  [(0, 0.2628206), (1, 0.040870313), (2, 0.03836...  \n",
       "6  [(1, 0.025239168), (3, 0.04897583), (10, 0.029...  \n",
       "7  [(3, 0.017460966), (11, 0.5364719), (13, 0.328...  \n",
       "8  [(9, 0.5572675), (10, 0.34225678), (12, 0.0557...  \n",
       "9  [(2, 0.053191822), (3, 0.41915387), (6, 0.0183...  "
      ]
     },
     "metadata": {},
     "execution_count": 29
    }
   ],
   "metadata": {}
  },
  {
   "cell_type": "code",
   "execution_count": 41,
   "source": [
    "import numpy as np\r\n",
    "import pandas as pd\r\n",
    "import warnings\r\n",
    "warnings.filterwarnings('ignore')\r\n",
    "from sklearn.datasets import fetch_20newsgroups\r\n",
    "news = fetch_20newsgroups(subset='all', random_state=2021,\r\n",
    "                          remove=('headers', 'footers', 'quotes'))\r\n",
    "df = pd.DataFrame({'article': news.data})\r\n",
    "df.shape\r\n",
    "df['article'] = df.article.str.replace('[^A-Za-z]', ' ')\r\n",
    "df['article'] = df.article.apply(lambda x: ' '.join(w.lower() for w in x.split() if len(w) > 3))\r\n",
    "import nltk\r\n",
    "nltk.download('stopwords')\r\n",
    "from nltk.corpus import stopwords\r\n",
    "stop_words = stopwords.words('english')\r\n",
    "tokenized_doc = df.article.apply(lambda x: [w for w in x.split() if w not in stop_words])\r\n",
    "from gensim import corpora\r\n",
    "dictionary = corpora.Dictionary(tokenized_doc)\r\n",
    "corpus = [dictionary.doc2bow(text) for text in tokenized_doc]\r\n",
    "from gensim.models.ldamodel import LdaModel\r\n",
    "NUM_TOPICS = 2\r\n",
    "\r\n",
    "ldamodel = LdaModel(\r\n",
    "    corpus, num_topics=NUM_TOPICS, random_state=2021,\r\n",
    "    id2word=dictionary, passes=20\r\n",
    ")\r\n",
    "topics = ldamodel.print_topics(num_words=4)"
   ],
   "outputs": [
    {
     "output_type": "stream",
     "name": "stderr",
     "text": [
      "C:\\Users\\Bestc\\anaconda3\\lib\\site-packages\\ipykernel\\ipkernel.py:287: DeprecationWarning: `should_run_async` will not call `transform_cell` automatically in the future. Please pass the result to `transformed_cell` argument and any exception that happen during thetransform in `preprocessing_exc_tuple` in IPython 7.17 and above.\n",
      "  and should_run_async(code)\n",
      "[nltk_data] Downloading package stopwords to\n",
      "[nltk_data]     C:\\Users\\Bestc\\AppData\\Roaming\\nltk_data...\n",
      "[nltk_data]   Package stopwords is already up-to-date!\n"
     ]
    }
   ],
   "metadata": {}
  },
  {
   "cell_type": "code",
   "execution_count": 42,
   "source": [
    "import pyLDAvis.gensim\r\n",
    "pyLDAvis.enable_notebook()\r\n",
    "vis = pyLDAvis.gensim.prepare(ldamodel, corpus, dictionary)\r\n",
    "pyLDAvis.display(vis)"
   ],
   "outputs": [
    {
     "output_type": "execute_result",
     "data": {
      "text/html": [
       "\n",
       "<link rel=\"stylesheet\" type=\"text/css\" href=\"https://cdn.rawgit.com/bmabey/pyLDAvis/files/ldavis.v1.0.0.css\">\n",
       "\n",
       "\n",
       "<div id=\"ldavis_el1728420393999448161011670953\"></div>\n",
       "<script type=\"text/javascript\">\n",
       "\n",
       "var ldavis_el1728420393999448161011670953_data = {\"mdsDat\": {\"x\": [0.1335548609495163, -0.1335548609495163], \"y\": [0.0, 0.0], \"topics\": [1, 2], \"cluster\": [1, 1], \"Freq\": [59.735640484696496, 40.26435951530352]}, \"tinfo\": {\"Term\": [\"file\", \"windows\", \"software\", \"system\", \"drive\", \"data\", \"people\", \"available\", \"program\", \"space\", \"mail\", \"thanks\", \"computer\", \"files\", \"graphics\", \"version\", \"card\", \"using\", \"image\", \"server\", \"window\", \"chip\", \"government\", \"disk\", \"info\", \"email\", \"display\", \"said\", \"scsi\", \"color\", \"jesus\", \"armenian\", \"jews\", \"evidence\", \"armenians\", \"church\", \"turkish\", \"christians\", \"christ\", \"religion\", \"bible\", \"jewish\", \"christian\", \"faith\", \"women\", \"religious\", \"police\", \"israeli\", \"peace\", \"guns\", \"muslim\", \"population\", \"season\", \"russian\", \"hockey\", \"killed\", \"stephanopoulos\", \"crime\", \"muslims\", \"lord\", \"government\", \"president\", \"israel\", \"health\", \"fire\", \"truth\", \"hell\", \"said\", \"life\", \"people\", \"history\", \"children\", \"team\", \"rights\", \"death\", \"game\", \"believe\", \"water\", \"think\", \"agree\", \"fact\", \"human\", \"person\", \"years\", \"right\", \"would\", \"even\", \"year\", \"going\", \"well\", \"many\", \"first\", \"time\", \"know\", \"made\", \"never\", \"like\", \"good\", \"could\", \"last\", \"really\", \"take\", \"world\", \"point\", \"make\", \"also\", \"much\", \"something\", \"back\", \"since\", \"software\", \"graphics\", \"server\", \"disk\", \"card\", \"scsi\", \"computer\", \"output\", \"jpeg\", \"motif\", \"widget\", \"unix\", \"format\", \"chip\", \"user\", \"mouse\", \"monitor\", \"hardware\", \"images\", \"directory\", \"interface\", \"encryption\", \"apple\", \"nasa\", \"applications\", \"screen\", \"controller\", \"manual\", \"microsoft\", \"machines\", \"windows\", \"file\", \"display\", \"files\", \"comp\", \"drive\", \"color\", \"data\", \"space\", \"image\", \"program\", \"info\", \"window\", \"mail\", \"email\", \"available\", \"version\", \"thanks\", \"system\", \"memory\", \"code\", \"using\", \"systems\", \"send\", \"please\", \"information\", \"also\", \"used\", \"like\", \"anyone\", \"would\", \"need\", \"work\", \"problem\", \"know\", \"time\", \"could\", \"help\", \"much\"], \"Freq\": [2497.0, 2352.0, 1776.0, 3099.0, 1895.0, 1969.0, 6089.0, 2100.0, 1874.0, 1675.0, 1873.0, 1920.0, 1304.0, 1357.0, 1234.0, 1555.0, 1196.0, 2144.0, 1243.0, 1021.0, 1182.0, 994.0, 1866.0, 979.0, 1089.0, 1097.0, 935.0, 2562.0, 872.0, 901.0, 1160.286211256464, 1015.5374662598458, 836.6649755370411, 1025.4134669280756, 776.7605953173068, 851.2743172484298, 764.9194544065824, 679.385500316884, 669.7756540806822, 700.8589329198741, 832.0941071445249, 622.0541806436468, 879.5388794894537, 582.757920131552, 595.539769035828, 562.6422483214166, 602.6330740064652, 506.95409828838467, 513.2959402070811, 524.5530124912106, 489.28281777179046, 509.21330104803764, 500.4672533149701, 548.3183695428147, 493.74275693445696, 533.3160971367123, 467.4368987690078, 503.4939284157084, 428.5741871142874, 430.32988150471317, 1857.8985576916073, 946.9027230835708, 946.206968031018, 642.1408085744897, 564.4883465186164, 580.4151553728169, 547.0794344535094, 2459.3775025728846, 1212.398719010321, 5661.69246159184, 720.3981080644968, 929.2653541355361, 1079.7889093366903, 776.0031287819368, 637.6657254896594, 1277.2889110898586, 1965.7576818351356, 690.5147146296022, 4121.957540499015, 774.1445909343881, 1444.5627259128682, 959.8910160982006, 1065.0172031455313, 1744.7584233769549, 2310.971175861098, 6650.84759287931, 2784.0876403813186, 1679.1223931308514, 1706.4358629745543, 2810.377921941114, 2462.312394688223, 2454.056144666281, 3029.8085945757457, 3470.6126887168757, 1532.166637820609, 1566.619709768421, 3621.1627457818163, 2490.449802068508, 2546.3903688327478, 1635.5193634116895, 1746.2915291542913, 1580.6602890316879, 1337.5115300167772, 1575.9071527188435, 2025.6049478341379, 2724.0326863069276, 2068.778971872575, 1680.518446412606, 1589.2481909490166, 1572.081797980275, 1776.2125165119776, 1233.7898251846043, 1020.5837976898857, 979.1971119971342, 1195.7912033273835, 872.373722443997, 1303.8898196276032, 708.5327503847119, 676.2862104774105, 663.516079624479, 643.4184623433998, 661.7316371197278, 696.9663927504387, 993.2989762140145, 759.1661788614402, 613.4439988164636, 643.5151433420638, 677.176025641584, 623.4303585313955, 541.8625102468797, 495.4482303441966, 629.7388301500963, 637.818984714901, 571.5956722918565, 546.733088973687, 748.66469753598, 405.196846194391, 432.1027452343224, 457.16386728504233, 456.9707604788875, 2339.656690078251, 2480.4092043095543, 931.9010736801663, 1343.543173961956, 527.5694713855826, 1838.6700457076524, 890.1782647567659, 1882.5807179243466, 1610.159474453851, 1194.0256449694302, 1754.0387367595906, 1052.4779550432336, 1133.5772723342245, 1734.8450066130788, 1055.581152617995, 1911.9115164013547, 1450.6702410108965, 1722.2057523759856, 2576.5022425109823, 831.5761638019275, 872.0328599487077, 1749.7643575245438, 945.7470905182294, 1088.4487549284784, 1742.6330037407445, 1688.1555212583166, 2520.4736351676374, 1763.3705675718033, 2563.255633282283, 1631.826079977953, 3095.5631298082694, 1553.2740080635244, 1517.1360215041195, 1503.8948077459336, 2136.055547950795, 1548.8450558894374, 1399.3919808960209, 1247.2592527631657, 1276.7406869439744], \"Total\": [2497.0, 2352.0, 1776.0, 3099.0, 1895.0, 1969.0, 6089.0, 2100.0, 1874.0, 1675.0, 1873.0, 1920.0, 1304.0, 1357.0, 1234.0, 1555.0, 1196.0, 2144.0, 1243.0, 1021.0, 1182.0, 994.0, 1866.0, 979.0, 1089.0, 1097.0, 935.0, 2562.0, 872.0, 901.0, 1160.791801754374, 1016.0143806465368, 837.1429961674984, 1025.9998002619993, 777.2371230010791, 851.8037633504163, 765.3961120356367, 679.8648854084036, 670.25358246779, 701.3743391995735, 832.7241977898842, 622.5357383134767, 880.2234250402819, 583.2400453240505, 596.0333068418234, 563.1416667744469, 603.2001076535003, 507.43360392640415, 513.791148326171, 525.0645943922576, 489.76000493676923, 509.7121596327106, 500.9586573838339, 548.8642246365895, 494.2386278456878, 533.8552497596468, 467.9129635271633, 504.01628406228383, 429.05139934268493, 430.8104639797036, 1866.9147386685681, 949.5026366713768, 950.1600422121412, 642.8768145218665, 565.2235746455766, 581.3834581281335, 547.9177276306307, 2562.45694597188, 1236.056291888342, 6089.8118184400355, 727.0380883966768, 945.3927174011707, 1105.573505198184, 785.930377562943, 641.9193621823687, 1334.2390319866447, 2125.371375658723, 698.8516798059773, 4888.441581435794, 793.9095574075644, 1590.8546202514422, 1014.6806292840355, 1146.3221316101512, 2021.7816204088526, 2825.5151793972777, 9746.410722687579, 3560.9534415275657, 2042.1780262458594, 2086.8361839086865, 3894.2548905504204, 3389.858740369747, 3459.27342359794, 4578.653650465183, 5606.6682366676705, 1882.4199859948947, 1950.9884721771218, 6184.418379064099, 3715.062077732885, 3945.7823497287686, 2099.2231971651745, 2328.4724219322156, 2046.1786778483315, 1579.19244479445, 2067.7127842604386, 3161.28361010991, 5244.506321474565, 3345.519658816549, 2327.839583819719, 2287.9325306757137, 2405.6686494897094, 1776.760177664454, 1234.3044020538616, 1021.119584976382, 979.7259837422775, 1196.4430494565106, 872.8814476286323, 1304.7318375452514, 709.0564065296811, 676.7923594729929, 664.0279190523373, 643.9245771658599, 662.2614406766554, 697.5384468572285, 994.1173852577223, 759.8034584198725, 614.010100039285, 644.1194675983663, 677.8284102482727, 624.0338182129844, 542.3878833931801, 495.9586225112737, 630.4077676996365, 638.5165554324519, 572.2765929874233, 547.3923463393036, 749.6078564871352, 405.71536031439393, 432.66485380051677, 457.760080944248, 457.56851710474416, 2352.839323896693, 2497.9127844800537, 935.2350535678358, 1357.2219132055318, 528.4970940838896, 1895.5963263091246, 901.4473364019893, 1969.2238629023482, 1675.5597124797287, 1243.0345816534905, 1874.8970250904447, 1089.1042508086819, 1182.5431029255542, 1873.0778762783489, 1097.6757902238694, 2100.198834798425, 1555.6961198559306, 1920.2255016506301, 3099.512089333705, 859.2921830971557, 913.1124491288373, 2144.05089299794, 1020.1833080191358, 1252.0488300122254, 2430.598888099312, 2333.9732741341695, 5244.506321474565, 2894.760120093215, 6184.418379064099, 2680.2318067311726, 9746.410722687579, 2493.816932863547, 2436.216438959285, 2470.5534263173777, 5606.6682366676705, 4578.653650465183, 3945.7823497287686, 1934.705971018697, 3345.519658816549], \"Category\": [\"Default\", \"Default\", \"Default\", \"Default\", \"Default\", \"Default\", \"Default\", \"Default\", \"Default\", \"Default\", \"Default\", \"Default\", \"Default\", \"Default\", \"Default\", \"Default\", \"Default\", \"Default\", \"Default\", \"Default\", \"Default\", \"Default\", \"Default\", \"Default\", \"Default\", \"Default\", \"Default\", \"Default\", \"Default\", \"Default\", \"Topic1\", \"Topic1\", \"Topic1\", \"Topic1\", \"Topic1\", \"Topic1\", \"Topic1\", \"Topic1\", \"Topic1\", \"Topic1\", \"Topic1\", \"Topic1\", \"Topic1\", \"Topic1\", \"Topic1\", \"Topic1\", \"Topic1\", \"Topic1\", \"Topic1\", \"Topic1\", \"Topic1\", \"Topic1\", \"Topic1\", \"Topic1\", \"Topic1\", \"Topic1\", \"Topic1\", \"Topic1\", \"Topic1\", \"Topic1\", \"Topic1\", \"Topic1\", \"Topic1\", \"Topic1\", \"Topic1\", \"Topic1\", \"Topic1\", \"Topic1\", \"Topic1\", \"Topic1\", \"Topic1\", \"Topic1\", \"Topic1\", \"Topic1\", \"Topic1\", \"Topic1\", \"Topic1\", \"Topic1\", \"Topic1\", \"Topic1\", \"Topic1\", \"Topic1\", \"Topic1\", \"Topic1\", \"Topic1\", \"Topic1\", \"Topic1\", \"Topic1\", \"Topic1\", \"Topic1\", \"Topic1\", \"Topic1\", \"Topic1\", \"Topic1\", \"Topic1\", \"Topic1\", \"Topic1\", \"Topic1\", \"Topic1\", \"Topic1\", \"Topic1\", \"Topic1\", \"Topic1\", \"Topic1\", \"Topic1\", \"Topic1\", \"Topic1\", \"Topic1\", \"Topic1\", \"Topic1\", \"Topic2\", \"Topic2\", \"Topic2\", \"Topic2\", \"Topic2\", \"Topic2\", \"Topic2\", \"Topic2\", \"Topic2\", \"Topic2\", \"Topic2\", \"Topic2\", \"Topic2\", \"Topic2\", \"Topic2\", \"Topic2\", \"Topic2\", \"Topic2\", \"Topic2\", \"Topic2\", \"Topic2\", \"Topic2\", \"Topic2\", \"Topic2\", \"Topic2\", \"Topic2\", \"Topic2\", \"Topic2\", \"Topic2\", \"Topic2\", \"Topic2\", \"Topic2\", \"Topic2\", \"Topic2\", \"Topic2\", \"Topic2\", \"Topic2\", \"Topic2\", \"Topic2\", \"Topic2\", \"Topic2\", \"Topic2\", \"Topic2\", \"Topic2\", \"Topic2\", \"Topic2\", \"Topic2\", \"Topic2\", \"Topic2\", \"Topic2\", \"Topic2\", \"Topic2\", \"Topic2\", \"Topic2\", \"Topic2\", \"Topic2\", \"Topic2\", \"Topic2\", \"Topic2\", \"Topic2\", \"Topic2\", \"Topic2\", \"Topic2\", \"Topic2\", \"Topic2\", \"Topic2\", \"Topic2\", \"Topic2\", \"Topic2\"], \"logprob\": [30.0, 29.0, 28.0, 27.0, 26.0, 25.0, 24.0, 23.0, 22.0, 21.0, 20.0, 19.0, 18.0, 17.0, 16.0, 15.0, 14.0, 13.0, 12.0, 11.0, 10.0, 9.0, 8.0, 7.0, 6.0, 5.0, 4.0, 3.0, 2.0, 1.0, -6.6855998039245605, -6.818900108337402, -7.012599945068359, -6.809199810028076, -7.086900234222412, -6.995299816131592, -7.10230016708374, -7.220900058746338, -7.235099792480469, -7.189799785614014, -7.018099784851074, -7.309000015258789, -6.962699890136719, -7.374300003051758, -7.35260009765625, -7.40939998626709, -7.340799808502197, -7.513599872589111, -7.501200199127197, -7.479499816894531, -7.549099922180176, -7.509200096130371, -7.526500225067139, -7.435200214385986, -7.539999961853027, -7.462900161743164, -7.594799995422363, -7.520500183105469, -7.681600093841553, -7.677499771118164, -6.214900016784668, -6.888899803161621, -6.889599800109863, -7.277299880981445, -7.406099796295166, -7.378300189971924, -7.4375, -5.9344000816345215, -6.64169979095459, -5.100599765777588, -7.162300109863281, -6.907700061798096, -6.757500171661377, -7.087900161743164, -7.284200191497803, -6.589600086212158, -6.158400058746338, -7.204599857330322, -5.418000221252441, -7.0903000831604, -6.4664998054504395, -6.875199794769287, -6.771299839019775, -6.277699947357178, -5.996600151062012, -4.939599990844727, -5.810400009155273, -6.315999984741211, -6.299900054931641, -5.801000118255615, -5.933199882507324, -5.936600208282471, -5.725800037384033, -5.590000152587891, -6.407599925994873, -6.38539981842041, -5.547500133514404, -5.921800136566162, -5.899600028991699, -6.342299938201904, -6.276800155639648, -6.376500129699707, -6.543499946594238, -6.379499912261963, -6.128399848937988, -5.832200050354004, -6.1072998046875, -6.315199851989746, -6.370999813079834, -6.381899833679199, -5.8653998374938965, -6.229800224304199, -6.41949987411499, -6.460899829864502, -6.261000156402588, -6.576399803161621, -6.174499988555908, -6.78439998626709, -6.830999851226807, -6.849999904632568, -6.880799770355225, -6.852700233459473, -6.800899982452393, -6.446599960327148, -6.715400218963623, -6.928500175476074, -6.88070011138916, -6.829699993133545, -6.912399768829346, -7.052599906921387, -7.142099857330322, -6.902299880981445, -6.889500141143799, -6.999199867248535, -7.043600082397461, -6.729300022125244, -7.343200206756592, -7.278900146484375, -7.222599983215332, -7.2230000495910645, -5.589799880981445, -5.531400203704834, -6.51039981842041, -6.144499778747559, -7.0792999267578125, -5.8308000564575195, -6.55620002746582, -5.807199954986572, -5.963500022888184, -6.262499809265137, -5.877900123596191, -6.388700008392334, -6.314499855041504, -5.888899803161621, -6.385799884796143, -5.7916998863220215, -6.067800045013428, -5.896200180053711, -5.4934000968933105, -6.624300003051758, -6.5767998695373535, -5.88040018081665, -6.49560022354126, -6.355100154876709, -5.884399890899658, -5.916200160980225, -5.515399932861328, -5.872600078582764, -5.498600006103516, -5.950099945068359, -5.309899806976318, -5.999499797821045, -6.0229997634887695, -6.031799793243408, -5.6809000968933105, -6.002299785614014, -6.103799819946289, -6.218900203704834, -6.195499897003174], \"loglift\": [30.0, 29.0, 28.0, 27.0, 26.0, 25.0, 24.0, 23.0, 22.0, 21.0, 20.0, 19.0, 18.0, 17.0, 16.0, 15.0, 14.0, 13.0, 12.0, 11.0, 10.0, 9.0, 8.0, 7.0, 6.0, 5.0, 4.0, 3.0, 2.0, 1.0, 0.5148, 0.5148, 0.5147, 0.5147, 0.5146, 0.5146, 0.5146, 0.5145, 0.5145, 0.5145, 0.5145, 0.5145, 0.5145, 0.5144, 0.5144, 0.5144, 0.5143, 0.5143, 0.5143, 0.5143, 0.5143, 0.5143, 0.5143, 0.5142, 0.5142, 0.5142, 0.5142, 0.5142, 0.5141, 0.5141, 0.5104, 0.5125, 0.5111, 0.5141, 0.5139, 0.5136, 0.5137, 0.4742, 0.4959, 0.4423, 0.5061, 0.498, 0.4916, 0.5025, 0.5086, 0.4716, 0.4372, 0.5032, 0.3447, 0.49, 0.4188, 0.4597, 0.4417, 0.3679, 0.3142, 0.1331, 0.2691, 0.3195, 0.314, 0.1891, 0.1956, 0.1719, 0.1023, 0.0356, 0.3094, 0.2958, -0.02, 0.1153, 0.0773, 0.2656, 0.2275, 0.2571, 0.3491, 0.2436, 0.0701, -0.1398, 0.0346, 0.1894, 0.1509, 0.0898, 0.9094, 0.9093, 0.9092, 0.9092, 0.9092, 0.9091, 0.9091, 0.909, 0.909, 0.9089, 0.9089, 0.9089, 0.9089, 0.9089, 0.9089, 0.9088, 0.9088, 0.9087, 0.9087, 0.9087, 0.9087, 0.9086, 0.9086, 0.9085, 0.9085, 0.9084, 0.9084, 0.9084, 0.9084, 0.9084, 0.9041, 0.9027, 0.9061, 0.8996, 0.9079, 0.8792, 0.8971, 0.8647, 0.8699, 0.8695, 0.8431, 0.8755, 0.8674, 0.833, 0.8706, 0.8158, 0.8398, 0.8009, 0.7249, 0.8769, 0.8637, 0.7065, 0.8339, 0.7697, 0.577, 0.5858, 0.177, 0.414, 0.0289, 0.4135, -0.2372, 0.4363, 0.4361, 0.4133, -0.0553, -0.1742, -0.1269, 0.4707, -0.0536]}, \"token.table\": {\"Topic\": [1, 2, 1, 2, 1, 2, 1, 2, 1, 2, 1, 1, 1, 2, 1, 2, 1, 2, 1, 2, 1, 2, 1, 2, 1, 2, 1, 1, 2, 1, 1, 2, 1, 2, 1, 2, 1, 2, 1, 2, 1, 2, 1, 2, 1, 2, 1, 2, 1, 2, 1, 2, 1, 2, 1, 2, 1, 2, 1, 2, 1, 2, 1, 2, 1, 2, 1, 2, 1, 1, 2, 1, 2, 1, 2, 1, 2, 1, 2, 1, 2, 1, 2, 1, 2, 1, 2, 1, 2, 1, 2, 1, 2, 1, 2, 1, 2, 1, 2, 1, 2, 1, 1, 2, 1, 2, 1, 2, 1, 2, 1, 2, 1, 2, 1, 2, 1, 1, 2, 1, 1, 1, 2, 1, 2, 1, 2, 1, 2, 1, 2, 1, 2, 1, 1, 2, 1, 2, 1, 2, 1, 2, 1, 2, 1, 2, 1, 2, 1, 2, 1, 2, 1, 2, 1, 2, 1, 2, 1, 1, 1, 2, 1, 2, 1, 2, 1, 2, 1, 1, 2, 1, 2, 1, 2, 1, 2, 1, 2, 1, 1, 2, 1, 2, 1, 2, 1, 2, 1, 2, 1, 1, 2, 1, 2, 1, 2, 1, 2, 1, 2, 1, 2, 1, 1, 2, 1, 2, 1, 2, 1, 2, 1, 2, 1, 2, 1, 1, 2, 1, 2, 1, 2, 1, 2, 1, 2, 1, 2, 1, 2, 1, 2, 1, 1, 2, 1, 2, 1, 2, 1, 2, 1, 2, 1, 2, 1, 2, 1, 2, 1, 2, 1, 2, 1, 1, 2, 1, 2, 1, 2, 1, 2, 1, 2], \"Freq\": [0.9749221341123828, 0.025191786411172683, 0.5194006514676314, 0.48050280532247835, 0.3910109556076597, 0.6089025568241417, 0.0015661301049942613, 0.9991910069863387, 0.001826843226229812, 0.9992832447477072, 0.9999858460206758, 0.9996949154973922, 0.08951533392220172, 0.9103899918045196, 0.6945134870435659, 0.3055160021670563, 0.925014810360223, 0.07528096116868549, 0.9991303269536225, 0.0012008777968192579, 0.0008358107813441302, 0.9996296944875798, 0.9826604149794667, 0.016924183681024184, 0.0010059174246718889, 0.9988760026991856, 0.9996216618986856, 0.9997461723536025, 0.0011360751958563666, 0.9987278569213293, 0.999056398451147, 0.0011739793166288448, 0.044901370076726475, 0.9549754806562314, 0.012202598594284032, 0.9873011589920717, 0.001892157991395252, 0.9990594194566931, 0.0007664410196975189, 0.9994390896855646, 0.002464782204018816, 0.9982367926276206, 0.6452459295366383, 0.3545557955309336, 0.997983628516736, 0.0019840628797549425, 0.04417984244400467, 0.9562142910581701, 0.9938943075824294, 0.006231312273244072, 0.001843699003274183, 0.9992848597746072, 0.0010206935577846792, 0.9992589930712009, 0.0032077497400843516, 0.9965409192528719, 0.030069693219433216, 0.9701432601848717, 0.03826266405259258, 0.9620326961794705, 0.0015862748703890641, 0.9993531683451103, 0.7818130862182038, 0.21819998850270989, 0.999025535617313, 0.0009746590591388419, 0.908316813871786, 0.09177457081334309, 0.9995884279106434, 0.007206016203542808, 0.9928288991547868, 0.010315188595013423, 0.9902581051212886, 0.9978352377705692, 0.0017692114144868248, 0.7093975235549985, 0.29052343568572675, 0.0014336127341876529, 0.999228075728794, 0.9570998669545611, 0.04272098074895065, 0.8175054722333918, 0.18209383320556205, 0.6702445202529487, 0.3297387700039607, 0.995224881734596, 0.004820787909371025, 0.0008101729187192535, 0.9997533816995587, 0.9998769781985921, 0.001904527577521128, 0.00147529962580607, 0.9987778466707093, 0.9986361080349139, 0.0015555079564406758, 0.9983250630809132, 0.0018250915229998414, 0.35509271708003676, 0.6445423845688586, 0.9903195052515092, 0.009628106301056339, 0.9995171809076763, 0.946110502451773, 0.054204247536299495, 0.03941965953579503, 0.9605525201171279, 0.0016024772549405283, 0.9983433298279492, 0.033972872635954506, 0.9659314057574092, 0.27678123274125566, 0.7232302180607423, 0.002016297236524543, 0.9980671320796487, 0.9956217457824728, 0.004209817106902633, 0.9991454962323169, 0.999317877888888, 0.0008614809292145587, 0.9991394256096395, 0.9998291854938128, 0.0014775580515989921, 0.9988292428809187, 0.9983979744321484, 0.0018731669313923984, 0.6190842499471652, 0.38097492304440933, 0.7793359001602503, 0.22103414283273604, 0.9805378670484409, 0.0194165914267018, 0.5855037253394835, 0.4144286241494328, 0.9981187458349623, 0.0021854650453826683, 0.9987575257398795, 0.8138460127909813, 0.18593087759585084, 0.07367552718854094, 0.9262828961747719, 0.6408789118194811, 0.35934770179019276, 0.0023112577580915714, 0.998463351495559, 0.7262839512101494, 0.27375772003372, 0.032584958353838754, 0.9682387625140657, 0.0021845504700568094, 0.9983395648159619, 0.0015525070275061754, 0.999814525713977, 0.0015059607756058553, 0.9999579550022879, 0.0016286377047153115, 0.998354912990486, 0.6184390501330643, 0.38170452731750754, 0.9984482094717649, 0.9998802023655822, 0.0017474067824087584, 0.9995166795378098, 0.37733323067924174, 0.6227401777309909, 0.8031826032530954, 0.19682330545576812, 0.0014103250330876743, 0.9999204484591612, 0.9984601752506862, 0.9297495832063948, 0.07028131784039862, 0.929058220749935, 0.07066076608520633, 0.28305781071841296, 0.7171072152357468, 0.7621948328590955, 0.23794407218697652, 0.9996682566018121, 0.0016578246378139505, 0.9986028200048753, 0.9973642656958277, 0.0031595488881599612, 0.39141027662025357, 0.6087704819409114, 0.0645368776955433, 0.9355180452725863, 0.7498478330918484, 0.24994927769728278, 0.9994662775943576, 0.001425772150633891, 0.9997484349271146, 0.8179039407931862, 0.1822676458279926, 0.9873648126520626, 0.012723773358918332, 0.9984254309211688, 0.001821944217009432, 0.9596258793208168, 0.04019579730379997, 0.0013340308420542308, 0.9991891006986189, 0.0011456309476123158, 0.9989901863179393, 0.9980863542935053, 0.1309853066979813, 0.868975693215876, 0.0009793172266136972, 0.9998828883725849, 0.6534565765461726, 0.34668116083938166, 0.0005628221594399403, 0.999572155165334, 0.7221287977420123, 0.2779401143004652, 0.03879300720581534, 0.9608729477132724, 0.9980488603686435, 0.1687362349060649, 0.8314211804071304, 0.07253598389458453, 0.9272843346523914, 0.7726597960948883, 0.22774159707793673, 0.9768685618116367, 0.02351720611768755, 0.10311288951729823, 0.896769675498927, 0.8432135132091153, 0.1566961550505052, 0.661766587147765, 0.33830905725804883, 0.997620403352053, 0.001720035178193195, 0.9994824744607296, 0.0015099776894428058, 0.9996052304111375, 0.39070594905237965, 0.6090314661179004, 0.0013161298345228027, 0.9989425444028072, 0.1837642946287929, 0.8162119685289025, 0.06749390106451111, 0.9327014328057678, 0.9887648838332089, 0.011447350319342506, 0.7215757773890424, 0.27835876964047046, 0.0015529769098134973, 0.9985641530100788, 0.04143612176061606, 0.9589502464599718, 0.005525239172928239, 0.994543051127083, 0.9999441191600518, 0.37722428323839036, 0.6226868745077673, 0.8472684911902273, 0.15324288106729073, 0.6824050606155845, 0.3176554003406781, 0.8221614268793742, 0.17775139842597548, 0.8631001401858225, 0.13700787325585834], \"Term\": [\"agree\", \"agree\", \"also\", \"also\", \"anyone\", \"anyone\", \"apple\", \"apple\", \"applications\", \"applications\", \"armenian\", \"armenians\", \"available\", \"available\", \"back\", \"back\", \"believe\", \"believe\", \"bible\", \"bible\", \"card\", \"card\", \"children\", \"children\", \"chip\", \"chip\", \"christ\", \"christian\", \"christian\", \"christians\", \"church\", \"church\", \"code\", \"code\", \"color\", \"color\", \"comp\", \"comp\", \"computer\", \"computer\", \"controller\", \"controller\", \"could\", \"could\", \"crime\", \"crime\", \"data\", \"data\", \"death\", \"death\", \"directory\", \"directory\", \"disk\", \"disk\", \"display\", \"display\", \"drive\", \"drive\", \"email\", \"email\", \"encryption\", \"encryption\", \"even\", \"even\", \"evidence\", \"evidence\", \"fact\", \"fact\", \"faith\", \"file\", \"file\", \"files\", \"files\", \"fire\", \"fire\", \"first\", \"first\", \"format\", \"format\", \"game\", \"game\", \"going\", \"going\", \"good\", \"good\", \"government\", \"government\", \"graphics\", \"graphics\", \"guns\", \"guns\", \"hardware\", \"hardware\", \"health\", \"health\", \"hell\", \"hell\", \"help\", \"help\", \"history\", \"history\", \"hockey\", \"human\", \"human\", \"image\", \"image\", \"images\", \"images\", \"info\", \"info\", \"information\", \"information\", \"interface\", \"interface\", \"israel\", \"israel\", \"israeli\", \"jesus\", \"jesus\", \"jewish\", \"jews\", \"jpeg\", \"jpeg\", \"killed\", \"killed\", \"know\", \"know\", \"last\", \"last\", \"life\", \"life\", \"like\", \"like\", \"lord\", \"machines\", \"machines\", \"made\", \"made\", \"mail\", \"mail\", \"make\", \"make\", \"manual\", \"manual\", \"many\", \"many\", \"memory\", \"memory\", \"microsoft\", \"microsoft\", \"monitor\", \"monitor\", \"motif\", \"motif\", \"mouse\", \"mouse\", \"much\", \"much\", \"muslim\", \"muslims\", \"nasa\", \"nasa\", \"need\", \"need\", \"never\", \"never\", \"output\", \"output\", \"peace\", \"people\", \"people\", \"person\", \"person\", \"please\", \"please\", \"point\", \"point\", \"police\", \"police\", \"population\", \"president\", \"president\", \"problem\", \"problem\", \"program\", \"program\", \"really\", \"really\", \"religion\", \"religion\", \"religious\", \"right\", \"right\", \"rights\", \"rights\", \"russian\", \"russian\", \"said\", \"said\", \"screen\", \"screen\", \"scsi\", \"scsi\", \"season\", \"send\", \"send\", \"server\", \"server\", \"since\", \"since\", \"software\", \"software\", \"something\", \"something\", \"space\", \"space\", \"stephanopoulos\", \"system\", \"system\", \"systems\", \"systems\", \"take\", \"take\", \"team\", \"team\", \"thanks\", \"thanks\", \"think\", \"think\", \"time\", \"time\", \"truth\", \"truth\", \"turkish\", \"unix\", \"unix\", \"used\", \"used\", \"user\", \"user\", \"using\", \"using\", \"version\", \"version\", \"water\", \"water\", \"well\", \"well\", \"widget\", \"widget\", \"window\", \"window\", \"windows\", \"windows\", \"women\", \"work\", \"work\", \"world\", \"world\", \"would\", \"would\", \"year\", \"year\", \"years\", \"years\"]}, \"R\": 30, \"lambda.step\": 0.01, \"plot.opts\": {\"xlab\": \"PC1\", \"ylab\": \"PC2\"}, \"topic.order\": [2, 1]};\n",
       "\n",
       "function LDAvis_load_lib(url, callback){\n",
       "  var s = document.createElement('script');\n",
       "  s.src = url;\n",
       "  s.async = true;\n",
       "  s.onreadystatechange = s.onload = callback;\n",
       "  s.onerror = function(){console.warn(\"failed to load library \" + url);};\n",
       "  document.getElementsByTagName(\"head\")[0].appendChild(s);\n",
       "}\n",
       "\n",
       "if(typeof(LDAvis) !== \"undefined\"){\n",
       "   // already loaded: just create the visualization\n",
       "   !function(LDAvis){\n",
       "       new LDAvis(\"#\" + \"ldavis_el1728420393999448161011670953\", ldavis_el1728420393999448161011670953_data);\n",
       "   }(LDAvis);\n",
       "}else if(typeof define === \"function\" && define.amd){\n",
       "   // require.js is available: use it to load d3/LDAvis\n",
       "   require.config({paths: {d3: \"https://cdnjs.cloudflare.com/ajax/libs/d3/3.5.5/d3.min\"}});\n",
       "   require([\"d3\"], function(d3){\n",
       "      window.d3 = d3;\n",
       "      LDAvis_load_lib(\"https://cdn.rawgit.com/bmabey/pyLDAvis/files/ldavis.v1.0.0.js\", function(){\n",
       "        new LDAvis(\"#\" + \"ldavis_el1728420393999448161011670953\", ldavis_el1728420393999448161011670953_data);\n",
       "      });\n",
       "    });\n",
       "}else{\n",
       "    // require.js not available: dynamically load d3 & LDAvis\n",
       "    LDAvis_load_lib(\"https://cdnjs.cloudflare.com/ajax/libs/d3/3.5.5/d3.min.js\", function(){\n",
       "         LDAvis_load_lib(\"https://cdn.rawgit.com/bmabey/pyLDAvis/files/ldavis.v1.0.0.js\", function(){\n",
       "                 new LDAvis(\"#\" + \"ldavis_el1728420393999448161011670953\", ldavis_el1728420393999448161011670953_data);\n",
       "            })\n",
       "         });\n",
       "}\n",
       "</script>"
      ],
      "text/plain": [
       "<IPython.core.display.HTML object>"
      ]
     },
     "metadata": {},
     "execution_count": 42
    }
   ],
   "metadata": {}
  }
 ],
 "metadata": {
  "orig_nbformat": 4,
  "language_info": {
   "name": "python",
   "version": "3.8.10",
   "mimetype": "text/x-python",
   "codemirror_mode": {
    "name": "ipython",
    "version": 3
   },
   "pygments_lexer": "ipython3",
   "nbconvert_exporter": "python",
   "file_extension": ".py"
  },
  "kernelspec": {
   "name": "python3",
   "display_name": "Python 3.8.10 64-bit ('base': conda)"
  },
  "interpreter": {
   "hash": "fe3bab233825460445dbfeea6dcd52ef5815a3fa13c858fea07ac830aa383284"
  }
 },
 "nbformat": 4,
 "nbformat_minor": 2
}