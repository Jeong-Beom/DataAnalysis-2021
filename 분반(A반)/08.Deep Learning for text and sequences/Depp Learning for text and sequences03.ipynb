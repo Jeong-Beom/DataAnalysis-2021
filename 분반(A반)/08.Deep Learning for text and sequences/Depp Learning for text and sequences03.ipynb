{
 "cells": [
  {
   "cell_type": "code",
   "execution_count": 1,
   "metadata": {},
   "outputs": [],
   "source": [
    "from tensorflow.keras.models import Sequential\n",
    "from tensorflow.keras import layers\n",
    "from tensorflow.keras.optimizers import RMSprop\n",
    "from tensorflow.keras.datasets import imdb\n",
    "from tensorflow.keras.preprocessing import sequence"
   ]
  },
  {
   "cell_type": "code",
   "execution_count": 2,
   "metadata": {},
   "outputs": [
    {
     "name": "stderr",
     "output_type": "stream",
     "text": [
      "<__array_function__ internals>:5: VisibleDeprecationWarning: Creating an ndarray from ragged nested sequences (which is a list-or-tuple of lists-or-tuples-or ndarrays with different lengths or shapes) is deprecated. If you meant to do this, you must specify 'dtype=object' when creating the ndarray\n",
      "C:\\Users\\Bestc\\AppData\\Roaming\\Python\\Python38\\site-packages\\tensorflow\\python\\keras\\datasets\\imdb.py:155: VisibleDeprecationWarning: Creating an ndarray from ragged nested sequences (which is a list-or-tuple of lists-or-tuples-or ndarrays with different lengths or shapes) is deprecated. If you meant to do this, you must specify 'dtype=object' when creating the ndarray\n",
      "  x_train, y_train = np.array(xs[:idx]), np.array(labels[:idx])\n",
      "C:\\Users\\Bestc\\AppData\\Roaming\\Python\\Python38\\site-packages\\tensorflow\\python\\keras\\datasets\\imdb.py:156: VisibleDeprecationWarning: Creating an ndarray from ragged nested sequences (which is a list-or-tuple of lists-or-tuples-or ndarrays with different lengths or shapes) is deprecated. If you meant to do this, you must specify 'dtype=object' when creating the ndarray\n",
      "  x_test, y_test = np.array(xs[idx:]), np.array(labels[idx:])\n"
     ]
    },
    {
     "name": "stdout",
     "output_type": "stream",
     "text": [
      "25000 train sequences\n",
      "25000 test sequences\n",
      "Pad sequences (samples x time)\n",
      "x_train shape: (25000, 500)\n",
      "x_test shape: (25000, 500)\n"
     ]
    }
   ],
   "source": [
    "max_features = 10000\n",
    "max_len = 500\n",
    "(x_train, y_train), (x_test, y_test) = imdb.load_data(num_words = max_features)\n",
    "print(len(x_train), 'train sequences')\n",
    "print(len(x_test), 'test sequences')\n",
    "\n",
    "print('Pad sequences (samples x time)')\n",
    "x_train = sequence.pad_sequences(x_train, maxlen = max_len)\n",
    "x_test = sequence.pad_sequences(x_test, maxlen = max_len)\n",
    "print('x_train shape:', x_train.shape)\n",
    "print('x_test shape:', x_test.shape)"
   ]
  },
  {
   "cell_type": "code",
   "execution_count": 5,
   "metadata": {},
   "outputs": [
    {
     "name": "stdout",
     "output_type": "stream",
     "text": [
      "Model: \"sequential_1\"\n",
      "_________________________________________________________________\n",
      "Layer (type)                 Output Shape              Param #   \n",
      "=================================================================\n",
      "embedding_1 (Embedding)      (None, 500, 128)          1280000   \n",
      "_________________________________________________________________\n",
      "conv1d_2 (Conv1D)            (None, 494, 32)           28704     \n",
      "_________________________________________________________________\n",
      "max_pooling1d_1 (MaxPooling1 (None, 98, 32)            0         \n",
      "_________________________________________________________________\n",
      "conv1d_3 (Conv1D)            (None, 92, 32)            7200      \n",
      "_________________________________________________________________\n",
      "global_max_pooling1d_1 (Glob (None, 32)                0         \n",
      "_________________________________________________________________\n",
      "dense (Dense)                (None, 1)                 33        \n",
      "=================================================================\n",
      "Total params: 1,315,937\n",
      "Trainable params: 1,315,937\n",
      "Non-trainable params: 0\n",
      "_________________________________________________________________\n",
      "Epoch 1/10\n",
      "157/157 [==============================] - 40s 251ms/step - loss: 0.7910 - acc: 0.5096 - val_loss: 0.6879 - val_acc: 0.5502\n",
      "Epoch 2/10\n",
      "157/157 [==============================] - 38s 242ms/step - loss: 0.6719 - acc: 0.6430 - val_loss: 0.6689 - val_acc: 0.6352\n",
      "Epoch 3/10\n",
      "157/157 [==============================] - 34s 215ms/step - loss: 0.6315 - acc: 0.7358 - val_loss: 0.6228 - val_acc: 0.7166\n",
      "Epoch 4/10\n",
      "157/157 [==============================] - 33s 210ms/step - loss: 0.5501 - acc: 0.8029 - val_loss: 0.5198 - val_acc: 0.7958\n",
      "Epoch 5/10\n",
      "157/157 [==============================] - 33s 212ms/step - loss: 0.4268 - acc: 0.8413 - val_loss: 0.4305 - val_acc: 0.8362\n",
      "Epoch 6/10\n",
      "157/157 [==============================] - 33s 213ms/step - loss: 0.3449 - acc: 0.8735 - val_loss: 0.4032 - val_acc: 0.8514\n",
      "Epoch 7/10\n",
      "157/157 [==============================] - 35s 221ms/step - loss: 0.2999 - acc: 0.8931 - val_loss: 0.3944 - val_acc: 0.8606\n",
      "Epoch 8/10\n",
      "157/157 [==============================] - 33s 207ms/step - loss: 0.2668 - acc: 0.9069 - val_loss: 0.3995 - val_acc: 0.8648\n",
      "Epoch 9/10\n",
      "157/157 [==============================] - 33s 207ms/step - loss: 0.2424 - acc: 0.9174 - val_loss: 0.4156 - val_acc: 0.8682\n",
      "Epoch 10/10\n",
      "157/157 [==============================] - 32s 206ms/step - loss: 0.2200 - acc: 0.9281 - val_loss: 0.4346 - val_acc: 0.8732\n"
     ]
    }
   ],
   "source": [
    "model = Sequential()\n",
    "model.add(layers.Embedding(max_features, 128, input_length = max_len))\n",
    "model.add(layers.Conv1D(32, 7, activation = 'relu'))\n",
    "model.add(layers.MaxPooling1D(5))\n",
    "model.add(layers.Conv1D(32, 7, activation = 'relu'))\n",
    "model.add(layers.GlobalMaxPooling1D())\n",
    "model.add(layers.Dense(1))\n",
    "\n",
    "model.summary()\n",
    "\n",
    "model.compile(optimizer = RMSprop(learning_rate = 1e-4), loss = 'binary_crossentropy',\n",
    "              metrics = ['acc'])\n",
    "history = model.fit(x_train, y_train, epochs = 10, batch_size = 128, validation_split = 0.2)"
   ]
  },
  {
   "cell_type": "code",
   "execution_count": 6,
   "metadata": {},
   "outputs": [],
   "source": [
    "model.save('C:/Workspace/python/Data_Science/dataA/분반(A반)/Deep Learning for text and sequences/1D_ConV_model1.h5')"
   ]
  },
  {
   "cell_type": "code",
   "execution_count": 7,
   "metadata": {},
   "outputs": [
    {
     "data": {
      "image/png": "[encoded data removed]",
      "text/plain": [
       "<Figure size 432x288 with 1 Axes>"
      ]
     },
     "metadata": {
      "needs_background": "light"
     },
     "output_type": "display_data"
    }
   ],
   "source": [
    "import matplotlib.pyplot as plt\n",
    "\n",
    "loss = history.history['loss']\n",
    "val_loss = history.history['val_loss']\n",
    "epochs = range(1, len(loss) + 1)\n",
    "plt.plot(epochs, loss, 'bo', label = 'Training loss')\n",
    "plt.plot(epochs, val_loss, 'r', label = 'Validation loss')\n",
    "plt.title('Training and validation loss')\n",
    "plt.legend()\n",
    "plt.show()"
   ]
  },
  {
   "cell_type": "code",
   "execution_count": 5,
   "metadata": {},
   "outputs": [],
   "source": [
    "import numpy as np\n",
    "\n",
    "float_data = np.zeros((len(lines), len(header) - 1))\n",
    "\n",
    "for i, line in enumerate(lines):\n",
    "    values = [float(x) for x in line.split(',')[1:]]\n",
    "    float_data[i, :] = values"
   ]
  },
  {
   "cell_type": "code",
   "execution_count": 6,
   "metadata": {},
   "outputs": [
    {
     "name": "stdout",
     "output_type": "stream",
     "text": [
      "['\"Date Time\"', '\"p (mbar)\"', '\"T (degC)\"', '\"Tpot (K)\"', '\"Tdew (degC)\"', '\"rh (%)\"', '\"VPmax (mbar)\"', '\"VPact (mbar)\"', '\"VPdef (mbar)\"', '\"sh (g/kg)\"', '\"H2OC (mmol/mol)\"', '\"rho (g/m**3)\"', '\"wv (m/s)\"', '\"max. wv (m/s)\"', '\"wd (deg)\"']\n",
      "420451\n"
     ]
    }
   ],
   "source": [
    "import os\n",
    "data_dir = 'C:/Workspace/python/Data_Science/dataA/분반(A반)'\n",
    "fname = os.path.join(data_dir, 'jena_climate_2009_2016.csv')\n",
    "\n",
    "f= open(fname)\n",
    "data = f.read()\n",
    "f.close()\n",
    "\n",
    "lines = data.split('\\n')\n",
    "header = lines[0].split(',')\n",
    "lines = lines[1:]\n",
    "\n",
    "print(header)\n",
    "print(len(lines))"
   ]
  },
  {
   "cell_type": "code",
   "execution_count": 7,
   "metadata": {},
   "outputs": [],
   "source": [
    "mean = float_data[:200000].mean(axis = 0)\n",
    "float_data -= mean\n",
    "std = float_data[:200000].std(axis = 0)\n",
    "float_data /= std"
   ]
  },
  {
   "cell_type": "code",
   "execution_count": 8,
   "metadata": {},
   "outputs": [],
   "source": [
    "def generator(data, lookback, delay, min_index, max_index, shuffle = False, \n",
    "              batch_size = 128, step = 6):\n",
    "    if max_index is None:\n",
    "        max_index = len(data) - delay - 1\n",
    "    i = min_index + lookback\n",
    "    while 1:\n",
    "        if shuffle:\n",
    "            rows = np.random.randint(min_index + lookback, max_index, size = batch_size)\n",
    "        else:\n",
    "            if i + batch_size >= max_index:\n",
    "                i = min_index + lookback\n",
    "            rows = np.arange(i, min(i + batch_size, max_index))\n",
    "            i += len(rows)\n",
    "        samples = np.zeros((len(rows), lookback // step, data.shape[-1]))\n",
    "        targets = np.zeros((len(rows),))\n",
    "        for k, row in enumerate(rows):\n",
    "            indices = range(rows[k] - lookback, rows[k], step)\n",
    "            samples[k] = data[indices]\n",
    "            targets[k] = data[rows[k] + delay][1]\n",
    "        yield samples, targets"
   ]
  },
  {
   "cell_type": "code",
   "execution_count": 9,
   "metadata": {},
   "outputs": [],
   "source": [
    "step = 3\n",
    "lookback = 1440\n",
    "step = 6\n",
    "delay = 144\n",
    "\n",
    "train_gen = generator(float_data, lookback = lookback, \n",
    "                      delay = delay, min_index = 0, \n",
    "                      max_index = 200000, shuffle = True, \n",
    "                      step = step)\n",
    "\n",
    "val_gen = generator(float_data, lookback = lookback, \n",
    "                      delay = delay, min_index = 200001, \n",
    "                      max_index = 300000, shuffle = True, \n",
    "                      step = step)\n",
    "\n",
    "test_gen = generator(float_data, lookback = lookback, \n",
    "                      delay = delay, min_index = 300001, \n",
    "                      max_index = None, shuffle = True, \n",
    "                      step = step)\n",
    "\n",
    "val_steps = (30000 - 20001 - lookback) // 128\n",
    "test_steps = (len(float_data) - 300001 - lookback) // 128"
   ]
  },
  {
   "cell_type": "code",
   "execution_count": 10,
   "metadata": {},
   "outputs": [
    {
     "name": "stdout",
     "output_type": "stream",
     "text": [
      "Model: \"sequential\"\n",
      "_________________________________________________________________\n",
      "Layer (type)                 Output Shape              Param #   \n",
      "=================================================================\n",
      "conv1d (Conv1D)              (None, None, 32)          2272      \n",
      "_________________________________________________________________\n",
      "max_pooling1d (MaxPooling1D) (None, None, 32)          0         \n",
      "_________________________________________________________________\n",
      "conv1d_1 (Conv1D)            (None, None, 32)          5152      \n",
      "_________________________________________________________________\n",
      "gru (GRU)                    (None, 32)                6336      \n",
      "_________________________________________________________________\n",
      "dense (Dense)                (None, 1)                 33        \n",
      "=================================================================\n",
      "Total params: 13,793\n",
      "Trainable params: 13,793\n",
      "Non-trainable params: 0\n",
      "_________________________________________________________________\n"
     ]
    }
   ],
   "source": [
    "from tensorflow.keras.models import Sequential\n",
    "from tensorflow.keras import layers\n",
    "from tensorflow.keras.optimizers import RMSprop\n",
    "\n",
    "model = Sequential()\n",
    "model.add(layers.Conv1D(32, 5, activation = 'relu', input_shape = (None, float_data.shape[-1])))\n",
    "model.add(layers.MaxPooling1D(3))\n",
    "model.add(layers.Conv1D(32, 5, activation = 'relu'))\n",
    "model.add(layers.GRU(32, dropout = 0.1, recurrent_dropout = 0.5))\n",
    "model.add(layers.Dense(1))\n",
    "model.summary()"
   ]
  },
  {
   "cell_type": "code",
   "execution_count": 11,
   "metadata": {},
   "outputs": [
    {
     "name": "stderr",
     "output_type": "stream",
     "text": [
      "C:\\Users\\Bestc\\AppData\\Roaming\\Python\\Python38\\site-packages\\tensorflow\\python\\keras\\engine\\training.py:1940: UserWarning: `Model.fit_generator` is deprecated and will be removed in a future version. Please use `Model.fit`, which supports generators.\n",
      "  warnings.warn('`Model.fit_generator` is deprecated and '\n"
     ]
    },
    {
     "name": "stdout",
     "output_type": "stream",
     "text": [
      "Epoch 1/20\n",
      "500/500 [==============================] - 49s 92ms/step - loss: 0.3415 - val_loss: 0.3096\n",
      "Epoch 2/20\n",
      "500/500 [==============================] - 45s 90ms/step - loss: 0.3073 - val_loss: 0.3009\n",
      "Epoch 3/20\n",
      "500/500 [==============================] - 43s 87ms/step - loss: 0.2921 - val_loss: 0.2954\n",
      "Epoch 4/20\n",
      "500/500 [==============================] - 43s 85ms/step - loss: 0.2807 - val_loss: 0.2971\n",
      "Epoch 5/20\n",
      "500/500 [==============================] - 43s 85ms/step - loss: 0.2735 - val_loss: 0.3094\n",
      "Epoch 6/20\n",
      "500/500 [==============================] - 44s 89ms/step - loss: 0.2622 - val_loss: 0.3028\n",
      "Epoch 7/20\n",
      "500/500 [==============================] - 44s 89ms/step - loss: 0.2569 - val_loss: 0.2992\n",
      "Epoch 8/20\n",
      "500/500 [==============================] - 43s 86ms/step - loss: 0.2505 - val_loss: 0.3168\n",
      "Epoch 9/20\n",
      "500/500 [==============================] - 42s 85ms/step - loss: 0.2436 - val_loss: 0.3134\n",
      "Epoch 10/20\n",
      "500/500 [==============================] - 44s 88ms/step - loss: 0.2400 - val_loss: 0.3134\n",
      "Epoch 11/20\n",
      "500/500 [==============================] - 43s 85ms/step - loss: 0.2330 - val_loss: 0.3179\n",
      "Epoch 12/20\n",
      "500/500 [==============================] - 43s 86ms/step - loss: 0.2295 - val_loss: 0.3228\n",
      "Epoch 13/20\n",
      "500/500 [==============================] - 48s 97ms/step - loss: 0.2251 - val_loss: 0.3221\n",
      "Epoch 14/20\n",
      "500/500 [==============================] - 48s 96ms/step - loss: 0.2220 - val_loss: 0.3187\n",
      "Epoch 15/20\n",
      "500/500 [==============================] - 48s 95ms/step - loss: 0.2180 - val_loss: 0.3185\n",
      "Epoch 16/20\n",
      "500/500 [==============================] - 47s 95ms/step - loss: 0.2171 - val_loss: 0.3329\n",
      "Epoch 17/20\n",
      "500/500 [==============================] - 48s 96ms/step - loss: 0.2120 - val_loss: 0.3237\n",
      "Epoch 18/20\n",
      "500/500 [==============================] - 50s 100ms/step - loss: 0.2088 - val_loss: 0.3256\n",
      "Epoch 19/20\n",
      "500/500 [==============================] - 47s 94ms/step - loss: 0.2071 - val_loss: 0.3337\n",
      "Epoch 20/20\n",
      "500/500 [==============================] - 47s 94ms/step - loss: 0.2055 - val_loss: 0.3350\n"
     ]
    }
   ],
   "source": [
    "model.compile(optimizer = RMSprop(), loss = 'mae')\n",
    "history = model.fit_generator(train_gen, steps_per_epoch = 500, epochs = 20, validation_data = val_gen, validation_steps = val_steps)"
   ]
  },
  {
   "cell_type": "code",
   "execution_count": 12,
   "metadata": {},
   "outputs": [],
   "source": [
    "model.save('C:/Workspace/python/Data_Science/dataA/분반(A반)/Deep Learning for text and sequences/RNN_CNN_model1.h5')"
   ]
  },
  {
   "cell_type": "code",
   "execution_count": 13,
   "metadata": {},
   "outputs": [
    {
     "data": {
      "image/png": "[encoded data removed]",
      "text/plain": [
       "<Figure size 432x288 with 1 Axes>"
      ]
     },
     "metadata": {
      "needs_background": "light"
     },
     "output_type": "display_data"
    }
   ],
   "source": [
    "import matplotlib.pyplot as plt\n",
    "\n",
    "loss = history.history['loss']\n",
    "val_loss = history.history['val_loss']\n",
    "epochs = range(1, len(loss) + 1)\n",
    "plt.plot(epochs, loss, 'bo', label = 'Training loss')\n",
    "plt.plot(epochs, val_loss, 'r', label = 'Validation loss')\n",
    "plt.title('Training and validation loss')\n",
    "plt.legend()\n",
    "plt.show()"
   ]
  },
  {
   "cell_type": "code",
   "execution_count": null,
   "metadata": {},
   "outputs": [],
   "source": [
    "# 학습도중 정확도가 정체되는 구간이 있을 시에 자동으로 중지하는 코드 : callback"
   ]
  }
 ],
 "metadata": {
  "interpreter": {
   "hash": "fe3bab233825460445dbfeea6dcd52ef5815a3fa13c858fea07ac830aa383284"
  },
  "kernelspec": {
   "display_name": "Python 3.8.10 64-bit ('base': conda)",
   "name": "python3"
  },
  "language_info": {
   "codemirror_mode": {
    "name": "ipython",
    "version": 3
   },
   "file_extension": ".py",
   "mimetype": "text/x-python",
   "name": "python",
   "nbconvert_exporter": "python",
   "pygments_lexer": "ipython3",
   "version": "3.8.10"
  },
  "orig_nbformat": 4
 },
 "nbformat": 4,
 "nbformat_minor": 2
}
