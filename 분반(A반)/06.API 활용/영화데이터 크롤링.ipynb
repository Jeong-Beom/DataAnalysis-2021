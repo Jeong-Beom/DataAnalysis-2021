{
 "cells": [
  {
   "cell_type": "code",
   "execution_count": 1,
   "source": [
    "import requests\r\n",
    "import pandas as pd\r\n",
    "import time\r\n",
    "from selenium import webdriver\r\n",
    "from selenium.webdriver.common.keys import Keys\r\n",
    "from bs4 import BeautifulSoup\r\n",
    "from urllib.parse import quote"
   ],
   "outputs": [],
   "metadata": {}
  },
  {
   "cell_type": "code",
   "execution_count": 7,
   "source": [
    "driver = webdriver.Chrome('C:\\\\Users\\\\Bestc\\\\Desktop\\\\빅데이터 지능형 서비스 개발과정(멀티캠퍼스)\\\\설치프로그램\\\\Selenium\\\\chromedriver.exe')\r\n",
    "url = 'https://movie.naver.com/movie/sdb/rank/rmovie.naver'\r\n",
    "driver.get(url)\r\n",
    "time.sleep(1)\r\n",
    "html = driver.page_source\r\n",
    "soup = BeautifulSoup(html, 'html.parser')\r\n",
    "content = soup.select_one('.list_ranking').text\r\n",
    "driver.close()"
   ],
   "outputs": [],
   "metadata": {}
  },
  {
   "cell_type": "code",
   "execution_count": null,
   "source": [
    "import re\r\n",
    "content_change = re.sub('[^ㄱ-ㅎㅏ-ㅣ가-힣0-9: ]','/', content)\r\n",
    "raw_contents_list = content_change.split('//')\r\n",
    "contents_list = []\r\n",
    "for v in raw_contents_list:\r\n",
    "    if v not in contents_list and v != '':\r\n",
    "        contents_list.append(v)\r\n",
    "contents_list = [str(contents).replace('/', '') for contents in contents_list][2:]\r\n",
    "for contents in contents_list:\r\n",
    "    try:\r\n",
    "        int(contents)\r\n",
    "        del contents_list[contents_list.index(contents)]\r\n",
    "    except:\r\n",
    "        pass\r\n",
    "contents_list"
   ],
   "outputs": [],
   "metadata": {}
  },
  {
   "cell_type": "code",
   "execution_count": null,
   "source": [
    "movie_list = []\r\n",
    "for i in range(50):\r\n",
    "    movie_list.append([i+1, contents_list[i]])\r\n",
    "movie_list"
   ],
   "outputs": [],
   "metadata": {}
  },
  {
   "cell_type": "code",
   "execution_count": 82,
   "source": [
    "def get_movies(top: int = 10):\r\n",
    "    driver = webdriver.Chrome('C:\\\\Users\\\\Bestc\\\\Desktop\\\\빅데이터 지능형 서비스 개발과정(멀티캠퍼스)\\\\설치프로그램\\\\Selenium\\\\chromedriver.exe')\r\n",
    "    url = 'https://movie.naver.com/movie/sdb/rank/rmovie.naver'\r\n",
    "    driver.get(url)\r\n",
    "    time.sleep(1)\r\n",
    "    html = driver.page_source\r\n",
    "    soup = BeautifulSoup(html, 'html.parser')\r\n",
    "    content = soup.select_one('.list_ranking').text\r\n",
    "    driver.close()\r\n",
    "    import re\r\n",
    "    content_change = re.sub('[^ㄱ-ㅎㅏ-ㅣ가-힣0-9: ]','/', content)\r\n",
    "    raw_contents_list = content_change.split('//')\r\n",
    "    contents_list = []\r\n",
    "    for v in raw_contents_list:\r\n",
    "        if v not in contents_list and v != '':\r\n",
    "            contents_list.append(v)\r\n",
    "    contents_list = [str(contents).replace('/', '') for contents in contents_list][2:]\r\n",
    "    for contents in contents_list:\r\n",
    "        try:\r\n",
    "            int(contents)\r\n",
    "            del contents_list[contents_list.index(contents)]\r\n",
    "        except:\r\n",
    "            pass\r\n",
    "    movie_list = []\r\n",
    "    for i in range(50):\r\n",
    "        movie_list.append([i+1, contents_list[i]])\r\n",
    "    result = ''\r\n",
    "    for i in range(top):\r\n",
    "        result += (f'{movie_list[i][0]}위 : {movie_list[i][1]}' + '\\n')\r\n",
    "    return result"
   ],
   "outputs": [],
   "metadata": {}
  },
  {
   "cell_type": "code",
   "execution_count": 83,
   "source": [
    "get_movies()"
   ],
   "outputs": [
    {
     "output_type": "execute_result",
     "data": {
      "text/plain": [
       "'1위 : 보이스\\n2위 : 기적\\n3위 : 샹치와 텐 링즈의 전설\\n4위 : 말리그넌트\\n5위 : 극장판 포켓몬스터: 정글의 아이 코코\\n6위 : 싱크홀\\n7위 : 모가디슈\\n8위 : 캔디맨\\n9위 : 올드\\n10위 : 랑종\\n'"
      ]
     },
     "metadata": {},
     "execution_count": 83
    }
   ],
   "metadata": {}
  }
 ],
 "metadata": {
  "orig_nbformat": 4,
  "language_info": {
   "name": "python",
   "version": "3.8.10",
   "mimetype": "text/x-python",
   "codemirror_mode": {
    "name": "ipython",
    "version": 3
   },
   "pygments_lexer": "ipython3",
   "nbconvert_exporter": "python",
   "file_extension": ".py"
  },
  "kernelspec": {
   "name": "python3",
   "display_name": "Python 3.8.10 64-bit ('base': conda)"
  },
  "interpreter": {
   "hash": "fe3bab233825460445dbfeea6dcd52ef5815a3fa13c858fea07ac830aa383284"
  }
 },
 "nbformat": 4,
 "nbformat_minor": 2
}