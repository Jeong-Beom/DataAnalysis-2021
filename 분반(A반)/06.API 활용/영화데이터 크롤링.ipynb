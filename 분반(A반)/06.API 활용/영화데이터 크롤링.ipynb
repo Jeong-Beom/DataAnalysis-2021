{
 "cells": [
  {
   "cell_type": "code",
   "execution_count": 1,
   "source": [
    "import requests\r\n",
    "import pandas as pd\r\n",
    "import time\r\n",
    "from selenium import webdriver\r\n",
    "from selenium.webdriver.common.keys import Keys\r\n",
    "from bs4 import BeautifulSoup\r\n",
    "from urllib.parse import quote"
   ],
   "outputs": [],
   "metadata": {}
  },
  {
   "cell_type": "code",
   "execution_count": 2,
   "source": [
    "driver = webdriver.Chrome('C:\\\\Users\\\\Bestc\\\\Desktop\\\\빅데이터 지능형 서비스 개발과정(멀티캠퍼스)\\\\설치프로그램\\\\Selenium\\\\chromedriver.exe')\r\n",
    "url = 'https://movie.naver.com/movie/sdb/rank/rmovie.naver'\r\n",
    "driver.get(url)\r\n",
    "time.sleep(1)\r\n",
    "html = driver.page_source\r\n",
    "soup = BeautifulSoup(html, 'html.parser')\r\n",
    "content = soup.select_one('.list_ranking').text\r\n",
    "driver.close()"
   ],
   "outputs": [],
   "metadata": {}
  },
  {
   "cell_type": "code",
   "execution_count": 3,
   "source": [
    "import re\r\n",
    "content_change = re.sub('[^ㄱ-ㅎㅏ-ㅣ가-힣0-9: ]','/', content)\r\n",
    "raw_contents_list = content_change.split('//')\r\n",
    "contents_list = []\r\n",
    "for v in raw_contents_list:\r\n",
    "    if v not in contents_list and v != '':\r\n",
    "        contents_list.append(v)\r\n",
    "contents_list = [str(contents).replace('/', '') for contents in contents_list][2:]\r\n",
    "for contents in contents_list:\r\n",
    "    try:\r\n",
    "        int(contents)\r\n",
    "        del contents_list[contents_list.index(contents)]\r\n",
    "    except:\r\n",
    "        pass\r\n",
    "contents_list"
   ],
   "outputs": [
    {
     "output_type": "execute_result",
     "data": {
      "text/plain": [
       "['보이스',\n",
       " '기적',\n",
       " '샹치와 텐 링즈의 전설',\n",
       " '말리그넌트',\n",
       " '싱크홀',\n",
       " '모가디슈',\n",
       " '캔디맨',\n",
       " '극장판 포켓몬스터: 정글의 아이 코코',\n",
       " '올드',\n",
       " '랑종',\n",
       " '극장판 짱구는 못말려: 격돌 낙서왕국과 얼추 네 명의 용사들',\n",
       " '인피니트',\n",
       " '인질',\n",
       " '아임 유어 맨',\n",
       " '007 노 타임 투 다이',\n",
       " '최선의 삶',\n",
       " '코다',\n",
       " '습도 다소 높음',\n",
       " '해리 포터와 마법사의 돌',\n",
       " '도굴',\n",
       " '맨 인 더 다크 2 ',\n",
       " '베놈 2: 렛 데어 비 카니지',\n",
       " '다만 악에서 구하소서',\n",
       " '미션 파서블',\n",
       " '비와 당신의 이야기',\n",
       " '담보',\n",
       " '수색자',\n",
       " '미나리',\n",
       " '자산어보',\n",
       " '디스트릭트 666: 영혼의 구역',\n",
       " '공작조: 현애지상',\n",
       " '밥정',\n",
       " '귀문',\n",
       " '이스케이프 룸 2: 노 웨이 아웃',\n",
       " '좋은 사람',\n",
       " '반도',\n",
       " '토베 얀손',\n",
       " '아이',\n",
       " '용과 주근깨 공주',\n",
       " '이웃사촌',\n",
       " '귀멸의 칼날: 남매의 연',\n",
       " '듄',\n",
       " '메기',\n",
       " '케이트',\n",
       " '영화의 거리',\n",
       " '말괄량이 삐삐',\n",
       " '블랙 위도우',\n",
       " '검객',\n",
       " '레미니센스',\n",
       " '해어화']"
      ]
     },
     "metadata": {},
     "execution_count": 3
    }
   ],
   "metadata": {}
  },
  {
   "cell_type": "code",
   "execution_count": 4,
   "source": [
    "movie_list = []\r\n",
    "for i in range(50):\r\n",
    "    movie_list.append([i+1, contents_list[i]])\r\n",
    "movie_list"
   ],
   "outputs": [
    {
     "output_type": "execute_result",
     "data": {
      "text/plain": [
       "[[1, '보이스'],\n",
       " [2, '기적'],\n",
       " [3, '샹치와 텐 링즈의 전설'],\n",
       " [4, '말리그넌트'],\n",
       " [5, '싱크홀'],\n",
       " [6, '모가디슈'],\n",
       " [7, '캔디맨'],\n",
       " [8, '극장판 포켓몬스터: 정글의 아이 코코'],\n",
       " [9, '올드'],\n",
       " [10, '랑종'],\n",
       " [11, '극장판 짱구는 못말려: 격돌 낙서왕국과 얼추 네 명의 용사들'],\n",
       " [12, '인피니트'],\n",
       " [13, '인질'],\n",
       " [14, '아임 유어 맨'],\n",
       " [15, '007 노 타임 투 다이'],\n",
       " [16, '최선의 삶'],\n",
       " [17, '코다'],\n",
       " [18, '습도 다소 높음'],\n",
       " [19, '해리 포터와 마법사의 돌'],\n",
       " [20, '도굴'],\n",
       " [21, '맨 인 더 다크 2 '],\n",
       " [22, '베놈 2: 렛 데어 비 카니지'],\n",
       " [23, '다만 악에서 구하소서'],\n",
       " [24, '미션 파서블'],\n",
       " [25, '비와 당신의 이야기'],\n",
       " [26, '담보'],\n",
       " [27, '수색자'],\n",
       " [28, '미나리'],\n",
       " [29, '자산어보'],\n",
       " [30, '디스트릭트 666: 영혼의 구역'],\n",
       " [31, '공작조: 현애지상'],\n",
       " [32, '밥정'],\n",
       " [33, '귀문'],\n",
       " [34, '이스케이프 룸 2: 노 웨이 아웃'],\n",
       " [35, '좋은 사람'],\n",
       " [36, '반도'],\n",
       " [37, '토베 얀손'],\n",
       " [38, '아이'],\n",
       " [39, '용과 주근깨 공주'],\n",
       " [40, '이웃사촌'],\n",
       " [41, '귀멸의 칼날: 남매의 연'],\n",
       " [42, '듄'],\n",
       " [43, '메기'],\n",
       " [44, '케이트'],\n",
       " [45, '영화의 거리'],\n",
       " [46, '말괄량이 삐삐'],\n",
       " [47, '블랙 위도우'],\n",
       " [48, '검객'],\n",
       " [49, '레미니센스'],\n",
       " [50, '해어화']]"
      ]
     },
     "metadata": {},
     "execution_count": 4
    }
   ],
   "metadata": {}
  },
  {
   "cell_type": "code",
   "execution_count": 26,
   "source": [
    "def get_movies(top: int = 10):\r\n",
    "    options = webdriver.ChromeOptions()\r\n",
    "    options.add_argument('--headless') # 화면없이 실행\r\n",
    "    options.add_argument('--no-sandbox')\r\n",
    "    options.add_argument('--single-process')\r\n",
    "    options.add_argument('--disable-dev-shm-usage')\r\n",
    "    driver = webdriver.Chrome('C:\\\\Users\\\\Bestc\\\\Desktop\\\\빅데이터 지능형 서비스 개발과정(멀티캠퍼스)\\\\설치프로그램\\\\Selenium\\\\chromedriver.exe', options = options)\r\n",
    "    url = 'https://movie.naver.com/movie/sdb/rank/rmovie.naver'\r\n",
    "    driver.get(url)\r\n",
    "    time.sleep(1)\r\n",
    "    html = driver.page_source\r\n",
    "    soup = BeautifulSoup(html, 'html.parser')\r\n",
    "    content = soup.select_one('.list_ranking').text\r\n",
    "    driver.close()\r\n",
    "    import re\r\n",
    "    content_change = re.sub('[^ㄱ-ㅎㅏ-ㅣ가-힣0-9: ]','/', content)\r\n",
    "    raw_contents_list = content_change.split('//')\r\n",
    "    contents_list = []\r\n",
    "    for v in raw_contents_list:\r\n",
    "        if v not in contents_list and v != '':\r\n",
    "            contents_list.append(v)\r\n",
    "    contents_list = [str(contents).replace('/', '') for contents in contents_list][2:]\r\n",
    "    for contents in contents_list:\r\n",
    "        try:\r\n",
    "            int(contents)\r\n",
    "            del contents_list[contents_list.index(contents)]\r\n",
    "        except:\r\n",
    "            pass\r\n",
    "    movie_list = []\r\n",
    "    for i in range(50):\r\n",
    "        movie_list.append([i+1, contents_list[i]])\r\n",
    "    result = ''\r\n",
    "    for i in range(top):\r\n",
    "        result += f'{movie_list[i][0]}위 : {movie_list[i][1]}\\n'\r\n",
    "    return result"
   ],
   "outputs": [],
   "metadata": {}
  },
  {
   "cell_type": "code",
   "execution_count": 32,
   "source": [
    "get_movies()"
   ],
   "outputs": [
    {
     "output_type": "execute_result",
     "data": {
      "text/plain": [
       "'1위 : 보이스\\n2위 : 기적\\n3위 : 샹치와 텐 링즈의 전설\\n4위 : 말리그넌트\\n5위 : 싱크홀\\n6위 : 모가디슈\\n7위 : 캔디맨\\n8위 : 극장판 포켓몬스터: 정글의 아이 코코\\n9위 : 올드\\n10위 : 랑종\\n'"
      ]
     },
     "metadata": {},
     "execution_count": 32
    }
   ],
   "metadata": {}
  }
 ],
 "metadata": {
  "orig_nbformat": 4,
  "language_info": {
   "name": "python",
   "version": "3.8.10",
   "mimetype": "text/x-python",
   "codemirror_mode": {
    "name": "ipython",
    "version": 3
   },
   "pygments_lexer": "ipython3",
   "nbconvert_exporter": "python",
   "file_extension": ".py"
  },
  "kernelspec": {
   "name": "python3",
   "display_name": "Python 3.8.10 64-bit ('base': conda)"
  },
  "interpreter": {
   "hash": "fe3bab233825460445dbfeea6dcd52ef5815a3fa13c858fea07ac830aa383284"
  }
 },
 "nbformat": 4,
 "nbformat_minor": 2
}