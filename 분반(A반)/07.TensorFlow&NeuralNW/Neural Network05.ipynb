{
 "cells": [
  {
   "cell_type": "code",
   "execution_count": 1,
   "metadata": {},
   "outputs": [
    {
     "name": "stdout",
     "output_type": "stream",
     "text": [
      "Downloading data from https://storage.googleapis.com/tensorflow/keras-applications/vgg16/vgg16_weights_tf_dim_ordering_tf_kernels_notop.h5\n",
      "58892288/58889256 [==============================] - 11s 0us/step\n",
      "Model: \"vgg16\"\n",
      "_________________________________________________________________\n",
      "Layer (type)                 Output Shape              Param #   \n",
      "=================================================================\n",
      "input_1 (InputLayer)         [(None, 150, 150, 3)]     0         \n",
      "_________________________________________________________________\n",
      "block1_conv1 (Conv2D)        (None, 150, 150, 64)      1792      \n",
      "_________________________________________________________________\n",
      "block1_conv2 (Conv2D)        (None, 150, 150, 64)      36928     \n",
      "_________________________________________________________________\n",
      "block1_pool (MaxPooling2D)   (None, 75, 75, 64)        0         \n",
      "_________________________________________________________________\n",
      "block2_conv1 (Conv2D)        (None, 75, 75, 128)       73856     \n",
      "_________________________________________________________________\n",
      "block2_conv2 (Conv2D)        (None, 75, 75, 128)       147584    \n",
      "_________________________________________________________________\n",
      "block2_pool (MaxPooling2D)   (None, 37, 37, 128)       0         \n",
      "_________________________________________________________________\n",
      "block3_conv1 (Conv2D)        (None, 37, 37, 256)       295168    \n",
      "_________________________________________________________________\n",
      "block3_conv2 (Conv2D)        (None, 37, 37, 256)       590080    \n",
      "_________________________________________________________________\n",
      "block3_conv3 (Conv2D)        (None, 37, 37, 256)       590080    \n",
      "_________________________________________________________________\n",
      "block3_pool (MaxPooling2D)   (None, 18, 18, 256)       0         \n",
      "_________________________________________________________________\n",
      "block4_conv1 (Conv2D)        (None, 18, 18, 512)       1180160   \n",
      "_________________________________________________________________\n",
      "block4_conv2 (Conv2D)        (None, 18, 18, 512)       2359808   \n",
      "_________________________________________________________________\n",
      "block4_conv3 (Conv2D)        (None, 18, 18, 512)       2359808   \n",
      "_________________________________________________________________\n",
      "block4_pool (MaxPooling2D)   (None, 9, 9, 512)         0         \n",
      "_________________________________________________________________\n",
      "block5_conv1 (Conv2D)        (None, 9, 9, 512)         2359808   \n",
      "_________________________________________________________________\n",
      "block5_conv2 (Conv2D)        (None, 9, 9, 512)         2359808   \n",
      "_________________________________________________________________\n",
      "block5_conv3 (Conv2D)        (None, 9, 9, 512)         2359808   \n",
      "_________________________________________________________________\n",
      "block5_pool (MaxPooling2D)   (None, 4, 4, 512)         0         \n",
      "=================================================================\n",
      "Total params: 14,714,688\n",
      "Trainable params: 14,714,688\n",
      "Non-trainable params: 0\n",
      "_________________________________________________________________\n"
     ]
    }
   ],
   "source": [
    "from tensorflow.keras.applications.vgg16 import VGG16\n",
    "\n",
    "conv_base = VGG16(\n",
    "    weights = 'imagenet',\n",
    "    include_top = False,\n",
    "    input_shape = (150, 150, 3)\n",
    ")\n",
    "conv_base.summary()"
   ]
  },
  {
   "cell_type": "code",
   "execution_count": 2,
   "metadata": {},
   "outputs": [],
   "source": [
    "# feature extraction withou data augmentation\n",
    "import os\n",
    "import numpy as np\n",
    "from tensorflow.keras.preprocessing.image import ImageDataGenerator\n",
    "\n",
    "base_dir = 'C:\\\\Workspace\\\\python\\\\Data_Science\\\\dataA\\\\분반(A반)\\\\cats_and_dogs_small\\\\cats_and_dogs_small'\n",
    "train_dir = os.path.join(base_dir, 'train')\n",
    "validation_dir = os.path.join(base_dir, 'validation')\n",
    "test_dir = os.path.join(base_dir, 'test')\n",
    "\n",
    "datagen = ImageDataGenerator(rescale = 1. / 255)\n",
    "batch_size = 20"
   ]
  },
  {
   "cell_type": "code",
   "execution_count": 7,
   "metadata": {},
   "outputs": [
    {
     "name": "stdout",
     "output_type": "stream",
     "text": [
      "Found 2000 images belonging to 2 classes.\n",
      "Found 2000 images belonging to 2 classes.\n",
      "Found 1000 images belonging to 2 classes.\n"
     ]
    }
   ],
   "source": [
    "def extract_feature(dir, sample_count):\n",
    "    features = np.zeros(shape = (sample_count, 4, 4, 512))\n",
    "    labels = np.zeros(shape = (sample_count))\n",
    "    generator = datagen.flow_from_directory(\n",
    "        dir,\n",
    "        target_size = (150, 150),\n",
    "        batch_size = batch_size,\n",
    "        class_mode = 'binary'\n",
    "    )\n",
    "    i = 0\n",
    "    for inputs_batch, labels_batch in generator:\n",
    "        features_batch = conv_base.predict(inputs_batch)\n",
    "        features[i * batch_size : (i+1)*batch_size] = features_batch\n",
    "        labels[i*batch_size : (i+1)*batch_size] = labels_batch\n",
    "        i += 1\n",
    "        if i * batch_size >= sample_count:\n",
    "            break\n",
    "    return features, labels\n",
    "\n",
    "train_features, train_labels = extract_feature(train_dir, 2000)\n",
    "validation_features, validation_labels = extract_feature(validation_dir, 1000)\n",
    "test_features, test_labels = extract_feature(test_dir, 1000)"
   ]
  },
  {
   "cell_type": "code",
   "execution_count": 8,
   "metadata": {},
   "outputs": [],
   "source": [
    "train_features = np.reshape(train_features, (2000, 4 * 4 * 512))\n",
    "validation_features = np.reshape(validation_features, (1000, 4 * 4 * 512))\n",
    "test_features = np.reshape(test_features, (1000, 4 * 4 * 512))"
   ]
  },
  {
   "cell_type": "code",
   "execution_count": 10,
   "metadata": {},
   "outputs": [
    {
     "name": "stdout",
     "output_type": "stream",
     "text": [
      "Epoch 1/30\n",
      "100/100 [==============================] - 3s 22ms/step - loss: 0.5956 - acc: 0.6865 - val_loss: 0.3996 - val_acc: 0.8700\n",
      "Epoch 2/30\n",
      "100/100 [==============================] - 2s 18ms/step - loss: 0.4316 - acc: 0.8095 - val_loss: 0.3270 - val_acc: 0.8930\n",
      "Epoch 3/30\n",
      "100/100 [==============================] - 2s 19ms/step - loss: 0.3629 - acc: 0.8390 - val_loss: 0.2861 - val_acc: 0.9060\n",
      "Epoch 4/30\n",
      "100/100 [==============================] - 2s 21ms/step - loss: 0.3198 - acc: 0.8640 - val_loss: 0.3040 - val_acc: 0.8860\n",
      "Epoch 5/30\n",
      "100/100 [==============================] - 2s 21ms/step - loss: 0.2934 - acc: 0.8845 - val_loss: 0.2329 - val_acc: 0.9200\n",
      "Epoch 6/30\n",
      "100/100 [==============================] - 2s 21ms/step - loss: 0.2738 - acc: 0.8830 - val_loss: 0.2559 - val_acc: 0.9080\n",
      "Epoch 7/30\n",
      "100/100 [==============================] - 2s 21ms/step - loss: 0.2518 - acc: 0.8980 - val_loss: 0.2425 - val_acc: 0.9210\n",
      "Epoch 8/30\n",
      "100/100 [==============================] - 2s 21ms/step - loss: 0.2375 - acc: 0.9155 - val_loss: 0.2278 - val_acc: 0.9230\n",
      "Epoch 9/30\n",
      "100/100 [==============================] - 2s 21ms/step - loss: 0.2141 - acc: 0.9190 - val_loss: 0.2100 - val_acc: 0.9290\n",
      "Epoch 10/30\n",
      "100/100 [==============================] - 2s 21ms/step - loss: 0.2112 - acc: 0.9205 - val_loss: 0.2104 - val_acc: 0.9260\n",
      "Epoch 11/30\n",
      "100/100 [==============================] - 2s 21ms/step - loss: 0.2002 - acc: 0.9240 - val_loss: 0.1884 - val_acc: 0.9360\n",
      "Epoch 12/30\n",
      "100/100 [==============================] - 2s 21ms/step - loss: 0.1885 - acc: 0.9340 - val_loss: 0.1803 - val_acc: 0.9420\n",
      "Epoch 13/30\n",
      "100/100 [==============================] - 2s 21ms/step - loss: 0.1759 - acc: 0.9415 - val_loss: 0.1957 - val_acc: 0.9310\n",
      "Epoch 14/30\n",
      "100/100 [==============================] - 2s 23ms/step - loss: 0.1708 - acc: 0.9420 - val_loss: 0.1770 - val_acc: 0.9420\n",
      "Epoch 15/30\n",
      "100/100 [==============================] - 2s 21ms/step - loss: 0.1664 - acc: 0.9375 - val_loss: 0.1754 - val_acc: 0.9420\n",
      "Epoch 16/30\n",
      "100/100 [==============================] - 2s 21ms/step - loss: 0.1587 - acc: 0.9420 - val_loss: 0.1896 - val_acc: 0.9320\n",
      "Epoch 17/30\n",
      "100/100 [==============================] - 2s 22ms/step - loss: 0.1531 - acc: 0.9485 - val_loss: 0.1973 - val_acc: 0.9300\n",
      "Epoch 18/30\n",
      "100/100 [==============================] - 2s 21ms/step - loss: 0.1485 - acc: 0.9435 - val_loss: 0.1716 - val_acc: 0.9410\n",
      "Epoch 19/30\n",
      "100/100 [==============================] - 2s 21ms/step - loss: 0.1419 - acc: 0.9485 - val_loss: 0.1547 - val_acc: 0.9450\n",
      "Epoch 20/30\n",
      "100/100 [==============================] - 2s 21ms/step - loss: 0.1298 - acc: 0.9550 - val_loss: 0.1868 - val_acc: 0.9370\n",
      "Epoch 21/30\n",
      "100/100 [==============================] - 2s 21ms/step - loss: 0.1309 - acc: 0.9560 - val_loss: 0.1714 - val_acc: 0.9390\n",
      "Epoch 22/30\n",
      "100/100 [==============================] - 2s 22ms/step - loss: 0.1270 - acc: 0.9615 - val_loss: 0.1664 - val_acc: 0.9460\n",
      "Epoch 23/30\n",
      "100/100 [==============================] - 2s 21ms/step - loss: 0.1178 - acc: 0.9605 - val_loss: 0.1470 - val_acc: 0.9470\n",
      "Epoch 24/30\n",
      "100/100 [==============================] - 2s 21ms/step - loss: 0.1152 - acc: 0.9615 - val_loss: 0.1697 - val_acc: 0.9420\n",
      "Epoch 25/30\n",
      "100/100 [==============================] - 2s 22ms/step - loss: 0.1108 - acc: 0.9600 - val_loss: 0.1798 - val_acc: 0.9400\n",
      "Epoch 26/30\n",
      "100/100 [==============================] - 2s 21ms/step - loss: 0.1068 - acc: 0.9610 - val_loss: 0.1536 - val_acc: 0.9470\n",
      "Epoch 27/30\n",
      "100/100 [==============================] - 2s 21ms/step - loss: 0.1080 - acc: 0.9675 - val_loss: 0.1541 - val_acc: 0.9460\n",
      "Epoch 28/30\n",
      "100/100 [==============================] - 2s 22ms/step - loss: 0.0968 - acc: 0.9695 - val_loss: 0.1498 - val_acc: 0.9470\n",
      "Epoch 29/30\n",
      "100/100 [==============================] - 2s 21ms/step - loss: 0.1008 - acc: 0.9665 - val_loss: 0.1494 - val_acc: 0.9470\n",
      "Epoch 30/30\n",
      "100/100 [==============================] - 2s 21ms/step - loss: 0.0938 - acc: 0.9715 - val_loss: 0.1484 - val_acc: 0.9480\n"
     ]
    }
   ],
   "source": [
    "from tensorflow.keras.layers import Dense, Dropout\n",
    "from tensorflow.keras import models\n",
    "from tensorflow.keras import optimizers\n",
    "\n",
    "model = models.Sequential()\n",
    "model.add(Dense(256, activation = 'relu', input_dim = 4 * 4 * 512))\n",
    "model.add(Dropout(0.5))\n",
    "model.add(Dense(1, activation = 'sigmoid'))\n",
    "\n",
    "model.compile(optimizer = optimizers.RMSprop(learning_rate = 2e-5),\n",
    "              loss = 'binary_crossentropy', metrics = ['acc']\n",
    ")\n",
    "history = model.fit(\n",
    "    train_features, train_labels, epochs = 30, batch_size = 20, validation_data = (validation_features, validation_labels)\n",
    ")\n",
    "\n",
    "model.save('C:\\\\Workspace\\\\python\\\\Data_Science\\\\dataA\\\\분반(A반)\\\\cats_and_dogs_small\\\\models\\\\cats_and_dogs_small_3.h5')"
   ]
  },
  {
   "cell_type": "code",
   "execution_count": 12,
   "metadata": {},
   "outputs": [
    {
     "data": {
      "image/png": "[encoded data removed]",
      "text/plain": [
       "<Figure size 432x288 with 1 Axes>"
      ]
     },
     "metadata": {
      "needs_background": "light"
     },
     "output_type": "display_data"
    },
    {
     "data": {
      "image/png": "[encoded data removed]",
      "text/plain": [
       "<Figure size 432x288 with 1 Axes>"
      ]
     },
     "metadata": {
      "needs_background": "light"
     },
     "output_type": "display_data"
    }
   ],
   "source": [
    "import matplotlib.pyplot as plt\n",
    "acc = history.history['acc']\n",
    "val_acc = history.history['val_acc']\n",
    "loss = history.history['loss']\n",
    "val_loss = history.history['val_loss']\n",
    "\n",
    "epochs = range(1, len(acc) + 1)\n",
    "\n",
    "plt.plot(epochs, acc, 'blue', label = 'Training acc')\n",
    "plt.plot(epochs, val_acc, 'red', label = 'Validation acc')\n",
    "plt.title('Training and validation accuracy')\n",
    "plt.legend()\n",
    "plt.figure()\n",
    "\n",
    "plt.plot(epochs, loss, 'blue', label = 'Training loss')\n",
    "plt.plot(epochs, val_loss, 'red', label = 'Validation loss')\n",
    "plt.title('Training and validation loss')\n",
    "plt.legend()\n",
    "\n",
    "plt.show()"
   ]
  },
  {
   "cell_type": "code",
   "execution_count": 29,
   "metadata": {},
   "outputs": [
    {
     "name": "stdout",
     "output_type": "stream",
     "text": [
      "Model: \"sequential_5\"\n",
      "_________________________________________________________________\n",
      "Layer (type)                 Output Shape              Param #   \n",
      "=================================================================\n",
      "vgg16 (Functional)           (None, 4, 4, 512)         14714688  \n",
      "_________________________________________________________________\n",
      "flatten_3 (Flatten)          (None, 8192)              0         \n",
      "_________________________________________________________________\n",
      "dense_8 (Dense)              (None, 256)               2097408   \n",
      "_________________________________________________________________\n",
      "dense_9 (Dense)              (None, 1)                 257       \n",
      "=================================================================\n",
      "Total params: 16,812,353\n",
      "Trainable params: 16,812,353\n",
      "Non-trainable params: 0\n",
      "_________________________________________________________________\n"
     ]
    }
   ],
   "source": [
    "# feature extraction with data augmentation\n",
    "from tensorflow.keras import models\n",
    "from tensorflow.keras.layers import Conv2D, MaxPooling2D, Flatten, Dense, Dropout\n",
    "\n",
    "model = models.Sequential()\n",
    "model.add(conv_base)\n",
    "model.add(Flatten())\n",
    "model.add(Dense(256, activation = 'relu'))\n",
    "model.add(Dense(1, activation = 'sigmoid'))\n",
    "conv_base.trainable = True\n",
    "model.summary()"
   ]
  },
  {
   "cell_type": "code",
   "execution_count": 30,
   "metadata": {},
   "outputs": [
    {
     "name": "stdout",
     "output_type": "stream",
     "text": [
      "conv_base를 동결하기 전 훈련되는 가중치 수 : 30\n",
      "conv_base를 동결한 후 훈련되는 가중치 수 : 4\n"
     ]
    }
   ],
   "source": [
    "print(f'conv_base를 동결하기 전 훈련되는 가중치 수 : {len(model.trainable_weights)}')\n",
    "conv_base.trainable = False\n",
    "print(f'conv_base를 동결한 후 훈련되는 가중치 수 : {len(model.trainable_weights)}')"
   ]
  },
  {
   "cell_type": "code",
   "execution_count": 31,
   "metadata": {},
   "outputs": [
    {
     "name": "stdout",
     "output_type": "stream",
     "text": [
      "Found 2000 images belonging to 2 classes.\n",
      "Found 2000 images belonging to 2 classes.\n"
     ]
    }
   ],
   "source": [
    "# 모델을 컴파일하고 훈련하기 전에 conv_base를 동결하는 것이 매우중요(훈련하는동안 가중치 업데이트를 막음)\n",
    "# Keras에서는 trainable 속성을 False로 설정하여 네트워크 동결\n",
    "# 변경사항을 적용하려면 모델을 컴파일 -> 컴파일 후에 trainable 속성을변경하면 반드시 모델을 다시 컴파일 할 것(하지않으면 변경사항이 미적용됨)\n",
    "from tensorflow.keras.preprocessing.image import ImageDataGenerator\n",
    "from tensorflow.keras import optimizers\n",
    "\n",
    "train_datagen = ImageDataGenerator(\n",
    "    rescale = 1. / 255,\n",
    "    rotation_range = 40,\n",
    "    width_shift_range = 0.2,\n",
    "    height_shift_range = 0.2,\n",
    "    shear_range = 0.2,\n",
    "    zoom_range = 0.2,\n",
    "    horizontal_flip = True,\n",
    "    fill_mode = 'nearest'\n",
    ")\n",
    "test_datagen = ImageDataGenerator(rescale = 1. / 255)\n",
    "\n",
    "train_generator = train_datagen.flow_from_directory(\n",
    "    train_dir,\n",
    "    target_size = (150, 150),\n",
    "    batch_size = 32,\n",
    "    class_mode = 'binary'\n",
    ")\n",
    "validation_generator = test_datagen.flow_from_directory(\n",
    "    validation_dir,\n",
    "    target_size = (150, 150),\n",
    "    batch_size = 32, \n",
    "    class_mode = 'binary'\n",
    ")"
   ]
  },
  {
   "cell_type": "code",
   "execution_count": 32,
   "metadata": {},
   "outputs": [],
   "source": [
    "model.compile(loss = 'binary_crossentropy', optimizer = optimizers.RMSprop(learning_rate = 2e-5), metrics = ['acc'])"
   ]
  },
  {
   "cell_type": "code",
   "execution_count": 34,
   "metadata": {},
   "outputs": [
    {
     "name": "stdout",
     "output_type": "stream",
     "text": [
      "Epoch 1/30\n",
      "62/62 - 336s - loss: 0.6094 - acc: 0.6702 - val_loss: 0.5054 - val_acc: 0.8059\n",
      "Epoch 2/30\n",
      "62/62 - 340s - loss: 0.5134 - acc: 0.7749 - val_loss: 0.3903 - val_acc: 0.8669\n",
      "Epoch 3/30\n",
      "62/62 - 333s - loss: 0.4590 - acc: 0.8023 - val_loss: 0.3383 - val_acc: 0.8755\n",
      "Epoch 4/30\n",
      "62/62 - 334s - loss: 0.4274 - acc: 0.8125 - val_loss: 0.2955 - val_acc: 0.8891\n",
      "Epoch 5/30\n",
      "62/62 - 332s - loss: 0.4061 - acc: 0.8201 - val_loss: 0.2882 - val_acc: 0.8947\n",
      "Epoch 6/30\n",
      "62/62 - 336s - loss: 0.3994 - acc: 0.8216 - val_loss: 0.2687 - val_acc: 0.8992\n",
      "Epoch 7/30\n",
      "62/62 - 336s - loss: 0.3730 - acc: 0.8506 - val_loss: 0.2806 - val_acc: 0.8967\n",
      "Epoch 8/30\n",
      "62/62 - 336s - loss: 0.3799 - acc: 0.8298 - val_loss: 0.3156 - val_acc: 0.8795\n",
      "Epoch 9/30\n",
      "62/62 - 333s - loss: 0.3613 - acc: 0.8349 - val_loss: 0.2664 - val_acc: 0.8997\n",
      "Epoch 10/30\n",
      "62/62 - 329s - loss: 0.3357 - acc: 0.8577 - val_loss: 0.2467 - val_acc: 0.9068\n",
      "Epoch 11/30\n",
      "62/62 - 316s - loss: 0.3335 - acc: 0.8633 - val_loss: 0.2823 - val_acc: 0.8916\n",
      "Epoch 12/30\n",
      "62/62 - 321s - loss: 0.3447 - acc: 0.8506 - val_loss: 0.2413 - val_acc: 0.9083\n",
      "Epoch 13/30\n",
      "62/62 - 328s - loss: 0.3290 - acc: 0.8618 - val_loss: 0.2499 - val_acc: 0.9037\n",
      "Epoch 14/30\n",
      "62/62 - 324s - loss: 0.3357 - acc: 0.8552 - val_loss: 0.2425 - val_acc: 0.9073\n",
      "Epoch 15/30\n",
      "62/62 - 321s - loss: 0.3174 - acc: 0.8608 - val_loss: 0.2943 - val_acc: 0.8770\n",
      "Epoch 16/30\n",
      "62/62 - 326s - loss: 0.3293 - acc: 0.8547 - val_loss: 0.2630 - val_acc: 0.8982\n",
      "Epoch 17/30\n",
      "62/62 - 334s - loss: 0.3179 - acc: 0.8633 - val_loss: 0.2407 - val_acc: 0.9088\n",
      "Epoch 18/30\n",
      "62/62 - 347s - loss: 0.3177 - acc: 0.8648 - val_loss: 0.2291 - val_acc: 0.9168\n",
      "Epoch 19/30\n",
      "62/62 - 329s - loss: 0.3161 - acc: 0.8542 - val_loss: 0.2164 - val_acc: 0.9264\n",
      "Epoch 20/30\n",
      "62/62 - 324s - loss: 0.3232 - acc: 0.8638 - val_loss: 0.2417 - val_acc: 0.9068\n",
      "Epoch 21/30\n",
      "62/62 - 324s - loss: 0.3008 - acc: 0.8709 - val_loss: 0.2423 - val_acc: 0.9062\n",
      "Epoch 22/30\n",
      "62/62 - 324s - loss: 0.3127 - acc: 0.8704 - val_loss: 0.2140 - val_acc: 0.9214\n",
      "Epoch 23/30\n",
      "62/62 - 322s - loss: 0.3009 - acc: 0.8638 - val_loss: 0.2590 - val_acc: 0.8931\n",
      "Epoch 24/30\n",
      "62/62 - 323s - loss: 0.2938 - acc: 0.8750 - val_loss: 0.2686 - val_acc: 0.8906\n",
      "Epoch 25/30\n",
      "62/62 - 323s - loss: 0.2964 - acc: 0.8760 - val_loss: 0.2089 - val_acc: 0.9239\n",
      "Epoch 26/30\n",
      "62/62 - 324s - loss: 0.3058 - acc: 0.8633 - val_loss: 0.2239 - val_acc: 0.9128\n",
      "Epoch 27/30\n",
      "62/62 - 322s - loss: 0.2963 - acc: 0.8720 - val_loss: 0.2399 - val_acc: 0.9042\n",
      "Epoch 28/30\n",
      "62/62 - 326s - loss: 0.2919 - acc: 0.8720 - val_loss: 0.2111 - val_acc: 0.9219\n",
      "Epoch 29/30\n",
      "62/62 - 348s - loss: 0.3028 - acc: 0.8699 - val_loss: 0.2450 - val_acc: 0.9037\n",
      "Epoch 30/30\n",
      "62/62 - 344s - loss: 0.2860 - acc: 0.8750 - val_loss: 0.2499 - val_acc: 0.9027\n"
     ]
    }
   ],
   "source": [
    "history = model.fit(\n",
    "    train_generator,\n",
    "    steps_per_epoch = train_generator.n // train_generator.batch_size,\n",
    "    epochs = 30,\n",
    "    validation_data = validation_generator,\n",
    "    validation_steps = validation_generator.n // validation_generator.batch_size,\n",
    "    verbose = 2\n",
    ")\n",
    "\n",
    "model.save('C:\\\\Workspace\\\\python\\\\Data_Science\\\\dataA\\\\분반(A반)\\\\cats_and_dogs_small\\\\models\\\\cats_and_dogs_small_4.h5')"
   ]
  },
  {
   "cell_type": "code",
   "execution_count": 35,
   "metadata": {},
   "outputs": [
    {
     "data": {
      "image/png": "[encoded data removed]",
      "text/plain": [
       "<Figure size 432x288 with 1 Axes>"
      ]
     },
     "metadata": {
      "needs_background": "light"
     },
     "output_type": "display_data"
    },
    {
     "data": {
      "image/png": "[encoded data removed]",
      "text/plain": [
       "<Figure size 432x288 with 1 Axes>"
      ]
     },
     "metadata": {
      "needs_background": "light"
     },
     "output_type": "display_data"
    }
   ],
   "source": [
    "import matplotlib.pyplot as plt\n",
    "acc = history.history['acc']\n",
    "val_acc = history.history['val_acc']\n",
    "loss = history.history['loss']\n",
    "val_loss = history.history['val_loss']\n",
    "\n",
    "epochs = range(1, len(acc) + 1)\n",
    "\n",
    "plt.plot(epochs, acc, 'blue', label = 'Training acc')\n",
    "plt.plot(epochs, val_acc, 'red', label = 'Validation acc')\n",
    "plt.title('Training and validation accuracy')\n",
    "plt.legend()\n",
    "plt.figure()\n",
    "\n",
    "plt.plot(epochs, loss, 'blue', label = 'Training loss')\n",
    "plt.plot(epochs, val_loss, 'red', label = 'Validation loss')\n",
    "plt.title('Training and validation loss')\n",
    "plt.legend()\n",
    "\n",
    "plt.show()"
   ]
  },
  {
   "cell_type": "code",
   "execution_count": null,
   "metadata": {},
   "outputs": [],
   "source": [
    "# Fine Tuning : 특성추출에 사용했던 동결모델의 상위 층 몇개를 동결에서 해제하고 모델에서 새로 추가한 층과 함께 연결\n",
    "# Convet 하위층들은 좀 더 일반적이고, 재사용가능한 특성들(범용적인 특성들)을 인코딩\n",
    "# 훈련해야할 파라미터가 많을 수록 과대적합의 가능성이 커짐.\n",
    "\n",
    "# conv_base.trainable = True\n",
    "\n",
    "# set_trainable = False\n",
    "# for layer in conv_base.layers:\n",
    "#     if layer.name == 'block5_conv1':\n",
    "#         set_trainable = True\n",
    "#     if set_trainable:\n",
    "#         layer.trainable = True\n",
    "#     else:\n",
    "#         layer.trainable = False\n",
    "\n",
    "# model.compile(\n",
    "#     loss = 'binary_crossentropy', optimizer = optimizers.RMSprop(learning_rate = 1e-5),\n",
    "#     metrics['acc']\n",
    "# )\n",
    "# history = model.fit(\n",
    "#     train_generator,\n",
    "#     steps_per_epochs = train_generator.n // train_generator.batch_size,\n",
    "#     epochs = 100,\n",
    "#     validation_data = validation_generator.n // validation_generator.batch_size,\n",
    "#     validation_steps = 50\n",
    "# )"
   ]
  }
 ],
 "metadata": {
  "interpreter": {
   "hash": "fe3bab233825460445dbfeea6dcd52ef5815a3fa13c858fea07ac830aa383284"
  },
  "kernelspec": {
   "display_name": "Python 3.8.10 64-bit ('base': conda)",
   "name": "python3"
  },
  "language_info": {
   "codemirror_mode": {
    "name": "ipython",
    "version": 3
   },
   "file_extension": ".py",
   "mimetype": "text/x-python",
   "name": "python",
   "nbconvert_exporter": "python",
   "pygments_lexer": "ipython3",
   "version": "3.8.10"
  },
  "orig_nbformat": 4
 },
 "nbformat": 4,
 "nbformat_minor": 2
}
