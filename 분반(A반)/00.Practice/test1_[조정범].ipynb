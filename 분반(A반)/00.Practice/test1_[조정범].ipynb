{
 "cells": [
  {
   "cell_type": "code",
   "execution_count": 261,
   "source": [
    "import pandas as pd\r\n",
    "import numpy as np\r\n",
    "from sklearn.neighbors import KNeighborsClassifier\r\n",
    "import matplotlib.pyplot as plt\r\n",
    "import seaborn as sns; sns.set()\r\n",
    "%matplotlib inline"
   ],
   "outputs": [],
   "metadata": {}
  },
  {
   "cell_type": "code",
   "execution_count": 262,
   "source": [
    "from sklearn.datasets import load_digits\r\n",
    "\r\n",
    "digits = load_digits()\r\n",
    "digits.data.shape, digits.keys()"
   ],
   "outputs": [
    {
     "output_type": "execute_result",
     "data": {
      "text/plain": [
       "((1797, 64),\n",
       " dict_keys(['data', 'target', 'frame', 'feature_names', 'target_names', 'images', 'DESCR']))"
      ]
     },
     "metadata": {},
     "execution_count": 262
    }
   ],
   "metadata": {}
  },
  {
   "cell_type": "code",
   "execution_count": 263,
   "source": [
    "from sklearn.neighbors import KNeighborsClassifier\r\n",
    "from sklearn.model_selection import train_test_split\r\n",
    "from sklearn.metrics import classification_report, confusion_matrix\r\n",
    "digits = load_digits()\r\n",
    "X, y = load_digits(return_X_y = True) # X는 digits의 data 카테고리로, y는 target 카테고리의 데이터로 이해하면됨.\r\n",
    "X_train, X_test, y_train, y_test = train_test_split(X, y, test_size = 0.1, stratify = y, random_state = 7)\r\n",
    "print(len(digits.target_names))\r\n",
    "len(X_train), len(X_test), len(X_train) + len(X_test)"
   ],
   "outputs": [
    {
     "output_type": "stream",
     "name": "stdout",
     "text": [
      "10\n"
     ]
    },
    {
     "output_type": "execute_result",
     "data": {
      "text/plain": [
       "(1617, 180, 1797)"
      ]
     },
     "metadata": {},
     "execution_count": 263
    }
   ],
   "metadata": {}
  },
  {
   "cell_type": "code",
   "execution_count": 264,
   "source": [
    "from sklearn.metrics import accuracy_score\r\n",
    "neighN = KNeighborsClassifier(n_neighbors = 10, weights = 'distance')\r\n",
    "neighN.fit(X_train, y_train)\r\n",
    "y_pred = neighN.predict(X_test)\r\n",
    "accuracy = accuracy_score(y_test, y_pred)\r\n",
    "# print(classification_report(y_test, y_pred))\r\n",
    "print(f'Accuracy : {accuracy*100}')"
   ],
   "outputs": [
    {
     "output_type": "stream",
     "name": "stdout",
     "text": [
      "Accuracy : 98.88888888888889\n"
     ]
    }
   ],
   "metadata": {}
  },
  {
   "cell_type": "code",
   "execution_count": 265,
   "source": [
    "import matplotlib.pyplot as plt\r\n",
    "k_list = range(1,25)\r\n",
    "accuracies = []\r\n",
    "for k in k_list:\r\n",
    "  classifier = KNeighborsClassifier(n_neighbors = k, weights = 'distance')\r\n",
    "  classifier.fit(X_train, y_train)\r\n",
    "  accuracies.append(classifier.score(X_test, y_test))\r\n",
    "plt.plot(k_list, accuracies)\r\n",
    "plt.xlabel(\"k\")\r\n",
    "plt.ylabel(\"Test Accuracy\")\r\n",
    "plt.title(\"Classifier Accuracy\")\r\n",
    "plt.show()"
   ],
   "outputs": [
    {
     "output_type": "display_data",
     "data": {
      "image/png": "[encoded data removed]",
      "text/plain": [
       "<Figure size 432x288 with 1 Axes>"
      ]
     },
     "metadata": {
      "needs_background": "light"
     }
    }
   ],
   "metadata": {}
  },
  {
   "cell_type": "code",
   "execution_count": 266,
   "source": [
    "from sklearn.metrics import confusion_matrix\r\n",
    "\r\n",
    "y_pred = neighN.predict(X_test)\r\n",
    "cf = confusion_matrix(y_test, y_pred)\r\n",
    "plt.figure(figsize = (7, 5))\r\n",
    "sns.heatmap(cf, annot = True)\r\n",
    "plt.xlabel('Prediction')\r\n",
    "plt.ylabel('Target')\r\n",
    "plt.title('Confusion Matrix')"
   ],
   "outputs": [
    {
     "output_type": "execute_result",
     "data": {
      "text/plain": [
       "Text(0.5, 1.0, 'Confusion Matrix')"
      ]
     },
     "metadata": {},
     "execution_count": 266
    },
    {
     "output_type": "display_data",
     "data": {
      "image/png": "[encoded data removed]",
      "text/plain": [
       "<Figure size 504x360 with 2 Axes>"
      ]
     },
     "metadata": {
      "needs_background": "light"
     }
    }
   ],
   "metadata": {}
  },
  {
   "cell_type": "code",
   "execution_count": 267,
   "source": [
    "new_data = np.array([x], dtype = np.float64)\r\n",
    "new_data"
   ],
   "outputs": [
    {
     "output_type": "execute_result",
     "data": {
      "text/plain": [
       "array([[ 6.,  5.,  6.,  8.,  2.,  8.,  8.,  1.,  7.,  9.,  5.,  8., 11.,\n",
       "         8.,  1., 10., 13.,  1.,  2.,  0.,  1.,  6.,  4.,  5.,  9.,  6.,\n",
       "         2., 14.,  8., 10., 12.,  5.,  2.,  0.,  1., 12., 13.,  7.,  2.,\n",
       "         2.,  1.,  3.,  5., 14.,  7.,  5., 12., 14.,  8.,  0.,  6.,  0.,\n",
       "        13.,  7.,  4.,  6., 10., 14.,  8.,  8.,  4., 14.,  6., 10.]])"
      ]
     },
     "metadata": {},
     "execution_count": 267
    }
   ],
   "metadata": {}
  },
  {
   "cell_type": "code",
   "execution_count": 268,
   "source": [
    "import random\r\n",
    "np.random.seed(57)\r\n",
    "x = [np.random.randint(0, 15) for _ in range(64)]\r\n",
    "type(X[0][0])\r\n",
    "neighN.predict(new_data)"
   ],
   "outputs": [
    {
     "output_type": "execute_result",
     "data": {
      "text/plain": [
       "array([8])"
      ]
     },
     "metadata": {},
     "execution_count": 268
    }
   ],
   "metadata": {}
  }
 ],
 "metadata": {
  "orig_nbformat": 4,
  "language_info": {
   "name": "python",
   "version": "3.8.10",
   "mimetype": "text/x-python",
   "codemirror_mode": {
    "name": "ipython",
    "version": 3
   },
   "pygments_lexer": "ipython3",
   "nbconvert_exporter": "python",
   "file_extension": ".py"
  },
  "kernelspec": {
   "name": "python3",
   "display_name": "Python 3.8.10 64-bit ('base': conda)"
  },
  "interpreter": {
   "hash": "fe3bab233825460445dbfeea6dcd52ef5815a3fa13c858fea07ac830aa383284"
  }
 },
 "nbformat": 4,
 "nbformat_minor": 2
}