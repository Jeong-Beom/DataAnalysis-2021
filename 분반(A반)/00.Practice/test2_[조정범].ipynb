{
 "cells": [
  {
   "cell_type": "code",
   "execution_count": 190,
   "metadata": {},
   "outputs": [],
   "source": [
    "# 데이터 다운로드\n",
    "from tensorflow.keras.datasets.mnist import load_data"
   ]
  },
  {
   "cell_type": "code",
   "execution_count": 191,
   "metadata": {},
   "outputs": [],
   "source": [
    "(x_train, y_train), (x_test, y_test) = load_data(path = 'mnist.pnz')"
   ]
  },
  {
   "cell_type": "code",
   "execution_count": 192,
   "metadata": {},
   "outputs": [
    {
     "name": "stdout",
     "output_type": "stream",
     "text": [
      "(60000, 28, 28) (60000,)\n",
      "[5 0 4 ... 5 6 8]\n",
      "(10000, 28, 28) (10000,)\n",
      "[7 2 1 ... 4 5 6]\n"
     ]
    },
    {
     "data": {
      "text/plain": [
       "{0, 1, 2, 3, 4, 5, 6, 7, 8, 9}"
      ]
     },
     "execution_count": 192,
     "metadata": {},
     "output_type": "execute_result"
    }
   ],
   "source": [
    "# 데이터 형태확인\n",
    "print(x_train.shape, y_train.shape)\n",
    "print(y_train)\n",
    "print(x_test.shape, y_test.shape)\n",
    "print(y_test)\n",
    "set(y_test)"
   ]
  },
  {
   "cell_type": "code",
   "execution_count": 193,
   "metadata": {},
   "outputs": [
    {
     "data": {
      "image/png": "[encoded data removed]",
      "text/plain": [
       "<Figure size 432x288 with 1 Axes>"
      ]
     },
     "metadata": {
      "needs_background": "light"
     },
     "output_type": "display_data"
    }
   ],
   "source": [
    "# 데이터 시각화를 통한 레이블 확인\n",
    "import matplotlib.pyplot as plt\n",
    "import numpy as np\n",
    "\n",
    "sample_size = 1\n",
    "random_idx = np.random.randint(60000, size = sample_size) \n",
    "\n",
    "for idx in random_idx:\n",
    "    img = x_train[idx, :]\n",
    "    label = y_train[idx]\n",
    "    plt.figure()\n",
    "    plt.imshow(img)"
   ]
  },
  {
   "cell_type": "code",
   "execution_count": 194,
   "metadata": {},
   "outputs": [
    {
     "name": "stdout",
     "output_type": "stream",
     "text": [
      "(48000, 28, 28) (12000, 28, 28) (48000,) (12000,)\n"
     ]
    }
   ],
   "source": [
    "# 훈련, 검증데이터 분할\n",
    "from sklearn.model_selection import train_test_split\n",
    "\n",
    "x_train, x_val, y_train, y_val = train_test_split(x_train, y_train, test_size = 0.2, random_state = 777)\n",
    "\n",
    "print(x_train.shape, x_val.shape, y_train.shape, y_val.shape)"
   ]
  },
  {
   "cell_type": "code",
   "execution_count": 195,
   "metadata": {},
   "outputs": [],
   "source": [
    "# 훈련 데이터 및 검증 데이터 조건에 맞게 변경(48000 -> 40000, 12000 -> 10000)\n",
    "x_train = x_train[:40000]\n",
    "x_val = x_val[:10000]\n",
    "y_train = y_train[:40000]\n",
    "y_val = y_val[:10000]"
   ]
  },
  {
   "cell_type": "code",
   "execution_count": 196,
   "metadata": {},
   "outputs": [
    {
     "name": "stdout",
     "output_type": "stream",
     "text": [
      "(40000, 28, 28) (10000, 28, 28)\n",
      "(40000,) (10000,)\n"
     ]
    }
   ],
   "source": [
    "print(x_train.shape, x_val.shape)\n",
    "print(y_train.shape, y_val.shape)"
   ]
  },
  {
   "cell_type": "code",
   "execution_count": 197,
   "metadata": {},
   "outputs": [],
   "source": [
    "# 데이터 전처리\n",
    "from tensorflow.keras.utils import to_categorical\n",
    "\n",
    "x_train = x_train.reshape(x_train.shape[0], 28, 28, 1).astype('float32') \n",
    "x_val = x_val.reshape(x_val.shape[0], 28, 28, 1).astype('float32') \n",
    "x_test = x_test.reshape(x_test.shape[0], 28, 28, 1).astype('float32')\n",
    "\n",
    "x_train = x_train / 255.\n",
    "x_val = x_val / 255.\n",
    "x_test = x_test / 255.\n",
    "y_train = to_categorical(y_train)\n",
    "y_val = to_categorical(y_val)\n",
    "y_test = to_categorical(y_test)"
   ]
  },
  {
   "cell_type": "code",
   "execution_count": 198,
   "metadata": {},
   "outputs": [
    {
     "name": "stdout",
     "output_type": "stream",
     "text": [
      "(40000, 28, 28, 1) (10000, 28, 28, 1) (10000, 28, 28, 1)\n",
      "(40000, 10) (10000, 10) (10000, 10)\n"
     ]
    }
   ],
   "source": [
    "print(x_train.shape, x_val.shape, x_test.shape)\n",
    "print(y_train.shape, y_val.shape, y_test.shape)"
   ]
  },
  {
   "cell_type": "code",
   "execution_count": 199,
   "metadata": {},
   "outputs": [],
   "source": [
    "# CNN(Convolution Neural Network)\n",
    "from tensorflow import keras\n",
    "from tensorflow.keras.datasets import mnist\n",
    "from tensorflow.keras.models import Sequential\n",
    "from tensorflow.keras.layers import Dense, Dropout, Flatten\n",
    "from tensorflow.keras.layers import Conv2D, MaxPooling2D\n",
    "from tensorflow.keras.utils import to_categorical\n",
    "from tensorflow.keras.losses import categorical_crossentropy\n",
    "from tensorflow.keras.optimizers import RMSprop\n",
    "\n",
    "input_shape = (28, 28, 1)\n",
    "num_classes = 10\n",
    "batch_size = 128\n",
    "epochs = 10\n",
    "\n",
    "model = Sequential()\n",
    "model.add(Conv2D(32, kernel_size = (3, 3),activation = 'relu',input_shape = input_shape))\n",
    "model.add(Conv2D(64, (3, 3), activation = 'relu'))\n",
    "model.add(MaxPooling2D(pool_size = (2, 2)))\n",
    "model.add(Dropout(0.25))\n",
    "model.add(Flatten())\n",
    "model.add(Dense(256, activation = 'relu'))\n",
    "model.add(Dropout(0.5))\n",
    "model.add(Dense(num_classes, activation = 'softmax'))\n",
    "model.compile(loss = categorical_crossentropy,optimizer = RMSprop(), metrics = ['accuracy'])"
   ]
  },
  {
   "cell_type": "code",
   "execution_count": 200,
   "metadata": {},
   "outputs": [
    {
     "name": "stdout",
     "output_type": "stream",
     "text": [
      "Epoch 1/10\n",
      "1250/1250 [==============================] - 82s 65ms/step - loss: 0.1795 - accuracy: 0.9465 - val_loss: 0.0633 - val_accuracy: 0.9821\n",
      "Epoch 2/10\n",
      "1250/1250 [==============================] - 86s 69ms/step - loss: 0.0773 - accuracy: 0.9776 - val_loss: 0.0621 - val_accuracy: 0.9832\n",
      "Epoch 3/10\n",
      "1250/1250 [==============================] - 82s 65ms/step - loss: 0.0650 - accuracy: 0.9814 - val_loss: 0.0523 - val_accuracy: 0.9844\n",
      "Epoch 4/10\n",
      "1250/1250 [==============================] - 83s 66ms/step - loss: 0.0599 - accuracy: 0.9830 - val_loss: 0.0511 - val_accuracy: 0.9858\n",
      "Epoch 5/10\n",
      "1250/1250 [==============================] - 82s 65ms/step - loss: 0.0604 - accuracy: 0.9830 - val_loss: 0.0475 - val_accuracy: 0.9875\n",
      "Epoch 6/10\n",
      "1250/1250 [==============================] - 81s 65ms/step - loss: 0.0610 - accuracy: 0.9834 - val_loss: 0.0600 - val_accuracy: 0.9847\n",
      "Epoch 7/10\n",
      "1250/1250 [==============================] - 82s 65ms/step - loss: 0.0602 - accuracy: 0.9837 - val_loss: 0.0634 - val_accuracy: 0.9849\n",
      "Epoch 8/10\n",
      "1250/1250 [==============================] - 80s 64ms/step - loss: 0.0614 - accuracy: 0.9833 - val_loss: 0.0582 - val_accuracy: 0.9844\n",
      "Epoch 9/10\n",
      "1250/1250 [==============================] - 85s 68ms/step - loss: 0.0620 - accuracy: 0.9832 - val_loss: 0.0585 - val_accuracy: 0.9844\n",
      "Epoch 10/10\n",
      "1250/1250 [==============================] - 88s 70ms/step - loss: 0.0619 - accuracy: 0.9827 - val_loss: 0.0691 - val_accuracy: 0.9843\n"
     ]
    }
   ],
   "source": [
    "history = model.fit(x_train, y_train, epochs = 10, validation_data = (x_val, y_val))"
   ]
  },
  {
   "cell_type": "code",
   "execution_count": 201,
   "metadata": {},
   "outputs": [
    {
     "data": {
      "image/png": "[encoded data removed]",
      "text/plain": [
       "<Figure size 1152x864 with 1 Axes>"
      ]
     },
     "metadata": {
      "needs_background": "light"
     },
     "output_type": "display_data"
    },
    {
     "data": {
      "text/plain": [
       "<Figure size 432x288 with 0 Axes>"
      ]
     },
     "metadata": {},
     "output_type": "display_data"
    }
   ],
   "source": [
    "history_dict = history.history\n",
    "loss = history_dict['loss']\n",
    "val_loss = history_dict['val_loss']\n",
    "\n",
    "epochs = range(1, len(loss) + 1)\n",
    "\n",
    "plt.figure(figsize = (16, 12))\n",
    "plt.plot(epochs, loss, 'b', label = 'Training loss')\n",
    "plt.plot(epochs, val_loss, 'r', label = 'Validation loss')\n",
    "plt.title('Training and validation loss')\n",
    "plt.xlabel('Epochs')\n",
    "plt.ylabel('loss')\n",
    "plt.legend()\n",
    "plt.show()\n",
    "plt.clf()"
   ]
  },
  {
   "cell_type": "code",
   "execution_count": 202,
   "metadata": {},
   "outputs": [
    {
     "data": {
      "text/plain": [
       "dict_keys(['loss', 'accuracy', 'val_loss', 'val_accuracy'])"
      ]
     },
     "execution_count": 202,
     "metadata": {},
     "output_type": "execute_result"
    }
   ],
   "source": [
    "history_dict.keys()"
   ]
  },
  {
   "cell_type": "code",
   "execution_count": 203,
   "metadata": {},
   "outputs": [
    {
     "data": {
      "image/png": "[encoded data removed]",
      "text/plain": [
       "<Figure size 1152x864 with 1 Axes>"
      ]
     },
     "metadata": {
      "needs_background": "light"
     },
     "output_type": "display_data"
    }
   ],
   "source": [
    "acc = history_dict['accuracy']\n",
    "val_acc = history_dict['val_accuracy']\n",
    "\n",
    "plt.figure(figsize = (16, 12))\n",
    "plt.plot(epochs, acc, 'b', label = 'Training acc')\n",
    "plt.plot(epochs, val_acc, 'r', label = 'Validation acc')\n",
    "plt.title('Training and validation accuracy')\n",
    "plt.xlabel('Epochs')\n",
    "plt.ylabel('Accuracy')\n",
    "plt.legend()\n",
    "plt.show()"
   ]
  },
  {
   "cell_type": "code",
   "execution_count": 204,
   "metadata": {},
   "outputs": [],
   "source": [
    "model = Sequential()\n",
    "model.add(Conv2D(32, kernel_size = (3, 3),activation = 'relu',input_shape = input_shape))\n",
    "model.add(Conv2D(64, (3, 3), activation = 'relu'))\n",
    "model.add(MaxPooling2D(pool_size = (2, 2)))\n",
    "model.add(Dropout(0.25))\n",
    "model.add(Flatten())\n",
    "model.add(Dense(256, activation = 'relu'))\n",
    "model.add(Dropout(0.5))\n",
    "model.add(Dense(num_classes, activation = 'softmax'))\n",
    "model.compile(loss = categorical_crossentropy,optimizer = RMSprop(), metrics = ['accuracy'])"
   ]
  },
  {
   "cell_type": "code",
   "execution_count": 205,
   "metadata": {},
   "outputs": [
    {
     "name": "stdout",
     "output_type": "stream",
     "text": [
      "Epoch 1/5\n",
      "1250/1250 [==============================] - 84s 67ms/step - loss: 0.1746 - accuracy: 0.9475 - val_loss: 0.0668 - val_accuracy: 0.9799\n",
      "Epoch 2/5\n",
      "1250/1250 [==============================] - 86s 69ms/step - loss: 0.0787 - accuracy: 0.9776 - val_loss: 0.0568 - val_accuracy: 0.9828\n",
      "Epoch 3/5\n",
      "1250/1250 [==============================] - 80s 64ms/step - loss: 0.0655 - accuracy: 0.9810 - val_loss: 0.0751 - val_accuracy: 0.9807\n",
      "Epoch 4/5\n",
      "1250/1250 [==============================] - 79s 63ms/step - loss: 0.0624 - accuracy: 0.9822 - val_loss: 0.0554 - val_accuracy: 0.9850\n",
      "Epoch 5/5\n",
      "1250/1250 [==============================] - 80s 64ms/step - loss: 0.0607 - accuracy: 0.9834 - val_loss: 0.0488 - val_accuracy: 0.9862\n"
     ]
    },
    {
     "data": {
      "text/plain": [
       "<tensorflow.python.keras.callbacks.History at 0x219bc800550>"
      ]
     },
     "execution_count": 205,
     "metadata": {},
     "output_type": "execute_result"
    }
   ],
   "source": [
    "model.fit(x_train, y_train, epochs = 5, validation_data = (x_val, y_val))"
   ]
  },
  {
   "cell_type": "code",
   "execution_count": 206,
   "metadata": {},
   "outputs": [
    {
     "data": {
      "text/plain": [
       "[0.03991322964429855, 0.9871000051498413]"
      ]
     },
     "execution_count": 206,
     "metadata": {},
     "output_type": "execute_result"
    }
   ],
   "source": [
    "model.evaluate(x_test, y_test, verbose = 0)"
   ]
  }
 ],
 "metadata": {
  "interpreter": {
   "hash": "fe3bab233825460445dbfeea6dcd52ef5815a3fa13c858fea07ac830aa383284"
  },
  "kernelspec": {
   "display_name": "Python 3.8.10 64-bit ('base': conda)",
   "name": "python3"
  },
  "language_info": {
   "codemirror_mode": {
    "name": "ipython",
    "version": 3
   },
   "file_extension": ".py",
   "mimetype": "text/x-python",
   "name": "python",
   "nbconvert_exporter": "python",
   "pygments_lexer": "ipython3",
   "version": "3.8.10"
  },
  "orig_nbformat": 4
 },
 "nbformat": 4,
 "nbformat_minor": 2
}
