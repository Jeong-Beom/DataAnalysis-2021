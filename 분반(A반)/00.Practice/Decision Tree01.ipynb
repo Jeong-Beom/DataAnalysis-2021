{
 "cells": [
  {
   "cell_type": "code",
   "execution_count": null,
   "source": [
    "import numpy as np\r\n",
    "import pandas as pd"
   ],
   "outputs": [],
   "metadata": {}
  },
  {
   "cell_type": "code",
   "execution_count": null,
   "source": [
    "df = pd.read_csv('C:\\\\Workspace\\\\python\\\\Data_Science\\\\dataA\\\\분반(A반)\\\\madfhantr.csv')\r\n",
    "df.head()"
   ],
   "outputs": [
    {
     "output_type": "execute_result",
     "data": {
      "text/html": [
       "<div>\n",
       "<style scoped>\n",
       "    .dataframe tbody tr th:only-of-type {\n",
       "        vertical-align: middle;\n",
       "    }\n",
       "\n",
       "    .dataframe tbody tr th {\n",
       "        vertical-align: top;\n",
       "    }\n",
       "\n",
       "    .dataframe thead th {\n",
       "        text-align: right;\n",
       "    }\n",
       "</style>\n",
       "<table border=\"1\" class=\"dataframe\">\n",
       "  <thead>\n",
       "    <tr style=\"text-align: right;\">\n",
       "      <th></th>\n",
       "      <th>Loan_ID</th>\n",
       "      <th>Gender</th>\n",
       "      <th>Married</th>\n",
       "      <th>Dependents</th>\n",
       "      <th>Education</th>\n",
       "      <th>Self_Employed</th>\n",
       "      <th>ApplicantIncome</th>\n",
       "      <th>CoapplicantIncome</th>\n",
       "      <th>LoanAmount</th>\n",
       "      <th>Loan_Amount_Term</th>\n",
       "      <th>Credit_History</th>\n",
       "      <th>Property_Area</th>\n",
       "      <th>Loan_Status</th>\n",
       "    </tr>\n",
       "  </thead>\n",
       "  <tbody>\n",
       "    <tr>\n",
       "      <th>0</th>\n",
       "      <td>LP001002</td>\n",
       "      <td>Male</td>\n",
       "      <td>No</td>\n",
       "      <td>0</td>\n",
       "      <td>Graduate</td>\n",
       "      <td>No</td>\n",
       "      <td>5849</td>\n",
       "      <td>0.0</td>\n",
       "      <td>NaN</td>\n",
       "      <td>360.0</td>\n",
       "      <td>1.0</td>\n",
       "      <td>Urban</td>\n",
       "      <td>Y</td>\n",
       "    </tr>\n",
       "    <tr>\n",
       "      <th>1</th>\n",
       "      <td>LP001003</td>\n",
       "      <td>Male</td>\n",
       "      <td>Yes</td>\n",
       "      <td>1</td>\n",
       "      <td>Graduate</td>\n",
       "      <td>No</td>\n",
       "      <td>4583</td>\n",
       "      <td>1508.0</td>\n",
       "      <td>128.0</td>\n",
       "      <td>360.0</td>\n",
       "      <td>1.0</td>\n",
       "      <td>Rural</td>\n",
       "      <td>N</td>\n",
       "    </tr>\n",
       "    <tr>\n",
       "      <th>2</th>\n",
       "      <td>LP001005</td>\n",
       "      <td>Male</td>\n",
       "      <td>Yes</td>\n",
       "      <td>0</td>\n",
       "      <td>Graduate</td>\n",
       "      <td>Yes</td>\n",
       "      <td>3000</td>\n",
       "      <td>0.0</td>\n",
       "      <td>66.0</td>\n",
       "      <td>360.0</td>\n",
       "      <td>1.0</td>\n",
       "      <td>Urban</td>\n",
       "      <td>Y</td>\n",
       "    </tr>\n",
       "    <tr>\n",
       "      <th>3</th>\n",
       "      <td>LP001006</td>\n",
       "      <td>Male</td>\n",
       "      <td>Yes</td>\n",
       "      <td>0</td>\n",
       "      <td>Not Graduate</td>\n",
       "      <td>No</td>\n",
       "      <td>2583</td>\n",
       "      <td>2358.0</td>\n",
       "      <td>120.0</td>\n",
       "      <td>360.0</td>\n",
       "      <td>1.0</td>\n",
       "      <td>Urban</td>\n",
       "      <td>Y</td>\n",
       "    </tr>\n",
       "    <tr>\n",
       "      <th>4</th>\n",
       "      <td>LP001008</td>\n",
       "      <td>Male</td>\n",
       "      <td>No</td>\n",
       "      <td>0</td>\n",
       "      <td>Graduate</td>\n",
       "      <td>No</td>\n",
       "      <td>6000</td>\n",
       "      <td>0.0</td>\n",
       "      <td>141.0</td>\n",
       "      <td>360.0</td>\n",
       "      <td>1.0</td>\n",
       "      <td>Urban</td>\n",
       "      <td>Y</td>\n",
       "    </tr>\n",
       "  </tbody>\n",
       "</table>\n",
       "</div>"
      ],
      "text/plain": [
       "    Loan_ID Gender Married Dependents     Education Self_Employed  \\\n",
       "0  LP001002   Male      No          0      Graduate            No   \n",
       "1  LP001003   Male     Yes          1      Graduate            No   \n",
       "2  LP001005   Male     Yes          0      Graduate           Yes   \n",
       "3  LP001006   Male     Yes          0  Not Graduate            No   \n",
       "4  LP001008   Male      No          0      Graduate            No   \n",
       "\n",
       "   ApplicantIncome  CoapplicantIncome  LoanAmount  Loan_Amount_Term  \\\n",
       "0             5849                0.0         NaN             360.0   \n",
       "1             4583             1508.0       128.0             360.0   \n",
       "2             3000                0.0        66.0             360.0   \n",
       "3             2583             2358.0       120.0             360.0   \n",
       "4             6000                0.0       141.0             360.0   \n",
       "\n",
       "   Credit_History Property_Area Loan_Status  \n",
       "0             1.0         Urban           Y  \n",
       "1             1.0         Rural           N  \n",
       "2             1.0         Urban           Y  \n",
       "3             1.0         Urban           Y  \n",
       "4             1.0         Urban           Y  "
      ]
     },
     "metadata": {},
     "execution_count": 2
    }
   ],
   "metadata": {}
  },
  {
   "cell_type": "code",
   "execution_count": null,
   "source": [
    "df.dtypes"
   ],
   "outputs": [
    {
     "output_type": "execute_result",
     "data": {
      "text/plain": [
       "Loan_ID               object\n",
       "Gender                object\n",
       "Married               object\n",
       "Dependents            object\n",
       "Education             object\n",
       "Self_Employed         object\n",
       "ApplicantIncome        int64\n",
       "CoapplicantIncome    float64\n",
       "LoanAmount           float64\n",
       "Loan_Amount_Term     float64\n",
       "Credit_History       float64\n",
       "Property_Area         object\n",
       "Loan_Status           object\n",
       "dtype: object"
      ]
     },
     "metadata": {},
     "execution_count": 3
    }
   ],
   "metadata": {}
  },
  {
   "cell_type": "code",
   "execution_count": null,
   "source": [
    "df.isnull().sum()"
   ],
   "outputs": [
    {
     "output_type": "execute_result",
     "data": {
      "text/plain": [
       "Loan_ID               0\n",
       "Gender               13\n",
       "Married               3\n",
       "Dependents           15\n",
       "Education             0\n",
       "Self_Employed        32\n",
       "ApplicantIncome       0\n",
       "CoapplicantIncome     0\n",
       "LoanAmount           22\n",
       "Loan_Amount_Term     14\n",
       "Credit_History       50\n",
       "Property_Area         0\n",
       "Loan_Status           0\n",
       "dtype: int64"
      ]
     },
     "metadata": {},
     "execution_count": 4
    }
   ],
   "metadata": {}
  },
  {
   "cell_type": "code",
   "execution_count": null,
   "source": [
    "df.isnull().sum().sum()"
   ],
   "outputs": [
    {
     "output_type": "execute_result",
     "data": {
      "text/plain": [
       "149"
      ]
     },
     "metadata": {},
     "execution_count": 5
    }
   ],
   "metadata": {}
  },
  {
   "cell_type": "code",
   "execution_count": null,
   "source": [
    "len(df)"
   ],
   "outputs": [
    {
     "output_type": "execute_result",
     "data": {
      "text/plain": [
       "614"
      ]
     },
     "metadata": {},
     "execution_count": 6
    }
   ],
   "metadata": {}
  },
  {
   "cell_type": "code",
   "execution_count": null,
   "source": [
    "len(df.dropna())"
   ],
   "outputs": [
    {
     "output_type": "execute_result",
     "data": {
      "text/plain": [
       "480"
      ]
     },
     "metadata": {},
     "execution_count": 7
    }
   ],
   "metadata": {}
  },
  {
   "cell_type": "code",
   "execution_count": null,
   "source": [
    "df.dropna(inplace = True)"
   ],
   "outputs": [],
   "metadata": {}
  },
  {
   "cell_type": "code",
   "execution_count": null,
   "source": [
    "df.columns"
   ],
   "outputs": [
    {
     "output_type": "execute_result",
     "data": {
      "text/plain": [
       "Index(['Loan_ID', 'Gender', 'Married', 'Dependents', 'Education',\n",
       "       'Self_Employed', 'ApplicantIncome', 'CoapplicantIncome', 'LoanAmount',\n",
       "       'Loan_Amount_Term', 'Credit_History', 'Property_Area', 'Loan_Status'],\n",
       "      dtype='object')"
      ]
     },
     "metadata": {},
     "execution_count": 9
    }
   ],
   "metadata": {}
  },
  {
   "cell_type": "code",
   "execution_count": null,
   "source": [
    "# 문자열형태의 데이터는 의사결정나무에서 사용불가하므로 숫자로 변경하는 과정이 필요\r\n",
    "df.Gender.value_counts(), df.Married.value_counts(), df.Dependents.value_counts() "
   ],
   "outputs": [
    {
     "output_type": "execute_result",
     "data": {
      "text/plain": [
       "(Male      394\n",
       " Female     86\n",
       " Name: Gender, dtype: int64,\n",
       " Yes    311\n",
       " No     169\n",
       " Name: Married, dtype: int64,\n",
       " 0     274\n",
       " 2      85\n",
       " 1      80\n",
       " 3+     41\n",
       " Name: Dependents, dtype: int64)"
      ]
     },
     "metadata": {},
     "execution_count": 10
    }
   ],
   "metadata": {}
  },
  {
   "cell_type": "code",
   "execution_count": null,
   "source": [
    "df.Education.value_counts(), df.Self_Employed.value_counts(), df.Property_Area.value_counts() , df.Loan_Status.value_counts()"
   ],
   "outputs": [
    {
     "output_type": "execute_result",
     "data": {
      "text/plain": [
       "(Graduate        383\n",
       " Not Graduate     97\n",
       " Name: Education, dtype: int64,\n",
       " No     414\n",
       " Yes     66\n",
       " Name: Self_Employed, dtype: int64,\n",
       " Semiurban    191\n",
       " Urban        150\n",
       " Rural        139\n",
       " Name: Property_Area, dtype: int64,\n",
       " Y    332\n",
       " N    148\n",
       " Name: Loan_Status, dtype: int64)"
      ]
     },
     "metadata": {},
     "execution_count": 11
    }
   ],
   "metadata": {}
  },
  {
   "cell_type": "code",
   "execution_count": null,
   "source": [
    "df2 = df.iloc[:, 1:]\r\n",
    "df2.head()"
   ],
   "outputs": [
    {
     "output_type": "execute_result",
     "data": {
      "text/html": [
       "<div>\n",
       "<style scoped>\n",
       "    .dataframe tbody tr th:only-of-type {\n",
       "        vertical-align: middle;\n",
       "    }\n",
       "\n",
       "    .dataframe tbody tr th {\n",
       "        vertical-align: top;\n",
       "    }\n",
       "\n",
       "    .dataframe thead th {\n",
       "        text-align: right;\n",
       "    }\n",
       "</style>\n",
       "<table border=\"1\" class=\"dataframe\">\n",
       "  <thead>\n",
       "    <tr style=\"text-align: right;\">\n",
       "      <th></th>\n",
       "      <th>Gender</th>\n",
       "      <th>Married</th>\n",
       "      <th>Dependents</th>\n",
       "      <th>Education</th>\n",
       "      <th>Self_Employed</th>\n",
       "      <th>ApplicantIncome</th>\n",
       "      <th>CoapplicantIncome</th>\n",
       "      <th>LoanAmount</th>\n",
       "      <th>Loan_Amount_Term</th>\n",
       "      <th>Credit_History</th>\n",
       "      <th>Property_Area</th>\n",
       "      <th>Loan_Status</th>\n",
       "    </tr>\n",
       "  </thead>\n",
       "  <tbody>\n",
       "    <tr>\n",
       "      <th>1</th>\n",
       "      <td>Male</td>\n",
       "      <td>Yes</td>\n",
       "      <td>1</td>\n",
       "      <td>Graduate</td>\n",
       "      <td>No</td>\n",
       "      <td>4583</td>\n",
       "      <td>1508.0</td>\n",
       "      <td>128.0</td>\n",
       "      <td>360.0</td>\n",
       "      <td>1.0</td>\n",
       "      <td>Rural</td>\n",
       "      <td>N</td>\n",
       "    </tr>\n",
       "    <tr>\n",
       "      <th>2</th>\n",
       "      <td>Male</td>\n",
       "      <td>Yes</td>\n",
       "      <td>0</td>\n",
       "      <td>Graduate</td>\n",
       "      <td>Yes</td>\n",
       "      <td>3000</td>\n",
       "      <td>0.0</td>\n",
       "      <td>66.0</td>\n",
       "      <td>360.0</td>\n",
       "      <td>1.0</td>\n",
       "      <td>Urban</td>\n",
       "      <td>Y</td>\n",
       "    </tr>\n",
       "    <tr>\n",
       "      <th>3</th>\n",
       "      <td>Male</td>\n",
       "      <td>Yes</td>\n",
       "      <td>0</td>\n",
       "      <td>Not Graduate</td>\n",
       "      <td>No</td>\n",
       "      <td>2583</td>\n",
       "      <td>2358.0</td>\n",
       "      <td>120.0</td>\n",
       "      <td>360.0</td>\n",
       "      <td>1.0</td>\n",
       "      <td>Urban</td>\n",
       "      <td>Y</td>\n",
       "    </tr>\n",
       "    <tr>\n",
       "      <th>4</th>\n",
       "      <td>Male</td>\n",
       "      <td>No</td>\n",
       "      <td>0</td>\n",
       "      <td>Graduate</td>\n",
       "      <td>No</td>\n",
       "      <td>6000</td>\n",
       "      <td>0.0</td>\n",
       "      <td>141.0</td>\n",
       "      <td>360.0</td>\n",
       "      <td>1.0</td>\n",
       "      <td>Urban</td>\n",
       "      <td>Y</td>\n",
       "    </tr>\n",
       "    <tr>\n",
       "      <th>5</th>\n",
       "      <td>Male</td>\n",
       "      <td>Yes</td>\n",
       "      <td>2</td>\n",
       "      <td>Graduate</td>\n",
       "      <td>Yes</td>\n",
       "      <td>5417</td>\n",
       "      <td>4196.0</td>\n",
       "      <td>267.0</td>\n",
       "      <td>360.0</td>\n",
       "      <td>1.0</td>\n",
       "      <td>Urban</td>\n",
       "      <td>Y</td>\n",
       "    </tr>\n",
       "  </tbody>\n",
       "</table>\n",
       "</div>"
      ],
      "text/plain": [
       "  Gender Married Dependents     Education Self_Employed  ApplicantIncome  \\\n",
       "1   Male     Yes          1      Graduate            No             4583   \n",
       "2   Male     Yes          0      Graduate           Yes             3000   \n",
       "3   Male     Yes          0  Not Graduate            No             2583   \n",
       "4   Male      No          0      Graduate            No             6000   \n",
       "5   Male     Yes          2      Graduate           Yes             5417   \n",
       "\n",
       "   CoapplicantIncome  LoanAmount  Loan_Amount_Term  Credit_History  \\\n",
       "1             1508.0       128.0             360.0             1.0   \n",
       "2                0.0        66.0             360.0             1.0   \n",
       "3             2358.0       120.0             360.0             1.0   \n",
       "4                0.0       141.0             360.0             1.0   \n",
       "5             4196.0       267.0             360.0             1.0   \n",
       "\n",
       "  Property_Area Loan_Status  \n",
       "1         Rural           N  \n",
       "2         Urban           Y  \n",
       "3         Urban           Y  \n",
       "4         Urban           Y  \n",
       "5         Urban           Y  "
      ]
     },
     "metadata": {},
     "execution_count": 12
    }
   ],
   "metadata": {}
  },
  {
   "cell_type": "code",
   "execution_count": null,
   "source": [
    "df2.Gender = df2.Gender.replace(to_replace = 'Male', value = '1')\r\n",
    "df2.Gender = df2.Gender.replace(to_replace = 'Female', value = '0')\r\n",
    "\r\n",
    "df2.Married = df2.Married.replace(to_replace = 'Yes', value = '1')\r\n",
    "df2.Married = df2.Married.replace(to_replace = 'No', value = '0')\r\n",
    "\r\n",
    "df2.Self_Employed = df2.Self_Employed.replace(to_replace = 'Yes', value = '1')\r\n",
    "df2.Self_Employed = df2.Self_Employed.replace(to_replace = 'No', value = '0')\r\n",
    "\r\n",
    "df2.Education = df2.Education.replace(to_replace = 'Graduate', value = '1')\r\n",
    "df2.Education = df2.Education.replace(to_replace = 'Not Graduate', value = '0')\r\n",
    "\r\n",
    "df2.Property_Area = df2.Property_Area.replace(to_replace = 'Urban', value = '2')\r\n",
    "df2.Property_Area = df2.Property_Area.replace(to_replace = 'Semiurban', value = '1')\r\n",
    "df2.Property_Area = df2.Property_Area.replace(to_replace = 'Rural', value = '0')\r\n",
    "\r\n",
    "df2.Dependents = df2.Dependents.replace(to_replace = '3+', value = '0')\r\n",
    "\r\n",
    "# 종속변수로 사용할 계획이므로 카테고리화 미적용\r\n",
    "# df2.Loan_Status = df2.Loan_Status.replace(to_replace = 'Y', value = '1') \r\n",
    "# df2.Loan_Status = df2.Loan_Status.replace(to_replace = 'N', value = '0')\r\n",
    "\r\n",
    "# ApplicantIncome이나 Loan_Amount_Term과 같이 특정 숫자 수치가 모두 다르고 \r\n",
    "# 해당값자체가 큰 의미가 없는 경우에는 범위로 묶어서 처리하는것이 더 유의미할 수 있음"
   ],
   "outputs": [],
   "metadata": {}
  },
  {
   "cell_type": "code",
   "execution_count": 14,
   "source": [
    "X = df2.drop(columns = ['Loan_Status'])\r\n",
    "y = df2.Loan_Status\r\n",
    "\r\n",
    "from sklearn.model_selection import train_test_split\r\n",
    "X_train, X_test, y_train, y_test = train_test_split(X, y, test_size = 0.3, random_state = 45)"
   ],
   "outputs": [],
   "metadata": {}
  },
  {
   "cell_type": "code",
   "execution_count": 20,
   "source": [
    "from sklearn.tree import DecisionTreeClassifier\r\n",
    "from sklearn import tree\r\n",
    "\r\n",
    "clf = tree.DecisionTreeClassifier(max_depth = 5)\r\n",
    "clf.fit(X_train, y_train) "
   ],
   "outputs": [
    {
     "output_type": "execute_result",
     "data": {
      "text/plain": [
       "DecisionTreeClassifier(max_depth=5)"
      ]
     },
     "metadata": {},
     "execution_count": 20
    }
   ],
   "metadata": {}
  },
  {
   "cell_type": "code",
   "execution_count": 21,
   "source": [
    "df2.columns"
   ],
   "outputs": [
    {
     "output_type": "execute_result",
     "data": {
      "text/plain": [
       "Index(['Gender', 'Married', 'Dependents', 'Education', 'Self_Employed',\n",
       "       'ApplicantIncome', 'CoapplicantIncome', 'LoanAmount',\n",
       "       'Loan_Amount_Term', 'Credit_History', 'Property_Area', 'Loan_Status'],\n",
       "      dtype='object')"
      ]
     },
     "metadata": {},
     "execution_count": 21
    }
   ],
   "metadata": {}
  },
  {
   "cell_type": "code",
   "execution_count": 18,
   "source": [
    "import os\r\n",
    "os.environ[\"PATH\"]+=os.pathsep+'C:\\\\Program Files\\\\Graphviz\\\\bin'"
   ],
   "outputs": [],
   "metadata": {}
  },
  {
   "cell_type": "code",
   "execution_count": 22,
   "source": [
    "import graphviz\r\n",
    "\r\n",
    "dot_data = tree.export_graphviz(clf, out_file = None,\r\n",
    "                                feature_names =  ['Gender', 'Married', 'Dependents', 'Education', 'Self_Employed', \\\r\n",
    "                                                  'ApplicantIncome', 'CoapplicantIncome', 'LoanAmount', \\\r\n",
    "                                                  'Loan_Amount_Term', 'Credit_History', 'Property_Area'],\r\n",
    "                                class_names = ['Yes', 'No'], filled = True, rounded = True, special_characters = True)\r\n",
    "graph = graphviz.Source(dot_data)\r\n",
    "graph.render(\"Gini\")\r\n",
    "graph"
   ],
   "outputs": [
    {
     "output_type": "execute_result",
     "data": {
      "image/svg+xml": "<?xml version=\"1.0\" encoding=\"UTF-8\" standalone=\"no\"?>\r\n<!DOCTYPE svg PUBLIC \"-//W3C//DTD SVG 1.1//EN\"\r\n \"http://www.w3.org/Graphics/SVG/1.1/DTD/svg11.dtd\">\r\n<!-- Generated by graphviz version 2.49.0 (20210828.1703)\r\n -->\r\n<!-- Title: Tree Pages: 1 -->\r\n<svg width=\"1233pt\" height=\"671pt\"\r\n viewBox=\"0.00 0.00 1233.00 671.00\" xmlns=\"http://www.w3.org/2000/svg\" xmlns:xlink=\"http://www.w3.org/1999/xlink\">\r\n<g id=\"graph0\" class=\"graph\" transform=\"scale(1 1) rotate(0) translate(4 667)\">\r\n<title>Tree</title>\r\n<polygon fill=\"white\" stroke=\"transparent\" points=\"-4,4 -4,-667 1229,-667 1229,4 -4,4\"/>\r\n<!-- 0 -->\r\n<g id=\"node1\" class=\"node\">\r\n<title>0</title>\r\n<path fill=\"#94caf1\" stroke=\"black\" d=\"M618.5,-663C618.5,-663 500.5,-663 500.5,-663 494.5,-663 488.5,-657 488.5,-651 488.5,-651 488.5,-592 488.5,-592 488.5,-586 494.5,-580 500.5,-580 500.5,-580 618.5,-580 618.5,-580 624.5,-580 630.5,-586 630.5,-592 630.5,-592 630.5,-651 630.5,-651 630.5,-657 624.5,-663 618.5,-663\"/>\r\n<text text-anchor=\"start\" x=\"496.5\" y=\"-647.8\" font-family=\"Helvetica,sans-Serif\" font-size=\"14.00\">Credit_History ≤ 0.5</text>\r\n<text text-anchor=\"start\" x=\"522\" y=\"-632.8\" font-family=\"Helvetica,sans-Serif\" font-size=\"14.00\">gini = 0.432</text>\r\n<text text-anchor=\"start\" x=\"512\" y=\"-617.8\" font-family=\"Helvetica,sans-Serif\" font-size=\"14.00\">samples = 336</text>\r\n<text text-anchor=\"start\" x=\"502.5\" y=\"-602.8\" font-family=\"Helvetica,sans-Serif\" font-size=\"14.00\">value = [106, 230]</text>\r\n<text text-anchor=\"start\" x=\"526\" y=\"-587.8\" font-family=\"Helvetica,sans-Serif\" font-size=\"14.00\">class = No</text>\r\n</g>\r\n<!-- 1 -->\r\n<g id=\"node2\" class=\"node\">\r\n<title>1</title>\r\n<path fill=\"#e88f4f\" stroke=\"black\" d=\"M512,-544C512,-544 387,-544 387,-544 381,-544 375,-538 375,-532 375,-532 375,-473 375,-473 375,-467 381,-461 387,-461 387,-461 512,-461 512,-461 518,-461 524,-467 524,-473 524,-473 524,-532 524,-532 524,-538 518,-544 512,-544\"/>\r\n<text text-anchor=\"start\" x=\"383\" y=\"-528.8\" font-family=\"Helvetica,sans-Serif\" font-size=\"14.00\">LoanAmount ≤ 547.5</text>\r\n<text text-anchor=\"start\" x=\"412\" y=\"-513.8\" font-family=\"Helvetica,sans-Serif\" font-size=\"14.00\">gini = 0.177</text>\r\n<text text-anchor=\"start\" x=\"406\" y=\"-498.8\" font-family=\"Helvetica,sans-Serif\" font-size=\"14.00\">samples = 51</text>\r\n<text text-anchor=\"start\" x=\"405\" y=\"-483.8\" font-family=\"Helvetica,sans-Serif\" font-size=\"14.00\">value = [46, 5]</text>\r\n<text text-anchor=\"start\" x=\"412.5\" y=\"-468.8\" font-family=\"Helvetica,sans-Serif\" font-size=\"14.00\">class = Yes</text>\r\n</g>\r\n<!-- 0&#45;&gt;1 -->\r\n<g id=\"edge1\" class=\"edge\">\r\n<title>0&#45;&gt;1</title>\r\n<path fill=\"none\" stroke=\"black\" d=\"M521.34,-579.91C512.72,-570.74 503.49,-560.93 494.62,-551.49\"/>\r\n<polygon fill=\"black\" stroke=\"black\" points=\"497,-548.91 487.6,-544.02 491.9,-553.7 497,-548.91\"/>\r\n<text text-anchor=\"middle\" x=\"486.83\" y=\"-565.31\" font-family=\"Helvetica,sans-Serif\" font-size=\"14.00\">True</text>\r\n</g>\r\n<!-- 10 -->\r\n<g id=\"node11\" class=\"node\">\r\n<title>10</title>\r\n<path fill=\"#6eb7ec\" stroke=\"black\" d=\"M693,-544C693,-544 568,-544 568,-544 562,-544 556,-538 556,-532 556,-532 556,-473 556,-473 556,-467 562,-461 568,-461 568,-461 693,-461 693,-461 699,-461 705,-467 705,-473 705,-473 705,-532 705,-532 705,-538 699,-544 693,-544\"/>\r\n<text text-anchor=\"start\" x=\"564\" y=\"-528.8\" font-family=\"Helvetica,sans-Serif\" font-size=\"14.00\">LoanAmount ≤ 212.0</text>\r\n<text text-anchor=\"start\" x=\"593\" y=\"-513.8\" font-family=\"Helvetica,sans-Serif\" font-size=\"14.00\">gini = 0.332</text>\r\n<text text-anchor=\"start\" x=\"583\" y=\"-498.8\" font-family=\"Helvetica,sans-Serif\" font-size=\"14.00\">samples = 285</text>\r\n<text text-anchor=\"start\" x=\"577.5\" y=\"-483.8\" font-family=\"Helvetica,sans-Serif\" font-size=\"14.00\">value = [60, 225]</text>\r\n<text text-anchor=\"start\" x=\"597\" y=\"-468.8\" font-family=\"Helvetica,sans-Serif\" font-size=\"14.00\">class = No</text>\r\n</g>\r\n<!-- 0&#45;&gt;10 -->\r\n<g id=\"edge10\" class=\"edge\">\r\n<title>0&#45;&gt;10</title>\r\n<path fill=\"none\" stroke=\"black\" d=\"M584.13,-579.91C589.47,-571.1 595.18,-561.7 600.7,-552.61\"/>\r\n<polygon fill=\"black\" stroke=\"black\" points=\"603.71,-554.39 605.91,-544.02 597.73,-550.75 603.71,-554.39\"/>\r\n<text text-anchor=\"middle\" x=\"611.85\" y=\"-564.6\" font-family=\"Helvetica,sans-Serif\" font-size=\"14.00\">False</text>\r\n</g>\r\n<!-- 2 -->\r\n<g id=\"node3\" class=\"node\">\r\n<title>2</title>\r\n<path fill=\"#e78c4a\" stroke=\"black\" d=\"M344,-425C344,-425 219,-425 219,-425 213,-425 207,-419 207,-413 207,-413 207,-354 207,-354 207,-348 213,-342 219,-342 219,-342 344,-342 344,-342 350,-342 356,-348 356,-354 356,-354 356,-413 356,-413 356,-419 350,-425 344,-425\"/>\r\n<text text-anchor=\"start\" x=\"215\" y=\"-409.8\" font-family=\"Helvetica,sans-Serif\" font-size=\"14.00\">LoanAmount ≤ 129.0</text>\r\n<text text-anchor=\"start\" x=\"244\" y=\"-394.8\" font-family=\"Helvetica,sans-Serif\" font-size=\"14.00\">gini = 0.147</text>\r\n<text text-anchor=\"start\" x=\"238\" y=\"-379.8\" font-family=\"Helvetica,sans-Serif\" font-size=\"14.00\">samples = 50</text>\r\n<text text-anchor=\"start\" x=\"237\" y=\"-364.8\" font-family=\"Helvetica,sans-Serif\" font-size=\"14.00\">value = [46, 4]</text>\r\n<text text-anchor=\"start\" x=\"244.5\" y=\"-349.8\" font-family=\"Helvetica,sans-Serif\" font-size=\"14.00\">class = Yes</text>\r\n</g>\r\n<!-- 1&#45;&gt;2 -->\r\n<g id=\"edge2\" class=\"edge\">\r\n<title>1&#45;&gt;2</title>\r\n<path fill=\"none\" stroke=\"black\" d=\"M391.21,-460.91C377.27,-451.2 362.28,-440.76 348,-430.81\"/>\r\n<polygon fill=\"black\" stroke=\"black\" points=\"349.89,-427.86 339.68,-425.02 345.89,-433.61 349.89,-427.86\"/>\r\n</g>\r\n<!-- 9 -->\r\n<g id=\"node10\" class=\"node\">\r\n<title>9</title>\r\n<path fill=\"#399de5\" stroke=\"black\" d=\"M486,-417.5C486,-417.5 413,-417.5 413,-417.5 407,-417.5 401,-411.5 401,-405.5 401,-405.5 401,-361.5 401,-361.5 401,-355.5 407,-349.5 413,-349.5 413,-349.5 486,-349.5 486,-349.5 492,-349.5 498,-355.5 498,-361.5 498,-361.5 498,-405.5 498,-405.5 498,-411.5 492,-417.5 486,-417.5\"/>\r\n<text text-anchor=\"start\" x=\"420.5\" y=\"-402.3\" font-family=\"Helvetica,sans-Serif\" font-size=\"14.00\">gini = 0.0</text>\r\n<text text-anchor=\"start\" x=\"410\" y=\"-387.3\" font-family=\"Helvetica,sans-Serif\" font-size=\"14.00\">samples = 1</text>\r\n<text text-anchor=\"start\" x=\"409\" y=\"-372.3\" font-family=\"Helvetica,sans-Serif\" font-size=\"14.00\">value = [0, 1]</text>\r\n<text text-anchor=\"start\" x=\"416\" y=\"-357.3\" font-family=\"Helvetica,sans-Serif\" font-size=\"14.00\">class = No</text>\r\n</g>\r\n<!-- 1&#45;&gt;9 -->\r\n<g id=\"edge9\" class=\"edge\">\r\n<title>1&#45;&gt;9</title>\r\n<path fill=\"none\" stroke=\"black\" d=\"M449.5,-460.91C449.5,-450.2 449.5,-438.62 449.5,-427.78\"/>\r\n<polygon fill=\"black\" stroke=\"black\" points=\"453,-427.67 449.5,-417.67 446,-427.67 453,-427.67\"/>\r\n</g>\r\n<!-- 3 -->\r\n<g id=\"node4\" class=\"node\">\r\n<title>3</title>\r\n<path fill=\"#e58139\" stroke=\"black\" d=\"M177,-298.5C177,-298.5 96,-298.5 96,-298.5 90,-298.5 84,-292.5 84,-286.5 84,-286.5 84,-242.5 84,-242.5 84,-236.5 90,-230.5 96,-230.5 96,-230.5 177,-230.5 177,-230.5 183,-230.5 189,-236.5 189,-242.5 189,-242.5 189,-286.5 189,-286.5 189,-292.5 183,-298.5 177,-298.5\"/>\r\n<text text-anchor=\"start\" x=\"107.5\" y=\"-283.3\" font-family=\"Helvetica,sans-Serif\" font-size=\"14.00\">gini = 0.0</text>\r\n<text text-anchor=\"start\" x=\"93\" y=\"-268.3\" font-family=\"Helvetica,sans-Serif\" font-size=\"14.00\">samples = 28</text>\r\n<text text-anchor=\"start\" x=\"92\" y=\"-253.3\" font-family=\"Helvetica,sans-Serif\" font-size=\"14.00\">value = [28, 0]</text>\r\n<text text-anchor=\"start\" x=\"99.5\" y=\"-238.3\" font-family=\"Helvetica,sans-Serif\" font-size=\"14.00\">class = Yes</text>\r\n</g>\r\n<!-- 2&#45;&gt;3 -->\r\n<g id=\"edge3\" class=\"edge\">\r\n<title>2&#45;&gt;3</title>\r\n<path fill=\"none\" stroke=\"black\" d=\"M231.19,-341.91C216.42,-329.99 200.29,-316.98 185.6,-305.12\"/>\r\n<polygon fill=\"black\" stroke=\"black\" points=\"187.58,-302.22 177.6,-298.67 183.19,-307.67 187.58,-302.22\"/>\r\n</g>\r\n<!-- 4 -->\r\n<g id=\"node5\" class=\"node\">\r\n<title>4</title>\r\n<path fill=\"#eb9d65\" stroke=\"black\" d=\"M344,-306C344,-306 219,-306 219,-306 213,-306 207,-300 207,-294 207,-294 207,-235 207,-235 207,-229 213,-223 219,-223 219,-223 344,-223 344,-223 350,-223 356,-229 356,-235 356,-235 356,-294 356,-294 356,-300 350,-306 344,-306\"/>\r\n<text text-anchor=\"start\" x=\"215\" y=\"-290.8\" font-family=\"Helvetica,sans-Serif\" font-size=\"14.00\">LoanAmount ≤ 163.0</text>\r\n<text text-anchor=\"start\" x=\"244\" y=\"-275.8\" font-family=\"Helvetica,sans-Serif\" font-size=\"14.00\">gini = 0.298</text>\r\n<text text-anchor=\"start\" x=\"238\" y=\"-260.8\" font-family=\"Helvetica,sans-Serif\" font-size=\"14.00\">samples = 22</text>\r\n<text text-anchor=\"start\" x=\"237\" y=\"-245.8\" font-family=\"Helvetica,sans-Serif\" font-size=\"14.00\">value = [18, 4]</text>\r\n<text text-anchor=\"start\" x=\"244.5\" y=\"-230.8\" font-family=\"Helvetica,sans-Serif\" font-size=\"14.00\">class = Yes</text>\r\n</g>\r\n<!-- 2&#45;&gt;4 -->\r\n<g id=\"edge4\" class=\"edge\">\r\n<title>2&#45;&gt;4</title>\r\n<path fill=\"none\" stroke=\"black\" d=\"M281.5,-341.91C281.5,-333.65 281.5,-324.86 281.5,-316.3\"/>\r\n<polygon fill=\"black\" stroke=\"black\" points=\"285,-316.02 281.5,-306.02 278,-316.02 285,-316.02\"/>\r\n</g>\r\n<!-- 5 -->\r\n<g id=\"node6\" class=\"node\">\r\n<title>5</title>\r\n<path fill=\"#f6d5bd\" stroke=\"black\" d=\"M199,-187C199,-187 40,-187 40,-187 34,-187 28,-181 28,-175 28,-175 28,-116 28,-116 28,-110 34,-104 40,-104 40,-104 199,-104 199,-104 205,-104 211,-110 211,-116 211,-116 211,-175 211,-175 211,-181 205,-187 199,-187\"/>\r\n<text text-anchor=\"start\" x=\"36\" y=\"-171.8\" font-family=\"Helvetica,sans-Serif\" font-size=\"14.00\">ApplicantIncome ≤ 4316.5</text>\r\n<text text-anchor=\"start\" x=\"86\" y=\"-156.8\" font-family=\"Helvetica,sans-Serif\" font-size=\"14.00\">gini = 0.48</text>\r\n<text text-anchor=\"start\" x=\"76\" y=\"-141.8\" font-family=\"Helvetica,sans-Serif\" font-size=\"14.00\">samples = 10</text>\r\n<text text-anchor=\"start\" x=\"79\" y=\"-126.8\" font-family=\"Helvetica,sans-Serif\" font-size=\"14.00\">value = [6, 4]</text>\r\n<text text-anchor=\"start\" x=\"82.5\" y=\"-111.8\" font-family=\"Helvetica,sans-Serif\" font-size=\"14.00\">class = Yes</text>\r\n</g>\r\n<!-- 4&#45;&gt;5 -->\r\n<g id=\"edge5\" class=\"edge\">\r\n<title>4&#45;&gt;5</title>\r\n<path fill=\"none\" stroke=\"black\" d=\"M225.29,-222.91C211.98,-213.29 197.67,-202.95 184.01,-193.09\"/>\r\n<polygon fill=\"black\" stroke=\"black\" points=\"185.76,-190.04 175.61,-187.02 181.66,-195.71 185.76,-190.04\"/>\r\n</g>\r\n<!-- 8 -->\r\n<g id=\"node9\" class=\"node\">\r\n<title>8</title>\r\n<path fill=\"#e58139\" stroke=\"black\" d=\"M322,-179.5C322,-179.5 241,-179.5 241,-179.5 235,-179.5 229,-173.5 229,-167.5 229,-167.5 229,-123.5 229,-123.5 229,-117.5 235,-111.5 241,-111.5 241,-111.5 322,-111.5 322,-111.5 328,-111.5 334,-117.5 334,-123.5 334,-123.5 334,-167.5 334,-167.5 334,-173.5 328,-179.5 322,-179.5\"/>\r\n<text text-anchor=\"start\" x=\"252.5\" y=\"-164.3\" font-family=\"Helvetica,sans-Serif\" font-size=\"14.00\">gini = 0.0</text>\r\n<text text-anchor=\"start\" x=\"238\" y=\"-149.3\" font-family=\"Helvetica,sans-Serif\" font-size=\"14.00\">samples = 12</text>\r\n<text text-anchor=\"start\" x=\"237\" y=\"-134.3\" font-family=\"Helvetica,sans-Serif\" font-size=\"14.00\">value = [12, 0]</text>\r\n<text text-anchor=\"start\" x=\"244.5\" y=\"-119.3\" font-family=\"Helvetica,sans-Serif\" font-size=\"14.00\">class = Yes</text>\r\n</g>\r\n<!-- 4&#45;&gt;8 -->\r\n<g id=\"edge8\" class=\"edge\">\r\n<title>4&#45;&gt;8</title>\r\n<path fill=\"none\" stroke=\"black\" d=\"M281.5,-222.91C281.5,-212.2 281.5,-200.62 281.5,-189.78\"/>\r\n<polygon fill=\"black\" stroke=\"black\" points=\"285,-189.67 281.5,-179.67 278,-189.67 285,-189.67\"/>\r\n</g>\r\n<!-- 6 -->\r\n<g id=\"node7\" class=\"node\">\r\n<title>6</title>\r\n<path fill=\"#ea9a61\" stroke=\"black\" d=\"M85,-68C85,-68 12,-68 12,-68 6,-68 0,-62 0,-56 0,-56 0,-12 0,-12 0,-6 6,0 12,0 12,0 85,0 85,0 91,0 97,-6 97,-12 97,-12 97,-56 97,-56 97,-62 91,-68 85,-68\"/>\r\n<text text-anchor=\"start\" x=\"11\" y=\"-52.8\" font-family=\"Helvetica,sans-Serif\" font-size=\"14.00\">gini = 0.278</text>\r\n<text text-anchor=\"start\" x=\"9\" y=\"-37.8\" font-family=\"Helvetica,sans-Serif\" font-size=\"14.00\">samples = 6</text>\r\n<text text-anchor=\"start\" x=\"8\" y=\"-22.8\" font-family=\"Helvetica,sans-Serif\" font-size=\"14.00\">value = [5, 1]</text>\r\n<text text-anchor=\"start\" x=\"11.5\" y=\"-7.8\" font-family=\"Helvetica,sans-Serif\" font-size=\"14.00\">class = Yes</text>\r\n</g>\r\n<!-- 5&#45;&gt;6 -->\r\n<g id=\"edge6\" class=\"edge\">\r\n<title>5&#45;&gt;6</title>\r\n<path fill=\"none\" stroke=\"black\" d=\"M93.06,-103.73C87.38,-94.97 81.38,-85.7 75.67,-76.91\"/>\r\n<polygon fill=\"black\" stroke=\"black\" points=\"78.47,-74.79 70.09,-68.3 72.6,-78.59 78.47,-74.79\"/>\r\n</g>\r\n<!-- 7 -->\r\n<g id=\"node8\" class=\"node\">\r\n<title>7</title>\r\n<path fill=\"#7bbeee\" stroke=\"black\" d=\"M200,-68C200,-68 127,-68 127,-68 121,-68 115,-62 115,-56 115,-56 115,-12 115,-12 115,-6 121,0 127,0 127,0 200,0 200,0 206,0 212,-6 212,-12 212,-12 212,-56 212,-56 212,-62 206,-68 200,-68\"/>\r\n<text text-anchor=\"start\" x=\"126\" y=\"-52.8\" font-family=\"Helvetica,sans-Serif\" font-size=\"14.00\">gini = 0.375</text>\r\n<text text-anchor=\"start\" x=\"124\" y=\"-37.8\" font-family=\"Helvetica,sans-Serif\" font-size=\"14.00\">samples = 4</text>\r\n<text text-anchor=\"start\" x=\"123\" y=\"-22.8\" font-family=\"Helvetica,sans-Serif\" font-size=\"14.00\">value = [1, 3]</text>\r\n<text text-anchor=\"start\" x=\"130\" y=\"-7.8\" font-family=\"Helvetica,sans-Serif\" font-size=\"14.00\">class = No</text>\r\n</g>\r\n<!-- 5&#45;&gt;7 -->\r\n<g id=\"edge7\" class=\"edge\">\r\n<title>5&#45;&gt;7</title>\r\n<path fill=\"none\" stroke=\"black\" d=\"M135.88,-103.73C139.29,-95.24 142.89,-86.28 146.33,-77.73\"/>\r\n<polygon fill=\"black\" stroke=\"black\" points=\"149.64,-78.88 150.12,-68.3 143.14,-76.27 149.64,-78.88\"/>\r\n</g>\r\n<!-- 11 -->\r\n<g id=\"node12\" class=\"node\">\r\n<title>11</title>\r\n<path fill=\"#64b2eb\" stroke=\"black\" d=\"M714,-425C714,-425 547,-425 547,-425 541,-425 535,-419 535,-413 535,-413 535,-354 535,-354 535,-348 541,-342 547,-342 547,-342 714,-342 714,-342 720,-342 726,-348 726,-354 726,-354 726,-413 726,-413 726,-419 720,-425 714,-425\"/>\r\n<text text-anchor=\"start\" x=\"543\" y=\"-409.8\" font-family=\"Helvetica,sans-Serif\" font-size=\"14.00\">Loan_Amount_Term ≤ 48.0</text>\r\n<text text-anchor=\"start\" x=\"593\" y=\"-394.8\" font-family=\"Helvetica,sans-Serif\" font-size=\"14.00\">gini = 0.292</text>\r\n<text text-anchor=\"start\" x=\"583\" y=\"-379.8\" font-family=\"Helvetica,sans-Serif\" font-size=\"14.00\">samples = 254</text>\r\n<text text-anchor=\"start\" x=\"577.5\" y=\"-364.8\" font-family=\"Helvetica,sans-Serif\" font-size=\"14.00\">value = [45, 209]</text>\r\n<text text-anchor=\"start\" x=\"597\" y=\"-349.8\" font-family=\"Helvetica,sans-Serif\" font-size=\"14.00\">class = No</text>\r\n</g>\r\n<!-- 10&#45;&gt;11 -->\r\n<g id=\"edge11\" class=\"edge\">\r\n<title>10&#45;&gt;11</title>\r\n<path fill=\"none\" stroke=\"black\" d=\"M630.5,-460.91C630.5,-452.65 630.5,-443.86 630.5,-435.3\"/>\r\n<polygon fill=\"black\" stroke=\"black\" points=\"634,-435.02 630.5,-425.02 627,-435.02 634,-435.02\"/>\r\n</g>\r\n<!-- 20 -->\r\n<g id=\"node21\" class=\"node\">\r\n<title>20</title>\r\n<path fill=\"#f3f9fd\" stroke=\"black\" d=\"M945.5,-425C945.5,-425 769.5,-425 769.5,-425 763.5,-425 757.5,-419 757.5,-413 757.5,-413 757.5,-354 757.5,-354 757.5,-348 763.5,-342 769.5,-342 769.5,-342 945.5,-342 945.5,-342 951.5,-342 957.5,-348 957.5,-354 957.5,-354 957.5,-413 957.5,-413 957.5,-419 951.5,-425 945.5,-425\"/>\r\n<text text-anchor=\"start\" x=\"765.5\" y=\"-409.8\" font-family=\"Helvetica,sans-Serif\" font-size=\"14.00\">CoapplicantIncome ≤ 7425.5</text>\r\n<text text-anchor=\"start\" x=\"820\" y=\"-394.8\" font-family=\"Helvetica,sans-Serif\" font-size=\"14.00\">gini = 0.499</text>\r\n<text text-anchor=\"start\" x=\"814\" y=\"-379.8\" font-family=\"Helvetica,sans-Serif\" font-size=\"14.00\">samples = 31</text>\r\n<text text-anchor=\"start\" x=\"809\" y=\"-364.8\" font-family=\"Helvetica,sans-Serif\" font-size=\"14.00\">value = [15, 16]</text>\r\n<text text-anchor=\"start\" x=\"824\" y=\"-349.8\" font-family=\"Helvetica,sans-Serif\" font-size=\"14.00\">class = No</text>\r\n</g>\r\n<!-- 10&#45;&gt;20 -->\r\n<g id=\"edge20\" class=\"edge\">\r\n<title>10&#45;&gt;20</title>\r\n<path fill=\"none\" stroke=\"black\" d=\"M705.14,-463.03C725.83,-452.36 748.49,-440.69 769.85,-429.68\"/>\r\n<polygon fill=\"black\" stroke=\"black\" points=\"771.63,-432.7 778.91,-425.01 768.42,-426.48 771.63,-432.7\"/>\r\n</g>\r\n<!-- 12 -->\r\n<g id=\"node13\" class=\"node\">\r\n<title>12</title>\r\n<path fill=\"#e58139\" stroke=\"black\" d=\"M537,-298.5C537,-298.5 464,-298.5 464,-298.5 458,-298.5 452,-292.5 452,-286.5 452,-286.5 452,-242.5 452,-242.5 452,-236.5 458,-230.5 464,-230.5 464,-230.5 537,-230.5 537,-230.5 543,-230.5 549,-236.5 549,-242.5 549,-242.5 549,-286.5 549,-286.5 549,-292.5 543,-298.5 537,-298.5\"/>\r\n<text text-anchor=\"start\" x=\"471.5\" y=\"-283.3\" font-family=\"Helvetica,sans-Serif\" font-size=\"14.00\">gini = 0.0</text>\r\n<text text-anchor=\"start\" x=\"461\" y=\"-268.3\" font-family=\"Helvetica,sans-Serif\" font-size=\"14.00\">samples = 2</text>\r\n<text text-anchor=\"start\" x=\"460\" y=\"-253.3\" font-family=\"Helvetica,sans-Serif\" font-size=\"14.00\">value = [2, 0]</text>\r\n<text text-anchor=\"start\" x=\"463.5\" y=\"-238.3\" font-family=\"Helvetica,sans-Serif\" font-size=\"14.00\">class = Yes</text>\r\n</g>\r\n<!-- 11&#45;&gt;12 -->\r\n<g id=\"edge12\" class=\"edge\">\r\n<title>11&#45;&gt;12</title>\r\n<path fill=\"none\" stroke=\"black\" d=\"M585.4,-341.91C572.28,-330.1 557.96,-317.22 544.89,-305.45\"/>\r\n<polygon fill=\"black\" stroke=\"black\" points=\"547.13,-302.76 537.35,-298.67 542.44,-307.96 547.13,-302.76\"/>\r\n</g>\r\n<!-- 13 -->\r\n<g id=\"node14\" class=\"node\">\r\n<title>13</title>\r\n<path fill=\"#62b1ea\" stroke=\"black\" d=\"M699.5,-306C699.5,-306 579.5,-306 579.5,-306 573.5,-306 567.5,-300 567.5,-294 567.5,-294 567.5,-235 567.5,-235 567.5,-229 573.5,-223 579.5,-223 579.5,-223 699.5,-223 699.5,-223 705.5,-223 711.5,-229 711.5,-235 711.5,-235 711.5,-294 711.5,-294 711.5,-300 705.5,-306 699.5,-306\"/>\r\n<text text-anchor=\"start\" x=\"575.5\" y=\"-290.8\" font-family=\"Helvetica,sans-Serif\" font-size=\"14.00\">Property_Area ≤ 0.5</text>\r\n<text text-anchor=\"start\" x=\"602\" y=\"-275.8\" font-family=\"Helvetica,sans-Serif\" font-size=\"14.00\">gini = 0.283</text>\r\n<text text-anchor=\"start\" x=\"592\" y=\"-260.8\" font-family=\"Helvetica,sans-Serif\" font-size=\"14.00\">samples = 252</text>\r\n<text text-anchor=\"start\" x=\"586.5\" y=\"-245.8\" font-family=\"Helvetica,sans-Serif\" font-size=\"14.00\">value = [43, 209]</text>\r\n<text text-anchor=\"start\" x=\"606\" y=\"-230.8\" font-family=\"Helvetica,sans-Serif\" font-size=\"14.00\">class = No</text>\r\n</g>\r\n<!-- 11&#45;&gt;13 -->\r\n<g id=\"edge13\" class=\"edge\">\r\n<title>11&#45;&gt;13</title>\r\n<path fill=\"none\" stroke=\"black\" d=\"M633.62,-341.91C634.26,-333.56 634.95,-324.67 635.61,-316.02\"/>\r\n<polygon fill=\"black\" stroke=\"black\" points=\"639.11,-316.26 636.38,-306.02 632.13,-315.72 639.11,-316.26\"/>\r\n</g>\r\n<!-- 14 -->\r\n<g id=\"node15\" class=\"node\">\r\n<title>14</title>\r\n<path fill=\"#87c3ef\" stroke=\"black\" d=\"M540.5,-187C540.5,-187 364.5,-187 364.5,-187 358.5,-187 352.5,-181 352.5,-175 352.5,-175 352.5,-116 352.5,-116 352.5,-110 358.5,-104 364.5,-104 364.5,-104 540.5,-104 540.5,-104 546.5,-104 552.5,-110 552.5,-116 552.5,-116 552.5,-175 552.5,-175 552.5,-181 546.5,-187 540.5,-187\"/>\r\n<text text-anchor=\"start\" x=\"360.5\" y=\"-171.8\" font-family=\"Helvetica,sans-Serif\" font-size=\"14.00\">CoapplicantIncome ≤ 3003.5</text>\r\n<text text-anchor=\"start\" x=\"415\" y=\"-156.8\" font-family=\"Helvetica,sans-Serif\" font-size=\"14.00\">gini = 0.405</text>\r\n<text text-anchor=\"start\" x=\"409\" y=\"-141.8\" font-family=\"Helvetica,sans-Serif\" font-size=\"14.00\">samples = 71</text>\r\n<text text-anchor=\"start\" x=\"404\" y=\"-126.8\" font-family=\"Helvetica,sans-Serif\" font-size=\"14.00\">value = [20, 51]</text>\r\n<text text-anchor=\"start\" x=\"419\" y=\"-111.8\" font-family=\"Helvetica,sans-Serif\" font-size=\"14.00\">class = No</text>\r\n</g>\r\n<!-- 13&#45;&gt;14 -->\r\n<g id=\"edge14\" class=\"edge\">\r\n<title>13&#45;&gt;14</title>\r\n<path fill=\"none\" stroke=\"black\" d=\"M574.62,-222.91C558.96,-213.11 542.1,-202.56 526.07,-192.53\"/>\r\n<polygon fill=\"black\" stroke=\"black\" points=\"527.6,-189.36 517.26,-187.02 523.89,-195.29 527.6,-189.36\"/>\r\n</g>\r\n<!-- 17 -->\r\n<g id=\"node18\" class=\"node\">\r\n<title>17</title>\r\n<path fill=\"#56abe9\" stroke=\"black\" d=\"M742,-187C742,-187 583,-187 583,-187 577,-187 571,-181 571,-175 571,-175 571,-116 571,-116 571,-110 577,-104 583,-104 583,-104 742,-104 742,-104 748,-104 754,-110 754,-116 754,-116 754,-175 754,-175 754,-181 748,-187 742,-187\"/>\r\n<text text-anchor=\"start\" x=\"579\" y=\"-171.8\" font-family=\"Helvetica,sans-Serif\" font-size=\"14.00\">ApplicantIncome ≤ 1501.5</text>\r\n<text text-anchor=\"start\" x=\"625\" y=\"-156.8\" font-family=\"Helvetica,sans-Serif\" font-size=\"14.00\">gini = 0.222</text>\r\n<text text-anchor=\"start\" x=\"615\" y=\"-141.8\" font-family=\"Helvetica,sans-Serif\" font-size=\"14.00\">samples = 181</text>\r\n<text text-anchor=\"start\" x=\"609.5\" y=\"-126.8\" font-family=\"Helvetica,sans-Serif\" font-size=\"14.00\">value = [23, 158]</text>\r\n<text text-anchor=\"start\" x=\"629\" y=\"-111.8\" font-family=\"Helvetica,sans-Serif\" font-size=\"14.00\">class = No</text>\r\n</g>\r\n<!-- 13&#45;&gt;17 -->\r\n<g id=\"edge17\" class=\"edge\">\r\n<title>13&#45;&gt;17</title>\r\n<path fill=\"none\" stroke=\"black\" d=\"M647.48,-222.91C649.12,-214.56 650.87,-205.67 652.57,-197.02\"/>\r\n<polygon fill=\"black\" stroke=\"black\" points=\"656.04,-197.51 654.53,-187.02 649.17,-196.16 656.04,-197.51\"/>\r\n</g>\r\n<!-- 15 -->\r\n<g id=\"node16\" class=\"node\">\r\n<title>15</title>\r\n<path fill=\"#97ccf1\" stroke=\"black\" d=\"M374,-68C374,-68 285,-68 285,-68 279,-68 273,-62 273,-56 273,-56 273,-12 273,-12 273,-6 279,0 285,0 285,0 374,0 374,0 380,0 386,-6 386,-12 386,-12 386,-56 386,-56 386,-62 380,-68 374,-68\"/>\r\n<text text-anchor=\"start\" x=\"292\" y=\"-52.8\" font-family=\"Helvetica,sans-Serif\" font-size=\"14.00\">gini = 0.437</text>\r\n<text text-anchor=\"start\" x=\"286\" y=\"-37.8\" font-family=\"Helvetica,sans-Serif\" font-size=\"14.00\">samples = 62</text>\r\n<text text-anchor=\"start\" x=\"281\" y=\"-22.8\" font-family=\"Helvetica,sans-Serif\" font-size=\"14.00\">value = [20, 42]</text>\r\n<text text-anchor=\"start\" x=\"296\" y=\"-7.8\" font-family=\"Helvetica,sans-Serif\" font-size=\"14.00\">class = No</text>\r\n</g>\r\n<!-- 14&#45;&gt;15 -->\r\n<g id=\"edge15\" class=\"edge\">\r\n<title>14&#45;&gt;15</title>\r\n<path fill=\"none\" stroke=\"black\" d=\"M406.7,-103.73C396.15,-94.33 384.93,-84.35 374.42,-74.99\"/>\r\n<polygon fill=\"black\" stroke=\"black\" points=\"376.7,-72.33 366.91,-68.3 372.05,-77.56 376.7,-72.33\"/>\r\n</g>\r\n<!-- 16 -->\r\n<g id=\"node17\" class=\"node\">\r\n<title>16</title>\r\n<path fill=\"#399de5\" stroke=\"black\" d=\"M489,-68C489,-68 416,-68 416,-68 410,-68 404,-62 404,-56 404,-56 404,-12 404,-12 404,-6 410,0 416,0 416,0 489,0 489,0 495,0 501,-6 501,-12 501,-12 501,-56 501,-56 501,-62 495,-68 489,-68\"/>\r\n<text text-anchor=\"start\" x=\"423.5\" y=\"-52.8\" font-family=\"Helvetica,sans-Serif\" font-size=\"14.00\">gini = 0.0</text>\r\n<text text-anchor=\"start\" x=\"413\" y=\"-37.8\" font-family=\"Helvetica,sans-Serif\" font-size=\"14.00\">samples = 9</text>\r\n<text text-anchor=\"start\" x=\"412\" y=\"-22.8\" font-family=\"Helvetica,sans-Serif\" font-size=\"14.00\">value = [0, 9]</text>\r\n<text text-anchor=\"start\" x=\"419\" y=\"-7.8\" font-family=\"Helvetica,sans-Serif\" font-size=\"14.00\">class = No</text>\r\n</g>\r\n<!-- 14&#45;&gt;16 -->\r\n<g id=\"edge16\" class=\"edge\">\r\n<title>14&#45;&gt;16</title>\r\n<path fill=\"none\" stroke=\"black\" d=\"M452.5,-103.73C452.5,-95.52 452.5,-86.86 452.5,-78.56\"/>\r\n<polygon fill=\"black\" stroke=\"black\" points=\"456,-78.3 452.5,-68.3 449,-78.3 456,-78.3\"/>\r\n</g>\r\n<!-- 18 -->\r\n<g id=\"node19\" class=\"node\">\r\n<title>18</title>\r\n<path fill=\"#f2c09c\" stroke=\"black\" d=\"M604,-68C604,-68 531,-68 531,-68 525,-68 519,-62 519,-56 519,-56 519,-12 519,-12 519,-6 525,0 531,0 531,0 604,0 604,0 610,0 616,-6 616,-12 616,-12 616,-56 616,-56 616,-62 610,-68 604,-68\"/>\r\n<text text-anchor=\"start\" x=\"530\" y=\"-52.8\" font-family=\"Helvetica,sans-Serif\" font-size=\"14.00\">gini = 0.444</text>\r\n<text text-anchor=\"start\" x=\"528\" y=\"-37.8\" font-family=\"Helvetica,sans-Serif\" font-size=\"14.00\">samples = 3</text>\r\n<text text-anchor=\"start\" x=\"527\" y=\"-22.8\" font-family=\"Helvetica,sans-Serif\" font-size=\"14.00\">value = [2, 1]</text>\r\n<text text-anchor=\"start\" x=\"530.5\" y=\"-7.8\" font-family=\"Helvetica,sans-Serif\" font-size=\"14.00\">class = Yes</text>\r\n</g>\r\n<!-- 17&#45;&gt;18 -->\r\n<g id=\"edge18\" class=\"edge\">\r\n<title>17&#45;&gt;18</title>\r\n<path fill=\"none\" stroke=\"black\" d=\"M627.13,-103.73C619.29,-94.7 610.99,-85.12 603.14,-76.08\"/>\r\n<polygon fill=\"black\" stroke=\"black\" points=\"605.59,-73.56 596.39,-68.3 600.3,-78.15 605.59,-73.56\"/>\r\n</g>\r\n<!-- 19 -->\r\n<g id=\"node20\" class=\"node\">\r\n<title>19</title>\r\n<path fill=\"#53aae8\" stroke=\"black\" d=\"M744.5,-68C744.5,-68 646.5,-68 646.5,-68 640.5,-68 634.5,-62 634.5,-56 634.5,-56 634.5,-12 634.5,-12 634.5,-6 640.5,0 646.5,0 646.5,0 744.5,0 744.5,0 750.5,0 756.5,-6 756.5,-12 756.5,-12 756.5,-56 756.5,-56 756.5,-62 750.5,-68 744.5,-68\"/>\r\n<text text-anchor=\"start\" x=\"658\" y=\"-52.8\" font-family=\"Helvetica,sans-Serif\" font-size=\"14.00\">gini = 0.208</text>\r\n<text text-anchor=\"start\" x=\"648\" y=\"-37.8\" font-family=\"Helvetica,sans-Serif\" font-size=\"14.00\">samples = 178</text>\r\n<text text-anchor=\"start\" x=\"642.5\" y=\"-22.8\" font-family=\"Helvetica,sans-Serif\" font-size=\"14.00\">value = [21, 157]</text>\r\n<text text-anchor=\"start\" x=\"662\" y=\"-7.8\" font-family=\"Helvetica,sans-Serif\" font-size=\"14.00\">class = No</text>\r\n</g>\r\n<!-- 17&#45;&gt;19 -->\r\n<g id=\"edge19\" class=\"edge\">\r\n<title>17&#45;&gt;19</title>\r\n<path fill=\"none\" stroke=\"black\" d=\"M674.79,-103.73C677.32,-95.34 679.99,-86.47 682.54,-78.01\"/>\r\n<polygon fill=\"black\" stroke=\"black\" points=\"685.93,-78.88 685.46,-68.3 679.23,-76.86 685.93,-78.88\"/>\r\n</g>\r\n<!-- 21 -->\r\n<g id=\"node22\" class=\"node\">\r\n<title>21</title>\r\n<path fill=\"#cee6f8\" stroke=\"black\" d=\"M902,-306C902,-306 813,-306 813,-306 807,-306 801,-300 801,-294 801,-294 801,-235 801,-235 801,-229 807,-223 813,-223 813,-223 902,-223 902,-223 908,-223 914,-229 914,-235 914,-235 914,-294 914,-294 914,-300 908,-306 902,-306\"/>\r\n<text text-anchor=\"start\" x=\"816\" y=\"-290.8\" font-family=\"Helvetica,sans-Serif\" font-size=\"14.00\">Married ≤ 0.5</text>\r\n<text text-anchor=\"start\" x=\"824\" y=\"-275.8\" font-family=\"Helvetica,sans-Serif\" font-size=\"14.00\">gini = 0.49</text>\r\n<text text-anchor=\"start\" x=\"814\" y=\"-260.8\" font-family=\"Helvetica,sans-Serif\" font-size=\"14.00\">samples = 28</text>\r\n<text text-anchor=\"start\" x=\"809\" y=\"-245.8\" font-family=\"Helvetica,sans-Serif\" font-size=\"14.00\">value = [12, 16]</text>\r\n<text text-anchor=\"start\" x=\"824\" y=\"-230.8\" font-family=\"Helvetica,sans-Serif\" font-size=\"14.00\">class = No</text>\r\n</g>\r\n<!-- 20&#45;&gt;21 -->\r\n<g id=\"edge21\" class=\"edge\">\r\n<title>20&#45;&gt;21</title>\r\n<path fill=\"none\" stroke=\"black\" d=\"M857.5,-341.91C857.5,-333.65 857.5,-324.86 857.5,-316.3\"/>\r\n<polygon fill=\"black\" stroke=\"black\" points=\"861,-316.02 857.5,-306.02 854,-316.02 861,-316.02\"/>\r\n</g>\r\n<!-- 28 -->\r\n<g id=\"node29\" class=\"node\">\r\n<title>28</title>\r\n<path fill=\"#e58139\" stroke=\"black\" d=\"M1017,-298.5C1017,-298.5 944,-298.5 944,-298.5 938,-298.5 932,-292.5 932,-286.5 932,-286.5 932,-242.5 932,-242.5 932,-236.5 938,-230.5 944,-230.5 944,-230.5 1017,-230.5 1017,-230.5 1023,-230.5 1029,-236.5 1029,-242.5 1029,-242.5 1029,-286.5 1029,-286.5 1029,-292.5 1023,-298.5 1017,-298.5\"/>\r\n<text text-anchor=\"start\" x=\"951.5\" y=\"-283.3\" font-family=\"Helvetica,sans-Serif\" font-size=\"14.00\">gini = 0.0</text>\r\n<text text-anchor=\"start\" x=\"941\" y=\"-268.3\" font-family=\"Helvetica,sans-Serif\" font-size=\"14.00\">samples = 3</text>\r\n<text text-anchor=\"start\" x=\"940\" y=\"-253.3\" font-family=\"Helvetica,sans-Serif\" font-size=\"14.00\">value = [3, 0]</text>\r\n<text text-anchor=\"start\" x=\"943.5\" y=\"-238.3\" font-family=\"Helvetica,sans-Serif\" font-size=\"14.00\">class = Yes</text>\r\n</g>\r\n<!-- 20&#45;&gt;28 -->\r\n<g id=\"edge28\" class=\"edge\">\r\n<title>20&#45;&gt;28</title>\r\n<path fill=\"none\" stroke=\"black\" d=\"M900.17,-341.91C912.47,-330.21 925.88,-317.46 938.15,-305.78\"/>\r\n<polygon fill=\"black\" stroke=\"black\" points=\"940.8,-308.1 945.63,-298.67 935.97,-303.02 940.8,-308.1\"/>\r\n</g>\r\n<!-- 22 -->\r\n<g id=\"node23\" class=\"node\">\r\n<title>22</title>\r\n<path fill=\"#f0b78e\" stroke=\"black\" d=\"M917.5,-187C917.5,-187 797.5,-187 797.5,-187 791.5,-187 785.5,-181 785.5,-175 785.5,-175 785.5,-116 785.5,-116 785.5,-110 791.5,-104 797.5,-104 797.5,-104 917.5,-104 917.5,-104 923.5,-104 929.5,-110 929.5,-116 929.5,-116 929.5,-175 929.5,-175 929.5,-181 923.5,-187 917.5,-187\"/>\r\n<text text-anchor=\"start\" x=\"793.5\" y=\"-171.8\" font-family=\"Helvetica,sans-Serif\" font-size=\"14.00\">Property_Area ≤ 0.5</text>\r\n<text text-anchor=\"start\" x=\"824\" y=\"-156.8\" font-family=\"Helvetica,sans-Serif\" font-size=\"14.00\">gini = 0.42</text>\r\n<text text-anchor=\"start\" x=\"814\" y=\"-141.8\" font-family=\"Helvetica,sans-Serif\" font-size=\"14.00\">samples = 10</text>\r\n<text text-anchor=\"start\" x=\"817\" y=\"-126.8\" font-family=\"Helvetica,sans-Serif\" font-size=\"14.00\">value = [7, 3]</text>\r\n<text text-anchor=\"start\" x=\"820.5\" y=\"-111.8\" font-family=\"Helvetica,sans-Serif\" font-size=\"14.00\">class = Yes</text>\r\n</g>\r\n<!-- 21&#45;&gt;22 -->\r\n<g id=\"edge22\" class=\"edge\">\r\n<title>21&#45;&gt;22</title>\r\n<path fill=\"none\" stroke=\"black\" d=\"M857.5,-222.91C857.5,-214.65 857.5,-205.86 857.5,-197.3\"/>\r\n<polygon fill=\"black\" stroke=\"black\" points=\"861,-197.02 857.5,-187.02 854,-197.02 861,-197.02\"/>\r\n</g>\r\n<!-- 25 -->\r\n<g id=\"node26\" class=\"node\">\r\n<title>25</title>\r\n<path fill=\"#85c3ef\" stroke=\"black\" d=\"M1141,-187C1141,-187 974,-187 974,-187 968,-187 962,-181 962,-175 962,-175 962,-116 962,-116 962,-110 968,-104 974,-104 974,-104 1141,-104 1141,-104 1147,-104 1153,-110 1153,-116 1153,-116 1153,-175 1153,-175 1153,-181 1147,-187 1141,-187\"/>\r\n<text text-anchor=\"start\" x=\"970\" y=\"-171.8\" font-family=\"Helvetica,sans-Serif\" font-size=\"14.00\">ApplicantIncome ≤ 17916.5</text>\r\n<text text-anchor=\"start\" x=\"1020\" y=\"-156.8\" font-family=\"Helvetica,sans-Serif\" font-size=\"14.00\">gini = 0.401</text>\r\n<text text-anchor=\"start\" x=\"1014\" y=\"-141.8\" font-family=\"Helvetica,sans-Serif\" font-size=\"14.00\">samples = 18</text>\r\n<text text-anchor=\"start\" x=\"1013\" y=\"-126.8\" font-family=\"Helvetica,sans-Serif\" font-size=\"14.00\">value = [5, 13]</text>\r\n<text text-anchor=\"start\" x=\"1024\" y=\"-111.8\" font-family=\"Helvetica,sans-Serif\" font-size=\"14.00\">class = No</text>\r\n</g>\r\n<!-- 21&#45;&gt;25 -->\r\n<g id=\"edge25\" class=\"edge\">\r\n<title>21&#45;&gt;25</title>\r\n<path fill=\"none\" stroke=\"black\" d=\"M914.14,-228.02C916.96,-226.31 919.76,-224.63 922.5,-223 939.56,-212.86 957.97,-202.22 975.56,-192.21\"/>\r\n<polygon fill=\"black\" stroke=\"black\" points=\"977.7,-195.02 984.67,-187.04 974.24,-188.93 977.7,-195.02\"/>\r\n</g>\r\n<!-- 23 -->\r\n<g id=\"node24\" class=\"node\">\r\n<title>23</title>\r\n<path fill=\"#e58139\" stroke=\"black\" d=\"M860,-68C860,-68 787,-68 787,-68 781,-68 775,-62 775,-56 775,-56 775,-12 775,-12 775,-6 781,0 787,0 787,0 860,0 860,0 866,0 872,-6 872,-12 872,-12 872,-56 872,-56 872,-62 866,-68 860,-68\"/>\r\n<text text-anchor=\"start\" x=\"794.5\" y=\"-52.8\" font-family=\"Helvetica,sans-Serif\" font-size=\"14.00\">gini = 0.0</text>\r\n<text text-anchor=\"start\" x=\"784\" y=\"-37.8\" font-family=\"Helvetica,sans-Serif\" font-size=\"14.00\">samples = 5</text>\r\n<text text-anchor=\"start\" x=\"783\" y=\"-22.8\" font-family=\"Helvetica,sans-Serif\" font-size=\"14.00\">value = [5, 0]</text>\r\n<text text-anchor=\"start\" x=\"786.5\" y=\"-7.8\" font-family=\"Helvetica,sans-Serif\" font-size=\"14.00\">class = Yes</text>\r\n</g>\r\n<!-- 22&#45;&gt;23 -->\r\n<g id=\"edge23\" class=\"edge\">\r\n<title>22&#45;&gt;23</title>\r\n<path fill=\"none\" stroke=\"black\" d=\"M844.84,-103.73C842.23,-95.34 839.48,-86.47 836.85,-78.01\"/>\r\n<polygon fill=\"black\" stroke=\"black\" points=\"840.15,-76.81 833.84,-68.3 833.46,-78.89 840.15,-76.81\"/>\r\n</g>\r\n<!-- 24 -->\r\n<g id=\"node25\" class=\"node\">\r\n<title>24</title>\r\n<path fill=\"#bddef6\" stroke=\"black\" d=\"M975,-68C975,-68 902,-68 902,-68 896,-68 890,-62 890,-56 890,-56 890,-12 890,-12 890,-6 896,0 902,0 902,0 975,0 975,0 981,0 987,-6 987,-12 987,-12 987,-56 987,-56 987,-62 981,-68 975,-68\"/>\r\n<text text-anchor=\"start\" x=\"905\" y=\"-52.8\" font-family=\"Helvetica,sans-Serif\" font-size=\"14.00\">gini = 0.48</text>\r\n<text text-anchor=\"start\" x=\"899\" y=\"-37.8\" font-family=\"Helvetica,sans-Serif\" font-size=\"14.00\">samples = 5</text>\r\n<text text-anchor=\"start\" x=\"898\" y=\"-22.8\" font-family=\"Helvetica,sans-Serif\" font-size=\"14.00\">value = [2, 3]</text>\r\n<text text-anchor=\"start\" x=\"905\" y=\"-7.8\" font-family=\"Helvetica,sans-Serif\" font-size=\"14.00\">class = No</text>\r\n</g>\r\n<!-- 22&#45;&gt;24 -->\r\n<g id=\"edge24\" class=\"edge\">\r\n<title>22&#45;&gt;24</title>\r\n<path fill=\"none\" stroke=\"black\" d=\"M887.66,-103.73C894.27,-94.79 901.28,-85.32 907.91,-76.36\"/>\r\n<polygon fill=\"black\" stroke=\"black\" points=\"910.73,-78.42 913.87,-68.3 905.11,-74.26 910.73,-78.42\"/>\r\n</g>\r\n<!-- 26 -->\r\n<g id=\"node27\" class=\"node\">\r\n<title>26</title>\r\n<path fill=\"#67b4eb\" stroke=\"black\" d=\"M1098,-68C1098,-68 1017,-68 1017,-68 1011,-68 1005,-62 1005,-56 1005,-56 1005,-12 1005,-12 1005,-6 1011,0 1017,0 1017,0 1098,0 1098,0 1104,0 1110,-6 1110,-12 1110,-12 1110,-56 1110,-56 1110,-62 1104,-68 1098,-68\"/>\r\n<text text-anchor=\"start\" x=\"1020\" y=\"-52.8\" font-family=\"Helvetica,sans-Serif\" font-size=\"14.00\">gini = 0.305</text>\r\n<text text-anchor=\"start\" x=\"1014\" y=\"-37.8\" font-family=\"Helvetica,sans-Serif\" font-size=\"14.00\">samples = 16</text>\r\n<text text-anchor=\"start\" x=\"1013\" y=\"-22.8\" font-family=\"Helvetica,sans-Serif\" font-size=\"14.00\">value = [3, 13]</text>\r\n<text text-anchor=\"start\" x=\"1024\" y=\"-7.8\" font-family=\"Helvetica,sans-Serif\" font-size=\"14.00\">class = No</text>\r\n</g>\r\n<!-- 25&#45;&gt;26 -->\r\n<g id=\"edge26\" class=\"edge\">\r\n<title>25&#45;&gt;26</title>\r\n<path fill=\"none\" stroke=\"black\" d=\"M1057.5,-103.73C1057.5,-95.52 1057.5,-86.86 1057.5,-78.56\"/>\r\n<polygon fill=\"black\" stroke=\"black\" points=\"1061,-78.3 1057.5,-68.3 1054,-78.3 1061,-78.3\"/>\r\n</g>\r\n<!-- 27 -->\r\n<g id=\"node28\" class=\"node\">\r\n<title>27</title>\r\n<path fill=\"#e58139\" stroke=\"black\" d=\"M1213,-68C1213,-68 1140,-68 1140,-68 1134,-68 1128,-62 1128,-56 1128,-56 1128,-12 1128,-12 1128,-6 1134,0 1140,0 1140,0 1213,0 1213,0 1219,0 1225,-6 1225,-12 1225,-12 1225,-56 1225,-56 1225,-62 1219,-68 1213,-68\"/>\r\n<text text-anchor=\"start\" x=\"1147.5\" y=\"-52.8\" font-family=\"Helvetica,sans-Serif\" font-size=\"14.00\">gini = 0.0</text>\r\n<text text-anchor=\"start\" x=\"1137\" y=\"-37.8\" font-family=\"Helvetica,sans-Serif\" font-size=\"14.00\">samples = 2</text>\r\n<text text-anchor=\"start\" x=\"1136\" y=\"-22.8\" font-family=\"Helvetica,sans-Serif\" font-size=\"14.00\">value = [2, 0]</text>\r\n<text text-anchor=\"start\" x=\"1139.5\" y=\"-7.8\" font-family=\"Helvetica,sans-Serif\" font-size=\"14.00\">class = Yes</text>\r\n</g>\r\n<!-- 25&#45;&gt;27 -->\r\n<g id=\"edge27\" class=\"edge\">\r\n<title>25&#45;&gt;27</title>\r\n<path fill=\"none\" stroke=\"black\" d=\"M1101.81,-103.73C1111.92,-94.42 1122.66,-84.54 1132.75,-75.26\"/>\r\n<polygon fill=\"black\" stroke=\"black\" points=\"1135.32,-77.65 1140.31,-68.3 1130.58,-72.5 1135.32,-77.65\"/>\r\n</g>\r\n</g>\r\n</svg>\r\n",
      "text/plain": [
       "<graphviz.files.Source at 0x21aecd84c10>"
      ]
     },
     "metadata": {},
     "execution_count": 22
    }
   ],
   "metadata": {}
  }
 ],
 "metadata": {
  "orig_nbformat": 4,
  "language_info": {
   "name": "python",
   "version": "3.8.10",
   "mimetype": "text/x-python",
   "codemirror_mode": {
    "name": "ipython",
    "version": 3
   },
   "pygments_lexer": "ipython3",
   "nbconvert_exporter": "python",
   "file_extension": ".py"
  },
  "kernelspec": {
   "name": "python3",
   "display_name": "Python 3.8.10 64-bit ('base': conda)"
  },
  "interpreter": {
   "hash": "fe3bab233825460445dbfeea6dcd52ef5815a3fa13c858fea07ac830aa383284"
  }
 },
 "nbformat": 4,
 "nbformat_minor": 2
}