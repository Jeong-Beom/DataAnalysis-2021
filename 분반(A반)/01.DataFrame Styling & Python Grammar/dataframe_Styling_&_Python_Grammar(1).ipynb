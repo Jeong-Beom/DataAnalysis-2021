{
  "nbformat": 4,
  "nbformat_minor": 0,
  "metadata": {
    "colab": {
      "name": "dataframe_Styling & Python Grammar(1).ipynb",
      "provenance": [],
      "collapsed_sections": []
    },
    "kernelspec": {
      "name": "python3",
      "display_name": "Python 3"
    },
    "language_info": {
      "name": "python"
    }
  },
  "cells": [
    {
      "cell_type": "code",
      "metadata": {
        "colab": {
          "base_uri": "https://localhost:8080/",
          "height": 542
        },
        "id": "WZxX6pB8dIF5",
        "outputId": "3b5d342a-69ee-48ae-c7fc-e5cc6edcbd52"
      },
      "source": [
        "import pandas as pd\n",
        "import numpy as np\n",
        "\n",
        "np.random.seed(88)\n",
        "df = pd.DataFrame({'A' : np.linspace(1, 10, 10)})\n",
        "print(df)\n",
        "df = pd.concat([df, pd.DataFrame(np.random.randn(10, 4), columns = list('BCDE'))], axis = 1)\n",
        "df.iloc[3, 3], df.iloc[0, 2] = np.nan, np.nan\n",
        "df"
      ],
      "execution_count": 37,
      "outputs": [
        {
          "output_type": "stream",
          "name": "stdout",
          "text": [
            "      A\n",
            "0   1.0\n",
            "1   2.0\n",
            "2   3.0\n",
            "3   4.0\n",
            "4   5.0\n",
            "5   6.0\n",
            "6   7.0\n",
            "7   8.0\n",
            "8   9.0\n",
            "9  10.0\n"
          ]
        },
        {
          "output_type": "execute_result",
          "data": {
            "text/html": [
              "<div>\n",
              "<style scoped>\n",
              "    .dataframe tbody tr th:only-of-type {\n",
              "        vertical-align: middle;\n",
              "    }\n",
              "\n",
              "    .dataframe tbody tr th {\n",
              "        vertical-align: top;\n",
              "    }\n",
              "\n",
              "    .dataframe thead th {\n",
              "        text-align: right;\n",
              "    }\n",
              "</style>\n",
              "<table border=\"1\" class=\"dataframe\">\n",
              "  <thead>\n",
              "    <tr style=\"text-align: right;\">\n",
              "      <th></th>\n",
              "      <th>A</th>\n",
              "      <th>B</th>\n",
              "      <th>C</th>\n",
              "      <th>D</th>\n",
              "      <th>E</th>\n",
              "    </tr>\n",
              "  </thead>\n",
              "  <tbody>\n",
              "    <tr>\n",
              "      <th>0</th>\n",
              "      <td>1.0</td>\n",
              "      <td>0.106884</td>\n",
              "      <td>NaN</td>\n",
              "      <td>0.956563</td>\n",
              "      <td>0.068411</td>\n",
              "    </tr>\n",
              "    <tr>\n",
              "      <th>1</th>\n",
              "      <td>2.0</td>\n",
              "      <td>1.068514</td>\n",
              "      <td>0.997183</td>\n",
              "      <td>-0.931548</td>\n",
              "      <td>0.730430</td>\n",
              "    </tr>\n",
              "    <tr>\n",
              "      <th>2</th>\n",
              "      <td>3.0</td>\n",
              "      <td>-0.171214</td>\n",
              "      <td>-1.288691</td>\n",
              "      <td>1.061436</td>\n",
              "      <td>-0.040501</td>\n",
              "    </tr>\n",
              "    <tr>\n",
              "      <th>3</th>\n",
              "      <td>4.0</td>\n",
              "      <td>-0.903721</td>\n",
              "      <td>-1.554133</td>\n",
              "      <td>NaN</td>\n",
              "      <td>0.200526</td>\n",
              "    </tr>\n",
              "    <tr>\n",
              "      <th>4</th>\n",
              "      <td>5.0</td>\n",
              "      <td>-0.747329</td>\n",
              "      <td>1.068081</td>\n",
              "      <td>-0.277024</td>\n",
              "      <td>0.086557</td>\n",
              "    </tr>\n",
              "    <tr>\n",
              "      <th>5</th>\n",
              "      <td>6.0</td>\n",
              "      <td>-0.253221</td>\n",
              "      <td>-1.212041</td>\n",
              "      <td>0.277273</td>\n",
              "      <td>0.552219</td>\n",
              "    </tr>\n",
              "    <tr>\n",
              "      <th>6</th>\n",
              "      <td>7.0</td>\n",
              "      <td>-0.467743</td>\n",
              "      <td>-1.427493</td>\n",
              "      <td>0.885805</td>\n",
              "      <td>2.360634</td>\n",
              "    </tr>\n",
              "    <tr>\n",
              "      <th>7</th>\n",
              "      <td>8.0</td>\n",
              "      <td>-1.522006</td>\n",
              "      <td>-0.215945</td>\n",
              "      <td>0.190327</td>\n",
              "      <td>0.722256</td>\n",
              "    </tr>\n",
              "    <tr>\n",
              "      <th>8</th>\n",
              "      <td>9.0</td>\n",
              "      <td>-0.870716</td>\n",
              "      <td>0.101749</td>\n",
              "      <td>0.555358</td>\n",
              "      <td>0.962261</td>\n",
              "    </tr>\n",
              "    <tr>\n",
              "      <th>9</th>\n",
              "      <td>10.0</td>\n",
              "      <td>1.433499</td>\n",
              "      <td>-0.701818</td>\n",
              "      <td>-0.856952</td>\n",
              "      <td>-0.858158</td>\n",
              "    </tr>\n",
              "  </tbody>\n",
              "</table>\n",
              "</div>"
            ],
            "text/plain": [
              "      A         B         C         D         E\n",
              "0   1.0  0.106884       NaN  0.956563  0.068411\n",
              "1   2.0  1.068514  0.997183 -0.931548  0.730430\n",
              "2   3.0 -0.171214 -1.288691  1.061436 -0.040501\n",
              "3   4.0 -0.903721 -1.554133       NaN  0.200526\n",
              "4   5.0 -0.747329  1.068081 -0.277024  0.086557\n",
              "5   6.0 -0.253221 -1.212041  0.277273  0.552219\n",
              "6   7.0 -0.467743 -1.427493  0.885805  2.360634\n",
              "7   8.0 -1.522006 -0.215945  0.190327  0.722256\n",
              "8   9.0 -0.870716  0.101749  0.555358  0.962261\n",
              "9  10.0  1.433499 -0.701818 -0.856952 -0.858158"
            ]
          },
          "metadata": {},
          "execution_count": 37
        }
      ]
    },
    {
      "cell_type": "code",
      "metadata": {
        "id": "AzfZ-3KOo46i"
      },
      "source": [
        "from google.colab import drive\n",
        "drive.mount('/content/drive')"
      ],
      "execution_count": null,
      "outputs": []
    },
    {
      "cell_type": "code",
      "metadata": {
        "colab": {
          "base_uri": "https://localhost:8080/",
          "height": 243
        },
        "id": "EO-O99nZd51o",
        "outputId": "b42ea423-dbb8-42aa-fbe5-103022a1ad0a"
      },
      "source": [
        "df.style.highlight_max(color = 'green').highlight_min(color = 'pink')"
      ],
      "execution_count": 39,
      "outputs": [
        {
          "output_type": "execute_result",
          "data": {
            "text/html": [
              "<style  type=\"text/css\" >\n",
              "#T_639d9560_11e1_11ec_98e5_0242ac1c0002row0_col0,#T_639d9560_11e1_11ec_98e5_0242ac1c0002row1_col3,#T_639d9560_11e1_11ec_98e5_0242ac1c0002row3_col2,#T_639d9560_11e1_11ec_98e5_0242ac1c0002row7_col1,#T_639d9560_11e1_11ec_98e5_0242ac1c0002row9_col4{\n",
              "            background-color:  pink;\n",
              "        }#T_639d9560_11e1_11ec_98e5_0242ac1c0002row2_col3,#T_639d9560_11e1_11ec_98e5_0242ac1c0002row4_col2,#T_639d9560_11e1_11ec_98e5_0242ac1c0002row6_col4,#T_639d9560_11e1_11ec_98e5_0242ac1c0002row9_col0,#T_639d9560_11e1_11ec_98e5_0242ac1c0002row9_col1{\n",
              "            background-color:  green;\n",
              "        }</style><table id=\"T_639d9560_11e1_11ec_98e5_0242ac1c0002\" ><thead>    <tr>        <th class=\"blank level0\" ></th>        <th class=\"col_heading level0 col0\" >A</th>        <th class=\"col_heading level0 col1\" >B</th>        <th class=\"col_heading level0 col2\" >C</th>        <th class=\"col_heading level0 col3\" >D</th>        <th class=\"col_heading level0 col4\" >E</th>    </tr></thead><tbody>\n",
              "                <tr>\n",
              "                        <th id=\"T_639d9560_11e1_11ec_98e5_0242ac1c0002level0_row0\" class=\"row_heading level0 row0\" >0</th>\n",
              "                        <td id=\"T_639d9560_11e1_11ec_98e5_0242ac1c0002row0_col0\" class=\"data row0 col0\" >1.000000</td>\n",
              "                        <td id=\"T_639d9560_11e1_11ec_98e5_0242ac1c0002row0_col1\" class=\"data row0 col1\" >0.106884</td>\n",
              "                        <td id=\"T_639d9560_11e1_11ec_98e5_0242ac1c0002row0_col2\" class=\"data row0 col2\" >nan</td>\n",
              "                        <td id=\"T_639d9560_11e1_11ec_98e5_0242ac1c0002row0_col3\" class=\"data row0 col3\" >0.956563</td>\n",
              "                        <td id=\"T_639d9560_11e1_11ec_98e5_0242ac1c0002row0_col4\" class=\"data row0 col4\" >0.068411</td>\n",
              "            </tr>\n",
              "            <tr>\n",
              "                        <th id=\"T_639d9560_11e1_11ec_98e5_0242ac1c0002level0_row1\" class=\"row_heading level0 row1\" >1</th>\n",
              "                        <td id=\"T_639d9560_11e1_11ec_98e5_0242ac1c0002row1_col0\" class=\"data row1 col0\" >2.000000</td>\n",
              "                        <td id=\"T_639d9560_11e1_11ec_98e5_0242ac1c0002row1_col1\" class=\"data row1 col1\" >1.068514</td>\n",
              "                        <td id=\"T_639d9560_11e1_11ec_98e5_0242ac1c0002row1_col2\" class=\"data row1 col2\" >0.997183</td>\n",
              "                        <td id=\"T_639d9560_11e1_11ec_98e5_0242ac1c0002row1_col3\" class=\"data row1 col3\" >-0.931548</td>\n",
              "                        <td id=\"T_639d9560_11e1_11ec_98e5_0242ac1c0002row1_col4\" class=\"data row1 col4\" >0.730430</td>\n",
              "            </tr>\n",
              "            <tr>\n",
              "                        <th id=\"T_639d9560_11e1_11ec_98e5_0242ac1c0002level0_row2\" class=\"row_heading level0 row2\" >2</th>\n",
              "                        <td id=\"T_639d9560_11e1_11ec_98e5_0242ac1c0002row2_col0\" class=\"data row2 col0\" >3.000000</td>\n",
              "                        <td id=\"T_639d9560_11e1_11ec_98e5_0242ac1c0002row2_col1\" class=\"data row2 col1\" >-0.171214</td>\n",
              "                        <td id=\"T_639d9560_11e1_11ec_98e5_0242ac1c0002row2_col2\" class=\"data row2 col2\" >-1.288691</td>\n",
              "                        <td id=\"T_639d9560_11e1_11ec_98e5_0242ac1c0002row2_col3\" class=\"data row2 col3\" >1.061436</td>\n",
              "                        <td id=\"T_639d9560_11e1_11ec_98e5_0242ac1c0002row2_col4\" class=\"data row2 col4\" >-0.040501</td>\n",
              "            </tr>\n",
              "            <tr>\n",
              "                        <th id=\"T_639d9560_11e1_11ec_98e5_0242ac1c0002level0_row3\" class=\"row_heading level0 row3\" >3</th>\n",
              "                        <td id=\"T_639d9560_11e1_11ec_98e5_0242ac1c0002row3_col0\" class=\"data row3 col0\" >4.000000</td>\n",
              "                        <td id=\"T_639d9560_11e1_11ec_98e5_0242ac1c0002row3_col1\" class=\"data row3 col1\" >-0.903721</td>\n",
              "                        <td id=\"T_639d9560_11e1_11ec_98e5_0242ac1c0002row3_col2\" class=\"data row3 col2\" >-1.554133</td>\n",
              "                        <td id=\"T_639d9560_11e1_11ec_98e5_0242ac1c0002row3_col3\" class=\"data row3 col3\" >nan</td>\n",
              "                        <td id=\"T_639d9560_11e1_11ec_98e5_0242ac1c0002row3_col4\" class=\"data row3 col4\" >0.200526</td>\n",
              "            </tr>\n",
              "            <tr>\n",
              "                        <th id=\"T_639d9560_11e1_11ec_98e5_0242ac1c0002level0_row4\" class=\"row_heading level0 row4\" >4</th>\n",
              "                        <td id=\"T_639d9560_11e1_11ec_98e5_0242ac1c0002row4_col0\" class=\"data row4 col0\" >5.000000</td>\n",
              "                        <td id=\"T_639d9560_11e1_11ec_98e5_0242ac1c0002row4_col1\" class=\"data row4 col1\" >-0.747329</td>\n",
              "                        <td id=\"T_639d9560_11e1_11ec_98e5_0242ac1c0002row4_col2\" class=\"data row4 col2\" >1.068081</td>\n",
              "                        <td id=\"T_639d9560_11e1_11ec_98e5_0242ac1c0002row4_col3\" class=\"data row4 col3\" >-0.277024</td>\n",
              "                        <td id=\"T_639d9560_11e1_11ec_98e5_0242ac1c0002row4_col4\" class=\"data row4 col4\" >0.086557</td>\n",
              "            </tr>\n",
              "            <tr>\n",
              "                        <th id=\"T_639d9560_11e1_11ec_98e5_0242ac1c0002level0_row5\" class=\"row_heading level0 row5\" >5</th>\n",
              "                        <td id=\"T_639d9560_11e1_11ec_98e5_0242ac1c0002row5_col0\" class=\"data row5 col0\" >6.000000</td>\n",
              "                        <td id=\"T_639d9560_11e1_11ec_98e5_0242ac1c0002row5_col1\" class=\"data row5 col1\" >-0.253221</td>\n",
              "                        <td id=\"T_639d9560_11e1_11ec_98e5_0242ac1c0002row5_col2\" class=\"data row5 col2\" >-1.212041</td>\n",
              "                        <td id=\"T_639d9560_11e1_11ec_98e5_0242ac1c0002row5_col3\" class=\"data row5 col3\" >0.277273</td>\n",
              "                        <td id=\"T_639d9560_11e1_11ec_98e5_0242ac1c0002row5_col4\" class=\"data row5 col4\" >0.552219</td>\n",
              "            </tr>\n",
              "            <tr>\n",
              "                        <th id=\"T_639d9560_11e1_11ec_98e5_0242ac1c0002level0_row6\" class=\"row_heading level0 row6\" >6</th>\n",
              "                        <td id=\"T_639d9560_11e1_11ec_98e5_0242ac1c0002row6_col0\" class=\"data row6 col0\" >7.000000</td>\n",
              "                        <td id=\"T_639d9560_11e1_11ec_98e5_0242ac1c0002row6_col1\" class=\"data row6 col1\" >-0.467743</td>\n",
              "                        <td id=\"T_639d9560_11e1_11ec_98e5_0242ac1c0002row6_col2\" class=\"data row6 col2\" >-1.427493</td>\n",
              "                        <td id=\"T_639d9560_11e1_11ec_98e5_0242ac1c0002row6_col3\" class=\"data row6 col3\" >0.885805</td>\n",
              "                        <td id=\"T_639d9560_11e1_11ec_98e5_0242ac1c0002row6_col4\" class=\"data row6 col4\" >2.360634</td>\n",
              "            </tr>\n",
              "            <tr>\n",
              "                        <th id=\"T_639d9560_11e1_11ec_98e5_0242ac1c0002level0_row7\" class=\"row_heading level0 row7\" >7</th>\n",
              "                        <td id=\"T_639d9560_11e1_11ec_98e5_0242ac1c0002row7_col0\" class=\"data row7 col0\" >8.000000</td>\n",
              "                        <td id=\"T_639d9560_11e1_11ec_98e5_0242ac1c0002row7_col1\" class=\"data row7 col1\" >-1.522006</td>\n",
              "                        <td id=\"T_639d9560_11e1_11ec_98e5_0242ac1c0002row7_col2\" class=\"data row7 col2\" >-0.215945</td>\n",
              "                        <td id=\"T_639d9560_11e1_11ec_98e5_0242ac1c0002row7_col3\" class=\"data row7 col3\" >0.190327</td>\n",
              "                        <td id=\"T_639d9560_11e1_11ec_98e5_0242ac1c0002row7_col4\" class=\"data row7 col4\" >0.722256</td>\n",
              "            </tr>\n",
              "            <tr>\n",
              "                        <th id=\"T_639d9560_11e1_11ec_98e5_0242ac1c0002level0_row8\" class=\"row_heading level0 row8\" >8</th>\n",
              "                        <td id=\"T_639d9560_11e1_11ec_98e5_0242ac1c0002row8_col0\" class=\"data row8 col0\" >9.000000</td>\n",
              "                        <td id=\"T_639d9560_11e1_11ec_98e5_0242ac1c0002row8_col1\" class=\"data row8 col1\" >-0.870716</td>\n",
              "                        <td id=\"T_639d9560_11e1_11ec_98e5_0242ac1c0002row8_col2\" class=\"data row8 col2\" >0.101749</td>\n",
              "                        <td id=\"T_639d9560_11e1_11ec_98e5_0242ac1c0002row8_col3\" class=\"data row8 col3\" >0.555358</td>\n",
              "                        <td id=\"T_639d9560_11e1_11ec_98e5_0242ac1c0002row8_col4\" class=\"data row8 col4\" >0.962261</td>\n",
              "            </tr>\n",
              "            <tr>\n",
              "                        <th id=\"T_639d9560_11e1_11ec_98e5_0242ac1c0002level0_row9\" class=\"row_heading level0 row9\" >9</th>\n",
              "                        <td id=\"T_639d9560_11e1_11ec_98e5_0242ac1c0002row9_col0\" class=\"data row9 col0\" >10.000000</td>\n",
              "                        <td id=\"T_639d9560_11e1_11ec_98e5_0242ac1c0002row9_col1\" class=\"data row9 col1\" >1.433499</td>\n",
              "                        <td id=\"T_639d9560_11e1_11ec_98e5_0242ac1c0002row9_col2\" class=\"data row9 col2\" >-0.701818</td>\n",
              "                        <td id=\"T_639d9560_11e1_11ec_98e5_0242ac1c0002row9_col3\" class=\"data row9 col3\" >-0.856952</td>\n",
              "                        <td id=\"T_639d9560_11e1_11ec_98e5_0242ac1c0002row9_col4\" class=\"data row9 col4\" >-0.858158</td>\n",
              "            </tr>\n",
              "    </tbody></table>"
            ],
            "text/plain": [
              "<pandas.io.formats.style.Styler at 0x7f162858f5d0>"
            ]
          },
          "metadata": {},
          "execution_count": 39
        }
      ]
    },
    {
      "cell_type": "code",
      "metadata": {
        "colab": {
          "base_uri": "https://localhost:8080/",
          "height": 269
        },
        "id": "Xhu9lbIJerkW",
        "outputId": "93ea9292-6663-4238-8a66-bfc47b958456"
      },
      "source": [
        "df.style.set_properties(**{'border' : '1.3px solid green', 'color' : 'magenta'})"
      ],
      "execution_count": 41,
      "outputs": [
        {
          "output_type": "execute_result",
          "data": {
            "text/html": [
              "<style  type=\"text/css\" >\n",
              "#T_9505bc0e_11e1_11ec_98e5_0242ac1c0002row0_col0,#T_9505bc0e_11e1_11ec_98e5_0242ac1c0002row0_col1,#T_9505bc0e_11e1_11ec_98e5_0242ac1c0002row0_col2,#T_9505bc0e_11e1_11ec_98e5_0242ac1c0002row0_col3,#T_9505bc0e_11e1_11ec_98e5_0242ac1c0002row0_col4,#T_9505bc0e_11e1_11ec_98e5_0242ac1c0002row1_col0,#T_9505bc0e_11e1_11ec_98e5_0242ac1c0002row1_col1,#T_9505bc0e_11e1_11ec_98e5_0242ac1c0002row1_col2,#T_9505bc0e_11e1_11ec_98e5_0242ac1c0002row1_col3,#T_9505bc0e_11e1_11ec_98e5_0242ac1c0002row1_col4,#T_9505bc0e_11e1_11ec_98e5_0242ac1c0002row2_col0,#T_9505bc0e_11e1_11ec_98e5_0242ac1c0002row2_col1,#T_9505bc0e_11e1_11ec_98e5_0242ac1c0002row2_col2,#T_9505bc0e_11e1_11ec_98e5_0242ac1c0002row2_col3,#T_9505bc0e_11e1_11ec_98e5_0242ac1c0002row2_col4,#T_9505bc0e_11e1_11ec_98e5_0242ac1c0002row3_col0,#T_9505bc0e_11e1_11ec_98e5_0242ac1c0002row3_col1,#T_9505bc0e_11e1_11ec_98e5_0242ac1c0002row3_col2,#T_9505bc0e_11e1_11ec_98e5_0242ac1c0002row3_col3,#T_9505bc0e_11e1_11ec_98e5_0242ac1c0002row3_col4,#T_9505bc0e_11e1_11ec_98e5_0242ac1c0002row4_col0,#T_9505bc0e_11e1_11ec_98e5_0242ac1c0002row4_col1,#T_9505bc0e_11e1_11ec_98e5_0242ac1c0002row4_col2,#T_9505bc0e_11e1_11ec_98e5_0242ac1c0002row4_col3,#T_9505bc0e_11e1_11ec_98e5_0242ac1c0002row4_col4,#T_9505bc0e_11e1_11ec_98e5_0242ac1c0002row5_col0,#T_9505bc0e_11e1_11ec_98e5_0242ac1c0002row5_col1,#T_9505bc0e_11e1_11ec_98e5_0242ac1c0002row5_col2,#T_9505bc0e_11e1_11ec_98e5_0242ac1c0002row5_col3,#T_9505bc0e_11e1_11ec_98e5_0242ac1c0002row5_col4,#T_9505bc0e_11e1_11ec_98e5_0242ac1c0002row6_col0,#T_9505bc0e_11e1_11ec_98e5_0242ac1c0002row6_col1,#T_9505bc0e_11e1_11ec_98e5_0242ac1c0002row6_col2,#T_9505bc0e_11e1_11ec_98e5_0242ac1c0002row6_col3,#T_9505bc0e_11e1_11ec_98e5_0242ac1c0002row6_col4,#T_9505bc0e_11e1_11ec_98e5_0242ac1c0002row7_col0,#T_9505bc0e_11e1_11ec_98e5_0242ac1c0002row7_col1,#T_9505bc0e_11e1_11ec_98e5_0242ac1c0002row7_col2,#T_9505bc0e_11e1_11ec_98e5_0242ac1c0002row7_col3,#T_9505bc0e_11e1_11ec_98e5_0242ac1c0002row7_col4,#T_9505bc0e_11e1_11ec_98e5_0242ac1c0002row8_col0,#T_9505bc0e_11e1_11ec_98e5_0242ac1c0002row8_col1,#T_9505bc0e_11e1_11ec_98e5_0242ac1c0002row8_col2,#T_9505bc0e_11e1_11ec_98e5_0242ac1c0002row8_col3,#T_9505bc0e_11e1_11ec_98e5_0242ac1c0002row8_col4,#T_9505bc0e_11e1_11ec_98e5_0242ac1c0002row9_col0,#T_9505bc0e_11e1_11ec_98e5_0242ac1c0002row9_col1,#T_9505bc0e_11e1_11ec_98e5_0242ac1c0002row9_col2,#T_9505bc0e_11e1_11ec_98e5_0242ac1c0002row9_col3,#T_9505bc0e_11e1_11ec_98e5_0242ac1c0002row9_col4{\n",
              "            border:  1.3px solid green;\n",
              "            color:  magenta;\n",
              "        }</style><table id=\"T_9505bc0e_11e1_11ec_98e5_0242ac1c0002\" ><thead>    <tr>        <th class=\"blank level0\" ></th>        <th class=\"col_heading level0 col0\" >A</th>        <th class=\"col_heading level0 col1\" >B</th>        <th class=\"col_heading level0 col2\" >C</th>        <th class=\"col_heading level0 col3\" >D</th>        <th class=\"col_heading level0 col4\" >E</th>    </tr></thead><tbody>\n",
              "                <tr>\n",
              "                        <th id=\"T_9505bc0e_11e1_11ec_98e5_0242ac1c0002level0_row0\" class=\"row_heading level0 row0\" >0</th>\n",
              "                        <td id=\"T_9505bc0e_11e1_11ec_98e5_0242ac1c0002row0_col0\" class=\"data row0 col0\" >1.000000</td>\n",
              "                        <td id=\"T_9505bc0e_11e1_11ec_98e5_0242ac1c0002row0_col1\" class=\"data row0 col1\" >0.106884</td>\n",
              "                        <td id=\"T_9505bc0e_11e1_11ec_98e5_0242ac1c0002row0_col2\" class=\"data row0 col2\" >nan</td>\n",
              "                        <td id=\"T_9505bc0e_11e1_11ec_98e5_0242ac1c0002row0_col3\" class=\"data row0 col3\" >0.956563</td>\n",
              "                        <td id=\"T_9505bc0e_11e1_11ec_98e5_0242ac1c0002row0_col4\" class=\"data row0 col4\" >0.068411</td>\n",
              "            </tr>\n",
              "            <tr>\n",
              "                        <th id=\"T_9505bc0e_11e1_11ec_98e5_0242ac1c0002level0_row1\" class=\"row_heading level0 row1\" >1</th>\n",
              "                        <td id=\"T_9505bc0e_11e1_11ec_98e5_0242ac1c0002row1_col0\" class=\"data row1 col0\" >2.000000</td>\n",
              "                        <td id=\"T_9505bc0e_11e1_11ec_98e5_0242ac1c0002row1_col1\" class=\"data row1 col1\" >1.068514</td>\n",
              "                        <td id=\"T_9505bc0e_11e1_11ec_98e5_0242ac1c0002row1_col2\" class=\"data row1 col2\" >0.997183</td>\n",
              "                        <td id=\"T_9505bc0e_11e1_11ec_98e5_0242ac1c0002row1_col3\" class=\"data row1 col3\" >-0.931548</td>\n",
              "                        <td id=\"T_9505bc0e_11e1_11ec_98e5_0242ac1c0002row1_col4\" class=\"data row1 col4\" >0.730430</td>\n",
              "            </tr>\n",
              "            <tr>\n",
              "                        <th id=\"T_9505bc0e_11e1_11ec_98e5_0242ac1c0002level0_row2\" class=\"row_heading level0 row2\" >2</th>\n",
              "                        <td id=\"T_9505bc0e_11e1_11ec_98e5_0242ac1c0002row2_col0\" class=\"data row2 col0\" >3.000000</td>\n",
              "                        <td id=\"T_9505bc0e_11e1_11ec_98e5_0242ac1c0002row2_col1\" class=\"data row2 col1\" >-0.171214</td>\n",
              "                        <td id=\"T_9505bc0e_11e1_11ec_98e5_0242ac1c0002row2_col2\" class=\"data row2 col2\" >-1.288691</td>\n",
              "                        <td id=\"T_9505bc0e_11e1_11ec_98e5_0242ac1c0002row2_col3\" class=\"data row2 col3\" >1.061436</td>\n",
              "                        <td id=\"T_9505bc0e_11e1_11ec_98e5_0242ac1c0002row2_col4\" class=\"data row2 col4\" >-0.040501</td>\n",
              "            </tr>\n",
              "            <tr>\n",
              "                        <th id=\"T_9505bc0e_11e1_11ec_98e5_0242ac1c0002level0_row3\" class=\"row_heading level0 row3\" >3</th>\n",
              "                        <td id=\"T_9505bc0e_11e1_11ec_98e5_0242ac1c0002row3_col0\" class=\"data row3 col0\" >4.000000</td>\n",
              "                        <td id=\"T_9505bc0e_11e1_11ec_98e5_0242ac1c0002row3_col1\" class=\"data row3 col1\" >-0.903721</td>\n",
              "                        <td id=\"T_9505bc0e_11e1_11ec_98e5_0242ac1c0002row3_col2\" class=\"data row3 col2\" >-1.554133</td>\n",
              "                        <td id=\"T_9505bc0e_11e1_11ec_98e5_0242ac1c0002row3_col3\" class=\"data row3 col3\" >nan</td>\n",
              "                        <td id=\"T_9505bc0e_11e1_11ec_98e5_0242ac1c0002row3_col4\" class=\"data row3 col4\" >0.200526</td>\n",
              "            </tr>\n",
              "            <tr>\n",
              "                        <th id=\"T_9505bc0e_11e1_11ec_98e5_0242ac1c0002level0_row4\" class=\"row_heading level0 row4\" >4</th>\n",
              "                        <td id=\"T_9505bc0e_11e1_11ec_98e5_0242ac1c0002row4_col0\" class=\"data row4 col0\" >5.000000</td>\n",
              "                        <td id=\"T_9505bc0e_11e1_11ec_98e5_0242ac1c0002row4_col1\" class=\"data row4 col1\" >-0.747329</td>\n",
              "                        <td id=\"T_9505bc0e_11e1_11ec_98e5_0242ac1c0002row4_col2\" class=\"data row4 col2\" >1.068081</td>\n",
              "                        <td id=\"T_9505bc0e_11e1_11ec_98e5_0242ac1c0002row4_col3\" class=\"data row4 col3\" >-0.277024</td>\n",
              "                        <td id=\"T_9505bc0e_11e1_11ec_98e5_0242ac1c0002row4_col4\" class=\"data row4 col4\" >0.086557</td>\n",
              "            </tr>\n",
              "            <tr>\n",
              "                        <th id=\"T_9505bc0e_11e1_11ec_98e5_0242ac1c0002level0_row5\" class=\"row_heading level0 row5\" >5</th>\n",
              "                        <td id=\"T_9505bc0e_11e1_11ec_98e5_0242ac1c0002row5_col0\" class=\"data row5 col0\" >6.000000</td>\n",
              "                        <td id=\"T_9505bc0e_11e1_11ec_98e5_0242ac1c0002row5_col1\" class=\"data row5 col1\" >-0.253221</td>\n",
              "                        <td id=\"T_9505bc0e_11e1_11ec_98e5_0242ac1c0002row5_col2\" class=\"data row5 col2\" >-1.212041</td>\n",
              "                        <td id=\"T_9505bc0e_11e1_11ec_98e5_0242ac1c0002row5_col3\" class=\"data row5 col3\" >0.277273</td>\n",
              "                        <td id=\"T_9505bc0e_11e1_11ec_98e5_0242ac1c0002row5_col4\" class=\"data row5 col4\" >0.552219</td>\n",
              "            </tr>\n",
              "            <tr>\n",
              "                        <th id=\"T_9505bc0e_11e1_11ec_98e5_0242ac1c0002level0_row6\" class=\"row_heading level0 row6\" >6</th>\n",
              "                        <td id=\"T_9505bc0e_11e1_11ec_98e5_0242ac1c0002row6_col0\" class=\"data row6 col0\" >7.000000</td>\n",
              "                        <td id=\"T_9505bc0e_11e1_11ec_98e5_0242ac1c0002row6_col1\" class=\"data row6 col1\" >-0.467743</td>\n",
              "                        <td id=\"T_9505bc0e_11e1_11ec_98e5_0242ac1c0002row6_col2\" class=\"data row6 col2\" >-1.427493</td>\n",
              "                        <td id=\"T_9505bc0e_11e1_11ec_98e5_0242ac1c0002row6_col3\" class=\"data row6 col3\" >0.885805</td>\n",
              "                        <td id=\"T_9505bc0e_11e1_11ec_98e5_0242ac1c0002row6_col4\" class=\"data row6 col4\" >2.360634</td>\n",
              "            </tr>\n",
              "            <tr>\n",
              "                        <th id=\"T_9505bc0e_11e1_11ec_98e5_0242ac1c0002level0_row7\" class=\"row_heading level0 row7\" >7</th>\n",
              "                        <td id=\"T_9505bc0e_11e1_11ec_98e5_0242ac1c0002row7_col0\" class=\"data row7 col0\" >8.000000</td>\n",
              "                        <td id=\"T_9505bc0e_11e1_11ec_98e5_0242ac1c0002row7_col1\" class=\"data row7 col1\" >-1.522006</td>\n",
              "                        <td id=\"T_9505bc0e_11e1_11ec_98e5_0242ac1c0002row7_col2\" class=\"data row7 col2\" >-0.215945</td>\n",
              "                        <td id=\"T_9505bc0e_11e1_11ec_98e5_0242ac1c0002row7_col3\" class=\"data row7 col3\" >0.190327</td>\n",
              "                        <td id=\"T_9505bc0e_11e1_11ec_98e5_0242ac1c0002row7_col4\" class=\"data row7 col4\" >0.722256</td>\n",
              "            </tr>\n",
              "            <tr>\n",
              "                        <th id=\"T_9505bc0e_11e1_11ec_98e5_0242ac1c0002level0_row8\" class=\"row_heading level0 row8\" >8</th>\n",
              "                        <td id=\"T_9505bc0e_11e1_11ec_98e5_0242ac1c0002row8_col0\" class=\"data row8 col0\" >9.000000</td>\n",
              "                        <td id=\"T_9505bc0e_11e1_11ec_98e5_0242ac1c0002row8_col1\" class=\"data row8 col1\" >-0.870716</td>\n",
              "                        <td id=\"T_9505bc0e_11e1_11ec_98e5_0242ac1c0002row8_col2\" class=\"data row8 col2\" >0.101749</td>\n",
              "                        <td id=\"T_9505bc0e_11e1_11ec_98e5_0242ac1c0002row8_col3\" class=\"data row8 col3\" >0.555358</td>\n",
              "                        <td id=\"T_9505bc0e_11e1_11ec_98e5_0242ac1c0002row8_col4\" class=\"data row8 col4\" >0.962261</td>\n",
              "            </tr>\n",
              "            <tr>\n",
              "                        <th id=\"T_9505bc0e_11e1_11ec_98e5_0242ac1c0002level0_row9\" class=\"row_heading level0 row9\" >9</th>\n",
              "                        <td id=\"T_9505bc0e_11e1_11ec_98e5_0242ac1c0002row9_col0\" class=\"data row9 col0\" >10.000000</td>\n",
              "                        <td id=\"T_9505bc0e_11e1_11ec_98e5_0242ac1c0002row9_col1\" class=\"data row9 col1\" >1.433499</td>\n",
              "                        <td id=\"T_9505bc0e_11e1_11ec_98e5_0242ac1c0002row9_col2\" class=\"data row9 col2\" >-0.701818</td>\n",
              "                        <td id=\"T_9505bc0e_11e1_11ec_98e5_0242ac1c0002row9_col3\" class=\"data row9 col3\" >-0.856952</td>\n",
              "                        <td id=\"T_9505bc0e_11e1_11ec_98e5_0242ac1c0002row9_col4\" class=\"data row9 col4\" >-0.858158</td>\n",
              "            </tr>\n",
              "    </tbody></table>"
            ],
            "text/plain": [
              "<pandas.io.formats.style.Styler at 0x7f1628d90990>"
            ]
          },
          "metadata": {},
          "execution_count": 41
        }
      ]
    },
    {
      "cell_type": "code",
      "metadata": {
        "colab": {
          "base_uri": "https://localhost:8080/"
        },
        "id": "1BuO7gLGTTrh",
        "outputId": "24d46a0a-c615-4148-a309-e80addb60427"
      },
      "source": [
        "def plus(x, y):\n",
        "  return x + y\n",
        "def minus(x, y):\n",
        "  return x - y\n",
        "def multiply(x, y):\n",
        "  return x * y\n",
        "def divide(x, y):\n",
        "  return x / y\n",
        "def default_op(x, y):\n",
        "  return None\n",
        "\n",
        "func_dict = {\n",
        "    'add' : plus,\n",
        "    'sub' : minus,\n",
        "    'mul' : multiply,\n",
        "    'div' : divide\n",
        "}\n",
        "\n",
        "def dispatch_dict(operater, x, y):\n",
        "  return func_dict.get(operater, default_op)(x, y)\n",
        "\n",
        "print(dispatch_dict('add', 1, 2), dispatch_dict('sub', 1, 2), dispatch_dict('mul', 1, 2), dispatch_dict('div', 1, 2))\n",
        "print(dispatch_dict('a', 3, 6))"
      ],
      "execution_count": 70,
      "outputs": [
        {
          "output_type": "stream",
          "name": "stdout",
          "text": [
            "3 -1 2 0.5\n",
            "None\n"
          ]
        }
      ]
    },
    {
      "cell_type": "code",
      "metadata": {
        "colab": {
          "base_uri": "https://localhost:8080/"
        },
        "id": "MaN_5u3HZ8bR",
        "outputId": "52d8ca8d-2f64-47e6-8819-c066cddb86aa"
      },
      "source": [
        "np.random.seed(88)\n",
        "df = pd.DataFrame(np.random.randint(1, 10, [4, 5]), columns=list('ABCDE'))\n",
        "df.iloc[1]['A']\n",
        "df.iloc[1, 2]\n",
        "df['A'].sum()"
      ],
      "execution_count": 86,
      "outputs": [
        {
          "output_type": "execute_result",
          "data": {
            "text/plain": [
              "20"
            ]
          },
          "metadata": {},
          "execution_count": 86
        }
      ]
    }
  ]
}