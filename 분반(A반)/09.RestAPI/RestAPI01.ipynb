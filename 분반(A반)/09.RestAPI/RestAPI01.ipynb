{
 "cells": [
  {
   "cell_type": "code",
   "execution_count": 2,
   "metadata": {},
   "outputs": [
    {
     "name": "stdout",
     "output_type": "stream",
     "text": [
      "[\"Skate ipsum dolor sit amet,  hospital flip Tommy Guerrero rail mongo bail bearings fakie out. Invert gap 50-50 deck drop in chicken wing. Boned out Bare Cover face plant judo air 900 melancholy street. Tuna-flip ollie north vert air Steve Robert hand rail 540. Crooked grind aerial transfer gap coffin berm. Baseplate camel back airwalk ledge Sean Cliver manual fakie. Kickflip rocket air freestyle 270 method air handplant Skull and Sword. Shinner air birdie layback nose blunt coping China Banks. Street nose grab ollie north hospital flip griptape full-cab. Dude bail wall ride speed wobbles steps feeble. \",\"Locals rocket air late snake. Rock and roll tic-tac axle set g-turn. Axle set rad boardslide kickturn Alien Workshop. Primo slide Chris Haslam opposite footed noseblunt slide nosepicker. Coping slam method air tuna-flip. Full-cab flail half-cab transition. Wheels baseplate risers coffin. Guy Mariano darkslide Saran Wrap bluntslide pivot. Ledge gnarly powerslide flypaper. Christ air crailtap bigspin ollie hole. \",\"50-50 nose blunt backside hard flip. No comply hang up frontside kingpin. Nose bump Burnside 1080 360 air. Snake frigid air ledge shinner Hard Corps. Casper 720 face plant camel back. Lip heel flip lipslide Duel at Diablo nose grab. Noseblunt slide heel flip feeble impossible. Upland rip grip deck full pipe cab flip. Tic-tac kingpin rail hanger. Grab front foot impossible Kevin Ancell drop in hardware. Concave Tracker Bam Margera tuna-flip Saran Wrap. Nose slide sketchy Neil Blender regular footed gap. Sketchy acid drop camel back airwalk. \"]\n"
     ]
    }
   ],
   "source": []
  },
  {
   "cell_type": "code",
   "execution_count": 4,
   "metadata": {},
   "outputs": [
    {
     "name": "stdout",
     "output_type": "stream",
     "text": [
      "test({\"coord\":{\"lon\":-0.1257,\"lat\":51.5085},\"weather\":[{\"id\":804,\"main\":\"Clouds\",\"description\":\"overcast clouds\",\"icon\":\"04n\"}],\"base\":\"stations\",\"main\":{\"temp\":54.72,\"feels_like\":54.12,\"temp_min\":52.7,\"temp_max\":56.28,\"pressure\":1018,\"humidity\":90},\"visibility\":10000,\"wind\":{\"speed\":6.64,\"deg\":292,\"gust\":19.3},\"clouds\":{\"all\":100},\"dt\":1634278292,\"sys\":{\"type\":2,\"id\":2019646,\"country\":\"GB\",\"sunrise\":1634279064,\"sunset\":1634317667},\"timezone\":3600,\"id\":2643743,\"name\":\"London\",\"cod\":200})\n"
     ]
    }
   ],
   "source": [
    "import requests\n",
    "\n",
    "url = \"https://community-open-weather-map.p.rapidapi.com/weather\"\n",
    "\n",
    "querystring = {\"q\":\"London,uk\",\"lat\":\"0\",\"lon\":\"0\",\"callback\":\"test\",\"id\":\"2172797\",\"lang\":\"null\",\"units\":\"imperial\",\"mode\":\"xml\"}\n",
    "\n",
    "headers = {\n",
    "    'x-rapidapi-host': \"community-open-weather-map.p.rapidapi.com\",\n",
    "    'x-rapidapi-key': \"556f7423b4msh1b43de9f957e08bp1bec3bjsn9f6e24bdb6c8\"\n",
    "    }\n",
    "\n",
    "response = requests.request(\"GET\", url, headers=headers, params=querystring)\n",
    "\n",
    "print(response.text)"
   ]
  }
 ],
 "metadata": {
  "interpreter": {
   "hash": "fe3bab233825460445dbfeea6dcd52ef5815a3fa13c858fea07ac830aa383284"
  },
  "kernelspec": {
   "display_name": "Python 3.8.10 64-bit ('base': conda)",
   "name": "python3"
  },
  "language_info": {
   "codemirror_mode": {
    "name": "ipython",
    "version": 3
   },
   "file_extension": ".py",
   "mimetype": "text/x-python",
   "name": "python",
   "nbconvert_exporter": "python",
   "pygments_lexer": "ipython3",
   "version": "3.8.10"
  },
  "orig_nbformat": 4
 },
 "nbformat": 4,
 "nbformat_minor": 2
}
