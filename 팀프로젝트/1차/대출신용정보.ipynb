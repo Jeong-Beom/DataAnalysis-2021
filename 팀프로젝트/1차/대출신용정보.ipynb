{
 "cells": [
  {
   "cell_type": "code",
   "execution_count": 132,
   "source": [
    "import numpy as np\r\n",
    "import matplotlib as mpl\r\n",
    "import matplotlib.pyplot as plt\r\n",
    "import matplotlib.font_manager as fonm\r\n",
    "from matplotlib import font_manager, rc\r\n",
    "mpl.rcParams['axes.unicode_minus'] = False\r\n",
    "font_path = 'C:/Windows/Fonts/정직_1.ttf'\r\n",
    "font = fonm.FontProperties(fname=font_path).get_name()\r\n",
    "rc('font', family=font)\r\n",
    "import numpy as np\r\n",
    "import pandas as pd\r\n",
    "import seaborn as sns"
   ],
   "outputs": [],
   "metadata": {}
  },
  {
   "cell_type": "code",
   "execution_count": 133,
   "source": [
    "df = pd.read_excel('C:\\\\Workspace\\\\python\\\\Data_Science\\\\dataA\\\\분반(A반)\\\\가공_MyData\\\\대출신용정보.xlsx')\r\n",
    "df.describe()"
   ],
   "outputs": [
    {
     "output_type": "execute_result",
     "data": {
      "text/html": [
       "<div>\n",
       "<style scoped>\n",
       "    .dataframe tbody tr th:only-of-type {\n",
       "        vertical-align: middle;\n",
       "    }\n",
       "\n",
       "    .dataframe tbody tr th {\n",
       "        vertical-align: top;\n",
       "    }\n",
       "\n",
       "    .dataframe thead th {\n",
       "        text-align: right;\n",
       "    }\n",
       "</style>\n",
       "<table border=\"1\" class=\"dataframe\">\n",
       "  <thead>\n",
       "    <tr style=\"text-align: right;\">\n",
       "      <th></th>\n",
       "      <th>나이</th>\n",
       "      <th>추정소득</th>\n",
       "      <th>대출건수</th>\n",
       "      <th>연체금액</th>\n",
       "      <th>신용지수</th>\n",
       "    </tr>\n",
       "  </thead>\n",
       "  <tbody>\n",
       "    <tr>\n",
       "      <th>count</th>\n",
       "      <td>15000.000000</td>\n",
       "      <td>15000.000000</td>\n",
       "      <td>15000.000000</td>\n",
       "      <td>15000.000000</td>\n",
       "      <td>15000.000000</td>\n",
       "    </tr>\n",
       "    <tr>\n",
       "      <th>mean</th>\n",
       "      <td>45.514867</td>\n",
       "      <td>10615.100000</td>\n",
       "      <td>14.990933</td>\n",
       "      <td>998.272667</td>\n",
       "      <td>5.001700</td>\n",
       "    </tr>\n",
       "    <tr>\n",
       "      <th>std</th>\n",
       "      <td>13.556781</td>\n",
       "      <td>5468.534567</td>\n",
       "      <td>8.879375</td>\n",
       "      <td>577.519712</td>\n",
       "      <td>2.887932</td>\n",
       "    </tr>\n",
       "    <tr>\n",
       "      <th>min</th>\n",
       "      <td>20.000000</td>\n",
       "      <td>1200.000000</td>\n",
       "      <td>0.000000</td>\n",
       "      <td>0.000000</td>\n",
       "      <td>0.000857</td>\n",
       "    </tr>\n",
       "    <tr>\n",
       "      <th>25%</th>\n",
       "      <td>35.000000</td>\n",
       "      <td>5800.000000</td>\n",
       "      <td>7.000000</td>\n",
       "      <td>500.000000</td>\n",
       "      <td>2.491569</td>\n",
       "    </tr>\n",
       "    <tr>\n",
       "      <th>50%</th>\n",
       "      <td>46.000000</td>\n",
       "      <td>10600.000000</td>\n",
       "      <td>15.000000</td>\n",
       "      <td>1000.000000</td>\n",
       "      <td>5.012061</td>\n",
       "    </tr>\n",
       "    <tr>\n",
       "      <th>75%</th>\n",
       "      <td>56.000000</td>\n",
       "      <td>15300.000000</td>\n",
       "      <td>23.000000</td>\n",
       "      <td>1490.000000</td>\n",
       "      <td>7.493935</td>\n",
       "    </tr>\n",
       "    <tr>\n",
       "      <th>max</th>\n",
       "      <td>72.000000</td>\n",
       "      <td>20000.000000</td>\n",
       "      <td>30.000000</td>\n",
       "      <td>2000.000000</td>\n",
       "      <td>9.999767</td>\n",
       "    </tr>\n",
       "  </tbody>\n",
       "</table>\n",
       "</div>"
      ],
      "text/plain": [
       "                 나이          추정소득          대출건수          연체금액          신용지수\n",
       "count  15000.000000  15000.000000  15000.000000  15000.000000  15000.000000\n",
       "mean      45.514867  10615.100000     14.990933    998.272667      5.001700\n",
       "std       13.556781   5468.534567      8.879375    577.519712      2.887932\n",
       "min       20.000000   1200.000000      0.000000      0.000000      0.000857\n",
       "25%       35.000000   5800.000000      7.000000    500.000000      2.491569\n",
       "50%       46.000000  10600.000000     15.000000   1000.000000      5.012061\n",
       "75%       56.000000  15300.000000     23.000000   1490.000000      7.493935\n",
       "max       72.000000  20000.000000     30.000000   2000.000000      9.999767"
      ]
     },
     "metadata": {},
     "execution_count": 133
    }
   ],
   "metadata": {}
  },
  {
   "cell_type": "code",
   "execution_count": 134,
   "source": [
    "df.columns"
   ],
   "outputs": [
    {
     "output_type": "execute_result",
     "data": {
      "text/plain": [
       "Index(['이름', '생년월일', '나이', '성별', '고용형태', '추정소득', '대출건수', '연체금액', '신용지수'], dtype='object')"
      ]
     },
     "metadata": {},
     "execution_count": 134
    }
   ],
   "metadata": {}
  },
  {
   "cell_type": "code",
   "execution_count": 135,
   "source": [
    "df.dtypes"
   ],
   "outputs": [
    {
     "output_type": "execute_result",
     "data": {
      "text/plain": [
       "이름              object\n",
       "생년월일    datetime64[ns]\n",
       "나이               int64\n",
       "성별              object\n",
       "고용형태            object\n",
       "추정소득             int64\n",
       "대출건수             int64\n",
       "연체금액             int64\n",
       "신용지수           float64\n",
       "dtype: object"
      ]
     },
     "metadata": {},
     "execution_count": 135
    }
   ],
   "metadata": {}
  },
  {
   "cell_type": "code",
   "execution_count": 136,
   "source": [
    "df.head()"
   ],
   "outputs": [
    {
     "output_type": "execute_result",
     "data": {
      "text/html": [
       "<div>\n",
       "<style scoped>\n",
       "    .dataframe tbody tr th:only-of-type {\n",
       "        vertical-align: middle;\n",
       "    }\n",
       "\n",
       "    .dataframe tbody tr th {\n",
       "        vertical-align: top;\n",
       "    }\n",
       "\n",
       "    .dataframe thead th {\n",
       "        text-align: right;\n",
       "    }\n",
       "</style>\n",
       "<table border=\"1\" class=\"dataframe\">\n",
       "  <thead>\n",
       "    <tr style=\"text-align: right;\">\n",
       "      <th></th>\n",
       "      <th>이름</th>\n",
       "      <th>생년월일</th>\n",
       "      <th>나이</th>\n",
       "      <th>성별</th>\n",
       "      <th>고용형태</th>\n",
       "      <th>추정소득</th>\n",
       "      <th>대출건수</th>\n",
       "      <th>연체금액</th>\n",
       "      <th>신용지수</th>\n",
       "    </tr>\n",
       "  </thead>\n",
       "  <tbody>\n",
       "    <tr>\n",
       "      <th>0</th>\n",
       "      <td>김음증</td>\n",
       "      <td>1967-11-21</td>\n",
       "      <td>52</td>\n",
       "      <td>F</td>\n",
       "      <td>급여_공공</td>\n",
       "      <td>4500</td>\n",
       "      <td>16</td>\n",
       "      <td>70</td>\n",
       "      <td>3.169777</td>\n",
       "    </tr>\n",
       "    <tr>\n",
       "      <th>1</th>\n",
       "      <td>윤제생</td>\n",
       "      <td>1997-09-02</td>\n",
       "      <td>22</td>\n",
       "      <td>M</td>\n",
       "      <td>급여_일반</td>\n",
       "      <td>10900</td>\n",
       "      <td>9</td>\n",
       "      <td>700</td>\n",
       "      <td>7.133219</td>\n",
       "    </tr>\n",
       "    <tr>\n",
       "      <th>2</th>\n",
       "      <td>김하달</td>\n",
       "      <td>1966-06-28</td>\n",
       "      <td>53</td>\n",
       "      <td>M</td>\n",
       "      <td>무직_일반</td>\n",
       "      <td>4600</td>\n",
       "      <td>20</td>\n",
       "      <td>200</td>\n",
       "      <td>1.020494</td>\n",
       "    </tr>\n",
       "    <tr>\n",
       "      <th>3</th>\n",
       "      <td>이향찬</td>\n",
       "      <td>1955-10-24</td>\n",
       "      <td>64</td>\n",
       "      <td>F</td>\n",
       "      <td>정보없음</td>\n",
       "      <td>6600</td>\n",
       "      <td>8</td>\n",
       "      <td>130</td>\n",
       "      <td>8.419799</td>\n",
       "    </tr>\n",
       "    <tr>\n",
       "      <th>4</th>\n",
       "      <td>최추년</td>\n",
       "      <td>1959-06-27</td>\n",
       "      <td>60</td>\n",
       "      <td>F</td>\n",
       "      <td>자영업_서비스</td>\n",
       "      <td>16300</td>\n",
       "      <td>7</td>\n",
       "      <td>1400</td>\n",
       "      <td>8.638049</td>\n",
       "    </tr>\n",
       "  </tbody>\n",
       "</table>\n",
       "</div>"
      ],
      "text/plain": [
       "    이름       생년월일  나이 성별     고용형태   추정소득  대출건수  연체금액      신용지수\n",
       "0  김음증 1967-11-21  52  F    급여_공공   4500    16    70  3.169777\n",
       "1  윤제생 1997-09-02  22  M    급여_일반  10900     9   700  7.133219\n",
       "2  김하달 1966-06-28  53  M    무직_일반   4600    20   200  1.020494\n",
       "3  이향찬 1955-10-24  64  F     정보없음   6600     8   130  8.419799\n",
       "4  최추년 1959-06-27  60  F  자영업_서비스  16300     7  1400  8.638049"
      ]
     },
     "metadata": {},
     "execution_count": 136
    }
   ],
   "metadata": {}
  },
  {
   "cell_type": "code",
   "execution_count": 137,
   "source": [
    "df.고용형태.value_counts(), df.성별.value_counts()"
   ],
   "outputs": [
    {
     "output_type": "execute_result",
     "data": {
      "text/plain": [
       "(자영업_서비스    3051\n",
       " 무직_일반      3044\n",
       " 정보없음       2996\n",
       " 급여_일반      2993\n",
       " 급여_공공      2916\n",
       " Name: 고용형태, dtype: int64,\n",
       " M    7527\n",
       " F    7473\n",
       " Name: 성별, dtype: int64)"
      ]
     },
     "metadata": {},
     "execution_count": 137
    }
   ],
   "metadata": {}
  },
  {
   "cell_type": "code",
   "execution_count": 138,
   "source": [
    "df_train = df.iloc[:, 2:]\r\n",
    "print(df_train.isnull().sum())\r\n",
    "df_train['성별'] = df_train['성별'].apply(lambda x: 0 if x == 'M' else 1)\r\n",
    "df_train['고용형태'] = df_train['고용형태'].apply(lambda x: 0 if x == '무직_일반' else 1 if x == '급여_일반' else 2 if x == '급여_공공' else 4 if x == '자영업_서비스' else 5) # 5는 정보없음\r\n",
    "df_train.고용형태.value_counts()"
   ],
   "outputs": [
    {
     "output_type": "stream",
     "name": "stdout",
     "text": [
      "나이      0\n",
      "성별      0\n",
      "고용형태    0\n",
      "추정소득    0\n",
      "대출건수    0\n",
      "연체금액    0\n",
      "신용지수    0\n",
      "dtype: int64\n"
     ]
    },
    {
     "output_type": "execute_result",
     "data": {
      "text/plain": [
       "4    3051\n",
       "0    3044\n",
       "5    2996\n",
       "1    2993\n",
       "2    2916\n",
       "Name: 고용형태, dtype: int64"
      ]
     },
     "metadata": {},
     "execution_count": 138
    }
   ],
   "metadata": {}
  },
  {
   "cell_type": "code",
   "execution_count": 139,
   "source": [
    "df_train['신용지수'] = df_train.신용지수.apply(lambda x: round(x, 2))\r\n",
    "print(df_train.shape)\r\n",
    "df_train.head() "
   ],
   "outputs": [
    {
     "output_type": "stream",
     "name": "stdout",
     "text": [
      "(15000, 7)\n"
     ]
    },
    {
     "output_type": "execute_result",
     "data": {
      "text/html": [
       "<div>\n",
       "<style scoped>\n",
       "    .dataframe tbody tr th:only-of-type {\n",
       "        vertical-align: middle;\n",
       "    }\n",
       "\n",
       "    .dataframe tbody tr th {\n",
       "        vertical-align: top;\n",
       "    }\n",
       "\n",
       "    .dataframe thead th {\n",
       "        text-align: right;\n",
       "    }\n",
       "</style>\n",
       "<table border=\"1\" class=\"dataframe\">\n",
       "  <thead>\n",
       "    <tr style=\"text-align: right;\">\n",
       "      <th></th>\n",
       "      <th>나이</th>\n",
       "      <th>성별</th>\n",
       "      <th>고용형태</th>\n",
       "      <th>추정소득</th>\n",
       "      <th>대출건수</th>\n",
       "      <th>연체금액</th>\n",
       "      <th>신용지수</th>\n",
       "    </tr>\n",
       "  </thead>\n",
       "  <tbody>\n",
       "    <tr>\n",
       "      <th>0</th>\n",
       "      <td>52</td>\n",
       "      <td>1</td>\n",
       "      <td>2</td>\n",
       "      <td>4500</td>\n",
       "      <td>16</td>\n",
       "      <td>70</td>\n",
       "      <td>3.17</td>\n",
       "    </tr>\n",
       "    <tr>\n",
       "      <th>1</th>\n",
       "      <td>22</td>\n",
       "      <td>0</td>\n",
       "      <td>1</td>\n",
       "      <td>10900</td>\n",
       "      <td>9</td>\n",
       "      <td>700</td>\n",
       "      <td>7.13</td>\n",
       "    </tr>\n",
       "    <tr>\n",
       "      <th>2</th>\n",
       "      <td>53</td>\n",
       "      <td>0</td>\n",
       "      <td>0</td>\n",
       "      <td>4600</td>\n",
       "      <td>20</td>\n",
       "      <td>200</td>\n",
       "      <td>1.02</td>\n",
       "    </tr>\n",
       "    <tr>\n",
       "      <th>3</th>\n",
       "      <td>64</td>\n",
       "      <td>1</td>\n",
       "      <td>5</td>\n",
       "      <td>6600</td>\n",
       "      <td>8</td>\n",
       "      <td>130</td>\n",
       "      <td>8.42</td>\n",
       "    </tr>\n",
       "    <tr>\n",
       "      <th>4</th>\n",
       "      <td>60</td>\n",
       "      <td>1</td>\n",
       "      <td>4</td>\n",
       "      <td>16300</td>\n",
       "      <td>7</td>\n",
       "      <td>1400</td>\n",
       "      <td>8.64</td>\n",
       "    </tr>\n",
       "  </tbody>\n",
       "</table>\n",
       "</div>"
      ],
      "text/plain": [
       "   나이  성별  고용형태   추정소득  대출건수  연체금액  신용지수\n",
       "0  52   1     2   4500    16    70  3.17\n",
       "1  22   0     1  10900     9   700  7.13\n",
       "2  53   0     0   4600    20   200  1.02\n",
       "3  64   1     5   6600     8   130  8.42\n",
       "4  60   1     4  16300     7  1400  8.64"
      ]
     },
     "metadata": {},
     "execution_count": 139
    }
   ],
   "metadata": {}
  },
  {
   "cell_type": "code",
   "execution_count": 140,
   "source": [
    "f, ax = plt.subplots(1, 2, figsize=(18, 8))\r\n",
    "\r\n",
    "df_train['성별'].value_counts().plot.pie(explode=[0, 0.05], autopct='%1.1f%%', ax=ax[0], shadow=True)\r\n",
    "ax[0].set_title('양성비율')\r\n",
    "ax[0].set_ylabel('')\r\n",
    "sns.countplot('고용형태', data=df_train, ax=ax[1])\r\n",
    "ax[1].set_title('고용형태')\r\n",
    "\r\n",
    "plt.show()"
   ],
   "outputs": [
    {
     "output_type": "stream",
     "name": "stderr",
     "text": [
      "C:\\Users\\Bestc\\anaconda3\\lib\\site-packages\\seaborn\\_decorators.py:36: FutureWarning: Pass the following variable as a keyword arg: x. From version 0.12, the only valid positional argument will be `data`, and passing other arguments without an explicit keyword will result in an error or misinterpretation.\n",
      "  warnings.warn(\n"
     ]
    },
    {
     "output_type": "display_data",
     "data": {
      "image/png": "[encoded data removed]",
      "text/plain": [
       "<Figure size 1296x576 with 2 Axes>"
      ]
     },
     "metadata": {
      "needs_background": "light"
     }
    }
   ],
   "metadata": {}
  },
  {
   "cell_type": "code",
   "execution_count": 141,
   "source": [
    "plt.scatter(df_train['추정소득'], df_train['대출건수'], s = 2)\r\n",
    "plt.title('산점도')\r\n",
    "plt.xlabel('추정소득')\r\n",
    "plt.ylabel('신용지수')\r\n",
    "plt.grid(True)\r\n",
    "plt.show()"
   ],
   "outputs": [
    {
     "output_type": "display_data",
     "data": {
      "image/png": "[encoded data removed]",
      "text/plain": [
       "<Figure size 432x288 with 1 Axes>"
      ]
     },
     "metadata": {
      "needs_background": "light"
     }
    }
   ],
   "metadata": {}
  },
  {
   "cell_type": "code",
   "execution_count": 142,
   "source": [
    "heatmap_data = df_train[['나이', '성별', '고용형태', '추정소득', '대출건수', '연체금액', '신용지수']]\r\n",
    "print(plt.colormaps())\r\n",
    "colormap = plt.cm.RdBu\r\n",
    "plt.figure(figsize = (14, 12))\r\n",
    "plt.title('특성별 피어슨 상관계수')\r\n",
    "sns.heatmap(heatmap_data.astype(float).corr(), linewidth = 0.1, vmax = 1.0, square = True, cmap = colormap, linecolor = 'white', annot = True, annot_kws = {'size' : 16})"
   ],
   "outputs": [
    {
     "output_type": "stream",
     "name": "stdout",
     "text": [
      "['Accent', 'Accent_r', 'Blues', 'Blues_r', 'BrBG', 'BrBG_r', 'BuGn', 'BuGn_r', 'BuPu', 'BuPu_r', 'CMRmap', 'CMRmap_r', 'Dark2', 'Dark2_r', 'GnBu', 'GnBu_r', 'Greens', 'Greens_r', 'Greys', 'Greys_r', 'OrRd', 'OrRd_r', 'Oranges', 'Oranges_r', 'PRGn', 'PRGn_r', 'Paired', 'Paired_r', 'Pastel1', 'Pastel1_r', 'Pastel2', 'Pastel2_r', 'PiYG', 'PiYG_r', 'PuBu', 'PuBuGn', 'PuBuGn_r', 'PuBu_r', 'PuOr', 'PuOr_r', 'PuRd', 'PuRd_r', 'Purples', 'Purples_r', 'RdBu', 'RdBu_r', 'RdGy', 'RdGy_r', 'RdPu', 'RdPu_r', 'RdYlBu', 'RdYlBu_r', 'RdYlGn', 'RdYlGn_r', 'Reds', 'Reds_r', 'Set1', 'Set1_r', 'Set2', 'Set2_r', 'Set3', 'Set3_r', 'Spectral', 'Spectral_r', 'Wistia', 'Wistia_r', 'YlGn', 'YlGnBu', 'YlGnBu_r', 'YlGn_r', 'YlOrBr', 'YlOrBr_r', 'YlOrRd', 'YlOrRd_r', 'afmhot', 'afmhot_r', 'autumn', 'autumn_r', 'binary', 'binary_r', 'bone', 'bone_r', 'brg', 'brg_r', 'bwr', 'bwr_r', 'cividis', 'cividis_r', 'cool', 'cool_r', 'coolwarm', 'coolwarm_r', 'copper', 'copper_r', 'crest', 'crest_r', 'cubehelix', 'cubehelix_r', 'flag', 'flag_r', 'flare', 'flare_r', 'gist_earth', 'gist_earth_r', 'gist_gray', 'gist_gray_r', 'gist_heat', 'gist_heat_r', 'gist_ncar', 'gist_ncar_r', 'gist_rainbow', 'gist_rainbow_r', 'gist_stern', 'gist_stern_r', 'gist_yarg', 'gist_yarg_r', 'gnuplot', 'gnuplot2', 'gnuplot2_r', 'gnuplot_r', 'gray', 'gray_r', 'hot', 'hot_r', 'hsv', 'hsv_r', 'icefire', 'icefire_r', 'inferno', 'inferno_r', 'jet', 'jet_r', 'magma', 'magma_r', 'mako', 'mako_r', 'nipy_spectral', 'nipy_spectral_r', 'ocean', 'ocean_r', 'pink', 'pink_r', 'plasma', 'plasma_r', 'prism', 'prism_r', 'rainbow', 'rainbow_r', 'rocket', 'rocket_r', 'seismic', 'seismic_r', 'spring', 'spring_r', 'summer', 'summer_r', 'tab10', 'tab10_r', 'tab20', 'tab20_r', 'tab20b', 'tab20b_r', 'tab20c', 'tab20c_r', 'terrain', 'terrain_r', 'turbo', 'turbo_r', 'twilight', 'twilight_r', 'twilight_shifted', 'twilight_shifted_r', 'viridis', 'viridis_r', 'vlag', 'vlag_r', 'winter', 'winter_r']\n"
     ]
    },
    {
     "output_type": "execute_result",
     "data": {
      "text/plain": [
       "<AxesSubplot:title={'center':'특성별 피어슨 상관계수'}>"
      ]
     },
     "metadata": {},
     "execution_count": 142
    },
    {
     "output_type": "display_data",
     "data": {
      "image/png": "[encoded data removed]",
      "text/plain": [
       "<Figure size 1008x864 with 2 Axes>"
      ]
     },
     "metadata": {
      "needs_background": "light"
     }
    }
   ],
   "metadata": {}
  },
  {
   "cell_type": "code",
   "execution_count": 143,
   "source": [
    "from sklearn.preprocessing import MinMaxScaler\r\n",
    "from sklearn.preprocessing import scale, robust_scale, minmax_scale, maxabs_scale"
   ],
   "outputs": [],
   "metadata": {}
  },
  {
   "cell_type": "code",
   "execution_count": 145,
   "source": [
    "df_train"
   ],
   "outputs": [
    {
     "output_type": "execute_result",
     "data": {
      "text/html": [
       "<div>\n",
       "<style scoped>\n",
       "    .dataframe tbody tr th:only-of-type {\n",
       "        vertical-align: middle;\n",
       "    }\n",
       "\n",
       "    .dataframe tbody tr th {\n",
       "        vertical-align: top;\n",
       "    }\n",
       "\n",
       "    .dataframe thead th {\n",
       "        text-align: right;\n",
       "    }\n",
       "</style>\n",
       "<table border=\"1\" class=\"dataframe\">\n",
       "  <thead>\n",
       "    <tr style=\"text-align: right;\">\n",
       "      <th></th>\n",
       "      <th>나이</th>\n",
       "      <th>성별</th>\n",
       "      <th>고용형태</th>\n",
       "      <th>추정소득</th>\n",
       "      <th>대출건수</th>\n",
       "      <th>연체금액</th>\n",
       "      <th>신용지수</th>\n",
       "    </tr>\n",
       "  </thead>\n",
       "  <tbody>\n",
       "    <tr>\n",
       "      <th>0</th>\n",
       "      <td>52</td>\n",
       "      <td>1</td>\n",
       "      <td>2</td>\n",
       "      <td>4500</td>\n",
       "      <td>16</td>\n",
       "      <td>70</td>\n",
       "      <td>3.17</td>\n",
       "    </tr>\n",
       "    <tr>\n",
       "      <th>1</th>\n",
       "      <td>22</td>\n",
       "      <td>0</td>\n",
       "      <td>1</td>\n",
       "      <td>10900</td>\n",
       "      <td>9</td>\n",
       "      <td>700</td>\n",
       "      <td>7.13</td>\n",
       "    </tr>\n",
       "    <tr>\n",
       "      <th>2</th>\n",
       "      <td>53</td>\n",
       "      <td>0</td>\n",
       "      <td>0</td>\n",
       "      <td>4600</td>\n",
       "      <td>20</td>\n",
       "      <td>200</td>\n",
       "      <td>1.02</td>\n",
       "    </tr>\n",
       "    <tr>\n",
       "      <th>3</th>\n",
       "      <td>64</td>\n",
       "      <td>1</td>\n",
       "      <td>5</td>\n",
       "      <td>6600</td>\n",
       "      <td>8</td>\n",
       "      <td>130</td>\n",
       "      <td>8.42</td>\n",
       "    </tr>\n",
       "    <tr>\n",
       "      <th>4</th>\n",
       "      <td>60</td>\n",
       "      <td>1</td>\n",
       "      <td>4</td>\n",
       "      <td>16300</td>\n",
       "      <td>7</td>\n",
       "      <td>1400</td>\n",
       "      <td>8.64</td>\n",
       "    </tr>\n",
       "    <tr>\n",
       "      <th>...</th>\n",
       "      <td>...</td>\n",
       "      <td>...</td>\n",
       "      <td>...</td>\n",
       "      <td>...</td>\n",
       "      <td>...</td>\n",
       "      <td>...</td>\n",
       "      <td>...</td>\n",
       "    </tr>\n",
       "    <tr>\n",
       "      <th>14995</th>\n",
       "      <td>69</td>\n",
       "      <td>1</td>\n",
       "      <td>4</td>\n",
       "      <td>17700</td>\n",
       "      <td>18</td>\n",
       "      <td>1610</td>\n",
       "      <td>3.74</td>\n",
       "    </tr>\n",
       "    <tr>\n",
       "      <th>14996</th>\n",
       "      <td>20</td>\n",
       "      <td>1</td>\n",
       "      <td>1</td>\n",
       "      <td>9100</td>\n",
       "      <td>6</td>\n",
       "      <td>1070</td>\n",
       "      <td>3.20</td>\n",
       "    </tr>\n",
       "    <tr>\n",
       "      <th>14997</th>\n",
       "      <td>56</td>\n",
       "      <td>0</td>\n",
       "      <td>4</td>\n",
       "      <td>5700</td>\n",
       "      <td>9</td>\n",
       "      <td>1860</td>\n",
       "      <td>5.66</td>\n",
       "    </tr>\n",
       "    <tr>\n",
       "      <th>14998</th>\n",
       "      <td>67</td>\n",
       "      <td>1</td>\n",
       "      <td>1</td>\n",
       "      <td>17900</td>\n",
       "      <td>25</td>\n",
       "      <td>210</td>\n",
       "      <td>8.28</td>\n",
       "    </tr>\n",
       "    <tr>\n",
       "      <th>14999</th>\n",
       "      <td>44</td>\n",
       "      <td>0</td>\n",
       "      <td>2</td>\n",
       "      <td>5500</td>\n",
       "      <td>29</td>\n",
       "      <td>360</td>\n",
       "      <td>9.36</td>\n",
       "    </tr>\n",
       "  </tbody>\n",
       "</table>\n",
       "<p>15000 rows × 7 columns</p>\n",
       "</div>"
      ],
      "text/plain": [
       "       나이  성별  고용형태   추정소득  대출건수  연체금액  신용지수\n",
       "0      52   1     2   4500    16    70  3.17\n",
       "1      22   0     1  10900     9   700  7.13\n",
       "2      53   0     0   4600    20   200  1.02\n",
       "3      64   1     5   6600     8   130  8.42\n",
       "4      60   1     4  16300     7  1400  8.64\n",
       "...    ..  ..   ...    ...   ...   ...   ...\n",
       "14995  69   1     4  17700    18  1610  3.74\n",
       "14996  20   1     1   9100     6  1070  3.20\n",
       "14997  56   0     4   5700     9  1860  5.66\n",
       "14998  67   1     1  17900    25   210  8.28\n",
       "14999  44   0     2   5500    29   360  9.36\n",
       "\n",
       "[15000 rows x 7 columns]"
      ]
     },
     "metadata": {},
     "execution_count": 145
    }
   ],
   "metadata": {}
  },
  {
   "cell_type": "code",
   "execution_count": 168,
   "source": [
    "from sklearn.linear_model import LinearRegression\r\n",
    "model = LinearRegression()\r\n",
    "from sklearn.model_selection import train_test_split\r\n",
    "X_train, X_test, y_train, y_test = train_test_split(df_train.iloc[:, :-1], df_train.iloc[:, -1:], test_size = 0.2)\r\n",
    "X_train.shape, X_test.shape, y_train.shape, y_test.shape\r\n",
    "model.fit(X_train, y_train)\r\n",
    "model.coef_, model.intercept_\r\n",
    "y_test['신용지수(예측)']= model.predict(X_test)\r\n",
    "y_test"
   ],
   "outputs": [
    {
     "output_type": "execute_result",
     "data": {
      "text/html": [
       "<div>\n",
       "<style scoped>\n",
       "    .dataframe tbody tr th:only-of-type {\n",
       "        vertical-align: middle;\n",
       "    }\n",
       "\n",
       "    .dataframe tbody tr th {\n",
       "        vertical-align: top;\n",
       "    }\n",
       "\n",
       "    .dataframe thead th {\n",
       "        text-align: right;\n",
       "    }\n",
       "</style>\n",
       "<table border=\"1\" class=\"dataframe\">\n",
       "  <thead>\n",
       "    <tr style=\"text-align: right;\">\n",
       "      <th></th>\n",
       "      <th>신용지수</th>\n",
       "      <th>신용지수(예측)</th>\n",
       "    </tr>\n",
       "  </thead>\n",
       "  <tbody>\n",
       "    <tr>\n",
       "      <th>10714</th>\n",
       "      <td>9.02</td>\n",
       "      <td>4.939994</td>\n",
       "    </tr>\n",
       "    <tr>\n",
       "      <th>12037</th>\n",
       "      <td>1.80</td>\n",
       "      <td>4.946267</td>\n",
       "    </tr>\n",
       "    <tr>\n",
       "      <th>12826</th>\n",
       "      <td>3.98</td>\n",
       "      <td>4.929747</td>\n",
       "    </tr>\n",
       "    <tr>\n",
       "      <th>3987</th>\n",
       "      <td>8.03</td>\n",
       "      <td>5.036829</td>\n",
       "    </tr>\n",
       "    <tr>\n",
       "      <th>12668</th>\n",
       "      <td>9.42</td>\n",
       "      <td>4.881795</td>\n",
       "    </tr>\n",
       "    <tr>\n",
       "      <th>...</th>\n",
       "      <td>...</td>\n",
       "      <td>...</td>\n",
       "    </tr>\n",
       "    <tr>\n",
       "      <th>3080</th>\n",
       "      <td>8.16</td>\n",
       "      <td>4.990999</td>\n",
       "    </tr>\n",
       "    <tr>\n",
       "      <th>8005</th>\n",
       "      <td>0.48</td>\n",
       "      <td>4.971408</td>\n",
       "    </tr>\n",
       "    <tr>\n",
       "      <th>5375</th>\n",
       "      <td>9.29</td>\n",
       "      <td>4.863950</td>\n",
       "    </tr>\n",
       "    <tr>\n",
       "      <th>355</th>\n",
       "      <td>1.11</td>\n",
       "      <td>4.903595</td>\n",
       "    </tr>\n",
       "    <tr>\n",
       "      <th>13584</th>\n",
       "      <td>0.84</td>\n",
       "      <td>5.055891</td>\n",
       "    </tr>\n",
       "  </tbody>\n",
       "</table>\n",
       "<p>3000 rows × 2 columns</p>\n",
       "</div>"
      ],
      "text/plain": [
       "       신용지수  신용지수(예측)\n",
       "10714  9.02  4.939994\n",
       "12037  1.80  4.946267\n",
       "12826  3.98  4.929747\n",
       "3987   8.03  5.036829\n",
       "12668  9.42  4.881795\n",
       "...     ...       ...\n",
       "3080   8.16  4.990999\n",
       "8005   0.48  4.971408\n",
       "5375   9.29  4.863950\n",
       "355    1.11  4.903595\n",
       "13584  0.84  5.055891\n",
       "\n",
       "[3000 rows x 2 columns]"
      ]
     },
     "metadata": {},
     "execution_count": 168
    }
   ],
   "metadata": {}
  }
 ],
 "metadata": {
  "orig_nbformat": 4,
  "language_info": {
   "name": "python",
   "version": "3.8.10",
   "mimetype": "text/x-python",
   "codemirror_mode": {
    "name": "ipython",
    "version": 3
   },
   "pygments_lexer": "ipython3",
   "nbconvert_exporter": "python",
   "file_extension": ".py"
  },
  "kernelspec": {
   "name": "python3",
   "display_name": "Python 3.8.10 64-bit ('base': conda)"
  },
  "interpreter": {
   "hash": "fe3bab233825460445dbfeea6dcd52ef5815a3fa13c858fea07ac830aa383284"
  }
 },
 "nbformat": 4,
 "nbformat_minor": 2
}