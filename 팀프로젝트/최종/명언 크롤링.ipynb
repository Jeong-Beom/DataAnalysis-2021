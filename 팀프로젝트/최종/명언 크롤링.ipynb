{
 "cells": [
  {
   "cell_type": "code",
   "execution_count": 1,
   "metadata": {},
   "outputs": [
    {
     "name": "stderr",
     "output_type": "stream",
     "text": [
      "<ipython-input-1-fee865e91f04>:14: DeprecationWarning: executable_path has been deprecated, please pass in a Service object\n",
      "  driver = webdriver.Chrome(executable_path = 'C:\\\\Users\\\\Bestc\\\\Desktop\\\\빅데이터 지능형 서비스 개발과정(멀티캠퍼스)\\\\설치프로그램\\\\Selenium\\\\chromedriver.exe')\n"
     ]
    }
   ],
   "source": [
    "# 사이트 : 사람로\n",
    "import requests\n",
    "import pandas as pd\n",
    "import time\n",
    "from selenium import webdriver\n",
    "from selenium.webdriver.common.keys import Keys\n",
    "from bs4 import BeautifulSoup\n",
    "from urllib.parse import quote\n",
    "from tqdm.notebook import tqdm\n",
    "from selenium.webdriver import ActionChains\n",
    "from selenium.webdriver.common.by import By\n",
    "\n",
    "URL = 'https://saramro.com/quotes'\n",
    "driver = webdriver.Chrome(executable_path = 'C:\\\\Users\\\\Bestc\\\\Desktop\\\\빅데이터 지능형 서비스 개발과정(멀티캠퍼스)\\\\설치프로그램\\\\Selenium\\\\chromedriver.exe')\n",
    "driver.get(URL)\n",
    "time.sleep(2)\n",
    "driver.find_element(By.XPATH, '//*[@id=\"fboardlist\"]/div[2]/table/tbody/tr[1]/td[2]/div/a').click()\n",
    "time.sleep(2)\n",
    "actions = ActionChains(driver)\n",
    "actions.send_keys('\\ue007').perform()\n",
    "time.sleep(2)\n",
    "driver.back()\n",
    "time.sleep(2)"
   ]
  },
  {
   "cell_type": "code",
   "execution_count": 2,
   "metadata": {},
   "outputs": [
    {
     "data": {
      "application/vnd.jupyter.widget-view+json": {
       "model_id": "2c92df93331547359d856c8618ba3bcd",
       "version_major": 2,
       "version_minor": 0
      },
      "text/plain": [
       "  0%|          | 0/4 [00:00<?, ?it/s]"
      ]
     },
     "metadata": {},
     "output_type": "display_data"
    },
    {
     "name": "stdout",
     "output_type": "stream",
     "text": [
      "1번째 페이지의 1번째 게시글 1번만에 클릭성공\n",
      "1번째 페이지의 2번째 게시글 1번만에 클릭성공\n",
      "1번째 페이지의 3번째 게시글 1번만에 클릭성공\n",
      "1번째 페이지의 4번째 게시글 1번만에 클릭성공\n",
      "1번째 페이지의 5번째 게시글 1번만에 클릭성공\n",
      "1번째 페이지의 6번째 게시글 1번만에 클릭성공\n",
      "1번째 페이지의 7번째 게시글 1번만에 클릭성공\n",
      "1번째 페이지의 8번째 게시글 1번만에 클릭성공\n",
      "1번째 페이지의 9번째 게시글 1번만에 클릭성공\n",
      "1번째 페이지의 10번째 게시글 1번만에 클릭성공\n",
      "1번째 페이지의 11번째 게시글 1번 클릭실패\n",
      "1번째 페이지의 11번째 게시글 2번 클릭실패\n",
      "1번째 페이지의 11번째 게시글 3번 클릭실패\n",
      "1번째 페이지의 11번째 게시글 4번 클릭실패\n",
      "1번째 페이지의 11번째 게시글 5번 클릭실패\n",
      "1번째 페이지의 11번째 게시글 6번 클릭실패\n",
      "1번째 페이지의 11번째 게시글 7번 클릭실패\n",
      "1번째 페이지의 11번째 게시글 8번 클릭실패\n",
      "1번째 페이지의 11번째 게시글 9번 클릭실패\n",
      "1번째 페이지의 11번째 게시글 10번 클릭실패\n",
      "1번째 페이지의 11번째 게시글 11번 클릭실패\n",
      "1번째 페이지의 11번째 게시글 12번 클릭실패\n",
      "1번째 페이지의 11번째 게시글 13번 클릭실패\n",
      "1번째 페이지의 11번째 게시글 14번 클릭실패\n",
      "1번째 페이지의 11번째 게시글 15번 클릭실패\n",
      "1번째 페이지의 11번째 게시글 16번 클릭실패\n",
      "1번째 페이지의 11번째 게시글 17번 클릭실패\n",
      "1번째 페이지의 11번째 게시글 18번 클릭실패\n",
      "1번째 페이지의 11번째 게시글 19번 클릭실패\n",
      "1번째 페이지의 11번째 게시글 20번 클릭실패\n",
      "1번째 페이지의 11번째 게시글 21번 클릭실패\n",
      "1번째 페이지의 11번째 게시글 22번 클릭실패\n",
      "1번째 페이지의 11번째 게시글 23번 클릭실패\n",
      "1번째 페이지의 11번째 게시글 24번 클릭실패\n",
      "1번째 페이지의 11번째 게시글 25번 클릭실패\n",
      "1번째 페이지의 11번째 게시글 26번 클릭실패\n",
      "1번째 페이지의 11번째 게시글 27번 클릭실패\n",
      "1번째 페이지의 11번째 게시글 28번 클릭실패\n",
      "1번째 페이지의 11번째 게시글 29번 클릭실패\n",
      "1번째 페이지의 11번째 게시글 30번 클릭실패\n",
      "1번째 페이지의 11번째 게시글 31번 클릭실패\n",
      "1번째 페이지의 11번째 게시글 32번 클릭실패\n",
      "1번째 페이지의 11번째 게시글 33번 클릭실패\n",
      "1번째 페이지의 11번째 게시글 34번 클릭실패\n",
      "1번째 페이지의 11번째 게시글 35번 클릭실패\n",
      "1번째 페이지의 11번째 게시글 36번 클릭실패\n",
      "1번째 페이지의 11번째 게시글 37번 클릭실패\n",
      "1번째 페이지의 11번째 게시글 38번 클릭실패\n",
      "1번째 페이지의 11번째 게시글 39번 클릭실패\n",
      "1번째 페이지의 11번째 게시글 40번 클릭실패\n",
      "1번째 페이지의 11번째 게시글 41번 클릭실패\n",
      "1번째 페이지의 11번째 게시글 42번 클릭실패\n",
      "1번째 페이지의 11번째 게시글 43번 클릭실패\n",
      "1번째 페이지의 11번째 게시글 44번 클릭실패\n",
      "1번째 페이지의 11번째 게시글 45번 클릭실패\n",
      "1번째 페이지의 11번째 게시글 46번 클릭실패\n",
      "1번째 페이지의 11번째 게시글 47번 클릭실패\n",
      "1번째 페이지의 11번째 게시글 48번 클릭실패\n",
      "1번째 페이지의 11번째 게시글 49번 클릭실패\n",
      "1번째 페이지의 11번째 게시글 50번 클릭실패\n",
      "1번째 페이지의 11번째 게시글 51번 클릭실패\n",
      "1번째 페이지의 11번째 게시글 52번 클릭실패\n",
      "1번째 페이지의 11번째 게시글 53번 클릭실패\n",
      "1번째 페이지의 11번째 게시글 54번만에 클릭성공\n",
      "추출 실패 : 1페이지, 11번째 게시글\n"
     ]
    }
   ],
   "source": [
    "wise_list = []\n",
    "error_list = []\n",
    "for i in tqdm(range(1,5)):\n",
    "    if i <= 1026:\n",
    "        URL = f'https://saramro.com/quotes?page={i}'\n",
    "        driver.get(URL)\n",
    "        time.sleep(2)\n",
    "        driver.execute_script(\"window.scrollTo(0, document.body.scrollHeight);\")\n",
    "        driver.execute_script(\"window.scrollTo(0, document.body.scrollHeight);\")\n",
    "    for k in range(1, 14):\n",
    "        t = 1\n",
    "        while True:\n",
    "            try:\n",
    "                driver.find_element(By.XPATH, f'//*[@id=\"fboardlist\"]/div[2]/table/tbody/tr[{k}]/td[2]/div/a').click()\n",
    "                time.sleep(1)\n",
    "                print(f'{i}번째 페이지의 {k}번째 게시글 {t}번만에 클릭성공')  \n",
    "                break\n",
    "            except:\n",
    "                print(f'{i}번째 페이지의 {k}번째 게시글 {t}번 클릭실패')   \n",
    "                t += 1            \n",
    "        try:\n",
    "            actions.send_keys('\\ue007').perform()\n",
    "            time.sleep(2)\n",
    "            wise_list.append(driver.find_element(By.XPATH, '//*[@id=\"bo_v_con\"]').text)\n",
    "            time.sleep(2)\n",
    "            driver.back()\n",
    "        except:\n",
    "            error_list.append([i,k])\n",
    "            print(f'추출 실패 : {i}페이지, {k}번째 게시글')"
   ]
  },
  {
   "cell_type": "code",
   "execution_count": 1,
   "metadata": {},
   "outputs": [
    {
     "ename": "NameError",
     "evalue": "name 'wise_list' is not defined",
     "output_type": "error",
     "traceback": [
      "\u001b[1;31m---------------------------------------------------------------------------\u001b[0m",
      "\u001b[1;31mNameError\u001b[0m                                 Traceback (most recent call last)",
      "\u001b[1;32m<ipython-input-1-0c7fc780d57d>\u001b[0m in \u001b[0;36m<module>\u001b[1;34m\u001b[0m\n\u001b[1;32m----> 1\u001b[1;33m \u001b[0mprint\u001b[0m\u001b[1;33m(\u001b[0m\u001b[0mlen\u001b[0m\u001b[1;33m(\u001b[0m\u001b[0mwise_list\u001b[0m\u001b[1;33m)\u001b[0m\u001b[1;33m,\u001b[0m \u001b[0mlen\u001b[0m\u001b[1;33m(\u001b[0m\u001b[0merror_list\u001b[0m\u001b[1;33m)\u001b[0m\u001b[1;33m)\u001b[0m\u001b[1;33m\u001b[0m\u001b[1;33m\u001b[0m\u001b[0m\n\u001b[0m\u001b[0;32m      2\u001b[0m \u001b[0mprint\u001b[0m\u001b[1;33m(\u001b[0m\u001b[0mlen\u001b[0m\u001b[1;33m(\u001b[0m\u001b[0mset\u001b[0m\u001b[1;33m(\u001b[0m\u001b[0mwise_list\u001b[0m\u001b[1;33m)\u001b[0m\u001b[1;33m)\u001b[0m\u001b[1;33m,\u001b[0m \u001b[0mlen\u001b[0m\u001b[1;33m(\u001b[0m\u001b[0mset\u001b[0m\u001b[1;33m(\u001b[0m\u001b[0merror_list\u001b[0m\u001b[1;33m)\u001b[0m\u001b[1;33m)\u001b[0m\u001b[1;33m)\u001b[0m\u001b[1;33m\u001b[0m\u001b[1;33m\u001b[0m\u001b[0m\n",
      "\u001b[1;31mNameError\u001b[0m: name 'wise_list' is not defined"
     ]
    }
   ],
   "source": [
    "print(len(wise_list), len(error_list))\n",
    "print(len(set(wise_list)), len(set(error_list)))"
   ]
  },
  {
   "cell_type": "code",
   "execution_count": 5,
   "metadata": {},
   "outputs": [
    {
     "data": {
      "text/plain": [
       "(['악덕은 우리들의 즐거움에 있어서조차 우리들을 다치게 하지만, 미덕은 우리들의 괴로움에 있어서조차 위로한다.\\n- C.C. 콜턴',\n",
       "  '당신이 누구의 사랑을 받고 있다면 어떠한 희생을 치른다 해도 당신은 그 사랑에 해당하는 값을 치르지는 못한다. 그렇지만 사랑을 사려고 하는 것이라면 작은 희생이라도 할 가치가 없다.\\n- L. 비트겐슈타인',\n",
       "  '여성적인 성격의 기본적인 결함은 정의감이 없다는 것이다.\\n- A. 쇼펜하워',\n",
       "  '죽은 후에는 사는 자가 아니면 산 사람이라고는 할 수 없다.\\n- 영국 속담\\nHe hath not lived that lives not after death.\\n- English Proverb',\n",
       "  '악에게 지지 말고, 선으로 악을 이기십시오.\\n- 『성경』, 로마서\\nDo not be overcome by evil, but overcome evil with good.\\n- 『Bible』, Romans',\n",
       "  '황금률은 없다는 것이 황금률이다.\\n- 조지 버나드 쇼\\nThe golden rule is that there is no golden rule.\\n- George Bernard Shaw',\n",
       "  '인생은 언제 어디서나, 공적이든, 사적이든, 의무를 면할 수는 없다.\\n- 키케로\\nNo phase of life, whether public or private, can be free from duty.\\n- Cicero',\n",
       "  '청춘은 사랑을 뜻한다.\\n- 로버트 브라우닝\\nYouth means love.\\n- Robert Browning',\n",
       "  '의사를 상속인으로 삼은 환자는 나을 수 있는 병도 낫지 않는다.\\n- 토마스 풀러\\nThe patient is not likely to recover who makes the doctor his heir.\\n- Thomas Fuller'],\n",
       " [])"
      ]
     },
     "execution_count": 5,
     "metadata": {},
     "output_type": "execute_result"
    }
   ],
   "source": [
    "wise_list, error_lis\n",
    "df = pd.DataFrame({'제목' : title_list, '내용' : contents_list})\n"
   ]
  }
 ],
 "metadata": {
  "interpreter": {
   "hash": "fe3bab233825460445dbfeea6dcd52ef5815a3fa13c858fea07ac830aa383284"
  },
  "kernelspec": {
   "display_name": "Python 3.8.10 64-bit ('base': conda)",
   "name": "python3"
  },
  "language_info": {
   "codemirror_mode": {
    "name": "ipython",
    "version": 3
   },
   "file_extension": ".py",
   "mimetype": "text/x-python",
   "name": "python",
   "nbconvert_exporter": "python",
   "pygments_lexer": "ipython3",
   "version": "3.8.10"
  },
  "orig_nbformat": 4
 },
 "nbformat": 4,
 "nbformat_minor": 2
}
