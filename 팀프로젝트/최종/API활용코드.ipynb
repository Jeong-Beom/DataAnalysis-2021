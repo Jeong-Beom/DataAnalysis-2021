{
 "cells": [
  {
   "cell_type": "code",
   "execution_count": 1,
   "metadata": {},
   "outputs": [],
   "source": [
    "import numpy as np\n",
    "import pandas as pd"
   ]
  },
  {
   "cell_type": "code",
   "execution_count": 8,
   "metadata": {},
   "outputs": [],
   "source": [
    "keys = pd.read_csv('C:/Workspace/python/Data_Science/dataA/팀프로젝트(최종_임시)/얼굴인식_Keys.txt', sep = ' ')\n",
    "our_client_id = keys['Client_ID'][0]\n",
    "our_client_secret = keys['Client_Secret'][0]"
   ]
  },
  {
   "cell_type": "code",
   "execution_count": 15,
   "metadata": {},
   "outputs": [
    {
     "name": "stdout",
     "output_type": "stream",
     "text": [
      "{\"info\":{\"size\":{\"width\":600,\"height\":600},\"faceCount\":1},\"faces\":[{\"roi\":{\"x\":165,\"y\":153,\"width\":235,\"height\":235},\"landmark\":null,\"gender\":{\"value\":\"female\",\"confidence\":0.998492},\"age\":{\"value\":\"31~35\",\"confidence\":0.946429},\"emotion\":{\"value\":\"smile\",\"confidence\":0.866896},\"pose\":{\"value\":\"part_face\",\"confidence\":0.91739}}]}\n",
      "{'info': {'size': {'width': 600, 'height': 600}, 'faceCount': 1}, 'faces': [{'roi': {'x': 165, 'y': 153, 'width': 235, 'height': 235}, 'landmark': None, 'gender': {'value': 'female', 'confidence': 0.998492}, 'age': {'value': '31~35', 'confidence': 0.946429}, 'emotion': {'value': 'smile', 'confidence': 0.866896}, 'pose': {'value': 'part_face', 'confidence': 0.91739}}]}\n"
     ]
    }
   ],
   "source": [
    "import os\n",
    "import sys\n",
    "import requests\n",
    "import json\n",
    "\n",
    "client_id = our_client_id\n",
    "client_secret = our_client_secret\n",
    "url = \"https://naveropenapi.apigw.ntruss.com/vision/v1/face\"  # 얼굴감지\n",
    "files = {'image': open('C:/Workspace/python/Data_Science/dataA/팀프로젝트(최종_임시)/마스크 사진.jpg', 'rb')}\n",
    "out_file = 'C:/Workspace/python/Data_Science/dataA/팀프로젝트(최종_임시)/마스크 사진.json'\n",
    "headers = {'X-NCP-APIGW-API-KEY-ID': client_id, 'X-NCP-APIGW-API-KEY': client_secret }\n",
    "response = requests.post(url,  files=files, headers=headers)\n",
    "rescode = response.status_code\n",
    "if(rescode==200):\n",
    "    print (response.text)\n",
    "else:\n",
    "    print(\"Error Code:\" + rescode)\n",
    "res = json.loads(response.text.encode('utf8'))\n",
    "print(res)\n",
    "\n",
    "with open(out_file, 'w', encoding='utf-8') as outfile:\n",
    "    json.dump(res, outfile, indent=4, ensure_ascii=False)"
   ]
  },
  {
   "cell_type": "code",
   "execution_count": 18,
   "metadata": {},
   "outputs": [],
   "source": [
    "with open('C:/Workspace/python/Data_Science/dataA/팀프로젝트(최종_임시)/마스크 사진.json', 'r', encoding = 'utf-8') as f:\n",
    "    json_data = json.load(f)"
   ]
  },
  {
   "cell_type": "code",
   "execution_count": 19,
   "metadata": {},
   "outputs": [
    {
     "data": {
      "text/plain": [
       "{'info': {'size': {'width': 600, 'height': 600}, 'faceCount': 1},\n",
       " 'faces': [{'roi': {'x': 165, 'y': 153, 'width': 235, 'height': 235},\n",
       "   'landmark': None,\n",
       "   'gender': {'value': 'female', 'confidence': 0.998492},\n",
       "   'age': {'value': '31~35', 'confidence': 0.946429},\n",
       "   'emotion': {'value': 'smile', 'confidence': 0.866896},\n",
       "   'pose': {'value': 'part_face', 'confidence': 0.91739}}]}"
      ]
     },
     "execution_count": 19,
     "metadata": {},
     "output_type": "execute_result"
    }
   ],
   "source": [
    "json_data"
   ]
  },
  {
   "cell_type": "code",
   "execution_count": 1,
   "metadata": {},
   "outputs": [
    {
     "name": "stderr",
     "output_type": "stream",
     "text": [
      "[NbConvertApp] WARNING | Config option `kernel_spec_manager_class` not recognized by `NbConvertApp`.\n",
      "[NbConvertApp] Converting notebook Test.ipynb to html\n",
      "[NbConvertApp] Writing 575733 bytes to Test.html\n"
     ]
    }
   ],
   "source": [
    "!jupyter nbconvert --to html Test.ipynb"
   ]
  },
  {
   "cell_type": "code",
   "execution_count": 5,
   "metadata": {},
   "outputs": [
    {
     "name": "stdout",
     "output_type": "stream",
     "text": [
      "{\"predictions\": [{\"num_detections\": 18, \"detection_classes\": [1.0, 15.0, 15.0, 1.0, 1.0, 62.0, 1.0, 2.0, 1.0, 1.0, 1.0, 1.0, 1.0, 1.0, 1.0, 1.0, 1.0, 1.0], \"detection_names\": [\"person\", \"bench\", \"bench\", \"person\", \"person\", \"chair\", \"person\", \"bicycle\", \"person\", \"person\", \"person\", \"person\", \"person\", \"person\", \"person\", \"person\", \"person\", \"person\"], \"detection_scores\": [0.990575, 0.944759, 0.821717, 0.668226, 0.508774, 0.468049, 0.3833, 0.383186, 0.367869, 0.355531, 0.351129, 0.349033, 0.333202, 0.320261, 0.31516, 0.313472, 0.303009, 0.30176], \"detection_boxes\": [[0.658256, 0.773393, 0.845108, 0.905397], [0.730739, 0.800234, 0.867043, 0.955699], [0.817737, 0.931821, 0.895227, 1.0], [0.597337, 0.222412, 0.659422, 0.24314], [0.600214, 0.083945, 0.668384, 0.10402], [0.734125, 0.819729, 0.859327, 0.960922], [0.587313, 0.0202074, 0.656516, 0.0405573], [0.61939, 0.219952, 0.663792, 0.242021], [0.600673, 0.14074, 0.655015, 0.157332], [0.598532, 0.216002, 0.656561, 0.232506], [0.603943, 0.154591, 0.657663, 0.171573], [0.606169, 0.116827, 0.660991, 0.132937], [0.600472, 0.0911841, 0.667189, 0.111674], [0.603071, 0.132696, 0.654719, 0.1465], [0.592367, 0.235459, 0.657066, 0.256671], [0.601529, 0.152522, 0.654972, 0.166564], [0.607033, 0.10516, 0.665991, 0.123438], [0.604044, 0.127951, 0.659724, 0.144378]]}]}\n",
      "{'predictions': [{'num_detections': 18, 'detection_classes': [1.0, 15.0, 15.0, 1.0, 1.0, 62.0, 1.0, 2.0, 1.0, 1.0, 1.0, 1.0, 1.0, 1.0, 1.0, 1.0, 1.0, 1.0], 'detection_names': ['person', 'bench', 'bench', 'person', 'person', 'chair', 'person', 'bicycle', 'person', 'person', 'person', 'person', 'person', 'person', 'person', 'person', 'person', 'person'], 'detection_scores': [0.990575, 0.944759, 0.821717, 0.668226, 0.508774, 0.468049, 0.3833, 0.383186, 0.367869, 0.355531, 0.351129, 0.349033, 0.333202, 0.320261, 0.31516, 0.313472, 0.303009, 0.30176], 'detection_boxes': [[0.658256, 0.773393, 0.845108, 0.905397], [0.730739, 0.800234, 0.867043, 0.955699], [0.817737, 0.931821, 0.895227, 1.0], [0.597337, 0.222412, 0.659422, 0.24314], [0.600214, 0.083945, 0.668384, 0.10402], [0.734125, 0.819729, 0.859327, 0.960922], [0.587313, 0.0202074, 0.656516, 0.0405573], [0.61939, 0.219952, 0.663792, 0.242021], [0.600673, 0.14074, 0.655015, 0.157332], [0.598532, 0.216002, 0.656561, 0.232506], [0.603943, 0.154591, 0.657663, 0.171573], [0.606169, 0.116827, 0.660991, 0.132937], [0.600472, 0.0911841, 0.667189, 0.111674], [0.603071, 0.132696, 0.654719, 0.1465], [0.592367, 0.235459, 0.657066, 0.256671], [0.601529, 0.152522, 0.654972, 0.166564], [0.607033, 0.10516, 0.665991, 0.123438], [0.604044, 0.127951, 0.659724, 0.144378]]}]}\n"
     ]
    }
   ],
   "source": [
    "import pandas as pd\n",
    "import numpy as np\n",
    "import json\n",
    "import os\n",
    "import sys\n",
    "import requests\n",
    "\n",
    "keys = pd.read_csv('C:/Workspace/python/Data_Science/dataA/팀프로젝트(최종_임시)/객체인식_Keys.txt', sep = ' ')\n",
    "our_client_id = keys['Client_ID'][0]\n",
    "our_client_secret = keys['Client_Secret'][0]\n",
    "\n",
    "client_id = our_client_id\n",
    "client_secret = our_client_secret\n",
    "url = \"https://naveropenapi.apigw.ntruss.com/vision-obj/v1/detect\" # 객체 인식\n",
    "img = 'C:/Workspace/python/Data_Science/dataA/팀프로젝트(최종_임시)/객체인식테스트사진1.jpg'\n",
    "files = {'image': open(img, 'rb')} # YOUR_FILE_NAME\n",
    "out_file = 'C:/Workspace/python/Data_Science/dataA/팀프로젝트(최종_임시)/객체인식테스트사진1.json'\n",
    "\n",
    "headers = {'X-NCP-APIGW-API-KEY-ID': client_id, 'X-NCP-APIGW-API-KEY': client_secret }\n",
    "response = requests.post(url,  files=files, headers=headers)\n",
    "rescode = response.status_code\n",
    "if(rescode==200):\n",
    "    # print(response.text)\n",
    "else:\n",
    "    print(\"Error Code:\" + str(rescode))\n",
    "res = json.loads(response.text.encode('utf8'))\n",
    "print(res)\n",
    "\n",
    "with open(out_file, 'w', encoding='utf-8') as outfile:\n",
    "    json.dump(res, outfile, indent=4, ensure_ascii=False)"
   ]
  },
  {
   "cell_type": "code",
   "execution_count": 11,
   "metadata": {},
   "outputs": [
    {
     "data": {
      "text/plain": [
       "{'meta': {'total_count': 2},\n",
       " 'documents': [{'region_type': 'B',\n",
       "   'code': '1168010100',\n",
       "   'address_name': '서울특별시 강남구 역삼동',\n",
       "   'region_1depth_name': '서울특별시',\n",
       "   'region_2depth_name': '강남구',\n",
       "   'region_3depth_name': '역삼동',\n",
       "   'region_4depth_name': '',\n",
       "   'x': 127.03312866105163,\n",
       "   'y': 37.49530540462},\n",
       "  {'region_type': 'H',\n",
       "   'code': '1168065000',\n",
       "   'address_name': '서울특별시 강남구 역삼2동',\n",
       "   'region_1depth_name': '서울특별시',\n",
       "   'region_2depth_name': '강남구',\n",
       "   'region_3depth_name': '역삼2동',\n",
       "   'region_4depth_name': '',\n",
       "   'x': 127.0468346777432,\n",
       "   'y': 37.49596751103195}]}"
      ]
     },
     "execution_count": 11,
     "metadata": {},
     "output_type": "execute_result"
    }
   ],
   "source": [
    "#  좌표를 행정구역정보를 추출\n",
    "\n",
    "kakao_api_key = 'C:\\\\Workspace\\\\python\\\\Data_Science\\\\04.공공데이터활용\\\\kakaoapikey.txt'\n",
    "import pandas as pd\n",
    "with open(kakao_api_key) as f:\n",
    "    api_key2 = f.read()\n",
    "import requests\n",
    "from urllib.parse import quote\n",
    "search_url = 'https://dapi.kakao.com/v2/local/geo/coord2regioncode.json'\n",
    "x = 127.0396\n",
    "y = 37.501277\n",
    "url = f'{search_url}?x={x}&y={y}'\n",
    "result = requests.get(url, headers = {'Authorization': f'KakaoAK {api_key2}'}).json()\n",
    "result"
   ]
  },
  {
   "cell_type": "code",
   "execution_count": 18,
   "metadata": {},
   "outputs": [
    {
     "data": {
      "text/plain": [
       "{'meta': {'total_count': 1},\n",
       " 'documents': [{'road_address': {'address_name': '서울특별시 강남구 테헤란로 212',\n",
       "    'region_1depth_name': '서울',\n",
       "    'region_2depth_name': '강남구',\n",
       "    'region_3depth_name': '',\n",
       "    'road_name': '테헤란로',\n",
       "    'underground_yn': 'N',\n",
       "    'main_building_no': '212',\n",
       "    'sub_building_no': '',\n",
       "    'building_name': '멀티캠퍼스',\n",
       "    'zone_no': '06220'},\n",
       "   'address': {'address_name': '서울 강남구 역삼동 718-5',\n",
       "    'region_1depth_name': '서울',\n",
       "    'region_2depth_name': '강남구',\n",
       "    'region_3depth_name': '역삼동',\n",
       "    'mountain_yn': 'N',\n",
       "    'main_address_no': '718',\n",
       "    'sub_address_no': '5',\n",
       "    'zip_code': ''}}]}"
      ]
     },
     "execution_count": 18,
     "metadata": {},
     "output_type": "execute_result"
    }
   ],
   "source": [
    "#  좌표를 주소정보를 추출\n",
    "\n",
    "kakao_api_key = 'C:\\\\Workspace\\\\python\\\\Data_Science\\\\04.공공데이터활용\\\\kakaoapikey.txt'\n",
    "import pandas as pd\n",
    "with open(kakao_api_key) as f:\n",
    "    api_key2 = f.read()\n",
    "import requests\n",
    "from urllib.parse import quote\n",
    "search_url = 'https://dapi.kakao.com/v2/local/geo/coord2address.json'\n",
    "x = 127.0396\n",
    "y = 37.501277\n",
    "url = f'{search_url}?x={x}&y={y}&input_coord=WGS84'\n",
    "result = requests.get(url, headers = {'Authorization': f'KakaoAK {api_key2}'}).json()\n",
    "result"
   ]
  },
  {
   "cell_type": "code",
   "execution_count": 48,
   "metadata": {},
   "outputs": [
    {
     "data": {
      "text/plain": [
       "{'response': {'header': {'resultCode': '00', 'resultMsg': 'NORMAL_SERVICE'},\n",
       "  'body': {'dataType': 'JSON',\n",
       "   'items': {'item': [{'baseDate': '20211102',\n",
       "      'baseTime': '0600',\n",
       "      'category': 'PTY',\n",
       "      'nx': 37,\n",
       "      'ny': 127,\n",
       "      'obsrValue': '-999'},\n",
       "     {'baseDate': '20211102',\n",
       "      'baseTime': '0600',\n",
       "      'category': 'REH',\n",
       "      'nx': 37,\n",
       "      'ny': 127,\n",
       "      'obsrValue': '-998'},\n",
       "     {'baseDate': '20211102',\n",
       "      'baseTime': '0600',\n",
       "      'category': 'RN1',\n",
       "      'nx': 37,\n",
       "      'ny': 127,\n",
       "      'obsrValue': '-998.9'},\n",
       "     {'baseDate': '20211102',\n",
       "      'baseTime': '0600',\n",
       "      'category': 'T1H',\n",
       "      'nx': 37,\n",
       "      'ny': 127,\n",
       "      'obsrValue': '-998.9'},\n",
       "     {'baseDate': '20211102',\n",
       "      'baseTime': '0600',\n",
       "      'category': 'UUU',\n",
       "      'nx': 37,\n",
       "      'ny': 127,\n",
       "      'obsrValue': '-998.9'},\n",
       "     {'baseDate': '20211102',\n",
       "      'baseTime': '0600',\n",
       "      'category': 'VEC',\n",
       "      'nx': 37,\n",
       "      'ny': 127,\n",
       "      'obsrValue': '-998'},\n",
       "     {'baseDate': '20211102',\n",
       "      'baseTime': '0600',\n",
       "      'category': 'VVV',\n",
       "      'nx': 37,\n",
       "      'ny': 127,\n",
       "      'obsrValue': '-998.9'},\n",
       "     {'baseDate': '20211102',\n",
       "      'baseTime': '0600',\n",
       "      'category': 'WSD',\n",
       "      'nx': 37,\n",
       "      'ny': 127,\n",
       "      'obsrValue': '-998.9'}]},\n",
       "   'pageNo': 1,\n",
       "   'numOfRows': 10,\n",
       "   'totalCount': 8}}}"
      ]
     },
     "execution_count": 48,
     "metadata": {},
     "output_type": "execute_result"
    }
   ],
   "source": [
    "import numpy as np\n",
    "import pandas as pd\n",
    "import requests\n",
    "import json\n",
    "import urllib\n",
    "\n",
    "df = pd.read_csv('C:/Workspace/python/Data_Science/dataA/팀프로젝트(최종_임시)/기상청_단기예보_Keys.txt', sep = ' ')\n",
    "key = df['encoding'][0]\n",
    "basedate = '20211102'\n",
    "basetime = '0600'\n",
    "x = 37\n",
    "y = 127\n",
    "url = f'http://apis.data.go.kr/1360000/VilageFcstInfoService_2.0/getUltraSrtNcst?serviceKey={key}&numOfRows=10&pageNo=1&dataType=JSON&base_date={basedate}&base_time={basetime}&nx={x}&ny={y}'\n",
    "# result = urllib.request.urlopen(url)\n",
    "# json.loads(result.read())\n",
    "requests.get(url).json()"
   ]
  }
 ],
 "metadata": {
  "interpreter": {
   "hash": "fe3bab233825460445dbfeea6dcd52ef5815a3fa13c858fea07ac830aa383284"
  },
  "kernelspec": {
   "display_name": "Python 3.8.10 64-bit ('base': conda)",
   "name": "python3"
  },
  "language_info": {
   "codemirror_mode": {
    "name": "ipython",
    "version": 3
   },
   "file_extension": ".py",
   "mimetype": "text/x-python",
   "name": "python",
   "nbconvert_exporter": "python",
   "pygments_lexer": "ipython3",
   "version": "3.8.10"
  },
  "orig_nbformat": 4
 },
 "nbformat": 4,
 "nbformat_minor": 2
}
