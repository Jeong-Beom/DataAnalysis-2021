{
 "cells": [
  {
   "cell_type": "code",
   "execution_count": 1,
   "metadata": {},
   "outputs": [],
   "source": [
    "import numpy as np\n",
    "import pandas as pd"
   ]
  },
  {
   "cell_type": "code",
   "execution_count": 8,
   "metadata": {},
   "outputs": [],
   "source": [
    "keys = pd.read_csv('C:/Workspace/python/Data_Science/dataA/팀프로젝트(최종_임시)/얼굴인식_Keys.txt', sep = ' ')\n",
    "our_client_id = keys['Client_ID'][0]\n",
    "our_client_secret = keys['Client_Secret'][0]"
   ]
  },
  {
   "cell_type": "code",
   "execution_count": 15,
   "metadata": {},
   "outputs": [
    {
     "name": "stdout",
     "output_type": "stream",
     "text": [
      "{\"info\":{\"size\":{\"width\":600,\"height\":600},\"faceCount\":1},\"faces\":[{\"roi\":{\"x\":165,\"y\":153,\"width\":235,\"height\":235},\"landmark\":null,\"gender\":{\"value\":\"female\",\"confidence\":0.998492},\"age\":{\"value\":\"31~35\",\"confidence\":0.946429},\"emotion\":{\"value\":\"smile\",\"confidence\":0.866896},\"pose\":{\"value\":\"part_face\",\"confidence\":0.91739}}]}\n",
      "{'info': {'size': {'width': 600, 'height': 600}, 'faceCount': 1}, 'faces': [{'roi': {'x': 165, 'y': 153, 'width': 235, 'height': 235}, 'landmark': None, 'gender': {'value': 'female', 'confidence': 0.998492}, 'age': {'value': '31~35', 'confidence': 0.946429}, 'emotion': {'value': 'smile', 'confidence': 0.866896}, 'pose': {'value': 'part_face', 'confidence': 0.91739}}]}\n"
     ]
    }
   ],
   "source": [
    "import os\n",
    "import sys\n",
    "import requests\n",
    "import json\n",
    "\n",
    "client_id = our_client_id\n",
    "client_secret = our_client_secret\n",
    "url = \"https://naveropenapi.apigw.ntruss.com/vision/v1/face\"  # 얼굴감지\n",
    "files = {'image': open('C:/Workspace/python/Data_Science/dataA/팀프로젝트(최종_임시)/마스크 사진.jpg', 'rb')}\n",
    "out_file = 'C:/Workspace/python/Data_Science/dataA/팀프로젝트(최종_임시)/마스크 사진.json'\n",
    "headers = {'X-NCP-APIGW-API-KEY-ID': client_id, 'X-NCP-APIGW-API-KEY': client_secret }\n",
    "response = requests.post(url,  files=files, headers=headers)\n",
    "rescode = response.status_code\n",
    "if(rescode==200):\n",
    "    print (response.text)\n",
    "else:\n",
    "    print(\"Error Code:\" + rescode)\n",
    "res = json.loads(response.text.encode('utf8'))\n",
    "print(res)\n",
    "\n",
    "with open(out_file, 'w', encoding='utf-8') as outfile:\n",
    "    json.dump(res, outfile, indent=4, ensure_ascii=False)"
   ]
  },
  {
   "cell_type": "code",
   "execution_count": 18,
   "metadata": {},
   "outputs": [],
   "source": [
    "with open('C:/Workspace/python/Data_Science/dataA/팀프로젝트(최종_임시)/마스크 사진.json', 'r', encoding = 'utf-8') as f:\n",
    "    json_data = json.load(f)"
   ]
  },
  {
   "cell_type": "code",
   "execution_count": 19,
   "metadata": {},
   "outputs": [
    {
     "data": {
      "text/plain": [
       "{'info': {'size': {'width': 600, 'height': 600}, 'faceCount': 1},\n",
       " 'faces': [{'roi': {'x': 165, 'y': 153, 'width': 235, 'height': 235},\n",
       "   'landmark': None,\n",
       "   'gender': {'value': 'female', 'confidence': 0.998492},\n",
       "   'age': {'value': '31~35', 'confidence': 0.946429},\n",
       "   'emotion': {'value': 'smile', 'confidence': 0.866896},\n",
       "   'pose': {'value': 'part_face', 'confidence': 0.91739}}]}"
      ]
     },
     "execution_count": 19,
     "metadata": {},
     "output_type": "execute_result"
    }
   ],
   "source": [
    "json_data"
   ]
  },
  {
   "cell_type": "code",
   "execution_count": 1,
   "metadata": {},
   "outputs": [
    {
     "name": "stderr",
     "output_type": "stream",
     "text": [
      "[NbConvertApp] WARNING | Config option `kernel_spec_manager_class` not recognized by `NbConvertApp`.\n",
      "[NbConvertApp] Converting notebook Test.ipynb to html\n",
      "[NbConvertApp] Writing 575733 bytes to Test.html\n"
     ]
    }
   ],
   "source": [
    "!jupyter nbconvert --to html Test.ipynb"
   ]
  }
 ],
 "metadata": {
  "interpreter": {
   "hash": "fe3bab233825460445dbfeea6dcd52ef5815a3fa13c858fea07ac830aa383284"
  },
  "kernelspec": {
   "display_name": "Python 3.8.10 64-bit ('base': conda)",
   "name": "python3"
  },
  "language_info": {
   "codemirror_mode": {
    "name": "ipython",
    "version": 3
   },
   "file_extension": ".py",
   "mimetype": "text/x-python",
   "name": "python",
   "nbconvert_exporter": "python",
   "pygments_lexer": "ipython3",
   "version": "3.8.10"
  },
  "orig_nbformat": 4
 },
 "nbformat": 4,
 "nbformat_minor": 2
}
