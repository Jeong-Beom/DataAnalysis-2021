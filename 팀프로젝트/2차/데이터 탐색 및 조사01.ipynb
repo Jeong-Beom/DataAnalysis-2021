{
 "cells": [
  {
   "cell_type": "markdown",
   "metadata": {},
   "source": [
    "7번 주제관련내용(콜센터난 고객센터에서의 음성인식을 통한 악성 고객 식별 및 차단 관련 AI서비스 개발)\n",
    "문제점 \n",
    "1. 콜센터 음성녹취록 데이터를 구하는 것이 불가능에 가까움(좀 더 찾아봐야함)\n",
    "해결방향\n",
    "1. 한국어 혐오표현 데이터 셋은 배포된 버전이 존재, 한국어 혐오표현에 대해 학습시킨 AI개발 후 클로버 API에서 음성을 텍스트로 변환해주는\n",
    "   것을 활용하여 초기 프로토 타입을 제작한다.\n",
    "\n",
    "한국어 혐오 데이터셋은 inmoonlight@github, warnikchow@github, beomi@github 님이 만드신 데이터입니다. 데이터 정보는 다음과 같습니다.\n",
    "author: inmoonlight@github, warnikchow@github, beomi@github\n",
    "repository: https://github.com/kocohub/korean-hate-speech\n",
    "size:\n",
    "train: 7,896 examples\n",
    "dev: 471 examples\n",
    "test: 974 examples\n",
    "unlabeled: 2,033,893 examples\n",
    "데이터 구조는 다음과 같습니다.\n",
    "출처 : https://ko-nlp.github.io/Korpora/ko-docs/corpuslist/korean_hate_speech.html"
   ]
  },
  {
   "cell_type": "code",
   "execution_count": 1,
   "metadata": {},
   "outputs": [
    {
     "name": "stderr",
     "output_type": "stream",
     "text": [
      "[korean hate speech] download unlabeled_comments_1.txt: 57.0MB [00:14, 3.85MB/s]                            \n",
      "[korean hate speech] download unlabeled_comments_2.txt: 59.3MB [00:15, 3.81MB/s]                            \n",
      "[korean hate speech] download unlabeled_comments_3.txt: 58.9MB [00:32, 1.80MB/s]                            \n",
      "[korean hate speech] download unlabeled_comments_4.txt: 58.2MB [00:14, 3.94MB/s]                            \n",
      "[korean hate speech] download unlabeled_comments_5.txt: 3.57MB [00:01, 2.74MB/s]                            \n",
      "[korean hate speech] download unlabeled_comments.news_title_1.txt: 44.7MB [00:15, 2.87MB/s]                            \n",
      "[korean hate speech] download unlabeled_comments.news_title_2.txt: 47.4MB [00:26, 1.76MB/s]                            \n",
      "[korean hate speech] download unlabeled_comments.news_title_3.txt: 48.5MB [00:23, 2.05MB/s]                            \n",
      "[korean hate speech] download unlabeled_comments.news_title_4.txt: 47.9MB [00:12, 3.99MB/s]                            \n",
      "[korean hate speech] download unlabeled_comments.news_title_5.txt: 3.30MB [00:01, 2.66MB/s]                            \n",
      "[korean hate speech] download dev.news_title.txt: 49.2kB [00:00, 135kB/s]                             \n",
      "[korean hate speech] download test.news_title.txt: 98.3kB [00:00, 235kB/s]                            \n",
      "[korean hate speech] download train.news_title.txt: 745kB [00:00, 1.09MB/s]                           \n",
      "[korean hate speech] download dev.tsv: 57.3kB [00:00, 143kB/s]                             \n",
      "[korean hate speech] download train.tsv: 918kB [00:00, 1.16MB/s]                          \n",
      "[korean hate speech] download test.no_label.tsv: 98.3kB [00:00, 250kB/s]                            \n"
     ]
    }
   ],
   "source": [
    "from Korpora import Korpora\n",
    "Korpora.fetch(\"korean_hate_speech\")"
   ]
  },
  {
   "cell_type": "code",
   "execution_count": 2,
   "metadata": {},
   "outputs": [
    {
     "name": "stdout",
     "output_type": "stream",
     "text": [
      "\n",
      "    Korpora 는 다른 분들이 연구 목적으로 공유해주신 말뭉치들을\n",
      "    손쉽게 다운로드, 사용할 수 있는 기능만을 제공합니다.\n",
      "\n",
      "    말뭉치들을 공유해 주신 분들에게 감사드리며, 각 말뭉치 별 설명과 라이센스를 공유 드립니다.\n",
      "    해당 말뭉치에 대해 자세히 알고 싶으신 분은 아래의 description 을 참고,\n",
      "    해당 말뭉치를 연구/상용의 목적으로 이용하실 때에는 아래의 라이센스를 참고해 주시기 바랍니다.\n",
      "\n",
      "    # Description\n",
      "    Authors :\n",
      "        - Jihyung Moon* (inmoonlight@github)\n",
      "        - Won Ik Cho* (warnikchow@github)\n",
      "        - Junbum Lee (beomi@github)\n",
      "        * equal contribution\n",
      "    Repository : https://github.com/kocohub/korean-hate-speech\n",
      "    References :\n",
      "        - Moon, J., Cho, W. I., & Lee, J. (2020). BEEP! Korean Corpus of Online News\n",
      "          Comments for Toxic Speech Detection. arXiv preprint arXiv:2005.12503.\n",
      "\n",
      "    We provide the first human-annotated Korean corpus for toxic speech detection and the large unlabeled corpus.\n",
      "    The data is comments from the Korean entertainment news aggregation platform.\n",
      "\n",
      "    # License\n",
      "    Creative Commons Attribution-ShareAlike 4.0 International License.\n",
      "    Visit here for detail : https://creativecommons.org/licenses/by-sa/4.0/\n",
      "\n",
      "[Korpora] Corpus `korean hate speech` is already installed at C:\\Users\\Bestc\\Korpora\\korean_hate_speech\\unlabeled\\unlabeled_comments_1.txt\n",
      "[Korpora] Corpus `korean hate speech` is already installed at C:\\Users\\Bestc\\Korpora\\korean_hate_speech\\unlabeled\\unlabeled_comments_2.txt\n",
      "[Korpora] Corpus `korean hate speech` is already installed at C:\\Users\\Bestc\\Korpora\\korean_hate_speech\\unlabeled\\unlabeled_comments_3.txt\n",
      "[Korpora] Corpus `korean hate speech` is already installed at C:\\Users\\Bestc\\Korpora\\korean_hate_speech\\unlabeled\\unlabeled_comments_4.txt\n",
      "[Korpora] Corpus `korean hate speech` is already installed at C:\\Users\\Bestc\\Korpora\\korean_hate_speech\\unlabeled\\unlabeled_comments_5.txt\n",
      "[Korpora] Corpus `korean hate speech` is already installed at C:\\Users\\Bestc\\Korpora\\korean_hate_speech\\news_title\\unlabeled_comments.news_title_1.txt\n",
      "[Korpora] Corpus `korean hate speech` is already installed at C:\\Users\\Bestc\\Korpora\\korean_hate_speech\\news_title\\unlabeled_comments.news_title_2.txt\n",
      "[Korpora] Corpus `korean hate speech` is already installed at C:\\Users\\Bestc\\Korpora\\korean_hate_speech\\news_title\\unlabeled_comments.news_title_3.txt\n",
      "[Korpora] Corpus `korean hate speech` is already installed at C:\\Users\\Bestc\\Korpora\\korean_hate_speech\\news_title\\unlabeled_comments.news_title_4.txt\n",
      "[Korpora] Corpus `korean hate speech` is already installed at C:\\Users\\Bestc\\Korpora\\korean_hate_speech\\news_title\\unlabeled_comments.news_title_5.txt\n",
      "[Korpora] Corpus `korean hate speech` is already installed at C:\\Users\\Bestc\\Korpora\\korean_hate_speech\\news_title\\dev.news_title.txt\n",
      "[Korpora] Corpus `korean hate speech` is already installed at C:\\Users\\Bestc\\Korpora\\korean_hate_speech\\news_title\\test.news_title.txt\n",
      "[Korpora] Corpus `korean hate speech` is already installed at C:\\Users\\Bestc\\Korpora\\korean_hate_speech\\news_title\\train.news_title.txt\n",
      "[Korpora] Corpus `korean hate speech` is already installed at C:\\Users\\Bestc\\Korpora\\korean_hate_speech\\labeled\\dev.tsv\n",
      "[Korpora] Corpus `korean hate speech` is already installed at C:\\Users\\Bestc\\Korpora\\korean_hate_speech\\labeled\\train.tsv\n",
      "[Korpora] Corpus `korean hate speech` is already installed at C:\\Users\\Bestc\\Korpora\\korean_hate_speech\\test.no_label.tsv\n"
     ]
    }
   ],
   "source": [
    "from Korpora import KoreanHateSpeechKorpus\n",
    "corpus = KoreanHateSpeechKorpus()"
   ]
  },
  {
   "cell_type": "code",
   "execution_count": 31,
   "metadata": {},
   "outputs": [
    {
     "data": {
      "text/plain": [
       "KoreanHateSpeech.train: size=7896\n",
       "  - KoreanHateSpeech.train.texts : list[str]\n",
       "  - KoreanHateSpeech.train.titles : list[str]\n",
       "  - KoreanHateSpeech.train.gender_biases : list[str]\n",
       "  - KoreanHateSpeech.train.biases : list[str]\n",
       "  - KoreanHateSpeech.train.hates : list[str]"
      ]
     },
     "execution_count": 31,
     "metadata": {},
     "output_type": "execute_result"
    }
   ],
   "source": [
    "corpus.train"
   ]
  },
  {
   "cell_type": "code",
   "execution_count": 36,
   "metadata": {},
   "outputs": [],
   "source": [
    "import pandas as pd\n",
    "import numpy as np"
   ]
  },
  {
   "cell_type": "code",
   "execution_count": 102,
   "metadata": {},
   "outputs": [
    {
     "data": {
      "text/plain": [
       "((7896, 5), (471, 5))"
      ]
     },
     "execution_count": 102,
     "metadata": {},
     "output_type": "execute_result"
    }
   ],
   "source": [
    "origin_train = pd.DataFrame(corpus.train)\n",
    "origin_val = pd.DataFrame(corpus.dev)\n",
    "origin_train.shape, origin_val.shape"
   ]
  },
  {
   "cell_type": "code",
   "execution_count": 103,
   "metadata": {},
   "outputs": [
    {
     "data": {
      "text/plain": [
       "(8367, 5)"
      ]
     },
     "execution_count": 103,
     "metadata": {},
     "output_type": "execute_result"
    }
   ],
   "source": [
    "origin_df = pd.concat([origin_train, origin_val])\n",
    "origin_df.shape"
   ]
  },
  {
   "cell_type": "code",
   "execution_count": 104,
   "metadata": {},
   "outputs": [
    {
     "data": {
      "text/plain": [
       "none         3646\n",
       "offensive    2688\n",
       "hate         2033\n",
       "Name: hate, dtype: int64"
      ]
     },
     "execution_count": 104,
     "metadata": {},
     "output_type": "execute_result"
    }
   ],
   "source": [
    "# 혐오표현 정도 확인 / 적당하게 분포되어 있는 것을 확인\n",
    "origin_df['hate'].value_counts()"
   ]
  },
  {
   "cell_type": "code",
   "execution_count": 105,
   "metadata": {},
   "outputs": [],
   "source": [
    "origin_df.reset_index(inplace = True, drop = True)"
   ]
  },
  {
   "cell_type": "code",
   "execution_count": 106,
   "metadata": {},
   "outputs": [
    {
     "data": {
      "text/plain": [
       "(8367, 2)"
      ]
     },
     "execution_count": 106,
     "metadata": {},
     "output_type": "execute_result"
    }
   ],
   "source": [
    "# 내용, 혐오발언 열만 남겨서 새로운 데이터 셋 선언\n",
    "new_df = origin_df[['text', 'hate']]\n",
    "new_df.shape"
   ]
  },
  {
   "cell_type": "code",
   "execution_count": 107,
   "metadata": {},
   "outputs": [
    {
     "data": {
      "text/plain": [
       "((8367, 1), (8367, 1))"
      ]
     },
     "execution_count": 107,
     "metadata": {},
     "output_type": "execute_result"
    }
   ],
   "source": [
    "df_train = new_df[['text']]\n",
    "df_label = new_df[['hate']]\n",
    "df_train.shape, df_label.shape"
   ]
  },
  {
   "cell_type": "code",
   "execution_count": 138,
   "metadata": {},
   "outputs": [
    {
     "name": "stderr",
     "output_type": "stream",
     "text": [
      "<ipython-input-138-89b201086e93>:3: SettingWithCopyWarning: \n",
      "A value is trying to be set on a copy of a slice from a DataFrame.\n",
      "Try using .loc[row_indexer,col_indexer] = value instead\n",
      "\n",
      "See the caveats in the documentation: https://pandas.pydata.org/pandas-docs/stable/user_guide/indexing.html#returning-a-view-versus-a-copy\n",
      "  df_train['text'] = df_train['text'].apply(lambda x: re.sub('[-=.#/?:$,}()~]', '', x))\n"
     ]
    }
   ],
   "source": [
    "import re\n",
    "re.sub('[-=.#/?:$}()]', '', df_train['text'][0])\n",
    "df_train['text'] = df_train['text'].apply(lambda x: re.sub('[-=.#/?:$,}()~]', '', x))"
   ]
  },
  {
   "cell_type": "code",
   "execution_count": 140,
   "metadata": {},
   "outputs": [
    {
     "data": {
      "text/html": [
       "<div>\n",
       "<style scoped>\n",
       "    .dataframe tbody tr th:only-of-type {\n",
       "        vertical-align: middle;\n",
       "    }\n",
       "\n",
       "    .dataframe tbody tr th {\n",
       "        vertical-align: top;\n",
       "    }\n",
       "\n",
       "    .dataframe thead th {\n",
       "        text-align: right;\n",
       "    }\n",
       "</style>\n",
       "<table border=\"1\" class=\"dataframe\">\n",
       "  <thead>\n",
       "    <tr style=\"text-align: right;\">\n",
       "      <th></th>\n",
       "      <th>text</th>\n",
       "    </tr>\n",
       "  </thead>\n",
       "  <tbody>\n",
       "    <tr>\n",
       "      <th>0</th>\n",
       "      <td>현재 호텔주인 심정 아18 난 마른하늘에 날벼락맞고 호텔망하게생겼는데 누군 계속 추모받네</td>\n",
       "    </tr>\n",
       "    <tr>\n",
       "      <th>1</th>\n",
       "      <td>한국적인 미인의 대표적인 분너무나 곱고아름다운모습그모습뒤의 슬픔을 미처 알지못했네요ㅠ</td>\n",
       "    </tr>\n",
       "    <tr>\n",
       "      <th>2</th>\n",
       "      <td>못된 넘들남의 고통을 즐겼던 넘들이젠 마땅한 처벌을 받아야지그래야 공정한 사회지심은...</td>\n",
       "    </tr>\n",
       "    <tr>\n",
       "      <th>3</th>\n",
       "      <td>12화 어설펐는데 34화 지나서부터는 갈수록 너무 재밌던데</td>\n",
       "    </tr>\n",
       "    <tr>\n",
       "      <th>4</th>\n",
       "      <td>1 사람 얼굴 손톱으로 긁은것은 인격살해이고2 동영상이 몰카냐 메걸리안들 생각이 없노</td>\n",
       "    </tr>\n",
       "    <tr>\n",
       "      <th>...</th>\n",
       "      <td>...</td>\n",
       "    </tr>\n",
       "    <tr>\n",
       "      <th>8362</th>\n",
       "      <td>지현우 범죄 저지르지 않았나요</td>\n",
       "    </tr>\n",
       "    <tr>\n",
       "      <th>8363</th>\n",
       "      <td>여자인생 망칠 일 있나 ㅋㅋ</td>\n",
       "    </tr>\n",
       "    <tr>\n",
       "      <th>8364</th>\n",
       "      <td>근데 전라도에서 사고가 났는데 굳이 서울까지 와서 병원에 가느 이유는</td>\n",
       "    </tr>\n",
       "    <tr>\n",
       "      <th>8365</th>\n",
       "      <td>할매젖x 뱃살x 몸매 s라인 유륜은 적당해야됨너무크거나 너무 작아도 x 엉덩이가 빵...</td>\n",
       "    </tr>\n",
       "    <tr>\n",
       "      <th>8366</th>\n",
       "      <td>남자가 잘못한거라면 반성도 없다면나였다면  여자처럼 아주 못되게 할것같다왜 나를 배...</td>\n",
       "    </tr>\n",
       "  </tbody>\n",
       "</table>\n",
       "<p>8367 rows × 1 columns</p>\n",
       "</div>"
      ],
      "text/plain": [
       "                                                   text\n",
       "0     현재 호텔주인 심정 아18 난 마른하늘에 날벼락맞고 호텔망하게생겼는데 누군 계속 추모받네\n",
       "1       한국적인 미인의 대표적인 분너무나 곱고아름다운모습그모습뒤의 슬픔을 미처 알지못했네요ㅠ\n",
       "2     못된 넘들남의 고통을 즐겼던 넘들이젠 마땅한 처벌을 받아야지그래야 공정한 사회지심은...\n",
       "3                      12화 어설펐는데 34화 지나서부터는 갈수록 너무 재밌던데\n",
       "4       1 사람 얼굴 손톱으로 긁은것은 인격살해이고2 동영상이 몰카냐 메걸리안들 생각이 없노\n",
       "...                                                 ...\n",
       "8362                                   지현우 범죄 저지르지 않았나요\n",
       "8363                                    여자인생 망칠 일 있나 ㅋㅋ\n",
       "8364             근데 전라도에서 사고가 났는데 굳이 서울까지 와서 병원에 가느 이유는\n",
       "8365  할매젖x 뱃살x 몸매 s라인 유륜은 적당해야됨너무크거나 너무 작아도 x 엉덩이가 빵...\n",
       "8366  남자가 잘못한거라면 반성도 없다면나였다면  여자처럼 아주 못되게 할것같다왜 나를 배...\n",
       "\n",
       "[8367 rows x 1 columns]"
      ]
     },
     "execution_count": 140,
     "metadata": {},
     "output_type": "execute_result"
    }
   ],
   "source": [
    "df_train"
   ]
  },
  {
   "cell_type": "code",
   "execution_count": 141,
   "metadata": {},
   "outputs": [],
   "source": [
    "from konlpy.tag import Okt\n",
    "okt = Okt()"
   ]
  },
  {
   "cell_type": "code",
   "execution_count": 153,
   "metadata": {},
   "outputs": [
    {
     "data": {
      "text/plain": [
       "94"
      ]
     },
     "execution_count": 153,
     "metadata": {},
     "output_type": "execute_result"
    }
   ],
   "source": [
    "df = pd.read_csv('C:\\\\Workspace\\\\python\\\\Data_Science\\\\dataA\\\\한국어불용어100.txt', encoding ='UTF-8', sep = '\\s+', header = None)\n",
    "# 품사를 무시하고 중복 배제\n",
    "stopwords = set(df[0])\n",
    "len(stopwords)"
   ]
  },
  {
   "cell_type": "code",
   "execution_count": 154,
   "metadata": {},
   "outputs": [
    {
     "data": {
      "text/plain": [
       "'현재 호텔주인 심정 아18 난 마른하늘에 날벼락맞고 호텔망하게생겼는데 누군 계속 추모받네'"
      ]
     },
     "execution_count": 154,
     "metadata": {},
     "output_type": "execute_result"
    }
   ],
   "source": [
    "df_train['text'][0]"
   ]
  },
  {
   "cell_type": "code",
   "execution_count": 149,
   "metadata": {},
   "outputs": [
    {
     "data": {
      "text/plain": [
       "['현재',\n",
       " '호텔',\n",
       " '주인',\n",
       " '심정',\n",
       " '아',\n",
       " '18',\n",
       " '난',\n",
       " '마른하늘',\n",
       " '에',\n",
       " '날벼락',\n",
       " '맞다',\n",
       " '호텔',\n",
       " '망하다',\n",
       " '생기다',\n",
       " '누',\n",
       " '군',\n",
       " '계속',\n",
       " '추모',\n",
       " '받다']"
      ]
     },
     "execution_count": 149,
     "metadata": {},
     "output_type": "execute_result"
    }
   ],
   "source": [
    "okt.morphs(df_train['text'][0], stem = True)"
   ]
  },
  {
   "cell_type": "code",
   "execution_count": 157,
   "metadata": {},
   "outputs": [
    {
     "name": "stdout",
     "output_type": "stream",
     "text": [
      "{'호텔': 1, '현재': 2, '주인': 3, '심정': 4, '아': 5, '18': 6, '난': 7, '마른하늘': 8, '에': 9, '날벼락': 10, '맞다': 11, '망하다': 12, '생기다': 13, '누': 14, '군': 15, '계속': 16, '추모': 17, '받다': 18}\n"
     ]
    }
   ],
   "source": [
    "from tensorflow.keras.preprocessing.text import Tokenizer\n",
    "tokenizer = Tokenizer()\n",
    "tokenizer.fit_on_texts(okt.morphs(df_train['text'][0], stem = True)) \n",
    "print(tokenizer.word_index)"
   ]
  },
  {
   "cell_type": "code",
   "execution_count": 108,
   "metadata": {},
   "outputs": [],
   "source": [
    "# 범주형 데이터 원-핫 인코딩\n",
    "# 출처 : 프로그래머스(https://programmers.co.kr/learn/courses/21/lessons/11044)\n",
    "def dummy_data(data, columns):\n",
    "    for column in columns:\n",
    "        data = pd.concat([data, pd.get_dummies(data[column], prefix = column)], axis=1)\n",
    "        data = data.drop(column, axis=1)\n",
    "    return data\n",
    "dummy_columns = ['hate']\n",
    "df_label_encoded = dummy_data(df_label, dummy_columns)"
   ]
  },
  {
   "cell_type": "code",
   "execution_count": 143,
   "metadata": {},
   "outputs": [
    {
     "name": "stdout",
     "output_type": "stream",
     "text": [
      "(8367, 3)\n"
     ]
    },
    {
     "data": {
      "text/html": [
       "<div>\n",
       "<style scoped>\n",
       "    .dataframe tbody tr th:only-of-type {\n",
       "        vertical-align: middle;\n",
       "    }\n",
       "\n",
       "    .dataframe tbody tr th {\n",
       "        vertical-align: top;\n",
       "    }\n",
       "\n",
       "    .dataframe thead th {\n",
       "        text-align: right;\n",
       "    }\n",
       "</style>\n",
       "<table border=\"1\" class=\"dataframe\">\n",
       "  <thead>\n",
       "    <tr style=\"text-align: right;\">\n",
       "      <th></th>\n",
       "      <th>hate_hate</th>\n",
       "      <th>hate_none</th>\n",
       "      <th>hate_offensive</th>\n",
       "    </tr>\n",
       "  </thead>\n",
       "  <tbody>\n",
       "    <tr>\n",
       "      <th>0</th>\n",
       "      <td>1</td>\n",
       "      <td>0</td>\n",
       "      <td>0</td>\n",
       "    </tr>\n",
       "    <tr>\n",
       "      <th>1</th>\n",
       "      <td>0</td>\n",
       "      <td>1</td>\n",
       "      <td>0</td>\n",
       "    </tr>\n",
       "    <tr>\n",
       "      <th>2</th>\n",
       "      <td>1</td>\n",
       "      <td>0</td>\n",
       "      <td>0</td>\n",
       "    </tr>\n",
       "    <tr>\n",
       "      <th>3</th>\n",
       "      <td>0</td>\n",
       "      <td>1</td>\n",
       "      <td>0</td>\n",
       "    </tr>\n",
       "    <tr>\n",
       "      <th>4</th>\n",
       "      <td>1</td>\n",
       "      <td>0</td>\n",
       "      <td>0</td>\n",
       "    </tr>\n",
       "    <tr>\n",
       "      <th>...</th>\n",
       "      <td>...</td>\n",
       "      <td>...</td>\n",
       "      <td>...</td>\n",
       "    </tr>\n",
       "    <tr>\n",
       "      <th>8362</th>\n",
       "      <td>0</td>\n",
       "      <td>0</td>\n",
       "      <td>1</td>\n",
       "    </tr>\n",
       "    <tr>\n",
       "      <th>8363</th>\n",
       "      <td>1</td>\n",
       "      <td>0</td>\n",
       "      <td>0</td>\n",
       "    </tr>\n",
       "    <tr>\n",
       "      <th>8364</th>\n",
       "      <td>0</td>\n",
       "      <td>0</td>\n",
       "      <td>1</td>\n",
       "    </tr>\n",
       "    <tr>\n",
       "      <th>8365</th>\n",
       "      <td>1</td>\n",
       "      <td>0</td>\n",
       "      <td>0</td>\n",
       "    </tr>\n",
       "    <tr>\n",
       "      <th>8366</th>\n",
       "      <td>0</td>\n",
       "      <td>1</td>\n",
       "      <td>0</td>\n",
       "    </tr>\n",
       "  </tbody>\n",
       "</table>\n",
       "<p>8367 rows × 3 columns</p>\n",
       "</div>"
      ],
      "text/plain": [
       "      hate_hate  hate_none  hate_offensive\n",
       "0             1          0               0\n",
       "1             0          1               0\n",
       "2             1          0               0\n",
       "3             0          1               0\n",
       "4             1          0               0\n",
       "...         ...        ...             ...\n",
       "8362          0          0               1\n",
       "8363          1          0               0\n",
       "8364          0          0               1\n",
       "8365          1          0               0\n",
       "8366          0          1               0\n",
       "\n",
       "[8367 rows x 3 columns]"
      ]
     },
     "execution_count": 143,
     "metadata": {},
     "output_type": "execute_result"
    }
   ],
   "source": [
    "print(df_label_encoded.shape)\n",
    "df_label_encoded"
   ]
  },
  {
   "cell_type": "code",
   "execution_count": 110,
   "metadata": {},
   "outputs": [],
   "source": [
    "from sklearn.model_selection import train_test_split\n",
    "# 8:2로 훈련 데이터와 테스트 데이터 분할\n",
    "X_train, X_test, y_train, y_test = train_test_split(df_train, df_label_encoded, test_size = 0.2,  stratify = df_label_encoded, random_state=1004)\n",
    "# 훈련 데이터를 8:2로 검증데이터로 분할\n",
    "X_train, X_val, y_train, y_val = train_test_split(X_train, y_train, test_size = 0.2,  stratify = y_train, random_state = 777)"
   ]
  },
  {
   "cell_type": "code",
   "execution_count": 115,
   "metadata": {},
   "outputs": [
    {
     "data": {
      "text/plain": [
       "((5354, 1), (1339, 1), (1674, 1), (5354, 3), (1339, 3), (1674, 3))"
      ]
     },
     "execution_count": 115,
     "metadata": {},
     "output_type": "execute_result"
    }
   ],
   "source": [
    "X_train.shape, X_val.shape, X_test.shape, y_train.shape, y_val.shape, y_test.shape"
   ]
  },
  {
   "cell_type": "code",
   "execution_count": null,
   "metadata": {},
   "outputs": [],
   "source": []
  }
 ],
 "metadata": {
  "interpreter": {
   "hash": "fe3bab233825460445dbfeea6dcd52ef5815a3fa13c858fea07ac830aa383284"
  },
  "kernelspec": {
   "display_name": "Python 3.8.10 64-bit ('base': conda)",
   "name": "python3"
  },
  "language_info": {
   "codemirror_mode": {
    "name": "ipython",
    "version": 3
   },
   "file_extension": ".py",
   "mimetype": "text/x-python",
   "name": "python",
   "nbconvert_exporter": "python",
   "pygments_lexer": "ipython3",
   "version": "3.8.10"
  },
  "orig_nbformat": 4
 },
 "nbformat": 4,
 "nbformat_minor": 2
}
