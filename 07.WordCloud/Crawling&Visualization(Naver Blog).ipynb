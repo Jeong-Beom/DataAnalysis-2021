{
 "cells": [
  {
   "cell_type": "code",
   "execution_count": 1,
   "source": [
    "from selenium import webdriver\r\n",
    "from bs4 import BeautifulSoup\r\n",
    "import time\r\n",
    "import pandas as pd\r\n",
    "from urllib.parse import quote\r\n",
    "from selenium.webdriver.common.keys import Keys"
   ],
   "outputs": [],
   "metadata": {}
  },
  {
   "cell_type": "code",
   "execution_count": 2,
   "source": [
    "driver = webdriver.Chrome('C:\\\\Users\\\\Bestc\\\\Desktop\\\\빅데이터 지능형 서비스 개발과정(멀티캠퍼스)\\\\설치프로그램\\\\Selenium\\\\chromedriver.exe')\r\n",
    "base_url = 'https://search.naver.com/search.naver?where=view&sm=tab_jum&query='\r\n",
    "url = base_url + quote('스마트폰')\r\n",
    "driver.get(url)\r\n",
    "# blog 페이지를 아래로 내려서 많은 데이터 확보\r\n",
    "body = driver.find_element_by_tag_name('body')\r\n",
    "for i in range(30):\r\n",
    "    body.send_keys(Keys.PAGE_DOWN)\r\n",
    "    time.sleep(2)\r\n",
    "html = driver.page_source\r\n",
    "soup = BeautifulSoup(html, 'html.parser')\r\n",
    "lis = soup.select('li.bx._svp_item')\r\n",
    "len(lis)"
   ],
   "outputs": [
    {
     "output_type": "execute_result",
     "data": {
      "text/plain": [
       "99"
      ]
     },
     "metadata": {},
     "execution_count": 2
    }
   ],
   "metadata": {}
  },
  {
   "cell_type": "code",
   "execution_count": 20,
   "source": [
    "li = lis[0]\r\n",
    "title = li.select_one('a.api_txt_lines.total_tit._cross_trigger').get_text()\r\n",
    "content = li.select_one('div.api_txt_lines.dsc_txt').get_text()\r\n",
    "date = li.select_one('.sub_time.sub_txt').get_text()\r\n",
    "title, content, date"
   ],
   "outputs": [
    {
     "output_type": "stream",
     "name": "stdout",
     "text": [
      "None\n"
     ]
    }
   ],
   "metadata": {}
  },
  {
   "cell_type": "code",
   "execution_count": 22,
   "source": [
    "title_list, content_list, date_list = [], [], []\r\n",
    "for i, li in enumerate(lis):\r\n",
    "    try:\r\n",
    "        adv = li.select_one('a.link_ad').get_text()\r\n",
    "        if adv.strip() == '광고':\r\n",
    "            continue\r\n",
    "    except:\r\n",
    "        title = li.select_one('a.api_txt_lines.total_tit._cross_trigger').get_text()\r\n",
    "        content = li.select_one('div.api_txt_lines.dsc_txt').get_text()\r\n",
    "        date = li.select_one('.sub_time.sub_txt').get_text()\r\n",
    "\r\n",
    "        title_list.append(title)\r\n",
    "        content_list.append(content)\r\n",
    "        date_list.append(date)\r\n",
    "        # print(i)"
   ],
   "outputs": [],
   "metadata": {}
  },
  {
   "cell_type": "code",
   "execution_count": 25,
   "source": [
    "df = pd.DataFrame({\r\n",
    "    'title' : title_list, 'date' : date_list, 'content' : content_list\r\n",
    "})\r\n",
    "df"
   ],
   "outputs": [
    {
     "output_type": "execute_result",
     "data": {
      "text/plain": [
       "                                     title         date  \\\n",
       "0                [스마트폰] 삼성 갤럭시Z 플립3 언박싱 후기  2021.08.16.   \n",
       "1   갤럭시 A03s의 출시소식과 상세 정보: 개발도상국용 초저가 스마트폰         7일 전   \n",
       "2               에어팟 프로 안드로이드 스마트폰과 연결하는 방법  2021.08.21.   \n",
       "3             갤럭시 굿락 루틴+ 스마트폰 배터리 충전 구간 알림  2021.08.08.   \n",
       "4          삼성 갤럭시노트10 가격 2021년에도 매력적인 스마트폰  2021.06.23.   \n",
       "..                                     ...          ...   \n",
       "92                             쉬운 스마트폰 거치대  2021.08.12.   \n",
       "93         가성비 스마트폰 요즘 대세에 맞게 갓성비폰으로 득템성공~  2021.08.19.   \n",
       "94          컴퓨터와 스마트폰 각각 다른 유료백신 쓰는건 어떨까요.  2021.07.17.   \n",
       "95                     60hz출시 스마트폰 120hz변경  2021.07.07.   \n",
       "96                        스마트폰 갤럭시노트 9 핫스팟  2021.07.14.   \n",
       "\n",
       "                                              content  \n",
       "0   진짜 역대급으로 나온 스마트폰, 삼성 갤럭시Z 플립3 언박싱 후기 함께 공개된 삼성...  \n",
       "1   삼성이 인도시장 등 개발도상국용 초저가 스마트폰인 A0x 시리즈를 지난 2019년부...  \n",
       "2   그러면 이때 스마트폰 블루투스 메뉴로 가줍니다. 찾기를 눌러주면, 이렇게 검색이 되...  \n",
       "3   갤럭시 스마트폰을 사용하고 있다면 굿락 앱은 꼭 써볼 것을 추천드려요. 지속적인 업...  \n",
       "4   일상에서 스마트폰 사용량은 점점 늘어나고 있습니다. 카카오톡, 라인 같은 기본적인 ...  \n",
       "..                                                ...  \n",
       "92  자전거 스마트폰 거치대 입니다. 많은 자전거 거치대가 상품으로 나와 있습니다. 자동...  \n",
       "93  가성비 스마트폰 요즘 대세에 맞게 갓성비폰으로 득템성공~ 아마 스마트폰 없는 분들은...  \n",
       "94  아직 결정한건 아니지만, PC는 카스퍼스키(유료), 스마트폰+태블릿은 둘다 비트디펜...  \n",
       "95  제목에는 간략한 질문내용 표시 사용기종 : s10e 질문내용 : (구체적으로): 6...  \n",
       "96  오늘 거래 하다가 와이파이 상태가 좋았다가 갑자기 몇번이나 시도해서 안되길래 스마트...  \n",
       "\n",
       "[97 rows x 3 columns]"
      ],
      "text/html": [
       "<div>\n",
       "<style scoped>\n",
       "    .dataframe tbody tr th:only-of-type {\n",
       "        vertical-align: middle;\n",
       "    }\n",
       "\n",
       "    .dataframe tbody tr th {\n",
       "        vertical-align: top;\n",
       "    }\n",
       "\n",
       "    .dataframe thead th {\n",
       "        text-align: right;\n",
       "    }\n",
       "</style>\n",
       "<table border=\"1\" class=\"dataframe\">\n",
       "  <thead>\n",
       "    <tr style=\"text-align: right;\">\n",
       "      <th></th>\n",
       "      <th>title</th>\n",
       "      <th>date</th>\n",
       "      <th>content</th>\n",
       "    </tr>\n",
       "  </thead>\n",
       "  <tbody>\n",
       "    <tr>\n",
       "      <th>0</th>\n",
       "      <td>[스마트폰] 삼성 갤럭시Z 플립3 언박싱 후기</td>\n",
       "      <td>2021.08.16.</td>\n",
       "      <td>진짜 역대급으로 나온 스마트폰, 삼성 갤럭시Z 플립3 언박싱 후기 함께 공개된 삼성...</td>\n",
       "    </tr>\n",
       "    <tr>\n",
       "      <th>1</th>\n",
       "      <td>갤럭시 A03s의 출시소식과 상세 정보: 개발도상국용 초저가 스마트폰</td>\n",
       "      <td>7일 전</td>\n",
       "      <td>삼성이 인도시장 등 개발도상국용 초저가 스마트폰인 A0x 시리즈를 지난 2019년부...</td>\n",
       "    </tr>\n",
       "    <tr>\n",
       "      <th>2</th>\n",
       "      <td>에어팟 프로 안드로이드 스마트폰과 연결하는 방법</td>\n",
       "      <td>2021.08.21.</td>\n",
       "      <td>그러면 이때 스마트폰 블루투스 메뉴로 가줍니다. 찾기를 눌러주면, 이렇게 검색이 되...</td>\n",
       "    </tr>\n",
       "    <tr>\n",
       "      <th>3</th>\n",
       "      <td>갤럭시 굿락 루틴+ 스마트폰 배터리 충전 구간 알림</td>\n",
       "      <td>2021.08.08.</td>\n",
       "      <td>갤럭시 스마트폰을 사용하고 있다면 굿락 앱은 꼭 써볼 것을 추천드려요. 지속적인 업...</td>\n",
       "    </tr>\n",
       "    <tr>\n",
       "      <th>4</th>\n",
       "      <td>삼성 갤럭시노트10 가격 2021년에도 매력적인 스마트폰</td>\n",
       "      <td>2021.06.23.</td>\n",
       "      <td>일상에서 스마트폰 사용량은 점점 늘어나고 있습니다. 카카오톡, 라인 같은 기본적인 ...</td>\n",
       "    </tr>\n",
       "    <tr>\n",
       "      <th>...</th>\n",
       "      <td>...</td>\n",
       "      <td>...</td>\n",
       "      <td>...</td>\n",
       "    </tr>\n",
       "    <tr>\n",
       "      <th>92</th>\n",
       "      <td>쉬운 스마트폰 거치대</td>\n",
       "      <td>2021.08.12.</td>\n",
       "      <td>자전거 스마트폰 거치대 입니다. 많은 자전거 거치대가 상품으로 나와 있습니다. 자동...</td>\n",
       "    </tr>\n",
       "    <tr>\n",
       "      <th>93</th>\n",
       "      <td>가성비 스마트폰 요즘 대세에 맞게 갓성비폰으로 득템성공~</td>\n",
       "      <td>2021.08.19.</td>\n",
       "      <td>가성비 스마트폰 요즘 대세에 맞게 갓성비폰으로 득템성공~ 아마 스마트폰 없는 분들은...</td>\n",
       "    </tr>\n",
       "    <tr>\n",
       "      <th>94</th>\n",
       "      <td>컴퓨터와 스마트폰 각각 다른 유료백신 쓰는건 어떨까요.</td>\n",
       "      <td>2021.07.17.</td>\n",
       "      <td>아직 결정한건 아니지만, PC는 카스퍼스키(유료), 스마트폰+태블릿은 둘다 비트디펜...</td>\n",
       "    </tr>\n",
       "    <tr>\n",
       "      <th>95</th>\n",
       "      <td>60hz출시 스마트폰 120hz변경</td>\n",
       "      <td>2021.07.07.</td>\n",
       "      <td>제목에는 간략한 질문내용 표시 사용기종 : s10e 질문내용 : (구체적으로): 6...</td>\n",
       "    </tr>\n",
       "    <tr>\n",
       "      <th>96</th>\n",
       "      <td>스마트폰 갤럭시노트 9 핫스팟</td>\n",
       "      <td>2021.07.14.</td>\n",
       "      <td>오늘 거래 하다가 와이파이 상태가 좋았다가 갑자기 몇번이나 시도해서 안되길래 스마트...</td>\n",
       "    </tr>\n",
       "  </tbody>\n",
       "</table>\n",
       "<p>97 rows × 3 columns</p>\n",
       "</div>"
      ]
     },
     "metadata": {},
     "execution_count": 25
    }
   ],
   "metadata": {}
  },
  {
   "cell_type": "code",
   "execution_count": null,
   "source": [],
   "outputs": [],
   "metadata": {}
  }
 ],
 "metadata": {
  "orig_nbformat": 4,
  "language_info": {
   "name": "python",
   "version": "3.8.10",
   "mimetype": "text/x-python",
   "codemirror_mode": {
    "name": "ipython",
    "version": 3
   },
   "pygments_lexer": "ipython3",
   "nbconvert_exporter": "python",
   "file_extension": ".py"
  },
  "kernelspec": {
   "name": "python3",
   "display_name": "Python 3.8.10 64-bit ('base': conda)"
  },
  "interpreter": {
   "hash": "fe3bab233825460445dbfeea6dcd52ef5815a3fa13c858fea07ac830aa383284"
  }
 },
 "nbformat": 4,
 "nbformat_minor": 2
}