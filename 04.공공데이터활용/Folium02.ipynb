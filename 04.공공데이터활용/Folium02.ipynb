{
 "cells": [
  {
   "cell_type": "code",
   "execution_count": 31,
   "source": [
    "# 검색 API 활용\r\n",
    "# 주소창을 이용해서 정보를 가져오는 것 = Get방식\r\n",
    "# 브라우저에서는 볼 수 없고, 다른 장소에 저장된 데이터를 불러오는 방식 = Post방식\r\n",
    "# XML(eXtensible Markup Language)와 JSON(JavaScript Object Notation)방식을 주로 활용해서 웹상의 정보를 가져올 수 있음\r\n",
    "# API를 이용하기 위해서는 승인 키가 반드시 필요함\r\n",
    "# 건물명, 명소로부터 도로명 주소 구하기\r\n",
    "filename = 'C:\\\\Workspace\\\\python\\\\Data_Science\\\\04.공공데이터활용\\\\roadapikey.txt'\r\n",
    "import pandas as pd\r\n",
    "with open(filename) as f:\r\n",
    "    api_key = f.read()\r\n",
    "import requests\r\n",
    "from urllib.parse import quote\r\n",
    "road_url = 'https://www.juso.go.kr/addrlink/addrLinkApi.do'\r\n",
    "bldg = '서울특별시청'\r\n",
    "quote(bldg) # 64개의 데이터로 특정 내용을 작성 / 인코딩작업이며, API를 이용하기 위해서는 인코딩이 필수\r\n",
    "option = f'confmKey={api_key}&currentPage=1&countPerPage=10&keyword={quote(bldg)}' # f스트링에서 &을 통해 연결\r\n",
    "url = f'{road_url}?{option}&resultType=json'\r\n",
    "\r\n",
    "result = requests.get(url).json()\r\n",
    "result"
   ],
   "outputs": [
    {
     "output_type": "execute_result",
     "data": {
      "text/plain": [
       "{'results': {'common': {'errorMessage': '정상',\n",
       "   'countPerPage': '10',\n",
       "   'totalCount': '1',\n",
       "   'errorCode': '0',\n",
       "   'currentPage': '1'},\n",
       "  'juso': [{'detBdNmList': '본관동,신관',\n",
       "    'engAddr': '110, Sejong-daero, Jung-gu, Seoul',\n",
       "    'rn': '세종대로',\n",
       "    'emdNm': '태평로1가',\n",
       "    'zipNo': '04524',\n",
       "    'roadAddrPart2': '(태평로1가)',\n",
       "    'emdNo': '02',\n",
       "    'sggNm': '중구',\n",
       "    'jibunAddr': '서울특별시 중구 태평로1가 31 서울특별시청',\n",
       "    'siNm': '서울특별시',\n",
       "    'roadAddrPart1': '서울특별시 중구 세종대로 110',\n",
       "    'bdNm': '서울특별시청',\n",
       "    'admCd': '1114010300',\n",
       "    'udrtYn': '0',\n",
       "    'lnbrMnnm': '31',\n",
       "    'roadAddr': '서울특별시 중구 세종대로 110(태평로1가)',\n",
       "    'lnbrSlno': '0',\n",
       "    'buldMnnm': '110',\n",
       "    'bdKdcd': '0',\n",
       "    'liNm': '',\n",
       "    'rnMgtSn': '111402005001',\n",
       "    'mtYn': '0',\n",
       "    'bdMgtSn': '1114010300100310000019224',\n",
       "    'buldSlno': '0'}]}}"
      ]
     },
     "metadata": {},
     "execution_count": 31
    }
   ],
   "metadata": {}
  },
  {
   "cell_type": "code",
   "execution_count": 34,
   "source": [
    "result['results']['juso'][0]['roadAddr']"
   ],
   "outputs": [
    {
     "output_type": "execute_result",
     "data": {
      "text/plain": [
       "'서울특별시 중구 세종대로 110(태평로1가)'"
      ]
     },
     "metadata": {},
     "execution_count": 34
    }
   ],
   "metadata": {}
  },
  {
   "cell_type": "code",
   "execution_count": 46,
   "source": [
    "bldgs = ['서울특별시청', '노원구청', '송파구청', '마포구청', '강서구청']\r\n",
    "addr_list = []\r\n",
    "for bldg in bldgs:\r\n",
    "    option = f'confmKey={api_key}&currentPage=1&countPerPage=10&keyword={quote(bldg)}' # f스트링에서 &을 통해 연결\r\n",
    "    url = f'{road_url}?{option}&resultType=json'\r\n",
    "    result = requests.get(url).json()\r\n",
    "    addr = result['results']['juso'][0]['roadAddr']    \r\n",
    "    addr_list.append(addr)\r\n",
    "addr_list\r\n",
    "import pandas as pd\r\n",
    "df = pd.DataFrame({\r\n",
    "    '공공기관' : bldgs,\r\n",
    "    '도로명주소' : addr_list\r\n",
    "})\r\n",
    "df\r\n",
    "filename2 = 'C:\\\\Workspace\\\\python\\\\Data_Science\\\\04.공공데이터활용\\\\data\\\\공공기관.csv'\r\n",
    "filename2 # 파일을 열었을 때 깨져보여도 VS Code상에서는 정상일 수 있음.\r\n",
    "# 완성형 표준(국가표준, MS Windows) - cp949, EUC-KR / ANSI\r\n",
    "# 조합형 표준(웹, 프로그램) - UTF-8 → 엑셀과 CMD창은 완성형표준을, VS Code는 조합형표준을 사용하기때문에 깨져보일 수 있음.\r\n",
    "pd.read_csv(filename2)"
   ],
   "outputs": [
    {
     "output_type": "execute_result",
     "data": {
      "text/plain": [
       "     공공기관                      도로명주소\n",
       "0  서울특별시청   서울특별시 중구 세종대로 110(태평로1가)\n",
       "1    노원구청     서울특별시 노원구 노해로 437(상계동)\n",
       "2    송파구청    서울특별시 송파구 올림픽로 326(신천동)\n",
       "3    마포구청  서울특별시 마포구 월드컵로 지하190(성산동)\n",
       "4    강서구청  서울특별시 강서구 남부순환로 208(외발산동)"
      ],
      "text/html": [
       "<div>\n",
       "<style scoped>\n",
       "    .dataframe tbody tr th:only-of-type {\n",
       "        vertical-align: middle;\n",
       "    }\n",
       "\n",
       "    .dataframe tbody tr th {\n",
       "        vertical-align: top;\n",
       "    }\n",
       "\n",
       "    .dataframe thead th {\n",
       "        text-align: right;\n",
       "    }\n",
       "</style>\n",
       "<table border=\"1\" class=\"dataframe\">\n",
       "  <thead>\n",
       "    <tr style=\"text-align: right;\">\n",
       "      <th></th>\n",
       "      <th>공공기관</th>\n",
       "      <th>도로명주소</th>\n",
       "    </tr>\n",
       "  </thead>\n",
       "  <tbody>\n",
       "    <tr>\n",
       "      <th>0</th>\n",
       "      <td>서울특별시청</td>\n",
       "      <td>서울특별시 중구 세종대로 110(태평로1가)</td>\n",
       "    </tr>\n",
       "    <tr>\n",
       "      <th>1</th>\n",
       "      <td>노원구청</td>\n",
       "      <td>서울특별시 노원구 노해로 437(상계동)</td>\n",
       "    </tr>\n",
       "    <tr>\n",
       "      <th>2</th>\n",
       "      <td>송파구청</td>\n",
       "      <td>서울특별시 송파구 올림픽로 326(신천동)</td>\n",
       "    </tr>\n",
       "    <tr>\n",
       "      <th>3</th>\n",
       "      <td>마포구청</td>\n",
       "      <td>서울특별시 마포구 월드컵로 지하190(성산동)</td>\n",
       "    </tr>\n",
       "    <tr>\n",
       "      <th>4</th>\n",
       "      <td>강서구청</td>\n",
       "      <td>서울특별시 강서구 남부순환로 208(외발산동)</td>\n",
       "    </tr>\n",
       "  </tbody>\n",
       "</table>\n",
       "</div>"
      ]
     },
     "metadata": {},
     "execution_count": 46
    }
   ],
   "metadata": {}
  },
  {
   "cell_type": "code",
   "execution_count": 54,
   "source": [
    "# 카카오 로컬 API\r\n",
    "filename3 = 'C:\\\\Workspace\\\\python\\\\Data_Science\\\\04.공공데이터활용\\\\kakaoapikey.txt'\r\n",
    "import pandas as pd\r\n",
    "with open(filename3) as f:\r\n",
    "    api_key2 = f.read()\r\n",
    "import requests\r\n",
    "from urllib.parse import quote\r\n",
    "addr = '서울특별시 중구 세종대로 110(태평로1가)'\r\n",
    "search_url = 'https://dapi.kakao.com/v2/local/search/address.json'\r\n",
    "url = f'{search_url}?query={quote(addr)}'\r\n",
    "url\r\n",
    "# Authorization : KakaoAK {REST_API_KEY}\r\n",
    "result = requests.get(url,\r\n",
    "                      headers = {'Authorization': f'KakaoAK {api_key2}'}).json()\r\n",
    "result"
   ],
   "outputs": [
    {
     "output_type": "execute_result",
     "data": {
      "text/plain": [
       "{'documents': [{'address': {'address_name': '서울 중구 태평로1가 31',\n",
       "    'b_code': '1114010300',\n",
       "    'h_code': '1114055000',\n",
       "    'main_address_no': '31',\n",
       "    'mountain_yn': 'N',\n",
       "    'region_1depth_name': '서울',\n",
       "    'region_2depth_name': '중구',\n",
       "    'region_3depth_h_name': '명동',\n",
       "    'region_3depth_name': '태평로1가',\n",
       "    'sub_address_no': '',\n",
       "    'x': '126.977829174031',\n",
       "    'y': '37.5663174209601'},\n",
       "   'address_name': '서울 중구 세종대로 110',\n",
       "   'address_type': 'ROAD_ADDR',\n",
       "   'road_address': {'address_name': '서울 중구 세종대로 110',\n",
       "    'building_name': '서울특별시청',\n",
       "    'main_building_no': '110',\n",
       "    'region_1depth_name': '서울',\n",
       "    'region_2depth_name': '중구',\n",
       "    'region_3depth_name': '태평로1가',\n",
       "    'road_name': '세종대로',\n",
       "    'sub_building_no': '',\n",
       "    'underground_yn': 'N',\n",
       "    'x': '126.977829174031',\n",
       "    'y': '37.5663174209601',\n",
       "    'zone_no': '04524'},\n",
       "   'x': '126.977829174031',\n",
       "   'y': '37.5663174209601'}],\n",
       " 'meta': {'is_end': True, 'pageable_count': 1, 'total_count': 1}}"
      ]
     },
     "metadata": {},
     "execution_count": 54
    }
   ],
   "metadata": {}
  },
  {
   "cell_type": "code",
   "execution_count": 58,
   "source": [
    "lng = float(result['documents'][0]['x']) # 경도\r\n",
    "lat = float(result['documents'][0]['y']) # 위도\r\n",
    "lng, lat"
   ],
   "outputs": [
    {
     "output_type": "execute_result",
     "data": {
      "text/plain": [
       "(126.977829174031, 37.5663174209601)"
      ]
     },
     "metadata": {},
     "execution_count": 58
    }
   ],
   "metadata": {}
  },
  {
   "cell_type": "code",
   "execution_count": 80,
   "source": [
    "# 공공기관파일에 위도, 경도 추가하기\r\n",
    "df2 = pd.read_csv(filename2)\r\n",
    "lat_list = []\r\n",
    "lng_list = []\r\n",
    "for i in range(len(df2.도로명주소)):\r\n",
    "    url = f'{search_url}?query={quote(df2.도로명주소[i])}'\r\n",
    "    result = requests.get(url,\r\n",
    "                      headers = {'Authorization': f'KakaoAK {api_key2}'}).json()\r\n",
    "    print(lng, lat)\r\n",
    "    lng = float(result['documents'][0]['x']) # 경도\r\n",
    "    lng_list.append(lng)\r\n",
    "    lat = float(result['documents'][0]['y']) # 위도\r\n",
    "    lat_list.append(lat)\r\n",
    "df2['위도'] = lat_list\r\n",
    "df2['경도'] = lng_list\r\n",
    "df2\r\n",
    "# df2.to_csv('공공기관2.csv', index = False)"
   ],
   "outputs": [
    {
     "output_type": "stream",
     "name": "stdout",
     "text": [
      "126.820414204647 37.5468670862325\n",
      "126.977829174031 37.5663174209601\n",
      "127.056297212439 37.6545190418039\n",
      "127.105859984389 37.514477182474\n",
      "126.903356973848 37.5634263131969\n"
     ]
    },
    {
     "output_type": "execute_result",
     "data": {
      "text/plain": [
       "     공공기관                      도로명주소         위도          경도\n",
       "0  서울특별시청   서울특별시 중구 세종대로 110(태평로1가)  37.566317  126.977829\n",
       "1    노원구청     서울특별시 노원구 노해로 437(상계동)  37.654519  127.056297\n",
       "2    송파구청    서울특별시 송파구 올림픽로 326(신천동)  37.514477  127.105860\n",
       "3    마포구청  서울특별시 마포구 월드컵로 지하190(성산동)  37.563426  126.903357\n",
       "4    강서구청  서울특별시 강서구 남부순환로 208(외발산동)  37.546867  126.820414"
      ],
      "text/html": [
       "<div>\n",
       "<style scoped>\n",
       "    .dataframe tbody tr th:only-of-type {\n",
       "        vertical-align: middle;\n",
       "    }\n",
       "\n",
       "    .dataframe tbody tr th {\n",
       "        vertical-align: top;\n",
       "    }\n",
       "\n",
       "    .dataframe thead th {\n",
       "        text-align: right;\n",
       "    }\n",
       "</style>\n",
       "<table border=\"1\" class=\"dataframe\">\n",
       "  <thead>\n",
       "    <tr style=\"text-align: right;\">\n",
       "      <th></th>\n",
       "      <th>공공기관</th>\n",
       "      <th>도로명주소</th>\n",
       "      <th>위도</th>\n",
       "      <th>경도</th>\n",
       "    </tr>\n",
       "  </thead>\n",
       "  <tbody>\n",
       "    <tr>\n",
       "      <th>0</th>\n",
       "      <td>서울특별시청</td>\n",
       "      <td>서울특별시 중구 세종대로 110(태평로1가)</td>\n",
       "      <td>37.566317</td>\n",
       "      <td>126.977829</td>\n",
       "    </tr>\n",
       "    <tr>\n",
       "      <th>1</th>\n",
       "      <td>노원구청</td>\n",
       "      <td>서울특별시 노원구 노해로 437(상계동)</td>\n",
       "      <td>37.654519</td>\n",
       "      <td>127.056297</td>\n",
       "    </tr>\n",
       "    <tr>\n",
       "      <th>2</th>\n",
       "      <td>송파구청</td>\n",
       "      <td>서울특별시 송파구 올림픽로 326(신천동)</td>\n",
       "      <td>37.514477</td>\n",
       "      <td>127.105860</td>\n",
       "    </tr>\n",
       "    <tr>\n",
       "      <th>3</th>\n",
       "      <td>마포구청</td>\n",
       "      <td>서울특별시 마포구 월드컵로 지하190(성산동)</td>\n",
       "      <td>37.563426</td>\n",
       "      <td>126.903357</td>\n",
       "    </tr>\n",
       "    <tr>\n",
       "      <th>4</th>\n",
       "      <td>강서구청</td>\n",
       "      <td>서울특별시 강서구 남부순환로 208(외발산동)</td>\n",
       "      <td>37.546867</td>\n",
       "      <td>126.820414</td>\n",
       "    </tr>\n",
       "  </tbody>\n",
       "</table>\n",
       "</div>"
      ]
     },
     "metadata": {},
     "execution_count": 80
    }
   ],
   "metadata": {}
  },
  {
   "cell_type": "code",
   "execution_count": null,
   "source": [
    "# 지도위에 공공기관 위치 표시하기\r\n",
    "import folium\r\n",
    "location = [df2.위도.mean(),df2.경도.mean()]\r\n",
    "map = folium.Map(location = location, zoom_start = 11)\r\n",
    "map\r\n",
    "for i in range(len(df2.위도)):\r\n",
    "    folium.Marker(\r\n",
    "        location = [df2.위도[i], df2.경도[i]], # 위도, 경도\r\n",
    "        popup =  folium.Popup('서울 공공기관위치', max_width = 200),\r\n",
    "        tooltip = df2.공공기관[i],\r\n",
    "        icon = folium.Icon(color = 'red', info = 'info-sign')\r\n",
    "    ).add_to(map)\r\n",
    "title = '<h3 align = \"center\" style = \"font-size : 20px\"> 서울시 구청 안내</h3>'    \r\n",
    "map.get_root().html.add_child(folium.Element(title))\r\n",
    "map"
   ],
   "outputs": [],
   "metadata": {}
  }
 ],
 "metadata": {
  "orig_nbformat": 4,
  "language_info": {
   "name": "python",
   "version": "3.8.10",
   "mimetype": "text/x-python",
   "codemirror_mode": {
    "name": "ipython",
    "version": 3
   },
   "pygments_lexer": "ipython3",
   "nbconvert_exporter": "python",
   "file_extension": ".py"
  },
  "kernelspec": {
   "name": "python3",
   "display_name": "Python 3.8.10 64-bit ('base': conda)"
  },
  "interpreter": {
   "hash": "fe3bab233825460445dbfeea6dcd52ef5815a3fa13c858fea07ac830aa383284"
  }
 },
 "nbformat": 4,
 "nbformat_minor": 2
}