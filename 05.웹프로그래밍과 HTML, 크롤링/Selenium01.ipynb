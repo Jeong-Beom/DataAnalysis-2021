{
 "cells": [
  {
   "cell_type": "code",
   "execution_count": 1,
   "source": [
    "import requests\r\n",
    "import pandas as pd"
   ],
   "outputs": [],
   "metadata": {}
  },
  {
   "cell_type": "code",
   "execution_count": 4,
   "source": [
    "url = 'https://google.com'\r\n",
    "req = requests.get(url)\r\n",
    "html = req.text"
   ],
   "outputs": [],
   "metadata": {}
  },
  {
   "cell_type": "code",
   "execution_count": 25,
   "source": [
    "import time\r\n",
    "from selenium import webdriver\r\n",
    "from selenium.webdriver.common.keys import Keys\r\n",
    "driver = webdriver.Chrome('C:\\\\Users\\\\Bestc\\\\Desktop\\\\빅데이터 지능형 서비스 개발과정(멀티캠퍼스)\\\\설치프로그램\\\\Selenium\\\\chromedriver.exe')\r\n",
    "driver.get(url)\r\n",
    "search_box = driver.find_element_by_name('q')\r\n",
    "search_box.send_keys('ChromeDriver')\r\n",
    "search_box.send_keys(Keys.ENTER)\r\n",
    "time.sleep(2) # 2초간 기다림\r\n",
    "\r\n",
    "divs = driver.find_elements_by_css_selector('#search .g')\r\n",
    "len(divs)\r\n",
    "div = divs[0]\r\n",
    "title = div.find_element_by_css_selector('.VwiC3b.MUxGbd').text\r\n",
    "content = div.find_element_by_css_selector('.VwiC3b.MUxGbd').text\r\n",
    "content\r\n",
    "title_list, content_list = [], []\r\n",
    "for div in divs:\r\n",
    "    title = div.find_element_by_css_selector('.LC20lb.DKV0Md').text\r\n",
    "    content = div.find_element_by_css_selector('.VwiC3b.MUxGbd').text\r\n",
    "    title_list.append(title)\r\n",
    "    content_list.append(content)\r\n",
    "df = pd.DataFrame({\r\n",
    "    '제목': title_list, '내용': content_list\r\n",
    "})\r\n",
    "print(df)\r\n",
    "driver.close()"
   ],
   "outputs": [
    {
     "output_type": "stream",
     "name": "stdout",
     "text": [
      "                                                  제목  \\\n",
      "0    ChromeDriver - WebDriver for Chrome - Downloads   \n",
      "1    ChromeDriver - WebDriver for Chrome - Downloads   \n",
      "2  ChromeDriver - WebDriver for Chrome - Google S...   \n",
      "3  selenium) 설치하기! chromedriver 버전 오류 해결하기 - 네이버 ...   \n",
      "4              [ChromeDriver] 크롬 드라이버 버전에 따라 설정하는 방법   \n",
      "5          크롬드라이버(chromedriver) 다운로드 - Mizy's - 티스토리   \n",
      "6   [Python]크롬 드라이버 버전 오류 SessionNotCreatedException   \n",
      "7                              ChromeDriver - GitHub   \n",
      "8                        Selenium을 사용하고 싶습니다 - goorm   \n",
      "9  selenium 버전 문제 해결 - This version of ChromeDriv...   \n",
      "\n",
      "                                                  내용  \n",
      "0  Current Releases · ChromeDriver 93.0.4577.15 ·...  \n",
      "1  Current Releases · ChromeDriver 93.0.4577.15 ·...  \n",
      "2  It provides capabilities for navigating to web...  \n",
      "3  여기에서 현재 사용중인 크롬의 버전과 일치하는 버전의 파일을 다운 받으시면 됩니다....  \n",
      "4  2020. 6. 9. — 크롬드라이버 다운로드 사이트로 갑니다. https://ch...  \n",
      "5  크롬드라이버(chromedriver) 다운로드. Python/Crawling 202...  \n",
      "6  Chrome(executable_path=\"C:/python/chromedriver...  \n",
      "7                                이 페이지에 관한 정보가 없습니다.  \n",
      "8  ChromeDriver 다운로드. 아래 명령을 사용하여 크롬 드라이버를 다운로드 받...  \n",
      "9  2019. 11. 30. — This version of ChromeDriver o...  \n"
     ]
    }
   ],
   "metadata": {}
  }
 ],
 "metadata": {
  "orig_nbformat": 4,
  "language_info": {
   "name": "python",
   "version": "3.8.10",
   "mimetype": "text/x-python",
   "codemirror_mode": {
    "name": "ipython",
    "version": 3
   },
   "pygments_lexer": "ipython3",
   "nbconvert_exporter": "python",
   "file_extension": ".py"
  },
  "kernelspec": {
   "name": "python3",
   "display_name": "Python 3.8.10 64-bit ('base': conda)"
  },
  "interpreter": {
   "hash": "fe3bab233825460445dbfeea6dcd52ef5815a3fa13c858fea07ac830aa383284"
  }
 },
 "nbformat": 4,
 "nbformat_minor": 2
}