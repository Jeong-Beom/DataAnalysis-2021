{
 "cells": [
  {
   "cell_type": "code",
   "execution_count": 38,
   "source": [
    "import requests\r\n",
    "import pandas as pd\r\n",
    "import time\r\n",
    "from selenium import webdriver\r\n",
    "from selenium.webdriver.common.keys import Keys\r\n",
    "'''\r\n",
    "options = webdriver.ChromeOptions()\r\n",
    "options.add_argument('--headless') # 화면없이 실행\r\n",
    "options.add_argument('--no-sandbox')\r\n",
    "options.add_argument('--single-process')\r\n",
    "options.add_argument('--disable-dev-shm-usage')\r\n",
    "'''\r\n",
    "driver = webdriver.Chrome('C:\\\\Users\\\\Bestc\\\\Desktop\\\\빅데이터 지능형 서비스 개발과정(멀티캠퍼스)\\\\설치프로그램\\\\Selenium\\\\chromedriver.exe')\r\n",
    "instargram = 'https://www.instagram.com'\r\n",
    "driver.get(instargram)\r\n",
    "time.sleep(1)\r\n",
    "# driver.close()\r\n",
    "with open('C:\\\\Workspace\\\\python\\\\Data_Science\\\\05.웹프로그래밍과 HTML, 크롤링\\\\password.txt') as f:\r\n",
    "    pwd = f.read()\r\n",
    "id = '01063964694'\r\n",
    "input_id = driver.find_element_by_css_selector('._2hvTZ.pexuQ.zyHYP')\r\n",
    "input_id.send_keys(id)\r\n",
    "input_pwd = driver.find_element_by_name('password')       \r\n",
    "input_pwd.send_keys(password)\r\n",
    "input_pwd.submit()\r\n",
    "time.sleep(2)\r\n",
    "try:\r\n",
    "    driver.find_element_by_css_selector('.sqdOP.yWX7d.y3zKF').click()\r\n",
    "    time.sleep(2)\r\n",
    "except:\r\n",
    "    pass  \r\n",
    "try:\r\n",
    "    driver.find_element_by_css_selector('.aOOlW.HoLwm').click()\r\n",
    "    time.sleep(2) \r\n",
    "except:\r\n",
    "    pass \r\n",
    "from urllib.parse import quote\r\n",
    "keyword = '제주도맛집'\r\n",
    "search_url = 'https://www.instagram.com/explore/tags/'\r\n",
    "url = f'{search_url}{quote(keyword)}'\r\n",
    "url\r\n",
    "driver.get(url)\r\n",
    "time.sleep(5)"
   ],
   "outputs": [],
   "metadata": {}
  },
  {
   "cell_type": "code",
   "execution_count": 33,
   "source": [
    "                                    "
   ],
   "outputs": [],
   "metadata": {}
  }
 ],
 "metadata": {
  "orig_nbformat": 4,
  "language_info": {
   "name": "python",
   "version": "3.8.10",
   "mimetype": "text/x-python",
   "codemirror_mode": {
    "name": "ipython",
    "version": 3
   },
   "pygments_lexer": "ipython3",
   "nbconvert_exporter": "python",
   "file_extension": ".py"
  },
  "kernelspec": {
   "name": "python3",
   "display_name": "Python 3.8.10 64-bit ('base': conda)"
  },
  "interpreter": {
   "hash": "fe3bab233825460445dbfeea6dcd52ef5815a3fa13c858fea07ac830aa383284"
  }
 },
 "nbformat": 4,
 "nbformat_minor": 2
}