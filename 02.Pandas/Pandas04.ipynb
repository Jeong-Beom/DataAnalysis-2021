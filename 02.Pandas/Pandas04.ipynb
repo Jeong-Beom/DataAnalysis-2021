{
 "cells": [
  {
   "cell_type": "code",
   "execution_count": 35,
   "source": [
    "import numpy as np\r\n",
    "import pandas as pd\r\n",
    "# 데이터프레임 고급 인덱싱\r\n",
    "# loc 인덱서 : df.loc[행, 열] <문자> / df.iloc[행, 열] <숫자>\r\n",
    "df = pd.DataFrame(np.arange(10, 22).reshape(3, 4),\r\n",
    "                  index=[\"x\", \"y\", \"z\"],\r\n",
    "                  columns=[\"A\", \"B\", \"C\", \"D\"])\r\n",
    "print(df) \r\n",
    "# print(df.loc['x']) \r\n",
    "# print(df.loc['x':'y']) # df['x', 'y'] / df.loc[['x','z']] 와 동일\r\n",
    "# Boolean indexing\r\n",
    "df.loc[df.A > 15]\r\n",
    "# 인덱서 2개를 받는 경우\r\n",
    "df.loc['x', 'A']\r\n",
    "df.loc['y' :, 'B']\r\n",
    "# iloc 인덱서\r\n",
    "df.iloc[0, 0]\r\n",
    "df.iloc[:2, 1:] \r\n",
    "df2 = pd.DataFrame(np.arange(25).reshape(5, 5), \r\n",
    "      index = ['a', 'b', 'c', 'd', 'e'], columns = ['x', 'y', 'z', 't', 'u'])\r\n",
    "print(df2)\r\n",
    "df2['z']['c'], df2.z['c'], df2.z[2], df2.z.c\r\n",
    "df2.loc['c', 'z'], df2.loc['c']['z'], df2.loc['c'][2]\r\n",
    "df2.iloc[2, 2], df2.iloc[2]['z'], df2.iloc[2][2]"
   ],
   "outputs": [
    {
     "output_type": "stream",
     "name": "stdout",
     "text": [
      "    A   B   C   D\n",
      "x  10  11  12  13\n",
      "y  14  15  16  17\n",
      "z  18  19  20  21\n",
      "    x   y   z   t   u\n",
      "a   0   1   2   3   4\n",
      "b   5   6   7   8   9\n",
      "c  10  11  12  13  14\n",
      "d  15  16  17  18  19\n",
      "e  20  21  22  23  24\n"
     ]
    },
    {
     "output_type": "execute_result",
     "data": {
      "text/plain": [
       "(12, 12, 12)"
      ]
     },
     "metadata": {},
     "execution_count": 35
    }
   ],
   "metadata": {}
  }
 ],
 "metadata": {
  "orig_nbformat": 4,
  "language_info": {
   "name": "python",
   "version": "3.8.10",
   "mimetype": "text/x-python",
   "codemirror_mode": {
    "name": "ipython",
    "version": 3
   },
   "pygments_lexer": "ipython3",
   "nbconvert_exporter": "python",
   "file_extension": ".py"
  },
  "kernelspec": {
   "name": "python3",
   "display_name": "Python 3.8.10 64-bit ('base': conda)"
  },
  "interpreter": {
   "hash": "fe3bab233825460445dbfeea6dcd52ef5815a3fa13c858fea07ac830aa383284"
  }
 },
 "nbformat": 4,
 "nbformat_minor": 2
}