{
 "cells": [
  {
   "cell_type": "code",
   "execution_count": 80,
   "source": [
    "# 데이터프레임의 데이터 조작\r\n",
    "import numpy as np\r\n",
    "import pandas as pd\r\n",
    "# 데이터 갯수 세기\r\n",
    "s = pd.Series(range(10))\r\n",
    "s[3] = np.nan\r\n",
    "s\r\n",
    "s.count()\r\n",
    "df = pd.DataFrame(np.arange(16).reshape(4, 4), dtype = float)\r\n",
    "df.iloc[2, 3] = np.nan\r\n",
    "df\r\n",
    "df.count() # 열 기준으로 데이터가 입력되어 있는 개수를 보여줌\r\n",
    "import seaborn as sns\r\n",
    "titanic = sns.load_dataset('titanic') # 타이타닉 침몰사고 승객명단을 불러오는 또다른 방법\r\n",
    "titanic.head()\r\n",
    "titanic.count()\r\n",
    "# titanic.info()\r\n",
    "titanic.describe()\r\n",
    "# 카테고리 값 세기\r\n",
    "titanic.sex.value_counts() # 데이터프레임 이름.열이름.value_counts() : 해당 데이터 프레임의 열이름을 기준으로 작성되어 있는 범주의 개수를 확인\r\n",
    "# 데이터프레임 통으로는 셀수 없음 / series 단위로 나누어서 셈 가능\r\n",
    "# 정렬 : sort_index() / sort_values()\r\n",
    "np.random.seed(2021)\r\n",
    "s2 = pd.Series(np.random.randint(10, size = 10))\r\n",
    "s2.value_counts().sort_values(), s2.value_counts().sort_values(ascending = False)\r\n",
    "titanic.sort_values(by = 'fare', ascending = False).head()\r\n",
    "titanic.sort_values(by = ['fare', 'age'], ascending = False) # 첫번째 기준으로 정렬 후 두번째 기준으로 추가정렬\r\n",
    "# 행, 열 합계\r\n",
    "np.random.seed(2021)\r\n",
    "df2 = pd.DataFrame(np.random.randint(10, size =(4, 8)))\r\n",
    "# print(df2)\r\n",
    "df2.sum() # 기존 axis 값은 0으로 열 기준의 합계가 보여짐\r\n",
    "df2['RowSum'] = df2.sum(axis = 1)\r\n",
    "# print(df2)\r\n",
    "df2.loc['ColSum', :] = df2.sum()\r\n",
    "# print(df2)\r\n",
    "# 승객의 평균 나이\r\n",
    "titanic.age.mean()\r\n",
    "# 여성 승객의 평균나이\r\n",
    "titanic[titanic.sex == 'female'].age.mean()\r\n",
    "# 1등실, 여성승객의 평균 나이\r\n",
    "np.round(titanic[titanic.pclass == 1][titanic.sex == 'female'].age.mean(), 1)\r\n",
    "# apply 변환\r\n",
    "df3 = pd.DataFrame({\r\n",
    "    'A': [1, 3, 4, 3, 4],\r\n",
    "    'B': [2, 3, 1, 2, 3],\r\n",
    "    'C': [1, 5, 2, 4, 4]\r\n",
    "})\r\n",
    "df3.loc['max-min', :] = df3.apply(lambda x: x.max() - x.min())\r\n",
    "df3\r\n",
    "titanic['성년여부'] = titanic.apply(lambda r: 'adult' if r.age >= 20 else 'child', axis = 1)\r\n",
    "titanic['category1'] = titanic.apply(lambda r: r.sex if r.age >= 20 else 'child', axis = 1)\r\n",
    "titanic\r\n",
    "titanic.category1.value_counts()"
   ],
   "outputs": [
    {
     "output_type": "stream",
     "name": "stderr",
     "text": [
      "<ipython-input-80-064f203f0366>:42: UserWarning: Boolean Series key will be reindexed to match DataFrame index.\n",
      "  np.round(titanic[titanic.pclass == 1][titanic.sex == 'female'].age.mean(), 1)\n"
     ]
    },
    {
     "output_type": "execute_result",
     "data": {
      "text/plain": [
       "male      364\n",
       "child     341\n",
       "female    186\n",
       "Name: category1, dtype: int64"
      ]
     },
     "metadata": {},
     "execution_count": 80
    }
   ],
   "metadata": {}
  }
 ],
 "metadata": {
  "orig_nbformat": 4,
  "language_info": {
   "name": "python",
   "version": "3.8.10"
  },
  "kernelspec": {
   "name": "python3",
   "display_name": "Python 3.8.10 64-bit ('base': conda)"
  },
  "interpreter": {
   "hash": "fe3bab233825460445dbfeea6dcd52ef5815a3fa13c858fea07ac830aa383284"
  }
 },
 "nbformat": 4,
 "nbformat_minor": 2
}