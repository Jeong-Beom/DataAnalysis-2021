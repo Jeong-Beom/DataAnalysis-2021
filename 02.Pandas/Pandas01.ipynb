{
 "cells": [
  {
   "cell_type": "code",
   "execution_count": 45,
   "source": [
    "# Pandas Series\r\n",
    "import pandas as pd\r\n",
    "import numpy as np\r\n",
    "# 시리즈 생성(시리즈 = 값 + 인덱스)\r\n",
    "s = pd.Series([9904312, 3448737, 2890451, 2466052],\r\n",
    "               index = ['서울', '부산', '인천', '대구'], dtype = np.int32)\r\n",
    "s.values # 시리즈의 값 - Numpy 배열\r\n",
    "s.name = '인구'\r\n",
    "s.index.name = '도시'\r\n",
    "# s = s / 10000\r\n",
    "s[1], s['부산'], s[[0, 3, 1]] # fancy indexing\r\n",
    "s[1:3] # slicing\r\n",
    "s['부산':'대구'] # 문자로 슬라이싱을 하면 숫자와 달리 마지막 항도 포함\r\n",
    "s[(2500000 < s) & (s < 4000000)] # s[2500000 < s < 4000000]은 사용불가\r\n",
    "s[(s < 2500000) | (s > 4e6)]\r\n",
    "s.부산\r\n",
    "# 시리즈와 딕셔너리\r\n",
    "s2 = pd.Series({'서울' : 9631482, '부산' : 33933191, '인천' : 2632035, '대전' : 1490158})\r\n",
    "s2, '서울' in s # 딕셔너리를 이용하여 dataframe을 만들 수는 있지만 주로 사용하지는 않음\r\n",
    "# 인덱스 기반 연산\r\n",
    "s - s2 # 각각의 시리즈의 변수들 중에 중복되는 변수들만 연산\r\n",
    "s['부산'] = 1.63 # 데이터의 갱신\r\n",
    "s\r\n",
    "s['대전'] = 11111 # 데이터 추가\r\n",
    "s\r\n",
    "del s['대전'] # 데이터 삭제\r\n",
    "s"
   ],
   "outputs": [
    {
     "output_type": "execute_result",
     "data": {
      "text/plain": [
       "도시\n",
       "서울    9904312\n",
       "부산          1\n",
       "인천    2890451\n",
       "대구    2466052\n",
       "Name: 인구, dtype: int64"
      ]
     },
     "metadata": {},
     "execution_count": 45
    }
   ],
   "metadata": {}
  }
 ],
 "metadata": {
  "orig_nbformat": 4,
  "language_info": {
   "name": "python",
   "version": "3.8.10",
   "mimetype": "text/x-python",
   "codemirror_mode": {
    "name": "ipython",
    "version": 3
   },
   "pygments_lexer": "ipython3",
   "nbconvert_exporter": "python",
   "file_extension": ".py"
  },
  "kernelspec": {
   "name": "python3",
   "display_name": "Python 3.8.10 64-bit ('base': conda)"
  },
  "interpreter": {
   "hash": "fe3bab233825460445dbfeea6dcd52ef5815a3fa13c858fea07ac830aa383284"
  }
 },
 "nbformat": 4,
 "nbformat_minor": 2
}