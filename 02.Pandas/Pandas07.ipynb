{
 "cells": [
  {
   "cell_type": "code",
   "execution_count": 24,
   "source": [
    "import numpy as np\r\n",
    "import pandas as pd\r\n",
    "import seaborn as sns\r\n",
    "# 2차원 표만들기\r\n",
    "df = pd.DataFrame(np.arange(20).reshape(4, 5),\r\n",
    "                  index = list('abcd'), columns = list('vwxyz'))\r\n",
    "df\r\n",
    "# Dictionary list\r\n",
    "dl = [ \r\n",
    "     {'name' : 'James', 'age' : 24, 'job' : 'student'},\r\n",
    "     {'name' : 'Maria', 'age' : 36, 'job' : 'teacher'},\r\n",
    "     {'name' : 'Brian', 'age' : 30, 'job' : 'programmer'}\r\n",
    "]\r\n",
    "df2 = pd.DataFrame(dl)\r\n",
    "df2\r\n",
    "# 여러개의 리스트\r\n",
    "names = ['James', 'Maria', 'Brian']\r\n",
    "ages = [24, 36, 30]\r\n",
    "jobs = ['student', 'teacher', 'programmer']\r\n",
    "df3 = pd.DataFrame({\r\n",
    "      'names' : names, 'age' : ages, 'job' : jobs\r\n",
    "})\r\n",
    "df3\r\n",
    "iris = sns.load_dataset('iris') # iris : 붓꽃\r\n",
    "# iris.info()\r\n",
    "iris.species.value_counts()\r\n",
    "species_list, feature_list, mean_list, std_list = [], [], [], []\r\n",
    "for species in iris.species.unique():\r\n",
    "    for feature in iris.columns[:-1]:\r\n",
    "        s = iris[iris.species == species][feature]\r\n",
    "        species_list.append(species)\r\n",
    "        feature_list.append(feature)\r\n",
    "        mean_list.append(np.round(s.mean(), 2))\r\n",
    "        std_list.append(np.round(s.std(), 4))"
   ],
   "outputs": [],
   "metadata": {}
  },
  {
   "cell_type": "code",
   "execution_count": null,
   "source": [
    "# 데이터프레임 합성 - merge : 공통 열 또는 인덱스를 기준으로 두개의 테이블을 합치는 명령어\r\n",
    "df1 = pd.DataFrame({\r\n",
    "    '고객번호': [1001, 1002, 1003, 1004, 1005, 1006, 1007],\r\n",
    "    '이름': ['둘리', '도우너', '또치', '길동', '희동', '마이콜', '영희']\r\n",
    "}, columns=['고객번호', '이름'])\r\n",
    "df2 = pd.DataFrame({\r\n",
    "    '고객번호': [1001, 1001, 1005, 1006, 1008, 1001],\r\n",
    "    '금액': [10000, 20000, 15000, 5000, 100000, 30000]\r\n",
    "}, columns=['고객번호', '금액'])\r\n",
    "# '고객번호'라는 인덱스가 동일 / Inner Join // Right(Left) Outer : 한쪽 집합과 두개의 집합의 교집합을 합친경우 // Full outer : 두개의 집합을 전체적으로 합침\r\n",
    "# Inner Join : 공통부분만 추출 / merge(left, right)\r\n",
    "pd.merge(df1, df2) # how = 'inner'\r\n",
    "pd.merge(df1, df2, how = 'left')\r\n",
    "pd.merge(df1, df2, how = 'right')\r\n",
    "pd.merge(df1, df2, how = 'outer')"
   ],
   "outputs": [],
   "metadata": {}
  },
  {
   "cell_type": "code",
   "execution_count": null,
   "source": [
    "df1 = pd.DataFrame({\r\n",
    "    '고객명': ['춘향', '춘향', '몽룡'],\r\n",
    "    '날짜': ['2018-01-01', '2018-01-02', '2018-01-01'],\r\n",
    "    '데이터': ['20000', '30000', '100000']})\r\n",
    "df2 = pd.DataFrame({\r\n",
    "    '고객명': ['춘향', '몽룡'],\r\n",
    "    '데이터': ['여자', '남자']})\r\n",
    "pd.merge(df1, df2, on='고객명') # 기준열이 되면 안되는 열은 on을 통해 명시"
   ],
   "outputs": [],
   "metadata": {}
  },
  {
   "cell_type": "code",
   "execution_count": null,
   "source": [
    "df1 = pd.DataFrame({\r\n",
    "    '고객명': ['춘향', '춘향', '몽룡'],\r\n",
    "    '날짜': ['2018-01-01', '2018-01-02', '2018-01-01'],\r\n",
    "    '데이터': ['20000', '30000', '100000']})\r\n",
    "df2 = pd.DataFrame({\r\n",
    "    '성명': ['영희', '영희', '철수'],\r\n",
    "    '성적2': [4, 5, 6]})\r\n",
    "pd.merge(df1, df2, left_on = '고객명', right_on = '성명', how = 'outer')"
   ],
   "outputs": [],
   "metadata": {}
  },
  {
   "cell_type": "code",
   "execution_count": null,
   "source": [
    "df1 = pd.DataFrame({\r\n",
    "    '이름': ['영희', '철수', '철수'],\r\n",
    "    '성적': [1, 2, 3]})\r\n",
    "df2 = pd.DataFrame({\r\n",
    "    '성명': ['영희', '영희', '철수'],\r\n",
    "    '성적2': [4, 5, 6]})\r\n",
    "pd.merge(df1, df2, left_on = '이름', right_on = '성명')"
   ],
   "outputs": [],
   "metadata": {}
  },
  {
   "cell_type": "code",
   "execution_count": null,
   "source": [
    "# join을 통한 데이터 프레임 병합\r\n",
    "df1 = pd.DataFrame({\r\n",
    "    '고객번호': [1001, 1002, 1003, 1004, 1005, 1006, 1007],\r\n",
    "    '이름': ['둘리', '도우너', '또치', '길동', '희동', '마이콜', '영희']\r\n",
    "}, columns=['고객번호', '이름'])\r\n",
    "df2 = pd.DataFrame({\r\n",
    "    '고객번호': [1001, 1001, 1005, 1006, 1008, 1001],\r\n",
    "    '금액': [10000, 20000, 15000, 5000, 100000, 30000]\r\n",
    "}, columns=['고객번호', '금액'])\r\n",
    "# join은 index값이 있어야함.\r\n",
    "df1.set_index('고객번호', inplace = True)\r\n",
    "df2.set_index('고객번호', inplace = True)\r\n",
    "df1.join(df2, how='outer')"
   ],
   "outputs": [],
   "metadata": {}
  },
  {
   "cell_type": "code",
   "execution_count": null,
   "source": [
    "# concat\r\n",
    "df1 = pd.DataFrame(\r\n",
    "    np.arange(6).reshape(3, 2),\r\n",
    "    index=['a', 'b', 'c'],\r\n",
    "    columns=['데이터1', '데이터2'])\r\n",
    "df2 = pd.DataFrame(\r\n",
    "    5 + np.arange(4).reshape(2, 2),\r\n",
    "    index=['a', 'c'],\r\n",
    "    columns=['데이터3', '데이터4'])\r\n",
    "pd.concat([df1, df2], axis = 1)"
   ],
   "outputs": [],
   "metadata": {}
  }
 ],
 "metadata": {
  "orig_nbformat": 4,
  "language_info": {
   "name": "python",
   "version": "3.8.10",
   "mimetype": "text/x-python",
   "codemirror_mode": {
    "name": "ipython",
    "version": 3
   },
   "pygments_lexer": "ipython3",
   "nbconvert_exporter": "python",
   "file_extension": ".py"
  },
  "kernelspec": {
   "name": "python3",
   "display_name": "Python 3.8.10 64-bit ('base': conda)"
  },
  "interpreter": {
   "hash": "fe3bab233825460445dbfeea6dcd52ef5815a3fa13c858fea07ac830aa383284"
  }
 },
 "nbformat": 4,
 "nbformat_minor": 2
}