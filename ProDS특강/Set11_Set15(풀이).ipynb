{
 "cells": [
  {
   "cell_type": "code",
   "execution_count": 2,
   "metadata": {},
   "outputs": [
    {
     "name": "stdout",
     "output_type": "stream",
     "text": [
      "['Dataset.zip', 'Dataset_01.csv', 'Dataset_02.csv', 'Dataset_03.csv', 'Dataset_04.csv', 'Dataset_05.csv', 'Dataset_05_item_list.csv', 'Dataset_05_Mart_POS.csv', 'Dataset_06.csv', 'Dataset_07.csv', 'Dataset_08.csv', 'Dataset_09.csv', 'Dataset_10.csv', 'Dataset_11.csv', 'Dataset_12.csv', 'Dataset_13_test.csv', 'Dataset_13_train.csv', 'Dataset_14.csv', 'Dataset_15_item_list.csv', 'Dataset_15_Mart_POS.csv']\n"
     ]
    }
   ],
   "source": [
    "import numpy as np\n",
    "import pandas as pd\n",
    "import os\n",
    "PATH = 'C:/Workspace/python/Data_Science/dataA/ProDS특강/'\n",
    "file_list = os.listdir(PATH)\n",
    "print(file_list)"
   ]
  },
  {
   "cell_type": "code",
   "execution_count": 86,
   "metadata": {},
   "outputs": [
    {
     "name": "stdout",
     "output_type": "stream",
     "text": [
      "Index(['Country', 'Happiness_Rank', 'Happiness_Score', 'year'], dtype='object')\n",
      "20\n",
      "Int64Index([2015, 2016, 2017], dtype='int64', name='year')\n",
      "Index(['Latvia', 'Romania', 'Togo'], dtype='object', name='Country')\n",
      "Multiple Comparison of Means - Tukey HSD, FWER=0.05\n",
      "==================================================\n",
      "group1 group2 meandiff p-adj  lower  upper  reject\n",
      "--------------------------------------------------\n",
      "  2015   2016  -0.0112   0.9 -0.3261 0.3038  False\n",
      "  2015   2017   -0.001   0.9 -0.3159  0.314  False\n",
      "  2016   2017   0.0102   0.9 -0.3048 0.3251  False\n",
      "--------------------------------------------------\n"
     ]
    }
   ],
   "source": [
    "df_11 = pd.read_csv(PATH + file_list[-7])\n",
    "# df_11.info()\n",
    "print(df_11.columns)\n",
    "q1 = df_11.groupby('Country').apply(len)\n",
    "print(len(q1[q1 < 3]))\n",
    "country_list = list(q1[q1 == 3].index)\n",
    "df_11_ch = df_11[df_11.Country.isin(country_list)].reset_index(drop = True).copy()\n",
    "q2 = pd.pivot_table(df_11_ch, values = 'Happiness_Score', columns = 'year', index = 'Country')\n",
    "print(q2.columns)\n",
    "q2['ratio'] = (q2[2017] - q2[2015]) / 2\n",
    "print(q2['ratio'].nlargest(3).index)\n",
    "\n",
    "from scipy.stats import f_oneway # 결과 값만 보여줌\n",
    "from statsmodels.formula.api import ols # 'Happiness_Score~C(year)'.' '.join형태로 넣어줘야함 / y변수를 앞에 넣어줌.\n",
    "from statsmodels.stats.anova import anova_lm\n",
    "from statsmodels.stats.multicomp import pairwise_tukeyhsd # 사후분석, 다중분석에 사용 / 차이가 난다라는 것이 검증되어여 사용\n",
    "\n",
    "q3 = ols('Happiness_Score~C(year)', data = df_11_ch).fit()\n",
    "q3.summary()\n",
    "\n",
    "anova_lm(q3)\n",
    "out = pairwise_tukeyhsd(df_11_ch['Happiness_Score'], df_11_ch['year'])\n",
    "print(out)"
   ]
  },
  {
   "cell_type": "code",
   "execution_count": 155,
   "metadata": {},
   "outputs": [
    {
     "name": "stdout",
     "output_type": "stream",
     "text": [
      "Age 0.7968\n"
     ]
    },
    {
     "data": {
      "text/plain": [
       "array([ 0.79644021, -0.25026871,  0.04962377])"
      ]
     },
     "execution_count": 155,
     "metadata": {},
     "output_type": "execute_result"
    }
   ],
   "source": [
    "df_12 = pd.read_csv(PATH + file_list[-6])\n",
    "x_list = ['Age', 'Dependent_Count', 'is_Married', 'Read_Book_per_Year']\n",
    "q1 = df_12[x_list]\n",
    "print(abs(q1.corr().Read_Book_per_Year.drop(['Read_Book_per_Year'])).idxmax(), round(abs(q1.corr().Read_Book_per_Year.drop(['Read_Book_per_Year'])).max(),4))\n",
    "\n",
    "from sklearn.linear_model import LinearRegression\n",
    "q3 = df_12.copy()\n",
    "x_list = ['Age', 'Dependent_Count', 'is_Married']\n",
    "q3 = q3.drop(q3[q3.Education_Level  == '고졸'].index).reset_index(drop = True)\n",
    "q3 = q3.drop(q3[q3.Income_Range  == 'X'].index).reset_index(drop = True)\n",
    "lm = LinearRegression().fit(q3[x_list], q3.Read_Book_per_Year)\n",
    "lm.coef_"
   ]
  },
  {
   "cell_type": "code",
   "execution_count": 260,
   "metadata": {},
   "outputs": [
    {
     "name": "stdout",
     "output_type": "stream",
     "text": [
      "1번 답 : soda, 7\n",
      "2번 답 : 0.02\n",
      "3번 답 : 0.7360681095250561\n"
     ]
    }
   ],
   "source": [
    "df_15_pos = pd.read_csv(PATH + file_list[-1])\n",
    "df_15_item = pd.read_csv(PATH + file_list[-2])\n",
    "\n",
    "date_list = df_15_pos.Date.unique()\n",
    "q1 = df_15_pos.copy()\n",
    "q1.Date.value_counts() # 2015-01-21 : 96\n",
    "print(f\"1번 답 : {q1[q1.Date == '2015-01-21'].itemDescription.value_counts().idxmax()}, {q1[q1.Date == '2015-01-21'].itemDescription.value_counts().max()}\")\n",
    "\n",
    "q2 = pd.merge(df_15_pos, df_15_item, how = 'left', left_on = 'itemDescription', right_on = 'prod_nm').drop(['prod_nm', 'frozen'], axis = 1)\n",
    "q2['month'] = pd.to_datetime(q2.Date).dt.month\n",
    "q2['day'] = pd.to_datetime(q2.Date).dt.day_name(locale = 'ko_kr')\n",
    "q2['weekday'] = q2['day'].isin(['금요일', '토요일']) + 0\n",
    "q2_ch1 = q2[q2['month'].isin([1, 2, 3])].reset_index(drop = True)\n",
    "q2_ch1_tab = pd.pivot_table(q2_ch1, index = 'Date', columns = 'weekday', values = 'alcohol', aggfunc = sum)\n",
    "\n",
    "from scipy.stats import ttest_ind\n",
    "q2_out = ttest_ind(q2_ch1_tab[1].dropna(), q2_ch1_tab[0].dropna(), equal_var=False)\n",
    "print(f'2번 답 : {round(q2_out.pvalue, 2)}')\n",
    "\n",
    "q3 = df_15_pos.copy()\n",
    "product_list = list(q3.itemDescription.value_counts()[:10].index)\n",
    "main_product_index= q3['itemDescription'].isin(product_list)[q3['itemDescription'].isin(product_list) == True].index\n",
    "q3 = q3.drop(main_product_index).reset_index(drop = True)\n",
    "q3['day'] = pd.to_datetime(q3.Date).dt.day_name(locale = 'ko_kr')\n",
    "q3_tab = pd.pivot_table(q3, values = 'itemDescription', index = ['Date', 'day'], aggfunc = 'count').reset_index()\n",
    "q3_tab\n",
    "\n",
    "from statsmodels.formula.api import ols\n",
    "from statsmodels.stats.anova import anova_lm\n",
    "\n",
    "ols1 = ols('itemDescription~day', data = q3_tab).fit()\n",
    "q3_out = anova_lm(ols1)\n",
    "\n",
    "print(f\"3번 답 : {q3_out['PR(>F)'][0]}\")"
   ]
  }
 ],
 "metadata": {
  "interpreter": {
   "hash": "fe3bab233825460445dbfeea6dcd52ef5815a3fa13c858fea07ac830aa383284"
  },
  "kernelspec": {
   "display_name": "Python 3.8.10 64-bit ('base': conda)",
   "language": "python",
   "name": "python3"
  },
  "language_info": {
   "codemirror_mode": {
    "name": "ipython",
    "version": 3
   },
   "file_extension": ".py",
   "mimetype": "text/x-python",
   "name": "python",
   "nbconvert_exporter": "python",
   "pygments_lexer": "ipython3",
   "version": "3.8.10"
  },
  "orig_nbformat": 4
 },
 "nbformat": 4,
 "nbformat_minor": 2
}
