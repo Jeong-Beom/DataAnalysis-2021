{
 "cells": [
  {
   "cell_type": "code",
   "execution_count": 1,
   "metadata": {},
   "outputs": [
    {
     "name": "stdout",
     "output_type": "stream",
     "text": [
      "['Dataset.zip', 'Dataset_01.csv', 'Dataset_02.csv', 'Dataset_03.csv', 'Dataset_04.csv', 'Dataset_05.csv', 'Dataset_05_item_list.csv', 'Dataset_05_Mart_POS.csv', 'Dataset_06.csv', 'Dataset_07.csv', 'Dataset_08.csv', 'Dataset_09.csv', 'Dataset_10.csv', 'Dataset_11.csv', 'Dataset_12.csv', 'Dataset_13_test.csv', 'Dataset_13_train.csv', 'Dataset_14.csv', 'Dataset_15_item_list.csv', 'Dataset_15_Mart_POS.csv']\n"
     ]
    }
   ],
   "source": [
    "import numpy as np\n",
    "import pandas as pd\n",
    "import os\n",
    "PATH = 'C:/Workspace/python/Data_Science/dataA/ProDS특강/'\n",
    "file_list = os.listdir(PATH)\n",
    "print(file_list)"
   ]
  },
  {
   "cell_type": "code",
   "execution_count": 95,
   "metadata": {},
   "outputs": [
    {
     "name": "stdout",
     "output_type": "stream",
     "text": [
      "Index(['id', 'date', 'price', 'bedrooms', 'bathrooms', 'sqft_living',\n",
      "       'sqft_lot', 'floors', 'waterfront', 'view', 'condition', 'grade',\n",
      "       'sqft_above', 'sqft_basement', 'yr_built', 'yr_renovated', 'zipcode',\n",
      "       'sqft_living15', 'sqft_lot15'],\n",
      "      dtype='object')\n",
      "1번 답 : 1167273\n",
      "2번 답 : sqft_living, yr_built\n",
      "유의한 변수의 개수 :13, 음수인 변수의 개수 : 2\n"
     ]
    },
    {
     "name": "stderr",
     "output_type": "stream",
     "text": [
      "C:\\Users\\Bestc\\anaconda3\\lib\\site-packages\\statsmodels\\tsa\\tsatools.py:142: FutureWarning: In a future version of pandas all arguments of concat except for the argument 'objs' will be keyword-only\n",
      "  x = pd.concat(x[::order], 1)\n"
     ]
    }
   ],
   "source": [
    "df_06 = pd.read_csv(PATH + file_list[8])\n",
    "print(df_06.columns)\n",
    "print(f'1번 답 : {int(round(abs(df_06[df_06.waterfront == 0].price.mean() - df_06[df_06.waterfront == 1].price.mean()), 0))}')\n",
    "\n",
    "var_list = ['price', 'bedrooms', 'bathrooms', 'sqft_living', 'sqft_lot', 'floors', 'yr_built']\n",
    "df_06[var_list].corr().price.drop(['price'])\n",
    "max, min = df_06[var_list].corr().price.drop(['price']).max(), df_06[var_list].corr().price.drop(['price']).min()\n",
    "max_name = list(df_06[var_list].corr().price.drop(['price']).reset_index()[df_06[var_list].corr().price.drop(['price']).reset_index().price == max]['index'])[0]\n",
    "min_name = list(df_06[var_list].corr().price.drop(['price']).reset_index()[df_06[var_list].corr().price.drop(['price']).reset_index().price == min]['index'])[0]\n",
    "print(f'2번 답 : {max_name}, {min_name}')\n",
    "\n",
    "\n",
    "import pandas as pd\n",
    "import numpy as np\n",
    "from sklearn.linear_model import LinearRegression\n",
    "from statsmodels.formula.api import ols\n",
    "from statsmodels.api import OLS, add_constant\n",
    "\n",
    "eliminate_list = ['id', 'date', 'zipcode']\n",
    "df_06_test = df_06.drop(eliminate_list, axis = 1)\n",
    "# lm = LinearRegression().fit(df_06_test.drop(['price'], axis = 1), df_06_test['price'])\n",
    "# lm.coef_\n",
    "xx = add_constant(df_06_test.drop(['price'], axis = 1))\n",
    "ols1 = OLS(df_06_test['price'], xx, axis = 1).fit() # y, x 순으로 넣어야함\n",
    "ols1.summary()\n",
    "\n",
    "ols1.pvalues.drop(['const']).index[ols1.pvalues.drop(['const']) >= 0.05] # ['sqft_lot', 'sqft_lot15'] / 유의하지 않은 변수들\n",
    "ols1.pvalues.drop(['const']).index[ols1.pvalues.drop(['const']) < 0.05] # 유의한 변수들\n",
    "ols1_param = ols1.params[ols1.pvalues.drop([\"const\"]).index[ols1.pvalues.drop([\"const\"]) < 0.05]]\n",
    "len(ols1_param[ols1_param < 0])\n",
    "\n",
    "print(f'유의한 변수의 개수 :{len(ols1.pvalues.drop([\"const\"]).index[ols1.pvalues.drop([\"const\"]) < 0.05])}, 음수인 변수의 개수 : {len(ols1_param[ols1_param < 0])}')"
   ]
  },
  {
   "cell_type": "code",
   "execution_count": 194,
   "metadata": {},
   "outputs": [
    {
     "name": "stdout",
     "output_type": "stream",
     "text": [
      "Index(['Serial_No', 'GRE', 'TOEFL', 'University_Rating', 'SOP', 'LOR', 'CGPA',\n",
      "       'Research', 'Chance_of_Admit'],\n",
      "      dtype='object')\n",
      "1번 답 : 0.873\n",
      "19.443291692470982 1.1127037052806161e-59\n",
      "1.9553546939533757\n"
     ]
    },
    {
     "data": {
      "text/plain": [
       "CGPA    1.955355\n",
       "dtype: float64"
      ]
     },
     "execution_count": 194,
     "metadata": {},
     "output_type": "execute_result"
    }
   ],
   "source": [
    "import pandas as pd\n",
    "import numpy as np\n",
    "import scipy.stats as stats\n",
    "from sklearn.linear_model import LogisticRegression\n",
    "# Solver = ‘liblinear’, random_state = 12\n",
    "\n",
    "df_07 = pd.read_csv(PATH + file_list[9])\n",
    "print(df_07.columns)\n",
    "var_list = ['GRE', 'TOEFL', 'CGPA', 'Chance_of_Admit']\n",
    "df_07_corr = df_07[var_list].corr().Chance_of_Admit.drop(['Chance_of_Admit']).reset_index()\n",
    "df_07_corr = df_07_corr.sort_values(by = 'Chance_of_Admit')\n",
    "df_07_corr.reset_index(drop = True, inplace = True)\n",
    "print(f'1번 답 : {round(df_07_corr.Chance_of_Admit[2], 3)}')\n",
    "\n",
    "mu = df_07.GRE.mean()\n",
    "# df_07_gre_ovav = df_07[df_07.GRE - mu >= 0] # 평균 이상\n",
    "# df_07_gre_unav = df_07[df_07.GRE - mu < 0] # 평균 이하\n",
    "df_07['GRE_gr'] = np.where(df_07.GRE >= mu, 1, 0)\n",
    "df_07_gre_ovav = df_07[df_07['GRE_gr'] == 1].CGPA\n",
    "df_07_gre_unav = df_07[df_07['GRE_gr'] == 0].CGPA\n",
    "\n",
    "from scipy.stats import ttest_ind\n",
    "df_07_out = ttest_ind(df_07_gre_ovav, df_07_gre_unav, equal_var = True)\n",
    "print(df_07_out.statistic, df_07_out.pvalue)\n",
    "\n",
    "df_07 = pd.read_csv(PATH + file_list[9])\n",
    "df_07['label'] = np.where(df_07.Chance_of_Admit > 0.5, 0, 1)\n",
    "df_07.drop(['Serial_No'], axis = 1, inplace = True)\n",
    "from sklearn.linear_model import LogisticRegression\n",
    "x_list = df_07.columns.drop(['Chance_of_Admit', 'label'])\n",
    "logit = LogisticRegression(fit_intercept = False, random_state = 12, solver = 'liblinear')\n",
    "logit.fit(df_07[x_list], df_07.label)\n",
    "print(abs(logit.coef_).max())\n",
    "df_07_out = pd.Series(logit.coef_.reshape(-1))\n",
    "df_07_out.index = x_list\n",
    "df_07_out.abs().nlargest(1)"
   ]
  },
  {
   "cell_type": "code",
   "execution_count": 295,
   "metadata": {},
   "outputs": [
    {
     "name": "stdout",
     "output_type": "stream",
     "text": [
      "Index(['model', 'engine_power', 'age_in_days', 'km', 'previous_owners',\n",
      "       'price'],\n",
      "      dtype='object')\n",
      "0.97\n"
     ]
    },
    {
     "data": {
      "text/plain": [
       "array([10367.53433763])"
      ]
     },
     "execution_count": 295,
     "metadata": {},
     "output_type": "execute_result"
    }
   ],
   "source": [
    "import pandas as pd\n",
    "import numpy as np\n",
    "import scipy.stats as ststs\n",
    "from sklearn.linear_model import LinearRegression\n",
    "\n",
    "df_10 = pd.read_csv(PATH + file_list[-8])\n",
    "var_list = ['model', 'engine_power', 'age_in_days', 'km', 'previous_owners', 'price']\n",
    "df_10 = df_10[var_list]\n",
    "print(df_10.columns)\n",
    "df_10_ch = df_10.copy()\n",
    "df_10_ch['owner_num']= np.where(df_10_ch.previous_owners <= 1, 1, 0)\n",
    "df_10_ch = df_10_ch[df_10_ch.owner_num == 1]\n",
    "df_10_ch = df_10_ch[df_10_ch.engine_power == 51]\n",
    "df_10_ch.reset_index(drop = True, inplace = True)\n",
    "q1 = pd.pivot_table(df_10_ch, index = 'model', values = ['km', 'age_in_days'])\n",
    "q1['km_day'] = q1.km / q1.age_in_days\n",
    "print(round(q1.km_day.min() / q1.km_day.max(), 2))\n",
    "\n",
    "min_group = q1.km_day.idxmin() # 최솟값 그룹명\n",
    "max_group = q1.km_day.idxmax() # 최댓값 그룹명\n",
    "\n",
    "q2 = df_10.copy()\n",
    "q2['km_per_day'] = q2.km / q2.age_in_days\n",
    "max_km = q2[q2.model == max_group].km_per_day\n",
    "min_km = q2[q2.model == min_group].km_per_day\n",
    "\n",
    "from scipy.stats import ttest_ind\n",
    "q2_out = ttest_ind(max_km, min_km, equal_var = True) # H0 : 평균차이가 없다 / H1 : 평균차이가 있다. // p-value가 0.05이상이면 귀무가설 기각\n",
    "np.floor(q2_out.pvalue * 100) / 100 \n",
    "\n",
    "q3 = df_10.copy()\n",
    "q3 = q3[q3.previous_owners == 2].reset_index(drop = True)\n",
    "q3 = q3[q3.model == 'pop'].reset_index(drop = True)\n",
    "var_list = ['engine_power', 'age_in_days', 'km']\n",
    "from sklearn.linear_model import LinearRegression\n",
    "lm = LinearRegression().fit(q3[var_list], q3.price)\n",
    "# lm.predict([[51, 400, 9500]])\n",
    "new_data = {'engine_power' : [51], 'age_in_days' : [400], 'km' : [9500]}\n",
    "lm.predict(pd.DataFrame(new_data))"
   ]
  }
 ],
 "metadata": {
  "interpreter": {
   "hash": "fe3bab233825460445dbfeea6dcd52ef5815a3fa13c858fea07ac830aa383284"
  },
  "kernelspec": {
   "display_name": "Python 3.8.10 64-bit ('base': conda)",
   "language": "python",
   "name": "python3"
  },
  "language_info": {
   "codemirror_mode": {
    "name": "ipython",
    "version": 3
   },
   "file_extension": ".py",
   "mimetype": "text/x-python",
   "name": "python",
   "nbconvert_exporter": "python",
   "pygments_lexer": "ipython3",
   "version": "3.8.10"
  },
  "orig_nbformat": 4
 },
 "nbformat": 4,
 "nbformat_minor": 2
}
