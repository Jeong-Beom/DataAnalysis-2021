{
 "cells": [
  {
   "cell_type": "code",
   "execution_count": 1,
   "source": [
    "import numpy as np\r\n",
    "import pandas as pd"
   ],
   "outputs": [],
   "metadata": {}
  },
  {
   "cell_type": "code",
   "execution_count": 2,
   "source": [
    "starbucks = pd.read_csv('C:\\\\Workspace\\\\python\\\\Data_Science\\\\dataA\\\\Cartogram Practice Data\\\\소상공인시장진흥공단_상가(상권)정보_20210630\\\\결과\\\\스타벅스.csv', encoding = 'UTF-8')\r\n",
    "coffeebean = pd.read_csv('C:\\\\Workspace\\\\python\\\\Data_Science\\\\dataA\\\\Cartogram Practice Data\\\\소상공인시장진흥공단_상가(상권)정보_20210630\\\\결과\\\\커피빈.csv', encoding = 'UTF-8')\r\n",
    "ediya = pd.read_csv('C:\\\\Workspace\\\\python\\\\Data_Science\\\\dataA\\\\Cartogram Practice Data\\\\소상공인시장진흥공단_상가(상권)정보_20210630\\\\결과\\\\이디야.csv', encoding = 'UTF-8')\r\n",
    "paik = pd.read_csv('C:\\\\Workspace\\\\python\\\\Data_Science\\\\dataA\\\\Cartogram Practice Data\\\\소상공인시장진흥공단_상가(상권)정보_20210630\\\\결과\\\\빽다방.csv', encoding = 'UTF-8')"
   ],
   "outputs": [],
   "metadata": {}
  },
  {
   "cell_type": "code",
   "execution_count": 4,
   "source": [
    "starbucks.시군구명.unique()"
   ],
   "outputs": [
    {
     "output_type": "execute_result",
     "data": {
      "text/plain": [
       "array(['강릉시', '고성군', '춘천시', '속초시', '원주시', '평창군', '태백시', '인제군', '동해시',\n",
       "       '홍천군', '횡성군', '성남시 분당구', '용인시 기흥구', '화성시', '수원시 팔달구', '고양시 일산동구',\n",
       "       '김포시', '수원시', '파주시', '이천시', '광명시', '부천시', '안산시', '고양시 일산서구',\n",
       "       '수원시 영통구', '안산시 상록구', '군포시', '포천시', '평택시', '의정부시', '고양시 덕양구',\n",
       "       '남양주시', '용인시 처인구', '하남시', '동두천시', '과천시', '시흥시', '광주시', '의왕시',\n",
       "       '안성시', '오산시', '양주시', '안양시 동안구', '양평군', '용인시 수지구', '수원시 장안구',\n",
       "       '안양시 만안구', '수원시 권선구', '성남시 중원구', '성남시 수정구', '여주시', '안산시 단원구',\n",
       "       '용인시', '구리시', '가평군', '진주시', '거제시', '김해시', '창원시 마산합포구', '창원시 성산구',\n",
       "       '양산시', '창원시 의창구', '산청군', '사천시', '밀양시', '창원시 진해구', '창원시 마산회원구',\n",
       "       '하동군', '창녕군', '함양군', '통영시', '구미시', '포항시 북구', '포항시 남구', '김천시',\n",
       "       '영양군', '청도군', '고령군', '안동시', '경주시', '경산시', '영덕군', '문경시', '청송군',\n",
       "       '서구', '동구', '광산구', '북구', '남구', '수성구', '달서구', '중구', '달성군', '유성구',\n",
       "       '대덕구', '연제구', '사하구', '부산진구', '동래구', '해운대구', '사상구', '금정구', '강서구',\n",
       "       '기장군', '수영구', '영도구', '종로구', '서초구', '영등포구', '강남구', '강북구', '중랑구',\n",
       "       '마포구', '은평구', '구로구', '성북구', '용산구', '관악구', '동작구', '서대문구', '강동구',\n",
       "       '광진구', '양천구', '송파구', '노원구', '성동구', '동대문구', '금천구', '도봉구', '세종특별자치시',\n",
       "       '울주군', '부평구', '연수구', '미추홀구', '남동구', '계양구', '옹진군', '강화군', '여수시',\n",
       "       '순천시', '목포시', '광양시', '나주시', '무안군', '전주시 완산구', '군산시', '전주시 덕진구',\n",
       "       '익산시', '임실군', '부안군', '고창군', '서귀포시', '제주시', '천안시 서북구', '천안시 동남구',\n",
       "       '공주시', '보령시', '당진시', '아산시', '서산시', '서천군', '논산시', '예산군', '청양군',\n",
       "       '계룡시', '청주시 서원구', '청주시 흥덕구', '청주시 청원구', '청주시 상당구', '충주시', '증평군',\n",
       "       '음성군', '보은군', '제천시'], dtype=object)"
      ]
     },
     "metadata": {},
     "execution_count": 4
    }
   ],
   "metadata": {}
  },
  {
   "cell_type": "code",
   "execution_count": 14,
   "source": [
    "starbucks[starbucks.시도명.str.contains('울산')].시군구명.unique()"
   ],
   "outputs": [
    {
     "output_type": "execute_result",
     "data": {
      "text/plain": [
       "array(['남구', '북구', '동구', '울주군', '중구'], dtype=object)"
      ]
     },
     "metadata": {},
     "execution_count": 14
    }
   ],
   "metadata": {}
  },
  {
   "cell_type": "code",
   "execution_count": 15,
   "source": [
    "tmp_gu_dict = {\r\n",
    "    '수원': ['장안구', '권선구', '팔달구', '영통구'], \r\n",
    "    '성남': ['수정구', '중원구', '분당구'], \r\n",
    "    '안양': ['만안구', '동안구'], \r\n",
    "    '안산': ['상록구', '단원구'], \r\n",
    "    '고양': ['덕양구', '일산동구', '일산서구'], \r\n",
    "    '용인': ['처인구', '기흥구', '수지구'], \r\n",
    "    '청주': ['상당구', '서원구', '흥덕구', '청원구'], \r\n",
    "    '천안': ['동남구', '서북구'], \r\n",
    "    '전주': ['완산구', '덕진구'], \r\n",
    "    '포항': ['남구', '북구'], \r\n",
    "    '창원': ['의창구', '성산구', '진해구', '마산합포구', '마산회원구']\r\n",
    "}"
   ],
   "outputs": [],
   "metadata": {}
  },
  {
   "cell_type": "code",
   "execution_count": 25,
   "source": [
    "starbucks.head()"
   ],
   "outputs": [
    {
     "output_type": "execute_result",
     "data": {
      "text/html": [
       "<div>\n",
       "<style scoped>\n",
       "    .dataframe tbody tr th:only-of-type {\n",
       "        vertical-align: middle;\n",
       "    }\n",
       "\n",
       "    .dataframe tbody tr th {\n",
       "        vertical-align: top;\n",
       "    }\n",
       "\n",
       "    .dataframe thead th {\n",
       "        text-align: right;\n",
       "    }\n",
       "</style>\n",
       "<table border=\"1\" class=\"dataframe\">\n",
       "  <thead>\n",
       "    <tr style=\"text-align: right;\">\n",
       "      <th></th>\n",
       "      <th>상호명</th>\n",
       "      <th>지점명</th>\n",
       "      <th>시도명</th>\n",
       "      <th>시군구명</th>\n",
       "      <th>도로명주소</th>\n",
       "    </tr>\n",
       "  </thead>\n",
       "  <tbody>\n",
       "    <tr>\n",
       "      <th>0</th>\n",
       "      <td>스타벅스강릉안목항점</td>\n",
       "      <td>강릉안목항점</td>\n",
       "      <td>강원도</td>\n",
       "      <td>강릉시</td>\n",
       "      <td>강원도 강릉시 창해로14번길 40</td>\n",
       "    </tr>\n",
       "    <tr>\n",
       "      <th>1</th>\n",
       "      <td>스타벅스</td>\n",
       "      <td>대명델피노리조트점</td>\n",
       "      <td>강원도</td>\n",
       "      <td>고성군</td>\n",
       "      <td>강원도 고성군 토성면 미시령옛길 1153</td>\n",
       "    </tr>\n",
       "    <tr>\n",
       "      <th>2</th>\n",
       "      <td>스타벅스춘천후평DT점</td>\n",
       "      <td>춘천후평DT점</td>\n",
       "      <td>강원도</td>\n",
       "      <td>춘천시</td>\n",
       "      <td>강원도 춘천시 후석로 318</td>\n",
       "    </tr>\n",
       "    <tr>\n",
       "      <th>3</th>\n",
       "      <td>스타벅스</td>\n",
       "      <td>춘천명동점</td>\n",
       "      <td>강원도</td>\n",
       "      <td>춘천시</td>\n",
       "      <td>강원도 춘천시 중앙로 55</td>\n",
       "    </tr>\n",
       "    <tr>\n",
       "      <th>4</th>\n",
       "      <td>스타벅스설악워터피아점</td>\n",
       "      <td>설악워터피아점</td>\n",
       "      <td>강원도</td>\n",
       "      <td>속초시</td>\n",
       "      <td>강원도 속초시 미시령로2983번길 88</td>\n",
       "    </tr>\n",
       "  </tbody>\n",
       "</table>\n",
       "</div>"
      ],
      "text/plain": [
       "           상호명        지점명  시도명 시군구명                   도로명주소\n",
       "0   스타벅스강릉안목항점     강릉안목항점  강원도  강릉시      강원도 강릉시 창해로14번길 40\n",
       "1         스타벅스  대명델피노리조트점  강원도  고성군  강원도 고성군 토성면 미시령옛길 1153\n",
       "2  스타벅스춘천후평DT점    춘천후평DT점  강원도  춘천시         강원도 춘천시 후석로 318\n",
       "3         스타벅스      춘천명동점  강원도  춘천시          강원도 춘천시 중앙로 55\n",
       "4  스타벅스설악워터피아점    설악워터피아점  강원도  속초시   강원도 속초시 미시령로2983번길 88"
      ]
     },
     "metadata": {},
     "execution_count": 25
    }
   ],
   "metadata": {}
  },
  {
   "cell_type": "code",
   "execution_count": 44,
   "source": [
    "starbucks.index"
   ],
   "outputs": [
    {
     "output_type": "execute_result",
     "data": {
      "text/plain": [
       "RangeIndex(start=0, stop=1547, step=1)"
      ]
     },
     "metadata": {},
     "execution_count": 44
    }
   ],
   "metadata": {}
  },
  {
   "cell_type": "code",
   "execution_count": 60,
   "source": [
    "metro_list = ['서울특별시','부산광역시','대구광역시','인천광역시','대전광역시','광주광역시','울산광역시']\r\n",
    "sample_list = [starbucks, ediya, coffeebean, paik]\r\n",
    "for sample in sample_list:\r\n",
    "    si_name = [None] * len(sample)\r\n",
    "    for i in sample.index:\r\n",
    "        if sample.시도명[i] in metro_list:\r\n",
    "            if len(sample.시군구명[i]) == 2:\r\n",
    "                si_name[i] = sample.시도명[i][:2] + ' ' + sample.시군구명[i]\r\n",
    "            else:\r\n",
    "                si_name[i] = sample.시도명[i][:2] + ' ' + sample.시군구명[i][:-1]     # 긴 구 이름에서 '구' 제외\r\n",
    "        else:\r\n",
    "            if sample.시군구명[i][:-1] == '고성':\r\n",
    "                if sample.시도명[i] == '강원도':\r\n",
    "                    si_name[i] = '고성(강원)'\r\n",
    "                else:\r\n",
    "                    si_name[i] = '고성(경남)'\r\n",
    "            else:\r\n",
    "                si_name[i] = sample.시군구명[i][:-1]\r\n",
    "\r\n",
    "            for key, values in tmp_gu_dict.items():\r\n",
    "                if sample.시군구명[i] in values:\r\n",
    "                    if len(sample.시군구명[i]) == 2:\r\n",
    "                        si_name[i] = key + ' ' + sample.시군구명[i]\r\n",
    "                    elif sample.시군구[i] in ['마산합포구', '마산회원구']:\r\n",
    "                        si_name[i] = key + ' ' + sample.시군구명[i][2:-1]\r\n",
    "                    else:\r\n",
    "                        si_name[i] = key + ' ' + sample.시군구명[i][:-1]\r\n",
    "    sample['ID'] = si_name\r\n",
    "    print(len(si_name))"
   ],
   "outputs": [
    {
     "output_type": "stream",
     "name": "stdout",
     "text": [
      "1547\n",
      "2120\n",
      "293\n",
      "609\n"
     ]
    }
   ],
   "metadata": {}
  },
  {
   "cell_type": "code",
   "execution_count": 61,
   "source": [
    "starbucks.head()"
   ],
   "outputs": [
    {
     "output_type": "execute_result",
     "data": {
      "text/html": [
       "<div>\n",
       "<style scoped>\n",
       "    .dataframe tbody tr th:only-of-type {\n",
       "        vertical-align: middle;\n",
       "    }\n",
       "\n",
       "    .dataframe tbody tr th {\n",
       "        vertical-align: top;\n",
       "    }\n",
       "\n",
       "    .dataframe thead th {\n",
       "        text-align: right;\n",
       "    }\n",
       "</style>\n",
       "<table border=\"1\" class=\"dataframe\">\n",
       "  <thead>\n",
       "    <tr style=\"text-align: right;\">\n",
       "      <th></th>\n",
       "      <th>상호명</th>\n",
       "      <th>지점명</th>\n",
       "      <th>시도명</th>\n",
       "      <th>시군구명</th>\n",
       "      <th>도로명주소</th>\n",
       "      <th>ID</th>\n",
       "    </tr>\n",
       "  </thead>\n",
       "  <tbody>\n",
       "    <tr>\n",
       "      <th>0</th>\n",
       "      <td>스타벅스강릉안목항점</td>\n",
       "      <td>강릉안목항점</td>\n",
       "      <td>강원도</td>\n",
       "      <td>강릉시</td>\n",
       "      <td>강원도 강릉시 창해로14번길 40</td>\n",
       "      <td>강릉</td>\n",
       "    </tr>\n",
       "    <tr>\n",
       "      <th>1</th>\n",
       "      <td>스타벅스</td>\n",
       "      <td>대명델피노리조트점</td>\n",
       "      <td>강원도</td>\n",
       "      <td>고성군</td>\n",
       "      <td>강원도 고성군 토성면 미시령옛길 1153</td>\n",
       "      <td>고성(강원)</td>\n",
       "    </tr>\n",
       "    <tr>\n",
       "      <th>2</th>\n",
       "      <td>스타벅스춘천후평DT점</td>\n",
       "      <td>춘천후평DT점</td>\n",
       "      <td>강원도</td>\n",
       "      <td>춘천시</td>\n",
       "      <td>강원도 춘천시 후석로 318</td>\n",
       "      <td>춘천</td>\n",
       "    </tr>\n",
       "    <tr>\n",
       "      <th>3</th>\n",
       "      <td>스타벅스</td>\n",
       "      <td>춘천명동점</td>\n",
       "      <td>강원도</td>\n",
       "      <td>춘천시</td>\n",
       "      <td>강원도 춘천시 중앙로 55</td>\n",
       "      <td>춘천</td>\n",
       "    </tr>\n",
       "    <tr>\n",
       "      <th>4</th>\n",
       "      <td>스타벅스설악워터피아점</td>\n",
       "      <td>설악워터피아점</td>\n",
       "      <td>강원도</td>\n",
       "      <td>속초시</td>\n",
       "      <td>강원도 속초시 미시령로2983번길 88</td>\n",
       "      <td>속초</td>\n",
       "    </tr>\n",
       "  </tbody>\n",
       "</table>\n",
       "</div>"
      ],
      "text/plain": [
       "           상호명        지점명  시도명 시군구명                   도로명주소      ID\n",
       "0   스타벅스강릉안목항점     강릉안목항점  강원도  강릉시      강원도 강릉시 창해로14번길 40      강릉\n",
       "1         스타벅스  대명델피노리조트점  강원도  고성군  강원도 고성군 토성면 미시령옛길 1153  고성(강원)\n",
       "2  스타벅스춘천후평DT점    춘천후평DT점  강원도  춘천시         강원도 춘천시 후석로 318      춘천\n",
       "3         스타벅스      춘천명동점  강원도  춘천시          강원도 춘천시 중앙로 55      춘천\n",
       "4  스타벅스설악워터피아점    설악워터피아점  강원도  속초시   강원도 속초시 미시령로2983번길 88      속초"
      ]
     },
     "metadata": {},
     "execution_count": 61
    }
   ],
   "metadata": {}
  },
  {
   "cell_type": "code",
   "execution_count": 64,
   "source": [
    "ediya.head()"
   ],
   "outputs": [
    {
     "output_type": "execute_result",
     "data": {
      "text/html": [
       "<div>\n",
       "<style scoped>\n",
       "    .dataframe tbody tr th:only-of-type {\n",
       "        vertical-align: middle;\n",
       "    }\n",
       "\n",
       "    .dataframe tbody tr th {\n",
       "        vertical-align: top;\n",
       "    }\n",
       "\n",
       "    .dataframe thead th {\n",
       "        text-align: right;\n",
       "    }\n",
       "</style>\n",
       "<table border=\"1\" class=\"dataframe\">\n",
       "  <thead>\n",
       "    <tr style=\"text-align: right;\">\n",
       "      <th></th>\n",
       "      <th>상호명</th>\n",
       "      <th>지점명</th>\n",
       "      <th>시도명</th>\n",
       "      <th>시군구명</th>\n",
       "      <th>도로명주소</th>\n",
       "      <th>ID</th>\n",
       "    </tr>\n",
       "  </thead>\n",
       "  <tbody>\n",
       "    <tr>\n",
       "      <th>0</th>\n",
       "      <td>이디야커피</td>\n",
       "      <td>원주반곡동점</td>\n",
       "      <td>강원도</td>\n",
       "      <td>원주시</td>\n",
       "      <td>강원도 원주시 오리현길 16-9</td>\n",
       "      <td>원주</td>\n",
       "    </tr>\n",
       "    <tr>\n",
       "      <th>1</th>\n",
       "      <td>이디야커피</td>\n",
       "      <td>춘천제일점</td>\n",
       "      <td>강원도</td>\n",
       "      <td>춘천시</td>\n",
       "      <td>강원도 춘천시 춘주로 89</td>\n",
       "      <td>춘천</td>\n",
       "    </tr>\n",
       "    <tr>\n",
       "      <th>2</th>\n",
       "      <td>이디야커피</td>\n",
       "      <td>흥업점</td>\n",
       "      <td>강원도</td>\n",
       "      <td>원주시</td>\n",
       "      <td>강원도 원주시 흥업면 남원로 85</td>\n",
       "      <td>원주</td>\n",
       "    </tr>\n",
       "    <tr>\n",
       "      <th>3</th>\n",
       "      <td>이디야커피</td>\n",
       "      <td>속초동명항점</td>\n",
       "      <td>강원도</td>\n",
       "      <td>속초시</td>\n",
       "      <td>강원도 속초시 동명항길 49</td>\n",
       "      <td>속초</td>\n",
       "    </tr>\n",
       "    <tr>\n",
       "      <th>4</th>\n",
       "      <td>이디야커피</td>\n",
       "      <td>정동진역점</td>\n",
       "      <td>강원도</td>\n",
       "      <td>강릉시</td>\n",
       "      <td>강원도 강릉시 강동면 정동역길 17</td>\n",
       "      <td>강릉</td>\n",
       "    </tr>\n",
       "  </tbody>\n",
       "</table>\n",
       "</div>"
      ],
      "text/plain": [
       "     상호명     지점명  시도명 시군구명                도로명주소  ID\n",
       "0  이디야커피  원주반곡동점  강원도  원주시    강원도 원주시 오리현길 16-9  원주\n",
       "1  이디야커피   춘천제일점  강원도  춘천시       강원도 춘천시 춘주로 89  춘천\n",
       "2  이디야커피     흥업점  강원도  원주시   강원도 원주시 흥업면 남원로 85  원주\n",
       "3  이디야커피  속초동명항점  강원도  속초시      강원도 속초시 동명항길 49  속초\n",
       "4  이디야커피   정동진역점  강원도  강릉시  강원도 강릉시 강동면 정동역길 17  강릉"
      ]
     },
     "metadata": {},
     "execution_count": 64
    }
   ],
   "metadata": {}
  },
  {
   "cell_type": "code",
   "execution_count": 65,
   "source": [
    "coffeebean.head()"
   ],
   "outputs": [
    {
     "output_type": "execute_result",
     "data": {
      "text/html": [
       "<div>\n",
       "<style scoped>\n",
       "    .dataframe tbody tr th:only-of-type {\n",
       "        vertical-align: middle;\n",
       "    }\n",
       "\n",
       "    .dataframe tbody tr th {\n",
       "        vertical-align: top;\n",
       "    }\n",
       "\n",
       "    .dataframe thead th {\n",
       "        text-align: right;\n",
       "    }\n",
       "</style>\n",
       "<table border=\"1\" class=\"dataframe\">\n",
       "  <thead>\n",
       "    <tr style=\"text-align: right;\">\n",
       "      <th></th>\n",
       "      <th>상호명</th>\n",
       "      <th>지점명</th>\n",
       "      <th>시도명</th>\n",
       "      <th>시군구명</th>\n",
       "      <th>도로명주소</th>\n",
       "      <th>ID</th>\n",
       "    </tr>\n",
       "  </thead>\n",
       "  <tbody>\n",
       "    <tr>\n",
       "      <th>0</th>\n",
       "      <td>커피빈</td>\n",
       "      <td>NaN</td>\n",
       "      <td>강원도</td>\n",
       "      <td>동해시</td>\n",
       "      <td>강원도 동해시 일출로 107</td>\n",
       "      <td>동해</td>\n",
       "    </tr>\n",
       "    <tr>\n",
       "      <th>1</th>\n",
       "      <td>커피빈</td>\n",
       "      <td>코리아원주AK플라자점</td>\n",
       "      <td>강원도</td>\n",
       "      <td>원주시</td>\n",
       "      <td>강원도 원주시 봉화로 1</td>\n",
       "      <td>원주</td>\n",
       "    </tr>\n",
       "    <tr>\n",
       "      <th>2</th>\n",
       "      <td>커피빈</td>\n",
       "      <td>현대프리미엄아울렛김포점</td>\n",
       "      <td>경기도</td>\n",
       "      <td>김포시</td>\n",
       "      <td>경기도 김포시 고촌읍 아라육로152번길 100</td>\n",
       "      <td>김포</td>\n",
       "    </tr>\n",
       "    <tr>\n",
       "      <th>3</th>\n",
       "      <td>커피빈</td>\n",
       "      <td>중동현대백화점U-PLEX점</td>\n",
       "      <td>경기도</td>\n",
       "      <td>부천시</td>\n",
       "      <td>경기도 부천시 길주로 172</td>\n",
       "      <td>부천</td>\n",
       "    </tr>\n",
       "    <tr>\n",
       "      <th>4</th>\n",
       "      <td>커피빈</td>\n",
       "      <td>코리아중동위브더스테이트점</td>\n",
       "      <td>경기도</td>\n",
       "      <td>부천시</td>\n",
       "      <td>경기도 부천시 신흥로 190</td>\n",
       "      <td>부천</td>\n",
       "    </tr>\n",
       "  </tbody>\n",
       "</table>\n",
       "</div>"
      ],
      "text/plain": [
       "   상호명             지점명  시도명 시군구명                      도로명주소  ID\n",
       "0  커피빈             NaN  강원도  동해시            강원도 동해시 일출로 107  동해\n",
       "1  커피빈     코리아원주AK플라자점  강원도  원주시              강원도 원주시 봉화로 1  원주\n",
       "2  커피빈    현대프리미엄아울렛김포점  경기도  김포시  경기도 김포시 고촌읍 아라육로152번길 100  김포\n",
       "3  커피빈  중동현대백화점U-PLEX점  경기도  부천시            경기도 부천시 길주로 172  부천\n",
       "4  커피빈   코리아중동위브더스테이트점  경기도  부천시            경기도 부천시 신흥로 190  부천"
      ]
     },
     "metadata": {},
     "execution_count": 65
    }
   ],
   "metadata": {}
  },
  {
   "cell_type": "code",
   "execution_count": 66,
   "source": [
    "paik.head()"
   ],
   "outputs": [
    {
     "output_type": "execute_result",
     "data": {
      "text/html": [
       "<div>\n",
       "<style scoped>\n",
       "    .dataframe tbody tr th:only-of-type {\n",
       "        vertical-align: middle;\n",
       "    }\n",
       "\n",
       "    .dataframe tbody tr th {\n",
       "        vertical-align: top;\n",
       "    }\n",
       "\n",
       "    .dataframe thead th {\n",
       "        text-align: right;\n",
       "    }\n",
       "</style>\n",
       "<table border=\"1\" class=\"dataframe\">\n",
       "  <thead>\n",
       "    <tr style=\"text-align: right;\">\n",
       "      <th></th>\n",
       "      <th>상호명</th>\n",
       "      <th>지점명</th>\n",
       "      <th>시도명</th>\n",
       "      <th>시군구명</th>\n",
       "      <th>도로명주소</th>\n",
       "      <th>ID</th>\n",
       "    </tr>\n",
       "  </thead>\n",
       "  <tbody>\n",
       "    <tr>\n",
       "      <th>0</th>\n",
       "      <td>빽다방</td>\n",
       "      <td>춘천석사CGV점</td>\n",
       "      <td>강원도</td>\n",
       "      <td>춘천시</td>\n",
       "      <td>강원도 춘천시 지석로 85</td>\n",
       "      <td>춘천</td>\n",
       "    </tr>\n",
       "    <tr>\n",
       "      <th>1</th>\n",
       "      <td>빽다방동해천곡점</td>\n",
       "      <td>동해천곡점</td>\n",
       "      <td>강원도</td>\n",
       "      <td>동해시</td>\n",
       "      <td>강원도 동해시 한섬로 111-7</td>\n",
       "      <td>동해</td>\n",
       "    </tr>\n",
       "    <tr>\n",
       "      <th>2</th>\n",
       "      <td>빽다방</td>\n",
       "      <td>원주중앙1호점</td>\n",
       "      <td>강원도</td>\n",
       "      <td>원주시</td>\n",
       "      <td>강원도 원주시 원일로115번길 6</td>\n",
       "      <td>원주</td>\n",
       "    </tr>\n",
       "    <tr>\n",
       "      <th>3</th>\n",
       "      <td>빽다방</td>\n",
       "      <td>삼척대학로점</td>\n",
       "      <td>강원도</td>\n",
       "      <td>삼척시</td>\n",
       "      <td>강원도 삼척시 대학로 23</td>\n",
       "      <td>삼척</td>\n",
       "    </tr>\n",
       "    <tr>\n",
       "      <th>4</th>\n",
       "      <td>빽다방</td>\n",
       "      <td>NaN</td>\n",
       "      <td>강원도</td>\n",
       "      <td>원주시</td>\n",
       "      <td>강원도 원주시 무실로12번길 33</td>\n",
       "      <td>원주</td>\n",
       "    </tr>\n",
       "  </tbody>\n",
       "</table>\n",
       "</div>"
      ],
      "text/plain": [
       "        상호명       지점명  시도명 시군구명               도로명주소  ID\n",
       "0       빽다방  춘천석사CGV점  강원도  춘천시      강원도 춘천시 지석로 85  춘천\n",
       "1  빽다방동해천곡점     동해천곡점  강원도  동해시   강원도 동해시 한섬로 111-7  동해\n",
       "2       빽다방   원주중앙1호점  강원도  원주시  강원도 원주시 원일로115번길 6  원주\n",
       "3       빽다방    삼척대학로점  강원도  삼척시      강원도 삼척시 대학로 23  삼척\n",
       "4       빽다방       NaN  강원도  원주시  강원도 원주시 무실로12번길 33  원주"
      ]
     },
     "metadata": {},
     "execution_count": 66
    }
   ],
   "metadata": {}
  }
 ],
 "metadata": {
  "orig_nbformat": 4,
  "language_info": {
   "name": "python",
   "version": "3.8.10",
   "mimetype": "text/x-python",
   "codemirror_mode": {
    "name": "ipython",
    "version": 3
   },
   "pygments_lexer": "ipython3",
   "nbconvert_exporter": "python",
   "file_extension": ".py"
  },
  "kernelspec": {
   "name": "python3",
   "display_name": "Python 3.8.10 64-bit ('base': conda)"
  },
  "interpreter": {
   "hash": "fe3bab233825460445dbfeea6dcd52ef5815a3fa13c858fea07ac830aa383284"
  }
 },
 "nbformat": 4,
 "nbformat_minor": 2
}