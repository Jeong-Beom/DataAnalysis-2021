{
 "cells": [
  {
   "cell_type": "code",
   "execution_count": 79,
   "source": [
    "import numpy as np\r\n",
    "a = np.arange(1, 7).reshape(2, 3)\r\n",
    "print(a, a+a, a-a, a*a, sep = '\\n')\r\n",
    "# dot product - dot product와 계산하기 위해서는 앞행렬의 열의 개수와 뒷행렬의 행의 개수가 같아야 가능\r\n",
    "np.dot(a, a.T) # == a.dot(a.T)\r\n",
    "a.dot(a.T)\r\n",
    "\r\n",
    "# Broadcasting\r\n",
    "a, a//3, a % 3\r\n",
    "\r\n",
    "# 2차원 matrix와 1차원 vector간에도 사용가능\r\n",
    "# Comparison\r\n",
    "# all(모든요인이 조건에 부합해야 True)과 any(요인 중 하나라도 조건에 부합하면 True)\r\n",
    "a = np.arange(8)\r\n",
    "a\r\n",
    "a>4\r\n",
    "np.all(a>4), np.any(a>4)\r\n",
    "x = np.array([1,3,0])\r\n",
    "y = np.array([5,2,1])\r\n",
    "x > y\r\n",
    "x == y\r\n",
    "\r\n",
    "# logical operation\r\n",
    "a = np.array([1,3,0], float)\r\n",
    "b = np.logical_and(a>0, a<3)\r\n",
    "c = np.logical_not(b)\r\n",
    "c\r\n",
    "np.logical_or(b, c)\r\n",
    "np.logical_xor(b, c) # xor : 배타적 논리합 / 두명제의 조건중 하나만 충족하는 요인\r\n",
    "np.where(a>1, 10, 0) # np.where(조건, 조건이 참일때의 값, 조건이 거짓일때의 값)\r\n",
    "np.where(np.arange(10,20)>15) # 조건만 들어가 있으면 해당 조건에 부합하는 인덱스 값만 반환\r\n",
    "\r\n",
    "# Infinite, Not a Number\r\n",
    "a = np.array([np.Inf, np.NaN, 1, np.nan, np.inf, np.NAN])\r\n",
    "a[0] == [5], type(a[2]) # 결과값 : False / nan값이 있어서 1을 실수로 변환\r\n",
    "np.isnan(a)\r\n",
    "np.isfinite(a)\r\n",
    "np.isnan(a).sum()\r\n",
    "\r\n",
    "# argmax, argmin : array내의 최대값 또는 최소값의 index를 리턴\r\n",
    "a = np.array([1, 2, 4, 5, 8, 78, 23, 3])\r\n",
    "np.argmax(a), np.argmin(a)\r\n",
    "a = a.reshape(2,-1)\r\n",
    "np.argmax(a, axis = 1), np.argmin(a, axis = 1)\r\n",
    "index = 5\r\n",
    "row, col = index // 4, index % 4\r\n",
    "row, col\r\n",
    "\r\n",
    "# boolean & fancy index\r\n",
    "print(a)\r\n",
    "a[a>4]\r\n",
    "a = np.array([2, 4, 6, 8])\r\n",
    "b = np.array([1, 3, 2, 0, 0, 1]) \r\n",
    "a[b]\r\n",
    "a.take(b)\r\n",
    "a = np.arange(1, 13).reshape(3, 4)\r\n",
    "b = np.array([1, 2, 0, 1]) # 행 인덱스\r\n",
    "c = np.array([2, 1, 3, 0]) # 열 인덱스\r\n",
    "print(a)\r\n",
    "a[b, c]\r\n",
    "\r\n",
    "# 기술 통계\r\n",
    "# 사분위수\r\n",
    "a = np.random.randint(1, 10000, 1000)\r\n",
    "for q in [0, 25, 50, 75, 100]:\r\n",
    "    print(np.percentile(a, q))\r\n",
    "import matplotlib.pyplot as plt\r\n",
    "plt.boxplot(a)\r\n",
    "plt.show()"
   ],
   "outputs": [
    {
     "output_type": "stream",
     "name": "stdout",
     "text": [
      "[[1 2 3]\n",
      " [4 5 6]]\n",
      "[[ 2  4  6]\n",
      " [ 8 10 12]]\n",
      "[[0 0 0]\n",
      " [0 0 0]]\n",
      "[[ 1  4  9]\n",
      " [16 25 36]]\n",
      "[[ 1  2  4  5]\n",
      " [ 8 78 23  3]]\n",
      "[[ 1  2  3  4]\n",
      " [ 5  6  7  8]\n",
      " [ 9 10 11 12]]\n",
      "6.0\n",
      "2719.0\n",
      "5330.0\n",
      "7662.75\n",
      "9998.0\n"
     ]
    },
    {
     "output_type": "display_data",
     "data": {
      "text/plain": [
       "<Figure size 432x288 with 1 Axes>"
      ],
      "image/png": "[encoded data removed]"
     },
     "metadata": {
      "needs_background": "light"
     }
    }
   ],
   "metadata": {}
  }
 ],
 "metadata": {
  "orig_nbformat": 4,
  "language_info": {
   "name": "python",
   "version": "3.8.10",
   "mimetype": "text/x-python",
   "codemirror_mode": {
    "name": "ipython",
    "version": 3
   },
   "pygments_lexer": "ipython3",
   "nbconvert_exporter": "python",
   "file_extension": ".py"
  },
  "kernelspec": {
   "name": "python3",
   "display_name": "Python 3.8.10 64-bit ('base': conda)"
  },
  "interpreter": {
   "hash": "fe3bab233825460445dbfeea6dcd52ef5815a3fa13c858fea07ac830aa383284"
  }
 },
 "nbformat": 4,
 "nbformat_minor": 2
}