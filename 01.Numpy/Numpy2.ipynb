{
 "cells": [
  {
   "cell_type": "code",
   "execution_count": 18,
   "source": [
    "import numpy as np\r\n",
    "matrix = np.array([[1,2,3], [4,5,16]])\r\n",
    "print(matrix[0][1])\r\n",
    "print(matrix[0,1])\r\n",
    "b = np.arange(16).reshape(4,-1)\r\n",
    "print(b)\r\n",
    "print(b[1:3, 1:3])\r\n",
    "print(b[::2, 1::2])\r\n",
    "\r\n",
    "# 생성(Creation)\r\n",
    "np.arange(10)\r\n",
    "np.arange(1, 10, 2)\r\n",
    "np.arange(0, 5.1, 0.5)\r\n",
    "np.arange(0, 5.1, 0.5).tolist()\r\n",
    "np.arange(24).reshape(4,-1)\r\n",
    "\r\n",
    "# linspace(시작, 끝, 몇등분)\r\n",
    "x = np.linspace(-2, 2, 201)\r\n",
    "x.size, x[-1]\r\n",
    "import matplotlib.pyplot as plt\r\n",
    "y = np.tanh(x)\r\n",
    "plt.plot(x,y)\r\n",
    "plt.grid()\r\n",
    "plt.show()\r\n",
    "\r\n",
    "np.ones(shape=(10,), dtype=np.int8)\r\n",
    "np.ones((2,4))\r\n",
    "np.zeros((8,), np.float32)\r\n",
    "np.empty((4,))\r\n",
    "\r\n",
    "# something like\r\n",
    "a = np.arange(12).reshape(3,4)\r\n",
    "np.ones_like(a)\r\n",
    "np.zeros_like(a)"
   ],
   "outputs": [
    {
     "output_type": "stream",
     "name": "stdout",
     "text": [
      "2\n",
      "2\n",
      "[[ 0  1  2  3]\n",
      " [ 4  5  6  7]\n",
      " [ 8  9 10 11]\n",
      " [12 13 14 15]]\n",
      "[[ 5  6]\n",
      " [ 9 10]]\n",
      "[[ 1  3]\n",
      " [ 9 11]]\n"
     ]
    },
    {
     "output_type": "display_data",
     "data": {
      "text/plain": [
       "<Figure size 432x288 with 1 Axes>"
      ],
      "image/png": "[encoded data removed]"
     },
     "metadata": {
      "needs_background": "light"
     }
    },
    {
     "output_type": "execute_result",
     "data": {
      "text/plain": [
       "array([[0, 0, 0, 0],\n",
       "       [0, 0, 0, 0],\n",
       "       [0, 0, 0, 0]])"
      ]
     },
     "metadata": {},
     "execution_count": 18
    }
   ],
   "metadata": {}
  }
 ],
 "metadata": {
  "orig_nbformat": 4,
  "language_info": {
   "name": "python",
   "version": "3.8.10",
   "mimetype": "text/x-python",
   "codemirror_mode": {
    "name": "ipython",
    "version": 3
   },
   "pygments_lexer": "ipython3",
   "nbconvert_exporter": "python",
   "file_extension": ".py"
  },
  "kernelspec": {
   "name": "python3",
   "display_name": "Python 3.8.10 64-bit ('base': conda)"
  },
  "interpreter": {
   "hash": "fe3bab233825460445dbfeea6dcd52ef5815a3fa13c858fea07ac830aa383284"
  }
 },
 "nbformat": 4,
 "nbformat_minor": 2
}