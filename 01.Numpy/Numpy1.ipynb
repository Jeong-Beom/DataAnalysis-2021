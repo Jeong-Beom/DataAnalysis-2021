{
 "cells": [
  {
   "cell_type": "code",
   "execution_count": 18,
   "source": [
    "# Numerical Python(Numpy) - Part 1\r\n",
    "# de facto standard(사실상의 표준)\r\n",
    "import numpy as np\r\n",
    "a = [1, 2, 3]\r\n",
    "print(a * 3)\r\n",
    "list(map(lambda x : 3 * x, a))\r\n",
    "b = np.array([1,2,3])\r\n",
    "print(b * 3)\r\n",
    "\r\n",
    "# Numpy Dimension\r\n",
    "a = np.array([1,4,5,8], float) # Numpy는 행렬안에 정수, 실수만 저장가능(문자열 저장 불가 - list와의 차이점)\r\n",
    "type(a)\r\n",
    "a.dtype, a.shape\r\n",
    "# Array shape\r\n",
    "# Vector(1차원)\r\n",
    "vec = np.array([1, 4, 5, 8])\r\n",
    "vec\r\n",
    "vec.shape, type(vec.shape)\r\n",
    "# Matrix(2차원)\r\n",
    "matrix = np.array([[1,2,3], [4,5,16]])\r\n",
    "print(matrix.shape)\r\n",
    "# Tensor(3차원 이상)\r\n",
    "tensor = np.arange(1,25).reshape(2,3,4)\r\n",
    "tensor\r\n",
    "# element 개수\r\n",
    "vec.size, matrix.size, tensor.size\r\n",
    "a = np.array([1,2,3], dtype = np.float32)\r\n",
    "a\r\n",
    "b = np.array([1,2,3], np.int16)\r\n",
    "b\r\n",
    "# reshape(행의개수, 열의개수)\r\n",
    "matrix.shape\r\n",
    "print(matrix.reshape(6,))\r\n",
    "print(matrix.reshape(3,-1))\r\n",
    "print(matrix.reshape(3,-1).shape) # -1은 numpy가 알아서 맞춰줌(단, size가 동일)\r\n",
    "print(tensor.reshape(3,-1).shape)\r\n",
    "\r\n",
    "# flatten : 다차원을 1차원으로 변경해주는 함수\r\n",
    "tensor.reshape(-1,)\r\n",
    "tensor.flatten()\r\n",
    "\r\n",
    "# Indexing & Sclicing\r\n",
    "matrix"
   ],
   "outputs": [
    {
     "output_type": "stream",
     "name": "stdout",
     "text": [
      "[1, 2, 3, 1, 2, 3, 1, 2, 3]\n",
      "[3 6 9]\n",
      "(2, 3)\n",
      "[ 1  2  3  4  5 16]\n",
      "[[ 1  2]\n",
      " [ 3  4]\n",
      " [ 5 16]]\n",
      "(3, 2)\n",
      "(3, 8)\n"
     ]
    },
    {
     "output_type": "execute_result",
     "data": {
      "text/plain": [
       "array([[ 1,  2,  3],\n",
       "       [ 4,  5, 16]])"
      ]
     },
     "metadata": {},
     "execution_count": 18
    }
   ],
   "metadata": {}
  }
 ],
 "metadata": {
  "orig_nbformat": 4,
  "language_info": {
   "name": "python",
   "version": "3.8.10",
   "mimetype": "text/x-python",
   "codemirror_mode": {
    "name": "ipython",
    "version": 3
   },
   "pygments_lexer": "ipython3",
   "nbconvert_exporter": "python",
   "file_extension": ".py"
  },
  "kernelspec": {
   "name": "python3",
   "display_name": "Python 3.8.10 64-bit ('base': conda)"
  },
  "interpreter": {
   "hash": "fe3bab233825460445dbfeea6dcd52ef5815a3fa13c858fea07ac830aa383284"
  }
 },
 "nbformat": 4,
 "nbformat_minor": 2
}