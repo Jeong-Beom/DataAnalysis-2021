{
 "cells": [
  {
   "cell_type": "code",
   "execution_count": 52,
   "source": [
    "# 단위행렬 - identity\r\n",
    "import numpy as np\r\n",
    "import matplotlib.pyplot as plt\r\n",
    "\r\n",
    "np.identity(n=3, dtype=np.int16)\r\n",
    "np.identity(3)\r\n",
    "\r\n",
    "# eye 대각선이 1인 행렬\r\n",
    "np.eye(N=3, M=5, k=2, dtype=np.int32) # k : start index\r\n",
    "np.eye(4, 3, -1)\r\n",
    "\r\n",
    "# diag - 대각선 위치의 값을 추출\r\n",
    "np.diag(np.arange(9).reshape(3,3))\r\n",
    "np.diag(np.arange(9).reshape(3,3), k=1) # k : start index\r\n",
    "np.eye(3)\r\n",
    "\r\n",
    "# Random sampling\r\n",
    "np.random.seed(seed=2021)\r\n",
    "np.random.random()\r\n",
    "# 균등분포\r\n",
    "np.random.uniform(size=10)\r\n",
    "# 정규분포\r\n",
    "np.random.normal(size=10)\r\n",
    "# 정규분포 - N(1,2)\r\n",
    "np.random.normal(1, 2, size = 10)\r\n",
    "'''\r\n",
    "# 표준 정규분포 - N(0,1)\r\n",
    "np.random.randn(10)\r\n",
    "rand_norm = np.random.randn(1000)\r\n",
    "plt.hist(rand_norm)\r\n",
    "plt.show()\r\n",
    "'''\r\n",
    "\r\n",
    "# Operation\r\n",
    "# Sum과 Axis\r\n",
    "a = np.arange(1, 13).reshape(3,4)\r\n",
    "a.sum()\r\n",
    "\r\n",
    "# column의 합, row 방향 \r\n",
    "a.sum(axis=0)\r\n",
    "# row의 합, column 방향\r\n",
    "a.sum(axis=1)\r\n",
    "b = np.arange(1,25).reshape(2,3,4)\r\n",
    "print(b)\r\n",
    "print(b.sum(axis=0)) # (2, 3, 4) - > (3, 4)\r\n",
    "print(b.sum(axis=1)) # (2, 3, 4) - > (2, 4)\r\n",
    "print(b.sum(axis=2)) # (2, 3, 4) - > (2, 3)\r\n",
    "\r\n",
    "# 통계, 수학 함수\r\n",
    "print(b.mean(), a.var(), a.std())\r\n",
    "print(a.mean(), a.mean(axis=0), a.mean(axis=1))\r\n",
    "np.exp(a)\r\n",
    "\r\n",
    "# Concatenate\r\n",
    "a = np.arange(1,5).reshape(2,2)\r\n",
    "b = np.arange(5,7).reshape(1,2)\r\n",
    "np.vstack((a,b))\r\n",
    "np.concatenate((a,b), axis = 0)\r\n",
    "# 전치행렬(Transpose) : (1,2) -> (2,1)\r\n",
    "b.T\r\n",
    "np.hstack((a,b.T))\r\n",
    "np.concatenate((a,b.T), axis = 1)"
   ],
   "outputs": [
    {
     "output_type": "stream",
     "name": "stdout",
     "text": [
      "[[[ 1  2  3  4]\n",
      "  [ 5  6  7  8]\n",
      "  [ 9 10 11 12]]\n",
      "\n",
      " [[13 14 15 16]\n",
      "  [17 18 19 20]\n",
      "  [21 22 23 24]]]\n",
      "[[14 16 18 20]\n",
      " [22 24 26 28]\n",
      " [30 32 34 36]]\n",
      "[[15 18 21 24]\n",
      " [51 54 57 60]]\n",
      "[[10 26 42]\n",
      " [58 74 90]]\n",
      "12.5 11.916666666666666 3.452052529534663\n",
      "6.5 [5. 6. 7. 8.] [ 2.5  6.5 10.5]\n"
     ]
    },
    {
     "output_type": "execute_result",
     "data": {
      "text/plain": [
       "array([[1, 2, 5],\n",
       "       [3, 4, 6]])"
      ]
     },
     "metadata": {},
     "execution_count": 52
    }
   ],
   "metadata": {}
  }
 ],
 "metadata": {
  "orig_nbformat": 4,
  "language_info": {
   "name": "python",
   "version": "3.8.10",
   "mimetype": "text/x-python",
   "codemirror_mode": {
    "name": "ipython",
    "version": 3
   },
   "pygments_lexer": "ipython3",
   "nbconvert_exporter": "python",
   "file_extension": ".py"
  },
  "kernelspec": {
   "name": "python3",
   "display_name": "Python 3.8.10 64-bit ('base': conda)"
  },
  "interpreter": {
   "hash": "fe3bab233825460445dbfeea6dcd52ef5815a3fa13c858fea07ac830aa383284"
  }
 },
 "nbformat": 4,
 "nbformat_minor": 2
}