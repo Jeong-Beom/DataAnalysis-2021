{
 "cells": [
  {
   "cell_type": "code",
   "execution_count": 92,
   "source": [
    "import numpy as np\r\n",
    "import matplotlib.pyplot as plt\r\n",
    "\r\n",
    "a = np.array([[4,3,5,7],[1,12,11,9],[2,5,1,14]])\r\n",
    "a, np.sort(a), np.sort(a, axis = 0)\r\n",
    "# a.sort() method는 in-place method임(자기자신을 바꿈)\r\n",
    "# argsort() - 인덱스\r\n",
    "x = np.array([42,38,12,25])\r\n",
    "indices = np.argsort(x)\r\n",
    "indices\r\n",
    "\r\n",
    "a = np.array([[1, 2, 3, 4], [46, 99, 100, 71], [81, 59, 90, 100]])\r\n",
    "a[1:2,1]"
   ],
   "outputs": [
    {
     "output_type": "execute_result",
     "data": {
      "text/plain": [
       "array([99])"
      ]
     },
     "metadata": {},
     "execution_count": 92
    }
   ],
   "metadata": {}
  }
 ],
 "metadata": {
  "orig_nbformat": 4,
  "language_info": {
   "name": "python",
   "version": "3.8.10"
  },
  "kernelspec": {
   "name": "python3",
   "display_name": "Python 3.8.10 64-bit ('base': conda)"
  },
  "interpreter": {
   "hash": "fe3bab233825460445dbfeea6dcd52ef5815a3fa13c858fea07ac830aa383284"
  }
 },
 "nbformat": 4,
 "nbformat_minor": 2
}