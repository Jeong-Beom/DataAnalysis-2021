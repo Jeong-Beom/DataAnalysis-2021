{
 "cells": [
  {
   "cell_type": "code",
   "execution_count": 5,
   "source": [
    "import numpy as np\r\n",
    "import matplotlib.pyplot as plt\r\n",
    "\r\n",
    "a = np.array([[4,3,5,7],[1,12,11,9],[2,5,1,14]])\r\n",
    "a, np.sort(a), np.sort(a, axis = 0)\r\n",
    "# a.sort() method는 in-place method임(자기자신을 바꿈)\r\n",
    "# argsort() - 인덱스\r\n",
    "x = np.array([42,38,12,25])\r\n",
    "indices = np.argsort(x)\r\n",
    "indices\r\n",
    "\r\n",
    "a = np.array([[1, 2, 3, 4], [46, 99, 100, 71], [81, 59, 90, 100]])\r\n",
    "a[1:2,1]\r\n",
    "\r\n",
    "np.random.seed(2021)\r\n",
    "price = 10000\r\n",
    "rate = np.random.normal(0, 0.01, 10)\r\n",
    "for i in range(10):\r\n",
    "    price = price + np.round(price*rate)\r\n",
    "    print(price, end = ', ')\r\n",
    "\r\n",
    "# 250개\r\n",
    "np.random.seed(2021)\r\n",
    "price_list = []\r\n",
    "rate = np.random.normal(0, 0.01, 250)\r\n",
    "price = 10000\r\n",
    "for i in range(250):\r\n",
    "    price += np.round(price*rate)\r\n",
    "    price_list.append(price)"
   ],
   "outputs": [
    {
     "output_type": "stream",
     "name": "stdout",
     "text": [
      "[10149. 10068.  9958.  9919. 10056.  9929. 10113. 10065. 10011. 10042.], [10300. 10136.  9916.  9839. 10112.  9859. 10227. 10130. 10022. 10084.], [10453. 10205.  9875.  9760. 10168.  9789. 10343. 10195. 10033. 10127.], [10609. 10274.  9834.  9681. 10225.  9720. 10460. 10261. 10044. 10170.], [10767. 10343.  9793.  9603. 10282.  9651. 10578. 10327. 10055. 10213.], [10927. 10413.  9752.  9526. 10339.  9583. 10698. 10394. 10066. 10256.], [11090. 10483.  9711.  9449. 10396.  9515. 10819. 10461. 10077. 10299.], [11255. 10554.  9670.  9373. 10454.  9448. 10941. 10528. 10088. 10342.], [11423. 10625.  9630.  9297. 10512.  9381. 11065. 10596. 10099. 10386.], [11593. 10697.  9590.  9222. 10570.  9315. 11190. 10664. 10110. 10430.], "
     ]
    }
   ],
   "metadata": {}
  }
 ],
 "metadata": {
  "orig_nbformat": 4,
  "language_info": {
   "name": "python",
   "version": "3.8.10",
   "mimetype": "text/x-python",
   "codemirror_mode": {
    "name": "ipython",
    "version": 3
   },
   "pygments_lexer": "ipython3",
   "nbconvert_exporter": "python",
   "file_extension": ".py"
  },
  "kernelspec": {
   "name": "python3",
   "display_name": "Python 3.8.10 64-bit ('base': conda)"
  },
  "interpreter": {
   "hash": "fe3bab233825460445dbfeea6dcd52ef5815a3fa13c858fea07ac830aa383284"
  }
 },
 "nbformat": 4,
 "nbformat_minor": 2
}