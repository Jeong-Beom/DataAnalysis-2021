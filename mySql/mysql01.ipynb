{
 "cells": [
  {
   "cell_type": "code",
   "execution_count": 21,
   "source": [
    "import json\r\n",
    "with open('C:\\\\Workspace\\\\python\\\\Data_Science\\\\dataA\\\\mysql.json') as fp:\r\n",
    "    config_str = fp.read()\r\n",
    "config = json.loads(config_str)\r\n",
    "\r\n",
    "import pymysql\r\n",
    "conn = pymysql.connect(\r\n",
    " host = config['host'],\r\n",
    " user = config['user'],\r\n",
    " password = config['password'],\r\n",
    " database = config['database'],\r\n",
    " port = config['port']\r\n",
    ") \r\n",
    "cur = conn.cursor()\r\n",
    "sql = \"select id, date_format(dt, '%Y-%m-%d %H:%i') AS my_date from date_table;\"\r\n",
    "cur.execute(sql)\r\n",
    "for row in cur.fetchall():\r\n",
    "    print(row)\r\n",
    "cur.close()\r\n",
    "conn.close() # 서버와의 연결을 종료하는 명령어"
   ],
   "outputs": [
    {
     "output_type": "stream",
     "name": "stdout",
     "text": [
      "(1, '2017-08-28 17:22')\n",
      "(2, '2017-02-15 10:22')\n",
      "(3, '2017-12-09 22:13')\n",
      "(4, '2018-07-06 20:15')\n",
      "(5, '2021-08-24 14:49')\n",
      "(6, '2017-08-28 17:22')\n",
      "(7, '2017-02-15 10:22')\n",
      "(8, '2017-12-09 22:13')\n",
      "(9, '2018-07-06 20:15')\n",
      "(10, '2021-08-24 14:50')\n"
     ]
    }
   ],
   "metadata": {}
  },
  {
   "cell_type": "code",
   "execution_count": 24,
   "source": [
    "# Mysql 접속 및 연결\r\n",
    "import json\r\n",
    "with open('C:\\\\Workspace\\\\python\\\\Data_Science\\\\dataA\\\\mysql.json') as fp:\r\n",
    "    config_str = fp.read()\r\n",
    "config = json.loads(config_str)\r\n",
    "\r\n",
    "import pymysql\r\n",
    "conn = pymysql.connect(\r\n",
    " host = config['host'],\r\n",
    " user = config['user'],\r\n",
    " password = config['password'],\r\n",
    " database = config['database'],\r\n",
    " port = config['port']\r\n",
    ") \r\n",
    "# 테이블 생성\r\n",
    "cur = conn.cursor()\r\n",
    "sql_create_table = '''\r\n",
    "    create table if not exists users (\r\n",
    "        uid varchar(20) not null primary key,\r\n",
    "        pwd char(44) not null,\r\n",
    "        uname varchar(20) not null,\r\n",
    "        email varchar(40),\r\n",
    "        reg_date datetime default current_timestamp,\r\n",
    "        is_deleted int default 0\r\n",
    " );\r\n",
    "''' \r\n",
    "cur.execute(sql_create_table)"
   ],
   "outputs": [
    {
     "output_type": "execute_result",
     "data": {
      "text/plain": [
       "0"
      ]
     },
     "metadata": {},
     "execution_count": 24
    }
   ],
   "metadata": {}
  },
  {
   "cell_type": "code",
   "execution_count": null,
   "source": [
    "# 데이터 추가\r\n",
    "cur = conn.cursor()\r\n",
    "sql_insert = \"INSERT INTO users(uid, pwd, uname) VALUES('admin', '1234', '관리자');\"\r\n",
    "cur.execute(sql_insert)"
   ],
   "outputs": [],
   "metadata": {}
  },
  {
   "cell_type": "code",
   "execution_count": 31,
   "source": [
    "sql_select = 'select * from users;'\r\n",
    "cur.execute(sql_select)\r\n",
    "row = cur.fetchone()"
   ],
   "outputs": [],
   "metadata": {}
  },
  {
   "cell_type": "code",
   "execution_count": 33,
   "source": [
    "row"
   ],
   "outputs": [
    {
     "output_type": "execute_result",
     "data": {
      "text/plain": [
       "('admin', '1234', '관리자', None, datetime.datetime(2021, 8, 25, 13, 30, 1), 0)"
      ]
     },
     "metadata": {},
     "execution_count": 33
    }
   ],
   "metadata": {}
  },
  {
   "cell_type": "code",
   "execution_count": 35,
   "source": [
    "# 데이터를 하드디스크에 쓰게하는 명령\r\n",
    "conn.commit()"
   ],
   "outputs": [],
   "metadata": {}
  },
  {
   "cell_type": "code",
   "execution_count": 36,
   "source": [
    "sql_multi_insert = '''\r\n",
    "    INSERT INTO users(uid, pwd, uname) VALUES\r\n",
    "        ('eskim', '1234', '김은숙'), ('wjlee', '1234', '이우정');\r\n",
    "'''"
   ],
   "outputs": [],
   "metadata": {}
  },
  {
   "cell_type": "code",
   "execution_count": 38,
   "source": [
    "cur.execute(sql_multi_insert)\r\n",
    "conn.commit()"
   ],
   "outputs": [],
   "metadata": {}
  },
  {
   "cell_type": "code",
   "execution_count": 40,
   "source": [
    "sql_insert_ph = \"INSERT INTO users(uid, pwd, uname) VALUES(%s, '1234', %s);\"\r\n",
    "uid, uname = 'djy', '대조영'\r\n",
    "cur.execute(sql_insert_ph, (uid, uname))\r\n",
    "conn.commit()"
   ],
   "outputs": [],
   "metadata": {}
  },
  {
   "cell_type": "code",
   "execution_count": null,
   "source": [
    "# 여러건의 데이터를 placeholder를 이용해서 insert\r\n",
    "users = (('gdhong', '홍길동'), ('jpark', '박재범'))\r\n",
    "cur.executemany(sql_insert_ph, users)"
   ],
   "outputs": [],
   "metadata": {}
  },
  {
   "cell_type": "code",
   "execution_count": null,
   "source": [
    "# 추천하는 방법\r\n",
    "users = (('gdhong', '홍길동'), ('jpark', '박재범'))\r\n",
    "for user in users:\r\n",
    "    cur.execute(sql_insert_ph, user)\r\n",
    "conn.commit()"
   ],
   "outputs": [],
   "metadata": {}
  },
  {
   "cell_type": "code",
   "execution_count": 44,
   "source": [
    "cur.close()\r\n",
    "conn.close()"
   ],
   "outputs": [],
   "metadata": {}
  }
 ],
 "metadata": {
  "orig_nbformat": 4,
  "language_info": {
   "name": "python",
   "version": "3.8.10",
   "mimetype": "text/x-python",
   "codemirror_mode": {
    "name": "ipython",
    "version": 3
   },
   "pygments_lexer": "ipython3",
   "nbconvert_exporter": "python",
   "file_extension": ".py"
  },
  "kernelspec": {
   "name": "python3",
   "display_name": "Python 3.8.10 64-bit ('base': conda)"
  },
  "interpreter": {
   "hash": "fe3bab233825460445dbfeea6dcd52ef5815a3fa13c858fea07ac830aa383284"
  }
 },
 "nbformat": 4,
 "nbformat_minor": 2
}