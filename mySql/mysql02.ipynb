{
 "cells": [
  {
   "cell_type": "code",
   "execution_count": 24,
   "source": [
    "# MySQL - 조회하는 방법\r\n",
    "import json\r\n",
    "with open('C:\\\\Workspace\\\\python\\\\Data_Science\\\\dataA\\\\mysql.json') as fp:\r\n",
    "    config_str = fp.read()\r\n",
    "config = json.loads(config_str)\r\n",
    "\r\n",
    "import pymysql\r\n",
    "conn = pymysql.connect(\r\n",
    " host = config['host'],\r\n",
    " user = config['user'],\r\n",
    " password = config['password'],\r\n",
    " database = config['database'],\r\n",
    " port = config['port']\r\n",
    ") "
   ],
   "outputs": [],
   "metadata": {}
  },
  {
   "cell_type": "code",
   "execution_count": null,
   "source": [
    "sql_select = '''\r\n",
    "    SELECT uid, uname, email,\r\n",
    "\t    DATE_FORMAT(reg_date, '%Y-%m-%d %H:%i')AS reg_date\r\n",
    "        FROM users WHERE is_deleted =0;\r\n",
    "'''\r\n",
    "cur = conn.cursor()\r\n",
    "cur.execute(sql_select)\r\n",
    "row = cur.fetchone()\r\n",
    "row"
   ],
   "outputs": [],
   "metadata": {}
  },
  {
   "cell_type": "code",
   "execution_count": 26,
   "source": [
    "cur = conn.cursor()\r\n",
    "cur.execute(sql_select)\r\n",
    "rows = cur.fetchall()\r\n",
    "rows"
   ],
   "outputs": [
    {
     "output_type": "execute_result",
     "data": {
      "text/plain": [
       "(('admin', '관리자', 'admin@mc.com', '2021-08-25 13:30'),\n",
       " ('djy', '대조영', 'djy@mc.com', '2021-08-25 13:45'),\n",
       " ('eskim', '김은숙', 'eskim@mc.com', '2021-08-25 13:37'),\n",
       " ('wjlee', '이우정', 'wjlee@mc.com', '2021-08-25 13:37'))"
      ]
     },
     "metadata": {},
     "execution_count": 26
    }
   ],
   "metadata": {}
  },
  {
   "cell_type": "code",
   "execution_count": 27,
   "source": [
    "cur = conn.cursor()\r\n",
    "cur.execute(sql_select)\r\n",
    "for row in cur:\r\n",
    "    print(row)"
   ],
   "outputs": [
    {
     "output_type": "stream",
     "name": "stdout",
     "text": [
      "('admin', '관리자', 'admin@mc.com', '2021-08-25 13:30')\n",
      "('djy', '대조영', 'djy@mc.com', '2021-08-25 13:45')\n",
      "('eskim', '김은숙', 'eskim@mc.com', '2021-08-25 13:37')\n",
      "('wjlee', '이우정', 'wjlee@mc.com', '2021-08-25 13:37')\n"
     ]
    }
   ],
   "metadata": {}
  },
  {
   "cell_type": "code",
   "execution_count": 28,
   "source": [
    "uid = 'eskim'\r\n",
    "sql_search = \"\"\"\r\n",
    "    SELECT uid, uname, email,\r\n",
    "\t    DATE_FORMAT(reg_date, '%%Y-%%m-%%d %%H:%%i')AS reg_date\r\n",
    "        FROM users WHERE is_deleted =0 AND uid=%s;\r\n",
    "\"\"\""
   ],
   "outputs": [],
   "metadata": {}
  },
  {
   "cell_type": "code",
   "execution_count": 29,
   "source": [
    "cur = conn.cursor()\r\n",
    "cur.execute(sql_search, (uid,))\r\n",
    "result = cur.fetchone()\r\n",
    "result"
   ],
   "outputs": [
    {
     "output_type": "execute_result",
     "data": {
      "text/plain": [
       "('eskim', '김은숙', 'eskim@mc.com', '2021-08-25 13:37')"
      ]
     },
     "metadata": {},
     "execution_count": 29
    }
   ],
   "metadata": {}
  },
  {
   "cell_type": "code",
   "execution_count": 30,
   "source": [
    "if result:\r\n",
    "    print(result)\r\n",
    "else:\r\n",
    "    print(f'uid={uid}인 사용자는 없음')"
   ],
   "outputs": [
    {
     "output_type": "stream",
     "name": "stdout",
     "text": [
      "('eskim', '김은숙', 'eskim@mc.com', '2021-08-25 13:37')\n"
     ]
    }
   ],
   "metadata": {}
  },
  {
   "cell_type": "code",
   "execution_count": 31,
   "source": [
    "cur.close()\r\n",
    "conn.close()"
   ],
   "outputs": [],
   "metadata": {}
  },
  {
   "cell_type": "code",
   "execution_count": 32,
   "source": [
    "# 패스워드 암호화\r\n",
    "import hashlib\r\n",
    "pwd = '1234'\r\n",
    "pwd_sha256 = hashlib.sha256(pwd.encode())\r\n",
    "pwd_sha256.digest() # 평문을 비문으로 변경\r\n",
    "# Base64로 인코딩\r\n",
    "import base64\r\n",
    "print(base64.b64encode(pwd_sha256.digest())) # 해당값은 바이트 값이기에 코드로 바로 사용하는 것은 불가능\r\n",
    "hashed_pwd = base64.b64encode(pwd_sha256.digest()).decode('UTF-8')\r\n",
    "print(hashed_pwd)\r\n",
    "len(hashed_pwd)"
   ],
   "outputs": [
    {
     "output_type": "stream",
     "name": "stdout",
     "text": [
      "b'A6xnQhbz4Vx2HuGl4lXwZ5U2I8iziLRFnhP5eNfIRvQ='\n",
      "A6xnQhbz4Vx2HuGl4lXwZ5U2I8iziLRFnhP5eNfIRvQ=\n"
     ]
    },
    {
     "output_type": "execute_result",
     "data": {
      "text/plain": [
       "44"
      ]
     },
     "metadata": {},
     "execution_count": 32
    }
   ],
   "metadata": {}
  },
  {
   "cell_type": "code",
   "execution_count": 33,
   "source": [
    "# 패스워드를 생성하는 함수\r\n",
    "import hashlib, base64\r\n",
    "def gen_pwd(pwd):\r\n",
    "    pwd_sha256 = hashlib.sha256(pwd.encode())\r\n",
    "    hashed_pwd = base64.b64encode(pwd_sha256.digest()).decode('UTF-8')\r\n",
    "    return hashed_pwd"
   ],
   "outputs": [],
   "metadata": {}
  },
  {
   "cell_type": "code",
   "execution_count": 34,
   "source": [
    "gen_pwd('qwerty')"
   ],
   "outputs": [
    {
     "output_type": "execute_result",
     "data": {
      "text/plain": [
       "'ZehL4zUy+3hMSBKWdfnv86aCsnFowOp0Syz1juAjN8U='"
      ]
     },
     "metadata": {},
     "execution_count": 34
    }
   ],
   "metadata": {}
  },
  {
   "cell_type": "code",
   "execution_count": 35,
   "source": [
    "import json\r\n",
    "with open('C:\\\\Workspace\\\\python\\\\Data_Science\\\\dataA\\\\mysql.json') as fp:\r\n",
    "    config_str = fp.read()\r\n",
    "config = json.loads(config_str)\r\n",
    "\r\n",
    "import pymysql\r\n",
    "conn = pymysql.connect(\r\n",
    " host = config['host'],\r\n",
    " user = config['user'],\r\n",
    " password = config['password'],\r\n",
    " database = config['database'],\r\n",
    " port = config['port']\r\n",
    ") \r\n",
    "# users table에 패스워드 넣기\r\n",
    "# uid + 21\r\n",
    "sql = 'select uid from users;'\r\n",
    "cur = conn.cursor()\r\n",
    "cur.execute(sql)\r\n",
    "results = cur.fetchall()\r\n",
    "results"
   ],
   "outputs": [
    {
     "output_type": "execute_result",
     "data": {
      "text/plain": [
       "(('admin',), ('djy',), ('eskim',), ('wjlee',))"
      ]
     },
     "metadata": {},
     "execution_count": 35
    }
   ],
   "metadata": {}
  },
  {
   "cell_type": "code",
   "execution_count": 36,
   "source": [
    "sql_email = 'update users set email=%s where uid=%s;'\r\n",
    "for line in results:\r\n",
    "    uid = line[0]\r\n",
    "    email = uid + '@mc.com'\r\n",
    "    cur.execute(sql_email, (email, uid))\r\n",
    "conn.commit()"
   ],
   "outputs": [],
   "metadata": {}
  },
  {
   "cell_type": "code",
   "execution_count": 37,
   "source": [
    "sql_update = 'update users set pwd=%s where uid=%s;'\r\n",
    "for line in results:\r\n",
    "    uid = line[0]\r\n",
    "    pwd = gen_pwd(uid+'21')\r\n",
    "    cur.execute(sql_update, (pwd, uid))\r\n",
    "conn.commit()"
   ],
   "outputs": [],
   "metadata": {}
  },
  {
   "cell_type": "code",
   "execution_count": 38,
   "source": [
    "# 로그인\r\n",
    "sql_login = 'select uid, pwd from users where uid=%s and is_deleted=0'\r\n",
    "# case 1: uid가 없는 경우\r\n",
    "uid = 'fool'\r\n",
    "cur.execute(sql_login, (uid,))\r\n",
    "result = cur.fetchone() # result가 null\r\n",
    "print(result)"
   ],
   "outputs": [
    {
     "output_type": "stream",
     "name": "stdout",
     "text": [
      "None\n"
     ]
    }
   ],
   "metadata": {}
  },
  {
   "cell_type": "code",
   "execution_count": 39,
   "source": [
    "# case 2 : 비밀번호가 틀린 경우\r\n",
    "uid, pwd = 'djy', 'djy23'\r\n",
    "cur.execute(sql_login, (uid,))\r\n",
    "result = cur.fetchone()\r\n",
    "db_pwd = result[1]\r\n",
    "hashed_pwd = gen_pwd(pwd)\r\n",
    "if db_pwd == hashed_pwd:\r\n",
    "    print('Login')\r\n",
    "else:\r\n",
    "    print('Incorrect password!')\r\n",
    "# case 3 : OK\r\n",
    "uid, pwd = 'djy', 'djy21'\r\n",
    "cur.execute(sql_login, (uid,))\r\n",
    "result = cur.fetchone()\r\n",
    "db_pwd = result[1]\r\n",
    "hashed_pwd = gen_pwd(pwd)\r\n",
    "if db_pwd == hashed_pwd:\r\n",
    "    print('Login')\r\n",
    "else:\r\n",
    "    print('Incorrect password!')"
   ],
   "outputs": [
    {
     "output_type": "stream",
     "name": "stdout",
     "text": [
      "Incorrect password!\n",
      "Login\n"
     ]
    }
   ],
   "metadata": {}
  },
  {
   "cell_type": "code",
   "execution_count": 40,
   "source": [
    "uid, pwd = 'djy', 'djy21'\r\n",
    "cur.execute(sql_login, (uid,))\r\n",
    "result = cur.fetchone()\r\n",
    "if result:\r\n",
    "    db_pwd = result[1]\r\n",
    "    hashed_pwd = gen_pwd(pwd)\r\n",
    "    if db_pwd == hashed_pwd:\r\n",
    "        print('Login')\r\n",
    "    else:\r\n",
    "        print('Incorrect password!')\r\n",
    "else:\r\n",
    "    print('Bad uid!!!')"
   ],
   "outputs": [
    {
     "output_type": "stream",
     "name": "stdout",
     "text": [
      "Login\n"
     ]
    }
   ],
   "metadata": {}
  }
 ],
 "metadata": {
  "orig_nbformat": 4,
  "language_info": {
   "name": "python",
   "version": "3.8.10",
   "mimetype": "text/x-python",
   "codemirror_mode": {
    "name": "ipython",
    "version": 3
   },
   "pygments_lexer": "ipython3",
   "nbconvert_exporter": "python",
   "file_extension": ".py"
  },
  "kernelspec": {
   "name": "python3",
   "display_name": "Python 3.8.10 64-bit ('base': conda)"
  },
  "interpreter": {
   "hash": "fe3bab233825460445dbfeea6dcd52ef5815a3fa13c858fea07ac830aa383284"
  }
 },
 "nbformat": 4,
 "nbformat_minor": 2
}