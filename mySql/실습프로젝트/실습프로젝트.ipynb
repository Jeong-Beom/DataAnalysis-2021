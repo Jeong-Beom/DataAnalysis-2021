{
 "cells": [
  {
   "cell_type": "code",
   "execution_count": 1,
   "source": [
    "# oracle cloud 접속\r\n",
    "import json\r\n",
    "with open('C:\\\\Workspace\\\\python\\\\Data_Science\\\\dataA\\\\mysql.json') as fp:\r\n",
    "    config_str = fp.read()\r\n",
    "config = json.loads(config_str)\r\n",
    "\r\n",
    "import pymysql\r\n",
    "conn = pymysql.connect(\r\n",
    " host = config['host'],\r\n",
    " user = config['user'],\r\n",
    " password = config['password'],\r\n",
    " database = config['database'],\r\n",
    " port = config['port']\r\n",
    ")\r\n",
    "cur = conn.cursor()"
   ],
   "outputs": [],
   "metadata": {}
  },
  {
   "cell_type": "code",
   "execution_count": 2,
   "source": [
    "# products table 작성\r\n",
    "sql_create_table = '''\r\n",
    "    CREATE TABLE if NOT exists products(\r\n",
    "        pid INT PRIMARY KEY AUTO_INCREMENT,\r\n",
    "        pname VARCHAR(40) NOT NULL,\r\n",
    "        pprice INT UNSIGNED NOT NULL,\r\n",
    "        pcategory VARCHAR(20) NOT NULL,\r\n",
    "        pcost INT UNSIGNED NOT NULL\r\n",
    "    ) AUTO_INCREMENT=1;\r\n",
    "'''\r\n",
    "cur.execute(sql_create_table)"
   ],
   "outputs": [
    {
     "output_type": "execute_result",
     "data": {
      "text/plain": [
       "0"
      ]
     },
     "metadata": {},
     "execution_count": 2
    }
   ],
   "metadata": {}
  },
  {
   "cell_type": "code",
   "execution_count": 3,
   "source": [
    "# 데이터 추가\r\n",
    "sql_insert = '''\r\n",
    "             INSERT INTO products(pname, pprice, pcategory, pcost) VALUES\r\n",
    "                ('LG Gram 14 SnowWhite', '1749000', '노트북', '425000'),\r\n",
    "                ('LG Gram 14 Black', '1519450', '노트북', '373000'), \r\n",
    "                ('LG Gram 15 SnowWhite', '2188420', '노트북', '750000'), \r\n",
    "                ('LG Gram 15 DarkSliver', '1889000', '노트북', '525000'),\r\n",
    "                ('LG Gram 16 Blue', '2066900', '노트북', '532500'), \r\n",
    "                ('LG Gram 16 Black', '2149000', '노트북', '550000'),  \r\n",
    "                ('Ultra PC 15.6', '799000', '노트북', '200000'),\r\n",
    "                ('Ultra PC 13', '1228920', '노트북', '352500'),\r\n",
    "                ('Ultra Gear 17 ', '1567880', '노트북', '385000'),\r\n",
    "                ('Ultra Gear 15.6', '1999000', '노트북', '570000'),\r\n",
    "                ('UHD LED AI ThinQ 163cm 스탠드형', '1310460', 'TV', '425000'),\r\n",
    "                ('UHD LED AI ThinQ 163cm 벽걸이형', '1710460', 'TV', '475000'),\r\n",
    "                ('4K UHD LED 163cm 스탠드형', '1410460', 'TV', '495000'),\r\n",
    "                ('4K UHD LED 163cm 벽걸이형', '1861000', 'TV', '525000'),\r\n",
    "                ('HD LED 80cm 스탠드형', '324000', 'TV', '85000'),\r\n",
    "                ('HD LED 80cm 벽걸이형', '500460', 'TV', '125000'),\r\n",
    "                ('Ultra HD OLED 163cm 스탠드형', '2446510', 'TV', '625000'),\r\n",
    "                ('Ultra HD OLED 163cm 벽걸이형', '2856420', 'TV', '705000'),\r\n",
    "                ('Ultra UHD LED 189cm 스탠드형', '3200000', 'TV', '825000'),\r\n",
    "                ('Ultra UHD LED 189cm 벽걸이형', '3750000', 'TV', '905000'),\r\n",
    "                ('LG DIOS 양문형 821L', '1524000', '냉장고', '405000'),\r\n",
    "                ('LG 세미빌트인 636L', '1254550', '냉장고', '375000'),\r\n",
    "                ('LG DIOS 상냉장 하냉동 870L', '1684000', '냉장고', '425000'),\r\n",
    "                ('LG 일반 냉장고 480L', '695000', '냉장고', '305000'),\r\n",
    "                ('LG 일반 냉장고 189L', '379000', '냉장고', '105000'),\r\n",
    "                ('LG 오브제컬렉션 1등급', '3990000', '냉장고', '905000'),\r\n",
    "                ('LG 오브제컬렉션 조합형 얼음정수기 냉장고', '5900000', '냉장고', '1505000'),\r\n",
    "                ('LG 4도어 냉장고 870L', '2079000', '냉장고', '705000'),\r\n",
    "                ('LG 일반형 냉장고 오피스텔모델 235L', '597000', '냉장고', '155000'),\r\n",
    "                ('LG DIOS 매직스페이스 양문형 866L', '2200000', '냉장고', '605000');\r\n",
    "'''\r\n",
    "cur.execute(sql_insert)\r\n",
    "conn.commit()"
   ],
   "outputs": [],
   "metadata": {}
  },
  {
   "cell_type": "code",
   "execution_count": 4,
   "source": [
    "# sales table 작성\r\n",
    "sql_create_table2 = '''\r\n",
    "    CREATE TABLE if NOT EXISTS sales(\r\n",
    "        sid INT PRIMARY KEY AUTO_INCREMENT,\r\n",
    "        sdate DATE NOT NULL,\r\n",
    "        scompany VARCHAR(20) NOT NULL,\r\n",
    "        spid INT NOT NULL,\r\n",
    "        sunit INT NOT NULL,\r\n",
    "        FOREIGN KEY(spid) REFERENCES products(pid)\r\n",
    "    ) AUTO_INCREMENT=101;\r\n",
    "'''\r\n",
    "cur.execute(sql_create_table2)"
   ],
   "outputs": [
    {
     "output_type": "execute_result",
     "data": {
      "text/plain": [
       "0"
      ]
     },
     "metadata": {},
     "execution_count": 4
    }
   ],
   "metadata": {}
  },
  {
   "cell_type": "code",
   "execution_count": 5,
   "source": [
    "import random\r\n",
    "calendar = {1:31,2:29,3:31,4:30,5:31,6:30,7:31,8:31,9:30,10:31,11:30,12:31}\r\n",
    "date_list =[]\r\n",
    "for i in range(1, 13):\r\n",
    "    for k in range(20):\r\n",
    "        date = f'2020-{i}-{random.randint(1,29)}'\r\n",
    "        date_list.append(date)\r\n",
    "print(len(date_list))"
   ],
   "outputs": [
    {
     "output_type": "stream",
     "name": "stdout",
     "text": [
      "240\n"
     ]
    }
   ],
   "metadata": {}
  },
  {
   "cell_type": "code",
   "execution_count": 6,
   "source": [
    "company_list = ['쿠팡', '하이마트', '롯데백화점', '신세계백화점', '11번가', '다나와', 'G마켓']\r\n",
    "scompany_list = []\r\n",
    "for i in range(len(date_list)):\r\n",
    "    scompany = random.choice(company_list)\r\n",
    "    scompany_list.append(scompany)\r\n",
    "len(scompany_list)"
   ],
   "outputs": [
    {
     "output_type": "execute_result",
     "data": {
      "text/plain": [
       "240"
      ]
     },
     "metadata": {},
     "execution_count": 6
    }
   ],
   "metadata": {}
  },
  {
   "cell_type": "code",
   "execution_count": 7,
   "source": [
    "unit_list = []\r\n",
    "for i in range(len(date_list)):\r\n",
    "    unit = random.randint(1, 100)\r\n",
    "    unit_list.append(unit)\r\n",
    "len(unit_list)"
   ],
   "outputs": [
    {
     "output_type": "execute_result",
     "data": {
      "text/plain": [
       "240"
      ]
     },
     "metadata": {},
     "execution_count": 7
    }
   ],
   "metadata": {}
  },
  {
   "cell_type": "code",
   "execution_count": 8,
   "source": [
    "spid_list = []\r\n",
    "for i in range(len(date_list)):\r\n",
    "    spid = random.randint(1, 30)\r\n",
    "    spid_list.append(spid)\r\n",
    "len(spid_list)"
   ],
   "outputs": [
    {
     "output_type": "execute_result",
     "data": {
      "text/plain": [
       "240"
      ]
     },
     "metadata": {},
     "execution_count": 8
    }
   ],
   "metadata": {}
  },
  {
   "cell_type": "code",
   "execution_count": 9,
   "source": [
    "insert_values = []\r\n",
    "for i in range(len(date_list)):\r\n",
    "    insert_value = []\r\n",
    "    insert_value.append(date_list[i])\r\n",
    "    insert_value.append(scompany_list[i])\r\n",
    "    insert_value.append(spid_list[i])\r\n",
    "    insert_value.append(unit_list[i])\r\n",
    "    insert_values.append(insert_value)\r\n",
    "len(insert_values)\r\n",
    "sdate, scompany, spid, sunit = insert_values[30]\r\n",
    "sdate\r\n",
    "sql_insert2 = 'INSERT INTO sales(sdate, scompany, spid, sunit) VALUES' + f'(\\'{sdate}\\', \\'{scompany}\\', \\'{spid}\\', \\'{sunit}\\');'\r\n",
    "sql_insert2"
   ],
   "outputs": [
    {
     "output_type": "execute_result",
     "data": {
      "text/plain": [
       "\"INSERT INTO sales(sdate, scompany, spid, sunit) VALUES('2020-2-12', '롯데백화점', '15', '12');\""
      ]
     },
     "metadata": {},
     "execution_count": 9
    }
   ],
   "metadata": {}
  },
  {
   "cell_type": "code",
   "execution_count": 10,
   "source": [
    "for i in range(len(insert_values)):\r\n",
    "    sdate, scompany, spid, sunit = insert_values[i]\r\n",
    "    sql_insert2 = 'INSERT INTO sales(sdate, scompany, spid, sunit) VALUES' + f'(\\'{sdate}\\', \\'{scompany}\\', \\'{spid}\\', \\'{sunit}\\');'\r\n",
    "    cur.execute(sql_insert2)\r\n",
    "    conn.commit()"
   ],
   "outputs": [],
   "metadata": {}
  },
  {
   "cell_type": "code",
   "execution_count": 11,
   "source": [
    "sql_join = \"\"\"\r\n",
    "            CREATE VIEW sales_book as\r\n",
    "                SELECT sid, sdate, scompany, pid, pname, pcategory, pprice, sunit, pcost,\r\n",
    "                    pprice*sunit AS revenue, (pprice-pcost)*sunit AS profit\r\n",
    "                FROM sales\r\n",
    "                Join products\r\n",
    "                On sales.spid = products.pid\r\n",
    "                ORDER BY sdate;\r\n",
    "\"\"\"\r\n",
    "cur = conn.cursor()\r\n",
    "cur.execute(sql_join)"
   ],
   "outputs": [
    {
     "output_type": "execute_result",
     "data": {
      "text/plain": [
       "0"
      ]
     },
     "metadata": {},
     "execution_count": 11
    }
   ],
   "metadata": {}
  },
  {
   "cell_type": "code",
   "execution_count": 12,
   "source": [
    "sql = 'select * from sales_book'\r\n",
    "cur.execute(sql)\r\n",
    "results = cur.fetchall()"
   ],
   "outputs": [],
   "metadata": {}
  },
  {
   "cell_type": "code",
   "execution_count": 22,
   "source": [
    "import pandas as pd\r\n",
    "df = pd.DataFrame(results)\r\n",
    "df.head()\r\n",
    "del df[0]\r\n",
    "del df[3]\r\n",
    "df.columns = ['판매일자', '판매처', '상품명', '카테고리', '단가', '수량', '원가', '매출액', '이익']\r\n",
    "df.head()\r\n",
    "df.to_csv('sales_book.csv', index = False)"
   ],
   "outputs": [],
   "metadata": {}
  },
  {
   "cell_type": "code",
   "execution_count": 23,
   "source": [
    "cur.close()\r\n",
    "conn.close()"
   ],
   "outputs": [],
   "metadata": {}
  }
 ],
 "metadata": {
  "orig_nbformat": 4,
  "language_info": {
   "name": "python",
   "version": "3.8.10",
   "mimetype": "text/x-python",
   "codemirror_mode": {
    "name": "ipython",
    "version": 3
   },
   "pygments_lexer": "ipython3",
   "nbconvert_exporter": "python",
   "file_extension": ".py"
  },
  "kernelspec": {
   "name": "python3",
   "display_name": "Python 3.8.10 64-bit ('base': conda)"
  },
  "interpreter": {
   "hash": "fe3bab233825460445dbfeea6dcd52ef5815a3fa13c858fea07ac830aa383284"
  }
 },
 "nbformat": 4,
 "nbformat_minor": 2
}